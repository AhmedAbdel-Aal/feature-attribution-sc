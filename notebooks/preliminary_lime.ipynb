{
 "cells": [
  {
   "cell_type": "markdown",
   "id": "b41a320b",
   "metadata": {},
   "source": [
    "This notebook is primarily to make sure your environment installed properly. If anything in here does not run, certainly nothing else will."
   ]
  },
  {
   "cell_type": "code",
   "execution_count": 1,
   "id": "cdcf36a6-cc78-4e44-b781-77995a1e10c9",
   "metadata": {},
   "outputs": [
    {
     "data": {
      "text/plain": [
       "1"
      ]
     },
     "execution_count": 1,
     "metadata": {},
     "output_type": "execute_result"
    }
   ],
   "source": [
    "1"
   ]
  },
  {
   "cell_type": "code",
   "execution_count": 2,
   "id": "2a15e7d5",
   "metadata": {},
   "outputs": [
    {
     "name": "stderr",
     "output_type": "stream",
     "text": [
      "Global seed set to 0\n"
     ]
    },
    {
     "name": "stdout",
     "output_type": "stream",
     "text": [
      "scanpy==1.9.1 anndata==0.8.0 umap==0.5.3 numpy==1.21.5 scipy==1.9.1 pandas==1.4.4 scikit-learn==1.1.2 statsmodels==0.13.2 pynndescent==0.5.7\n"
     ]
    }
   ],
   "source": [
    "import torch\n",
    "import warnings\n",
    "import scvi\n",
    "import numpy as np\n",
    "import pandas as pd\n",
    "import scanpy as sc\n",
    "import matplotlib.pyplot as plt\n",
    "sc.set_figure_params(dpi=100, frameon=False, color_map='Reds', facecolor=None)\n",
    "sc.logging.print_header()\n",
    "assert(scvi.__version__=='0.16.3')"
   ]
  },
  {
   "cell_type": "code",
   "execution_count": 3,
   "id": "122a6c07-6c7b-43c7-974a-eab6a215558e",
   "metadata": {},
   "outputs": [],
   "source": [
    "import matplotlib.pyplot as plt\n",
    "plt.rcParams['font.family'] = 'serif'\n",
    "plt.rcParams['font.serif'] = ['Times New Roman'] + plt.rcParams['font.serif']"
   ]
  },
  {
   "cell_type": "code",
   "execution_count": 4,
   "id": "deb402d0-6361-47fc-91df-0ed1b8f128c8",
   "metadata": {},
   "outputs": [],
   "source": [
    "import lime\n",
    "from lime import lime_tabular"
   ]
  },
  {
   "cell_type": "code",
   "execution_count": 5,
   "id": "89aed8ec",
   "metadata": {},
   "outputs": [],
   "source": [
    "base_path = '/home/icb/yuge.ji/projects/feature-attribution-sc'  # should be changed to shared dir when I can find one"
   ]
  },
  {
   "cell_type": "code",
   "execution_count": 6,
   "id": "223d4fa6-0caa-44b6-ae9b-c6c395cf7c4d",
   "metadata": {},
   "outputs": [
    {
     "data": {
      "text/plain": [
       "True"
      ]
     },
     "execution_count": 6,
     "metadata": {},
     "output_type": "execute_result"
    }
   ],
   "source": [
    "torch.cuda.is_available()"
   ]
  },
  {
   "cell_type": "markdown",
   "id": "571889f6",
   "metadata": {},
   "source": [
    "## scANVI (HLCA)"
   ]
  },
  {
   "cell_type": "code",
   "execution_count": 7,
   "id": "8c395d71",
   "metadata": {},
   "outputs": [],
   "source": [
    "hlca_path = '/lustre/groups/ml01/workspace/hlca_lisa.sikkema_malte.luecken/HLCA_reproducibility/data/HLCA_core_h5ads/HLCA_v1_integration/HLCA_v1_scANVI_input.h5ad'\n",
    "adata = sc.read(hlca_path)\n"
   ]
  },
  {
   "cell_type": "code",
   "execution_count": 8,
   "id": "5be9a67a",
   "metadata": {},
   "outputs": [
    {
     "name": "stdout",
     "output_type": "stream",
     "text": [
      "\u001b[34mINFO    \u001b[0m File \u001b[35m/home/icb/yuge.ji/projects/HLCA_reproducibility/notebooks/3_atlas_extension/sca\u001b[0m\n",
      "         \u001b[35mnvi_model/\u001b[0m\u001b[95mmodel.pt\u001b[0m already downloaded                                               \n"
     ]
    },
    {
     "name": "stderr",
     "output_type": "stream",
     "text": [
      "/home/icb/kemal.inecik/miniconda3/envs/feat/lib/python3.8/site-packages/scvi/data/_utils.py:156: UserWarning: Category 18 in adata.obs['_scvi_labels'] has fewer than 3 cells. Models may not train properly.\n",
      "  warnings.warn(\n",
      "/home/icb/kemal.inecik/miniconda3/envs/feat/lib/python3.8/site-packages/scvi/data/_utils.py:156: UserWarning: Category 18 in adata.obs['_scvi_labels'] has fewer than 3 cells. Models may not train properly.\n",
      "  warnings.warn(\n"
     ]
    }
   ],
   "source": [
    "model = scvi.model.SCANVI.load('/home/icb/yuge.ji/projects/HLCA_reproducibility/notebooks/3_atlas_extension/scanvi_model/', adata)"
   ]
  },
  {
   "cell_type": "markdown",
   "id": "74bc2269-ba76-4beb-a6f3-9a313e94bd3a",
   "metadata": {},
   "source": [
    "### Calculate"
   ]
  },
  {
   "cell_type": "code",
   "execution_count": 9,
   "id": "fcbff791-9fd6-48ee-9e0c-22f60b9ca3ce",
   "metadata": {},
   "outputs": [],
   "source": [
    "num_samples = 5000"
   ]
  },
  {
   "cell_type": "code",
   "execution_count": 10,
   "id": "1f64b4be-08a6-42af-924f-a50b5c5aa794",
   "metadata": {},
   "outputs": [],
   "source": [
    "cell_count = adata.n_obs\n",
    "indices = np.random.choice(adata.n_obs, size=cell_count, replace=False)\n",
    "scdl = model._make_data_loader(adata=adata, indices=indices, batch_size=cell_count)\n",
    "batch = next(scdl.__iter__())\n",
    "x = batch[\"X\"]\n",
    "x.requires_grad = True\n",
    "batch_labels = batch[\"batch\"]"
   ]
  },
  {
   "cell_type": "code",
   "execution_count": 11,
   "id": "91c3d9ea-8b0d-4b2a-aa91-ca7d9ec5e7d0",
   "metadata": {},
   "outputs": [],
   "source": [
    "pred = model.module.classify(x, batch_index=batch_labels)"
   ]
  },
  {
   "cell_type": "code",
   "execution_count": 12,
   "id": "4d137534-ad3a-4274-bb9e-04fc158a6a17",
   "metadata": {},
   "outputs": [
    {
     "data": {
      "text/plain": [
       "29"
      ]
     },
     "execution_count": 12,
     "metadata": {},
     "output_type": "execute_result"
    }
   ],
   "source": [
    "len(np.unique(batch[\"labels\"]))"
   ]
  },
  {
   "cell_type": "code",
   "execution_count": 13,
   "id": "86f93f47-bcbf-4955-a095-b19c9805fee9",
   "metadata": {},
   "outputs": [],
   "source": [
    "explainer = lime.lime_tabular.LimeTabularExplainer(x.to('cpu').detach().numpy(),  \n",
    "                                                   mode='classification',\n",
    "                                                   training_labels=np.array(batch[\"labels\"]),\n",
    "                                                   feature_names=np.array(adata.var[\"gene_symbols\"])\n",
    "                                                  )"
   ]
  },
  {
   "cell_type": "code",
   "execution_count": 14,
   "id": "fbad265d-276a-4550-b1d3-fe619a78b772",
   "metadata": {},
   "outputs": [],
   "source": [
    "# Let's try whether the function/method works for a random row"
   ]
  },
  {
   "cell_type": "code",
   "execution_count": 15,
   "id": "5c4ea18f-5a97-4773-af05-e17f72ff9f16",
   "metadata": {},
   "outputs": [],
   "source": [
    "cell_count = 1\n",
    "indices = np.random.choice(adata.n_obs, size=cell_count, replace=False)\n",
    "scdl = model._make_data_loader(adata=adata, indices=indices, batch_size=cell_count)\n",
    "batch = next(scdl.__iter__())\n",
    "x = batch[\"X\"]\n",
    "x.requires_grad = True\n",
    "batch_labels = batch[\"batch\"]"
   ]
  },
  {
   "cell_type": "code",
   "execution_count": 16,
   "id": "3ca82ae8-e102-482d-9113-0612f49d3ee8",
   "metadata": {},
   "outputs": [
    {
     "data": {
      "text/plain": [
       "array([[3.8930426e-13, 1.1191378e-11, 4.7614289e-13, 6.3525785e-13,\n",
       "        1.0000000e+00, 4.1044598e-13, 3.9094650e-13, 6.8458471e-13,\n",
       "        8.7400112e-15, 6.5282182e-13, 9.3185507e-13, 7.7077472e-13,\n",
       "        3.7356641e-13, 9.3867073e-14, 4.1554092e-13, 5.0942377e-13,\n",
       "        3.8201262e-13, 3.6396182e-13, 2.2587525e-13, 3.9645671e-13,\n",
       "        3.5576262e-13, 3.9430818e-13, 4.7298865e-16, 2.6510597e-13,\n",
       "        3.5919087e-13, 4.0717264e-13, 1.6444196e-14, 3.8440708e-13]],\n",
       "      dtype=float32)"
      ]
     },
     "execution_count": 16,
     "metadata": {},
     "output_type": "execute_result"
    }
   ],
   "source": [
    "def predictor(bo):\n",
    "    if isinstance(bo, np.ndarray):\n",
    "        bo = torch.Tensor(bo).to(\"cuda:0\")\n",
    "    else:\n",
    "        raise ValueError    \n",
    "    a = np.ones((bo.shape[0], 1)) * batch_labels.to('cpu').detach().numpy()[0][0]\n",
    "    batch_index = torch.Tensor(a).to(bo.device)\n",
    "    result = model.module.classify(bo, batch_index=batch_index)\n",
    "    return result.to('cpu').detach().numpy()\n",
    "\n",
    "predictor(x.to('cpu').detach().numpy())"
   ]
  },
  {
   "cell_type": "code",
   "execution_count": 17,
   "id": "576bf1e8-f6dc-49bf-92cb-a94b23aa9a7a",
   "metadata": {},
   "outputs": [],
   "source": [
    "exp = explainer.explain_instance(data_row=x.to('cpu').detach().numpy()[0], \n",
    "                           predict_fn=predictor,\n",
    "                           num_features = 2000,\n",
    "                           num_samples=num_samples)"
   ]
  },
  {
   "cell_type": "code",
   "execution_count": 18,
   "id": "71890841-93eb-4e3b-a2ea-1986350ef29f",
   "metadata": {},
   "outputs": [],
   "source": [
    "## Run experiments"
   ]
  },
  {
   "cell_type": "code",
   "execution_count": 19,
   "id": "82f020e1-af7a-4089-8baa-7c25ea810008",
   "metadata": {},
   "outputs": [],
   "source": [
    "number_of_cells_in_a_class = 50"
   ]
  },
  {
   "cell_type": "code",
   "execution_count": 20,
   "id": "988d6e62-3f66-4f8d-9285-0d0565fc309b",
   "metadata": {},
   "outputs": [
    {
     "name": "stdout",
     "output_type": "stream",
     "text": [
      "0,\u001b[34mINFO    \u001b[0m AnnData object appears to be a copy. Attempting to transfer setup.                  \n",
      "1,2,3,4,5,6,7,8,9,10,11,12,13,14,15,16,17,18,19,20,21,22,23,24,25,26,27,28,29,30,31,32,33,34,35,36,37,38,39,40,41,42,43,44,45,46,47,48,49,0,\u001b[34mINFO    \u001b[0m AnnData object appears to be a copy. Attempting to transfer setup.                  \n",
      "1,2,3,4,5,6,7,8,9,10,11,12,13,14,15,16,17,18,19,20,21,22,23,24,25,26,27,28,29,30,31,32,33,34,35,36,37,38,39,40,41,42,43,44,45,46,47,48,49,0,\u001b[34mINFO    \u001b[0m AnnData object appears to be a copy. Attempting to transfer setup.                  \n",
      "1,2,3,4,5,6,7,8,9,10,11,12,13,14,15,16,17,18,19,20,21,22,23,24,25,26,27,28,29,30,31,32,33,34,35,36,37,38,39,40,41,42,43,44,45,46,47,48,49,0,\u001b[34mINFO    \u001b[0m AnnData object appears to be a copy. Attempting to transfer setup.                  \n",
      "1,2,3,4,5,6,7,8,9,10,11,12,13,14,15,16,17,18,19,20,21,22,23,24,25,26,27,28,29,30,31,32,33,34,35,36,37,38,39,40,41,42,43,44,45,46,47,48,49,0,\u001b[34mINFO    \u001b[0m AnnData object appears to be a copy. Attempting to transfer setup.                  \n",
      "1,2,3,4,5,6,7,8,9,10,11,12,13,14,15,16,17,18,19,20,21,22,23,24,25,26,27,28,29,30,31,32,33,34,35,36,37,38,39,40,41,42,43,44,45,46,47,48,49,0,\u001b[34mINFO    \u001b[0m AnnData object appears to be a copy. Attempting to transfer setup.                  \n",
      "1,2,3,4,5,6,7,8,9,10,11,12,13,14,15,16,17,18,19,20,21,22,23,24,25,26,27,28,29,30,31,32,33,34,35,36,37,38,39,40,41,42,43,44,45,46,47,48,49,0,\u001b[34mINFO    \u001b[0m AnnData object appears to be a copy. Attempting to transfer setup.                  \n",
      "1,2,3,4,5,6,7,8,9,10,11,12,13,14,15,16,17,18,19,20,21,22,23,24,25,26,27,28,29,30,31,32,33,34,35,36,37,38,39,40,41,42,43,44,45,46,47,48,49,0,\u001b[34mINFO    \u001b[0m AnnData object appears to be a copy. Attempting to transfer setup.                  \n",
      "1,2,3,4,5,6,7,8,9,10,11,12,13,14,15,16,17,18,19,20,21,22,23,24,25,26,27,28,29,30,31,32,33,34,35,36,37,38,39,40,41,42,43,44,45,46,47,48,49,0,\u001b[34mINFO    \u001b[0m AnnData object appears to be a copy. Attempting to transfer setup.                  \n",
      "1,2,3,4,5,6,7,8,9,10,11,12,13,14,15,16,17,18,19,20,21,22,23,24,25,26,27,28,29,30,31,32,33,34,35,36,37,38,39,40,41,42,43,44,45,46,47,48,49,0,\u001b[34mINFO    \u001b[0m AnnData object appears to be a copy. Attempting to transfer setup.                  \n",
      "1,2,3,4,5,6,7,8,9,10,11,12,13,14,15,16,17,18,19,20,21,22,23,24,25,26,27,28,29,30,31,32,33,34,35,36,37,38,39,40,41,42,43,44,45,46,47,48,49,0,\u001b[34mINFO    \u001b[0m AnnData object appears to be a copy. Attempting to transfer setup.                  \n",
      "1,2,3,4,5,6,7,8,9,10,11,12,13,14,15,16,17,18,19,20,21,22,23,24,25,26,27,28,29,30,31,32,33,34,35,36,37,38,39,40,41,42,43,44,45,46,47,48,49,0,\u001b[34mINFO    \u001b[0m AnnData object appears to be a copy. Attempting to transfer setup.                  \n",
      "1,2,3,4,5,6,7,8,9,10,0,\u001b[34mINFO    \u001b[0m AnnData object appears to be a copy. Attempting to transfer setup.                  \n",
      "1,2,3,4,5,6,7,8,9,10,11,12,13,14,15,16,17,18,19,20,21,22,23,24,25,26,27,28,29,30,31,32,33,34,35,36,37,38,39,40,41,42,43,44,45,46,47,48,49,0,\u001b[34mINFO    \u001b[0m AnnData object appears to be a copy. Attempting to transfer setup.                  \n",
      "1,2,3,4,5,6,7,8,9,10,11,12,13,14,15,16,17,18,19,20,21,22,23,24,25,26,27,28,29,30,31,32,33,34,35,36,37,38,39,40,41,42,43,44,45,46,47,48,49,0,\u001b[34mINFO    \u001b[0m AnnData object appears to be a copy. Attempting to transfer setup.                  \n",
      "1,2,3,4,5,6,7,8,9,10,11,12,13,14,15,16,17,18,19,20,21,22,23,24,25,26,27,28,29,30,31,32,33,34,35,36,37,38,39,40,41,42,43,44,45,46,47,48,49,0,\u001b[34mINFO    \u001b[0m AnnData object appears to be a copy. Attempting to transfer setup.                  \n",
      "1,2,3,4,5,6,7,8,9,10,0,\u001b[34mINFO    \u001b[0m AnnData object appears to be a copy. Attempting to transfer setup.                  \n",
      "1,2,3,4,5,6,7,8,9,10,11,12,13,14,15,16,17,18,19,20,21,22,23,24,25,26,27,28,29,30,31,32,33,34,35,36,37,38,39,40,41,42,43,44,45,46,47,48,49,0,\u001b[34mINFO    \u001b[0m AnnData object appears to be a copy. Attempting to transfer setup.                  \n",
      "1,2,3,4,5,6,7,8,9,10,11,12,13,14,15,16,17,18,19,20,21,22,23,24,25,26,27,28,29,30,31,32,33,34,35,36,37,38,39,40,41,42,43,44,45,46,47,48,49,0,\u001b[34mINFO    \u001b[0m AnnData object appears to be a copy. Attempting to transfer setup.                  \n",
      "1,0,\u001b[34mINFO    \u001b[0m AnnData object appears to be a copy. Attempting to transfer setup.                  \n",
      "1,2,3,4,5,6,7,8,9,10,11,12,13,14,15,16,17,18,19,20,21,22,23,24,25,26,27,28,29,30,31,32,33,34,35,36,37,38,39,40,41,42,43,44,45,46,47,48,49,0,\u001b[34mINFO    \u001b[0m AnnData object appears to be a copy. Attempting to transfer setup.                  \n",
      "1,2,3,4,5,6,7,8,9,10,11,12,13,14,15,16,17,18,19,20,21,22,23,24,25,26,27,28,29,30,31,32,33,34,35,36,37,38,39,40,41,42,43,44,45,46,47,48,49,0,\u001b[34mINFO    \u001b[0m AnnData object appears to be a copy. Attempting to transfer setup.                  \n",
      "1,2,3,4,5,6,7,8,9,10,11,12,13,14,15,16,17,18,19,20,21,22,23,24,25,26,27,28,29,30,31,32,33,34,35,36,37,38,39,40,41,42,43,44,45,46,47,48,49,0,\u001b[34mINFO    \u001b[0m AnnData object appears to be a copy. Attempting to transfer setup.                  \n",
      "1,2,3,4,5,6,7,8,9,10,11,12,13,14,15,16,17,18,19,20,21,22,23,24,25,26,27,28,29,30,31,32,33,34,35,36,37,38,39,40,41,42,43,44,45,46,47,48,49,0,\u001b[34mINFO    \u001b[0m AnnData object appears to be a copy. Attempting to transfer setup.                  \n",
      "1,2,3,4,5,6,7,8,9,10,11,12,13,14,15,16,17,18,19,20,21,22,23,24,25,26,27,28,29,30,31,32,33,34,35,36,37,38,39,40,41,42,43,44,45,46,47,48,49,0,\u001b[34mINFO    \u001b[0m AnnData object appears to be a copy. Attempting to transfer setup.                  \n",
      "1,2,3,4,5,6,7,8,9,10,11,12,13,14,15,16,17,18,19,20,21,22,23,24,25,26,27,28,29,30,31,32,33,34,35,36,37,38,39,40,41,42,43,44,45,46,47,48,49,0,\u001b[34mINFO    \u001b[0m AnnData object appears to be a copy. Attempting to transfer setup.                  \n",
      "1,2,3,4,5,6,7,8,9,10,11,12,13,14,15,16,17,18,19,20,21,22,23,24,25,26,27,28,29,30,31,32,33,34,35,36,37,38,39,40,41,42,43,44,45,46,47,48,49,0,\u001b[34mINFO    \u001b[0m AnnData object appears to be a copy. Attempting to transfer setup.                  \n",
      "1,2,3,4,5,6,7,8,9,10,11,12,13,14,15,16,17,18,19,20,21,22,23,24,25,26,27,28,29,30,31,32,33,34,35,36,37,38,39,40,41,42,43,44,45,46,47,48,49,0,\u001b[34mINFO    \u001b[0m AnnData object appears to be a copy. Attempting to transfer setup.                  \n",
      "1,2,3,4,5,6,7,8,9,10,11,12,13,14,15,16,17,18,19,20,21,22,23,24,25,26,27,28,29,30,31,32,33,34,35,36,37,38,39,40,41,42,43,44,45,46,47,48,49,0,\u001b[34mINFO    \u001b[0m AnnData object appears to be a copy. Attempting to transfer setup.                  \n",
      "1,2,3,4,5,6,7,8,9,10,11,12,13,14,15,16,17,18,19,20,21,22,23,24,25,26,27,28,29,30,31,32,33,34,35,36,37,38,39,40,41,42,43,44,45,46,47,48,49,"
     ]
    }
   ],
   "source": [
    "dff = adata.obs._scvi_labels\n",
    "indice_dict = dict()\n",
    "df = pd.DataFrame()\n",
    "\n",
    "with warnings.catch_warnings():\n",
    "    warnings.simplefilter(\"ignore\")\n",
    "    for i in np.unique(dff):\n",
    "        adatata = adata[dff==i]\n",
    "        cell_count = number_of_cells_in_a_class if len(adatata) >= number_of_cells_in_a_class else len(adatata)\n",
    "        indices = np.random.choice(adatata.n_obs, size=cell_count, replace=False)\n",
    "\n",
    "        for ind, indice in enumerate(indices):\n",
    "            print(ind, end=',')\n",
    "            scdl = model._make_data_loader(adata=adatata, indices=np.array([indice]), batch_size=cell_count)\n",
    "            batch = next(scdl.__iter__())\n",
    "            x = batch[\"X\"]\n",
    "            x.requires_grad = True\n",
    "            batch_labels = batch[\"batch\"]\n",
    "\n",
    "            def predictor(bo):\n",
    "                if isinstance(bo, np.ndarray):\n",
    "                    bo = torch.Tensor(bo).to(\"cuda:0\")\n",
    "                else:\n",
    "                    raise ValueError    \n",
    "                a = np.ones((bo.shape[0], 1)) * batch_labels.to('cpu').detach().numpy()[0][0]\n",
    "                batch_index = torch.Tensor(a).to(bo.device)\n",
    "                result = model.module.classify(bo, batch_index=batch_index)\n",
    "                return result.to('cpu').detach().numpy()\n",
    "\n",
    "            exp = explainer.explain_instance(data_row=x.to('cpu').detach().numpy()[0], \n",
    "                               predict_fn=predictor,\n",
    "                               num_features = 2000,\n",
    "                               num_samples=num_samples)\n",
    "\n",
    "            df_temp = pd.DataFrame(exp.as_list(), columns=['features', 'values'])\n",
    "            df_temp['cell_type_label'] = i\n",
    "            df_temp['indice'] = indice\n",
    "            df = pd.concat([df, df_temp])"
   ]
  },
  {
   "cell_type": "code",
   "execution_count": 21,
   "id": "a7811b81-0e69-49ab-b7df-de546281d3ad",
   "metadata": {},
   "outputs": [],
   "source": [
    "df.to_pickle(\"/lustre/groups/ml01/workspace/kemal.inecik/feature_attribution/df.pk\")"
   ]
  },
  {
   "cell_type": "markdown",
   "id": "427fe9c5-f7e3-45ad-9ed1-9c1302960815",
   "metadata": {},
   "source": [
    "### Prepare"
   ]
  },
  {
   "cell_type": "code",
   "execution_count": 102,
   "id": "e6f63434-46fc-4e9f-aa5b-b456ff9c9cca",
   "metadata": {},
   "outputs": [],
   "source": [
    "df = pd.read_pickle(\"/lustre/groups/ml01/workspace/kemal.inecik/feature_attribution/df.pk\")"
   ]
  },
  {
   "cell_type": "code",
   "execution_count": 103,
   "id": "28d1d6a8-8f24-4fb7-90ad-45811a492e98",
   "metadata": {},
   "outputs": [],
   "source": [
    "def isfloat(x):\n",
    "    try:\n",
    "        float(x)\n",
    "        return True\n",
    "    except ValueError:\n",
    "        return False\n",
    "def issign(x):\n",
    "    return \"<\" in x or \">\" in x or \"=\" in x"
   ]
  },
  {
   "cell_type": "code",
   "execution_count": 107,
   "id": "58bc1aec-ea8f-4cf7-9fd8-2fbee78ea950",
   "metadata": {},
   "outputs": [],
   "source": [
    "las = adata.obs[[\"scanvi_label\", \"_scvi_labels\"]].drop_duplicates()\n",
    "las.set_index('_scvi_labels', inplace=True, verify_integrity=True)\n",
    "conversion_dict = las.to_dict()['scanvi_label']"
   ]
  },
  {
   "cell_type": "code",
   "execution_count": 104,
   "id": "0254ed14-969e-4f25-af11-04df53f15bfb",
   "metadata": {},
   "outputs": [],
   "source": [
    "feat = []\n",
    "for i in df['features']:\n",
    "    isplit = i.split()\n",
    "    res = [j for j in isplit if not isfloat(j) and not issign(j)]\n",
    "    assert len(res) == 1\n",
    "    feat.append(res[0])"
   ]
  },
  {
   "cell_type": "code",
   "execution_count": 105,
   "id": "2b0cd951-a572-40d0-96e2-22f3ff8fd86b",
   "metadata": {},
   "outputs": [
    {
     "data": {
      "text/plain": [
       "True"
      ]
     },
     "execution_count": 105,
     "metadata": {},
     "output_type": "execute_result"
    }
   ],
   "source": [
    "df[\"features\"] = feat\n",
    "len(np.unique(df[\"features\"])) == adata.n_vars"
   ]
  },
  {
   "cell_type": "code",
   "execution_count": 132,
   "id": "3968b803-8ba0-4a87-9900-0c48f355f82c",
   "metadata": {
    "tags": []
   },
   "outputs": [],
   "source": [
    "df1 = df.groupby(['features', 'cell_type_label'], as_index=False).mean()\n",
    "del df1['indice']\n",
    "df1.sort_values(by=[\"features\", \"cell_type_label\"], inplace=True)\n",
    "pt1 = pd.pivot_table(df1, index=['features'], columns=['cell_type_label'])\n",
    "pt1 = pd.DataFrame(np.array(pt1), index=pt.index, columns=[i[1] for i in pt1.columns])\n",
    "pt1.rename(columns=conversion_dict, inplace=True)"
   ]
  },
  {
   "cell_type": "code",
   "execution_count": 142,
   "id": "4f539d21-0693-4b80-96da-68a52934d421",
   "metadata": {},
   "outputs": [],
   "source": [
    "df_temp = df.copy()\n",
    "df_temp[\"values\"] = df_temp[\"values\"].abs()\n",
    "df2 = df_temp.groupby(['features', 'cell_type_label'], as_index=False).mean()\n",
    "del df2['indice']\n",
    "df2.sort_values(by=[\"features\", \"cell_type_label\"], inplace=True)\n",
    "pt2 = pd.pivot_table(df2, index=['features'], columns=['cell_type_label'])\n",
    "pt2 = pd.DataFrame(np.array(pt2), index=pt.index, columns=[i[1] for i in pt2.columns])\n",
    "pt2.rename(columns=conversion_dict, inplace=True)"
   ]
  },
  {
   "cell_type": "code",
   "execution_count": 151,
   "id": "7adbc50b-88d3-4559-819f-d906387c82e7",
   "metadata": {},
   "outputs": [],
   "source": [
    "pt1.to_csv(\"/lustre/groups/ml01/workspace/kemal.inecik/feature_attribution/lime.csv\")\n",
    "pt2.to_csv(\"/lustre/groups/ml01/workspace/kemal.inecik/feature_attribution/lime_absolute.csv\")"
   ]
  },
  {
   "cell_type": "code",
   "execution_count": 152,
   "id": "9e176930-d95c-4f53-8270-ce1585ef9495",
   "metadata": {},
   "outputs": [
    {
     "data": {
      "text/html": [
       "<div>\n",
       "<style scoped>\n",
       "    .dataframe tbody tr th:only-of-type {\n",
       "        vertical-align: middle;\n",
       "    }\n",
       "\n",
       "    .dataframe tbody tr th {\n",
       "        vertical-align: top;\n",
       "    }\n",
       "\n",
       "    .dataframe thead th {\n",
       "        text-align: right;\n",
       "    }\n",
       "</style>\n",
       "<table border=\"1\" class=\"dataframe\">\n",
       "  <thead>\n",
       "    <tr style=\"text-align: right;\">\n",
       "      <th></th>\n",
       "      <th>AT1</th>\n",
       "      <th>AT2</th>\n",
       "      <th>Arterial EC</th>\n",
       "      <th>B cell lineage</th>\n",
       "      <th>Basal</th>\n",
       "      <th>Bronchial Vessel 1</th>\n",
       "      <th>Bronchial Vessel 2</th>\n",
       "      <th>Capillary</th>\n",
       "      <th>Ciliated</th>\n",
       "      <th>Dendritic cells</th>\n",
       "      <th>...</th>\n",
       "      <th>Non-T/B cells</th>\n",
       "      <th>Proliferating cells</th>\n",
       "      <th>Rare</th>\n",
       "      <th>Secretory</th>\n",
       "      <th>Smooth Muscle</th>\n",
       "      <th>Squamous</th>\n",
       "      <th>Submucosal Secretory</th>\n",
       "      <th>T cell lineage</th>\n",
       "      <th>Venous</th>\n",
       "      <th>unlabeled</th>\n",
       "    </tr>\n",
       "    <tr>\n",
       "      <th>features</th>\n",
       "      <th></th>\n",
       "      <th></th>\n",
       "      <th></th>\n",
       "      <th></th>\n",
       "      <th></th>\n",
       "      <th></th>\n",
       "      <th></th>\n",
       "      <th></th>\n",
       "      <th></th>\n",
       "      <th></th>\n",
       "      <th></th>\n",
       "      <th></th>\n",
       "      <th></th>\n",
       "      <th></th>\n",
       "      <th></th>\n",
       "      <th></th>\n",
       "      <th></th>\n",
       "      <th></th>\n",
       "      <th></th>\n",
       "      <th></th>\n",
       "      <th></th>\n",
       "    </tr>\n",
       "  </thead>\n",
       "  <tbody>\n",
       "    <tr>\n",
       "      <th>A1BG</th>\n",
       "      <td>0.001779</td>\n",
       "      <td>0.002617</td>\n",
       "      <td>0.004959</td>\n",
       "      <td>-0.001271</td>\n",
       "      <td>0.002954</td>\n",
       "      <td>0.007373</td>\n",
       "      <td>0.002989</td>\n",
       "      <td>-0.003094</td>\n",
       "      <td>-0.003829</td>\n",
       "      <td>-0.001330</td>\n",
       "      <td>...</td>\n",
       "      <td>0.004007</td>\n",
       "      <td>0.003400</td>\n",
       "      <td>0.004137</td>\n",
       "      <td>-0.000164</td>\n",
       "      <td>0.002330</td>\n",
       "      <td>0.001171</td>\n",
       "      <td>0.004033</td>\n",
       "      <td>-0.002133</td>\n",
       "      <td>0.002923</td>\n",
       "      <td>0.002780</td>\n",
       "    </tr>\n",
       "    <tr>\n",
       "      <th>A2M</th>\n",
       "      <td>-0.021970</td>\n",
       "      <td>-0.013727</td>\n",
       "      <td>0.014143</td>\n",
       "      <td>-0.012696</td>\n",
       "      <td>-0.023292</td>\n",
       "      <td>0.011786</td>\n",
       "      <td>0.013547</td>\n",
       "      <td>0.008324</td>\n",
       "      <td>-0.020707</td>\n",
       "      <td>-0.007230</td>\n",
       "      <td>...</td>\n",
       "      <td>-0.015676</td>\n",
       "      <td>-0.012459</td>\n",
       "      <td>-0.023263</td>\n",
       "      <td>-0.021737</td>\n",
       "      <td>0.014450</td>\n",
       "      <td>-0.012662</td>\n",
       "      <td>-0.019499</td>\n",
       "      <td>-0.021884</td>\n",
       "      <td>0.010869</td>\n",
       "      <td>-0.011714</td>\n",
       "    </tr>\n",
       "    <tr>\n",
       "      <th>ABCA1</th>\n",
       "      <td>-0.002339</td>\n",
       "      <td>0.000736</td>\n",
       "      <td>0.001854</td>\n",
       "      <td>0.000277</td>\n",
       "      <td>0.000767</td>\n",
       "      <td>0.004644</td>\n",
       "      <td>-0.001174</td>\n",
       "      <td>0.004156</td>\n",
       "      <td>0.003801</td>\n",
       "      <td>-0.000620</td>\n",
       "      <td>...</td>\n",
       "      <td>-0.000763</td>\n",
       "      <td>0.000186</td>\n",
       "      <td>0.010743</td>\n",
       "      <td>0.003737</td>\n",
       "      <td>0.001815</td>\n",
       "      <td>0.008389</td>\n",
       "      <td>0.001305</td>\n",
       "      <td>0.002435</td>\n",
       "      <td>-0.002428</td>\n",
       "      <td>0.002997</td>\n",
       "    </tr>\n",
       "    <tr>\n",
       "      <th>ABCA3</th>\n",
       "      <td>-0.009904</td>\n",
       "      <td>0.006089</td>\n",
       "      <td>-0.016655</td>\n",
       "      <td>-0.015035</td>\n",
       "      <td>-0.024026</td>\n",
       "      <td>-0.008725</td>\n",
       "      <td>-0.014750</td>\n",
       "      <td>-0.009145</td>\n",
       "      <td>-0.017162</td>\n",
       "      <td>-0.010948</td>\n",
       "      <td>...</td>\n",
       "      <td>-0.010206</td>\n",
       "      <td>-0.010856</td>\n",
       "      <td>-0.019492</td>\n",
       "      <td>-0.018550</td>\n",
       "      <td>-0.013265</td>\n",
       "      <td>-0.017285</td>\n",
       "      <td>-0.019883</td>\n",
       "      <td>-0.010900</td>\n",
       "      <td>-0.016944</td>\n",
       "      <td>-0.015394</td>\n",
       "    </tr>\n",
       "    <tr>\n",
       "      <th>ABCA6</th>\n",
       "      <td>-0.017477</td>\n",
       "      <td>-0.002396</td>\n",
       "      <td>-0.005593</td>\n",
       "      <td>-0.014316</td>\n",
       "      <td>-0.005585</td>\n",
       "      <td>-0.007866</td>\n",
       "      <td>-0.010361</td>\n",
       "      <td>-0.005096</td>\n",
       "      <td>-0.017290</td>\n",
       "      <td>-0.015864</td>\n",
       "      <td>...</td>\n",
       "      <td>-0.019770</td>\n",
       "      <td>-0.010024</td>\n",
       "      <td>-0.005901</td>\n",
       "      <td>-0.011114</td>\n",
       "      <td>-0.008757</td>\n",
       "      <td>-0.016117</td>\n",
       "      <td>-0.006705</td>\n",
       "      <td>-0.005875</td>\n",
       "      <td>-0.008419</td>\n",
       "      <td>-0.008569</td>\n",
       "    </tr>\n",
       "    <tr>\n",
       "      <th>...</th>\n",
       "      <td>...</td>\n",
       "      <td>...</td>\n",
       "      <td>...</td>\n",
       "      <td>...</td>\n",
       "      <td>...</td>\n",
       "      <td>...</td>\n",
       "      <td>...</td>\n",
       "      <td>...</td>\n",
       "      <td>...</td>\n",
       "      <td>...</td>\n",
       "      <td>...</td>\n",
       "      <td>...</td>\n",
       "      <td>...</td>\n",
       "      <td>...</td>\n",
       "      <td>...</td>\n",
       "      <td>...</td>\n",
       "      <td>...</td>\n",
       "      <td>...</td>\n",
       "      <td>...</td>\n",
       "      <td>...</td>\n",
       "      <td>...</td>\n",
       "    </tr>\n",
       "    <tr>\n",
       "      <th>ZNF267</th>\n",
       "      <td>0.001891</td>\n",
       "      <td>0.000300</td>\n",
       "      <td>0.007168</td>\n",
       "      <td>0.001514</td>\n",
       "      <td>-0.002904</td>\n",
       "      <td>0.002917</td>\n",
       "      <td>0.005295</td>\n",
       "      <td>0.001639</td>\n",
       "      <td>0.003599</td>\n",
       "      <td>0.000671</td>\n",
       "      <td>...</td>\n",
       "      <td>-0.000079</td>\n",
       "      <td>0.001202</td>\n",
       "      <td>0.007166</td>\n",
       "      <td>0.002902</td>\n",
       "      <td>0.001657</td>\n",
       "      <td>0.000205</td>\n",
       "      <td>0.006255</td>\n",
       "      <td>-0.000978</td>\n",
       "      <td>0.002031</td>\n",
       "      <td>0.002961</td>\n",
       "    </tr>\n",
       "    <tr>\n",
       "      <th>ZNF331</th>\n",
       "      <td>-0.000394</td>\n",
       "      <td>0.000981</td>\n",
       "      <td>0.000741</td>\n",
       "      <td>-0.002825</td>\n",
       "      <td>0.000740</td>\n",
       "      <td>0.001139</td>\n",
       "      <td>-0.001152</td>\n",
       "      <td>-0.002960</td>\n",
       "      <td>0.000276</td>\n",
       "      <td>0.003097</td>\n",
       "      <td>...</td>\n",
       "      <td>0.000200</td>\n",
       "      <td>0.001403</td>\n",
       "      <td>-0.000335</td>\n",
       "      <td>0.000537</td>\n",
       "      <td>0.003227</td>\n",
       "      <td>0.002996</td>\n",
       "      <td>0.000020</td>\n",
       "      <td>-0.001755</td>\n",
       "      <td>-0.002710</td>\n",
       "      <td>-0.001847</td>\n",
       "    </tr>\n",
       "    <tr>\n",
       "      <th>ZNF683</th>\n",
       "      <td>0.000863</td>\n",
       "      <td>-0.004453</td>\n",
       "      <td>0.012403</td>\n",
       "      <td>0.012902</td>\n",
       "      <td>0.008936</td>\n",
       "      <td>0.003110</td>\n",
       "      <td>-0.005724</td>\n",
       "      <td>0.003230</td>\n",
       "      <td>-0.006797</td>\n",
       "      <td>0.012642</td>\n",
       "      <td>...</td>\n",
       "      <td>-0.000188</td>\n",
       "      <td>-0.002333</td>\n",
       "      <td>0.007184</td>\n",
       "      <td>0.002266</td>\n",
       "      <td>0.009754</td>\n",
       "      <td>-0.003493</td>\n",
       "      <td>-0.005571</td>\n",
       "      <td>0.007981</td>\n",
       "      <td>0.002499</td>\n",
       "      <td>-0.001810</td>\n",
       "    </tr>\n",
       "    <tr>\n",
       "      <th>ZNF80</th>\n",
       "      <td>0.000966</td>\n",
       "      <td>0.006352</td>\n",
       "      <td>0.005982</td>\n",
       "      <td>-0.003240</td>\n",
       "      <td>-0.003573</td>\n",
       "      <td>0.011932</td>\n",
       "      <td>0.011614</td>\n",
       "      <td>0.003823</td>\n",
       "      <td>-0.022872</td>\n",
       "      <td>-0.001759</td>\n",
       "      <td>...</td>\n",
       "      <td>-0.000797</td>\n",
       "      <td>0.000740</td>\n",
       "      <td>0.017529</td>\n",
       "      <td>-0.007500</td>\n",
       "      <td>-0.022535</td>\n",
       "      <td>-0.029523</td>\n",
       "      <td>0.029265</td>\n",
       "      <td>-0.023081</td>\n",
       "      <td>-0.041336</td>\n",
       "      <td>0.013932</td>\n",
       "    </tr>\n",
       "    <tr>\n",
       "      <th>ZNF831</th>\n",
       "      <td>-0.014921</td>\n",
       "      <td>0.004717</td>\n",
       "      <td>0.007758</td>\n",
       "      <td>0.011147</td>\n",
       "      <td>0.022156</td>\n",
       "      <td>-0.002455</td>\n",
       "      <td>-0.014652</td>\n",
       "      <td>-0.015144</td>\n",
       "      <td>-0.003821</td>\n",
       "      <td>0.004026</td>\n",
       "      <td>...</td>\n",
       "      <td>-0.008809</td>\n",
       "      <td>-0.003358</td>\n",
       "      <td>-0.017532</td>\n",
       "      <td>-0.012813</td>\n",
       "      <td>0.011737</td>\n",
       "      <td>-0.009605</td>\n",
       "      <td>0.013072</td>\n",
       "      <td>-0.019984</td>\n",
       "      <td>-0.007709</td>\n",
       "      <td>0.010165</td>\n",
       "    </tr>\n",
       "  </tbody>\n",
       "</table>\n",
       "<p>2000 rows × 29 columns</p>\n",
       "</div>"
      ],
      "text/plain": [
       "               AT1       AT2  Arterial EC  B cell lineage     Basal  \\\n",
       "features                                                              \n",
       "A1BG      0.001779  0.002617     0.004959       -0.001271  0.002954   \n",
       "A2M      -0.021970 -0.013727     0.014143       -0.012696 -0.023292   \n",
       "ABCA1    -0.002339  0.000736     0.001854        0.000277  0.000767   \n",
       "ABCA3    -0.009904  0.006089    -0.016655       -0.015035 -0.024026   \n",
       "ABCA6    -0.017477 -0.002396    -0.005593       -0.014316 -0.005585   \n",
       "...            ...       ...          ...             ...       ...   \n",
       "ZNF267    0.001891  0.000300     0.007168        0.001514 -0.002904   \n",
       "ZNF331   -0.000394  0.000981     0.000741       -0.002825  0.000740   \n",
       "ZNF683    0.000863 -0.004453     0.012403        0.012902  0.008936   \n",
       "ZNF80     0.000966  0.006352     0.005982       -0.003240 -0.003573   \n",
       "ZNF831   -0.014921  0.004717     0.007758        0.011147  0.022156   \n",
       "\n",
       "          Bronchial Vessel 1  Bronchial Vessel 2  Capillary  Ciliated  \\\n",
       "features                                                                \n",
       "A1BG                0.007373            0.002989  -0.003094 -0.003829   \n",
       "A2M                 0.011786            0.013547   0.008324 -0.020707   \n",
       "ABCA1               0.004644           -0.001174   0.004156  0.003801   \n",
       "ABCA3              -0.008725           -0.014750  -0.009145 -0.017162   \n",
       "ABCA6              -0.007866           -0.010361  -0.005096 -0.017290   \n",
       "...                      ...                 ...        ...       ...   \n",
       "ZNF267              0.002917            0.005295   0.001639  0.003599   \n",
       "ZNF331              0.001139           -0.001152  -0.002960  0.000276   \n",
       "ZNF683              0.003110           -0.005724   0.003230 -0.006797   \n",
       "ZNF80               0.011932            0.011614   0.003823 -0.022872   \n",
       "ZNF831             -0.002455           -0.014652  -0.015144 -0.003821   \n",
       "\n",
       "          Dendritic cells  ...  Non-T/B cells  Proliferating cells      Rare  \\\n",
       "features                   ...                                                 \n",
       "A1BG            -0.001330  ...       0.004007             0.003400  0.004137   \n",
       "A2M             -0.007230  ...      -0.015676            -0.012459 -0.023263   \n",
       "ABCA1           -0.000620  ...      -0.000763             0.000186  0.010743   \n",
       "ABCA3           -0.010948  ...      -0.010206            -0.010856 -0.019492   \n",
       "ABCA6           -0.015864  ...      -0.019770            -0.010024 -0.005901   \n",
       "...                   ...  ...            ...                  ...       ...   \n",
       "ZNF267           0.000671  ...      -0.000079             0.001202  0.007166   \n",
       "ZNF331           0.003097  ...       0.000200             0.001403 -0.000335   \n",
       "ZNF683           0.012642  ...      -0.000188            -0.002333  0.007184   \n",
       "ZNF80           -0.001759  ...      -0.000797             0.000740  0.017529   \n",
       "ZNF831           0.004026  ...      -0.008809            -0.003358 -0.017532   \n",
       "\n",
       "          Secretory  Smooth Muscle  Squamous  Submucosal Secretory  \\\n",
       "features                                                             \n",
       "A1BG      -0.000164       0.002330  0.001171              0.004033   \n",
       "A2M       -0.021737       0.014450 -0.012662             -0.019499   \n",
       "ABCA1      0.003737       0.001815  0.008389              0.001305   \n",
       "ABCA3     -0.018550      -0.013265 -0.017285             -0.019883   \n",
       "ABCA6     -0.011114      -0.008757 -0.016117             -0.006705   \n",
       "...             ...            ...       ...                   ...   \n",
       "ZNF267     0.002902       0.001657  0.000205              0.006255   \n",
       "ZNF331     0.000537       0.003227  0.002996              0.000020   \n",
       "ZNF683     0.002266       0.009754 -0.003493             -0.005571   \n",
       "ZNF80     -0.007500      -0.022535 -0.029523              0.029265   \n",
       "ZNF831    -0.012813       0.011737 -0.009605              0.013072   \n",
       "\n",
       "          T cell lineage    Venous  unlabeled  \n",
       "features                                       \n",
       "A1BG           -0.002133  0.002923   0.002780  \n",
       "A2M            -0.021884  0.010869  -0.011714  \n",
       "ABCA1           0.002435 -0.002428   0.002997  \n",
       "ABCA3          -0.010900 -0.016944  -0.015394  \n",
       "ABCA6          -0.005875 -0.008419  -0.008569  \n",
       "...                  ...       ...        ...  \n",
       "ZNF267         -0.000978  0.002031   0.002961  \n",
       "ZNF331         -0.001755 -0.002710  -0.001847  \n",
       "ZNF683          0.007981  0.002499  -0.001810  \n",
       "ZNF80          -0.023081 -0.041336   0.013932  \n",
       "ZNF831         -0.019984 -0.007709   0.010165  \n",
       "\n",
       "[2000 rows x 29 columns]"
      ]
     },
     "execution_count": 152,
     "metadata": {},
     "output_type": "execute_result"
    }
   ],
   "source": [
    "pt1"
   ]
  },
  {
   "cell_type": "code",
   "execution_count": 153,
   "id": "00c82ce6-1cda-454f-a1b2-aa2a8d4bb8d2",
   "metadata": {},
   "outputs": [
    {
     "data": {
      "text/plain": [
       "Index(['AT1', 'AT2', 'Arterial EC', 'B cell lineage', 'Basal',\n",
       "       'Bronchial Vessel 1', 'Bronchial Vessel 2', 'Capillary', 'Ciliated',\n",
       "       'Dendritic cells', 'Fibroblast lineage', 'KRT5- KRT17+ epithelial',\n",
       "       'Lymphatic EC', 'Macrophages', 'Mast cells', 'Megakaryocytes',\n",
       "       'Mesothelium', 'Monocytes', 'Neutrophilic', 'Non-T/B cells',\n",
       "       'Proliferating cells', 'Rare', 'Secretory', 'Smooth Muscle', 'Squamous',\n",
       "       'Submucosal Secretory', 'T cell lineage', 'Venous', 'unlabeled'],\n",
       "      dtype='object')"
      ]
     },
     "execution_count": 153,
     "metadata": {},
     "output_type": "execute_result"
    }
   ],
   "source": [
    "pt1.columns"
   ]
  },
  {
   "cell_type": "code",
   "execution_count": null,
   "id": "e8061ccf-463e-4824-8168-f6496da12720",
   "metadata": {},
   "outputs": [],
   "source": []
  }
 ],
 "metadata": {
  "kernelspec": {
   "display_name": "Python 3 (ipykernel)",
   "language": "python",
   "name": "python3"
  },
  "language_info": {
   "codemirror_mode": {
    "name": "ipython",
    "version": 3
   },
   "file_extension": ".py",
   "mimetype": "text/x-python",
   "name": "python",
   "nbconvert_exporter": "python",
   "pygments_lexer": "ipython3",
   "version": "3.8.13"
  }
 },
 "nbformat": 4,
 "nbformat_minor": 5
}
