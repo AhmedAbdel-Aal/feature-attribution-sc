{
 "cells": [
  {
   "cell_type": "code",
   "execution_count": 1,
   "id": "4b57c513",
   "metadata": {},
   "outputs": [],
   "source": [
    "import os\n",
    "os.chdir('..')"
   ]
  },
  {
   "cell_type": "code",
   "execution_count": 2,
   "id": "9cabfa37",
   "metadata": {},
   "outputs": [
    {
     "name": "stderr",
     "output_type": "stream",
     "text": [
      "/home/icb/yuge.ji/miniconda3/envs/test_env3/lib/python3.10/site-packages/torch/utils/tensorboard/__init__.py:2: DeprecationWarning: The distutils package is deprecated and slated for removal in Python 3.12. Use setuptools or check PEP 632 for potential alternatives\n",
      "  from distutils.version import LooseVersion\n",
      "Global seed set to 0\n",
      "/home/icb/yuge.ji/miniconda3/envs/test_env3/lib/python3.10/site-packages/scanpy/_settings.py:447: DeprecationWarning: `set_matplotlib_formats` is deprecated since IPython 7.23, directly use `matplotlib_inline.backend_inline.set_matplotlib_formats()`\n",
      "  IPython.display.set_matplotlib_formats(*ipython_format)\n"
     ]
    },
    {
     "name": "stdout",
     "output_type": "stream",
     "text": [
      "scanpy==1.9.1 anndata==0.8.0 umap==0.5.3 numpy==1.22.4 scipy==1.9.1 pandas==1.4.4 scikit-learn==1.1.2 statsmodels==0.13.2 pynndescent==0.5.7\n"
     ]
    },
    {
     "name": "stderr",
     "output_type": "stream",
     "text": [
      "/home/icb/yuge.ji/miniconda3/envs/test_env3/lib/python3.10/site-packages/umap/__init__.py:9: ImportWarning: Tensorflow not installed; ParametricUMAP will be unavailable\n",
      "  warn(\n"
     ]
    }
   ],
   "source": [
    "import torch\n",
    "import scvi\n",
    "import numpy as np\n",
    "import pandas as pd\n",
    "import scanpy as sc\n",
    "import matplotlib.pyplot as plt\n",
    "\n",
    "sc.set_figure_params(dpi=100, frameon=False, color_map='Reds', facecolor=None)\n",
    "sc.logging.print_header()"
   ]
  },
  {
   "cell_type": "code",
   "execution_count": 3,
   "id": "db81c096",
   "metadata": {},
   "outputs": [],
   "source": [
    "%load_ext autoreload\n",
    "%autoreload 2"
   ]
  },
  {
   "cell_type": "code",
   "execution_count": 4,
   "id": "aace4f1a",
   "metadata": {},
   "outputs": [
    {
     "data": {
      "text/plain": [
       "AnnData object with n_obs × n_vars = 584944 × 2000\n",
       "    obs: 'sample', 'original_celltype_ann', 'study_long', 'study', 'last_author_PI', 'subject_ID', 'subject_ID_as_published', 'pre_or_postnatal', 'age_in_years', 'age_range', 'sex', 'ethnicity', 'mixed_ethnicity', 'smoking_status', 'smoking_history', 'BMI', 'known_lung_disease', 'condition', 'subject_type', 'cause_of_death', 'sample_type', 'anatomical_region_coarse', 'anatomical_region_detailed', 'tissue_dissociation_protocol', 'cells_or_nuclei', 'single_cell_platform', \"3'_or_5'\", 'enrichment', 'sequencing_platform', 'reference_genome_coarse', 'ensembl_release_reference_genome', 'cell_ranger_version', 'disease_status', 'fresh_or_frozen', 'cultured', 'cell_viability_%', 'comments', 'Processing_site', 'dataset', 'anatomical_region_level_1', 'anatomical_region_level_2', 'anatomical_region_level_3', 'anatomical_region_highest_res', 'age', 'ann_level_1', 'ann_level_2', 'ann_level_3', 'ann_level_4', 'ann_level_5', 'ann_highest_res', 'ann_new', 'n_genes', 'total_counts', 'log10_total_counts', 'n_genes_detected', 'mito_frac', 'ribo_frac', 'compl', 'size_factors', 'ann_level_1_clean', 'ann_level_2_clean', 'ann_level_3_clean', 'ann_level_4_clean', 'ann_level_5_clean', 'scanvi_label', 'leiden_1', 'leiden_2', 'leiden_3', 'anatomical_region_ccf_score', 'manual_ann', 'leiden_4', 'reannotation_type', 'leiden_5', 'original_ann_level_1', 'original_ann_level_2', 'original_ann_level_3', 'original_ann_level_4', 'original_ann_level_5', 'original_ann_highest_res', 'original_ann_new', 'original_ann_level_1_clean', 'original_ann_level_2_clean', 'original_ann_level_3_clean', 'original_ann_level_4_clean', 'original_ann_level_5_clean', 'cluster_annotated', 'manual_ann_grouped', 'entropy_subject_ID_leiden_3', 'entropy_dataset_leiden_3', 'entropy_original_ann_level_1_leiden_3', 'entropy_original_ann_level_2_clean_leiden_3', 'entropy_original_ann_level_3_clean_leiden_3', 'digestion'\n",
       "    var: 'gene_symbols', 'n_cells', 'highly_variable', 'means', 'dispersions', 'dispersions_norm', 'highly_variable_nbatches', 'highly_variable_intersection', 'gene_ids'\n",
       "    uns: 'anatomical_region_level_1_colors', 'ann_level_1_colors', 'ann_level_2_colors', 'ann_level_3_colors', 'ann_level_4_colors', 'ann_level_5_clean_colors', 'ann_level_5_colors', 'dataset_colors', 'fresh_or_frozen_colors', 'hvg', 'leiden', 'leiden_1_colors', 'leiden_2_colors', 'leiden_3_colors', 'leiden_4_colors', 'leiden_5_colors', 'manual_ann_colors', 'manual_ann_grouped_colors', 'neighbors', 'original_ann_level_1_colors', 'pca', 'rank_genes_groups', 'scanvi_label_colors', 'umap'\n",
       "    obsm: 'X_pca', 'X_scanvi_emb', 'X_umap', 'X_umap_scanvi', 'X_umap_unintegrated'\n",
       "    varm: 'PCs'\n",
       "    layers: 'counts'\n",
       "    obsp: 'connectivities', 'distances'"
      ]
     },
     "execution_count": 4,
     "metadata": {},
     "output_type": "execute_result"
    }
   ],
   "source": [
    "hlca_path = 'datasets/hlca.h5ad'\n",
    "adata = sc.read(hlca_path)\n",
    "adata"
   ]
  },
  {
   "cell_type": "code",
   "execution_count": 5,
   "id": "6bf5e2d2",
   "metadata": {},
   "outputs": [],
   "source": [
    "adata.var.to_csv('datasets/hlca_hvgs.csv')"
   ]
  },
  {
   "cell_type": "code",
   "execution_count": 7,
   "id": "5f16ad5a",
   "metadata": {},
   "outputs": [],
   "source": [
    "marker_df = pd.read_csv('/home/icb/yuge.ji/projects/HLCA_reproducibility/notebooks/3_atlas_extension/markergenes.csv', index_col=0)"
   ]
  },
  {
   "cell_type": "code",
   "execution_count": 8,
   "id": "d6e7a17f",
   "metadata": {},
   "outputs": [],
   "source": [
    "marker_dict = {}                                                                                                                                                                                                                                        \n",
    "for i in range(0, marker_df.shape[1], 3):                                                                                                                                                                                                               \n",
    "    ct = marker_df.columns[i].split('_')[0]                                                                                                                                                                                                             \n",
    "    query_res = marker_df[[c for c in marker_df.columns if ct in c]][[f'{ct}_marker', f'{ct}_marker_for']].dropna().values                                                                                                                              \n",
    "    for value, key in query_res:                                                                                                                                                                                                                        \n",
    "        marker_dict.setdefault(key, []).append(value) \n",
    "marker_dict = {k.replace(' (poss. lowly expressed, non-unique)', ''):v for k, v in marker_dict.items()}\n",
    "marker_dict = {k.replace(' (poss. lowly expressed, non-unique, non-universal)', ''):v for k, v in marker_dict.items()}"
   ]
  },
  {
   "cell_type": "markdown",
   "id": "d329bf6d",
   "metadata": {},
   "source": [
    "Mapping by Lisa."
   ]
  },
  {
   "cell_type": "code",
   "execution_count": 9,
   "id": "32179438",
   "metadata": {},
   "outputs": [],
   "source": [
    "mapping = {\n",
    " 'Arterial EC' :['EC arterial'],\n",
    " 'B cell lineage':['B cells', \"Plasma cells\"],\n",
    " 'Basal':['Basal resting', 'Suprabasal', 'Hillock-like'],\n",
    "#  'Bronchial Vessel 1':\"EXCLUDE!\",\n",
    "#  'Bronchial Vessel 2':\"EXCLUDE!\",\n",
    " 'Capillary':['EC aerocyte capillary', 'EC general capillary'],\n",
    " 'Ciliated':['Deuterosomal', 'Multiciliated (nasal)', 'Multiciliated (non-nasal)'],\n",
    " 'Dendritic cells':['DC1', 'DC2', 'Migratory DCs', 'Plasmacytoid DCs'],\n",
    "#  'KRT5- KRT17+ epithelial':\"EXCLUDE!\",\n",
    " 'Macrophages':['Alveolar macrophages',\n",
    " 'Alveolar Mph CCL3+',\n",
    " 'Alveolar Mph MT-positive',\n",
    " 'Alveolar Mph proliferating',\n",
    "#  'Monocyte-derived Mph',\n",
    " 'Interstitial Mph perivascular'],\n",
    "#  'Megakaryocytes':\"EXCLUDE!\",\n",
    " 'Monocytes':['Classical monocytes', 'Non-classical monocytes'],\n",
    "#  'Neutrophilic':\"EXCLUDE!\",\n",
    " 'Non-T/B cells':['NK cells'],\n",
    "#  'Proliferating cells':\"EXCLUDE!\",\n",
    " 'Rare':['Ionocyte', 'Tuft', 'Neuroendocrine'],\n",
    " 'Secretory': ['Club (non-nasal)',\n",
    " 'Club (nasal)',\n",
    " 'Goblet (nasal)',\n",
    " 'Goblet (bronchial)',\n",
    " 'Goblet (subsegmental)',\n",
    " 'AT0',\n",
    " 'pre-TB secretory'],\n",
    " 'Smooth Muscle':['Smooth muscle', 'Fibromyocytes', 'SM activated stress response'],\n",
    "#  'Squamous':\"EXCLUDE!\",\n",
    " 'Submucosal Secretory':['SMG serous (nasal)', 'SMG serous (bronchial)', 'SMG mucous', 'SMG duct'],\n",
    " 'T cell lineage':[\n",
    "     'CD4 T cells',\n",
    "     'CD8 T cells',\n",
    "     'T cells proliferating'],\n",
    " 'Venous':['EC venous systemic', 'EC venous pulmonary'],\n",
    "#  'unlabeled':\"EXCLUDE!\"\n",
    "}"
   ]
  },
  {
   "cell_type": "code",
   "execution_count": 10,
   "id": "9ccc49b6",
   "metadata": {},
   "outputs": [],
   "source": [
    "new_marker_dict = {}\n",
    "for coarse_ct, ct_list in mapping.items():\n",
    "    new_marker_dict[coarse_ct] = [g for c in ct_list for g in marker_dict[c]]"
   ]
  },
  {
   "cell_type": "code",
   "execution_count": 11,
   "id": "1076b293",
   "metadata": {},
   "outputs": [],
   "source": [
    "marker_dict = {**marker_dict, **new_marker_dict}"
   ]
  },
  {
   "cell_type": "code",
   "execution_count": 12,
   "id": "f081327e",
   "metadata": {},
   "outputs": [
    {
     "data": {
      "text/html": [
       "<div>\n",
       "<style scoped>\n",
       "    .dataframe tbody tr th:only-of-type {\n",
       "        vertical-align: middle;\n",
       "    }\n",
       "\n",
       "    .dataframe tbody tr th {\n",
       "        vertical-align: top;\n",
       "    }\n",
       "\n",
       "    .dataframe thead th {\n",
       "        text-align: right;\n",
       "    }\n",
       "</style>\n",
       "<table border=\"1\" class=\"dataframe\">\n",
       "  <thead>\n",
       "    <tr style=\"text-align: right;\">\n",
       "      <th></th>\n",
       "      <th>Epithelial</th>\n",
       "      <th>Airway epithelium</th>\n",
       "      <th>AT0</th>\n",
       "      <th>Alveolar epithelium</th>\n",
       "      <th>AT1</th>\n",
       "      <th>AT2 proliferating</th>\n",
       "      <th>AT2</th>\n",
       "      <th>Stroma</th>\n",
       "      <th>Fibroblast lineage</th>\n",
       "      <th>Adventitial fibroblasts</th>\n",
       "      <th>...</th>\n",
       "      <th>Dendritic cells</th>\n",
       "      <th>Macrophages</th>\n",
       "      <th>Monocytes</th>\n",
       "      <th>Non-T/B cells</th>\n",
       "      <th>Rare</th>\n",
       "      <th>Secretory</th>\n",
       "      <th>Smooth Muscle</th>\n",
       "      <th>Submucosal Secretory</th>\n",
       "      <th>T cell lineage</th>\n",
       "      <th>Venous</th>\n",
       "    </tr>\n",
       "  </thead>\n",
       "  <tbody>\n",
       "    <tr>\n",
       "      <th>0</th>\n",
       "      <td>FXYD3</td>\n",
       "      <td>IGFBP2</td>\n",
       "      <td>SFTPB</td>\n",
       "      <td>HOPX</td>\n",
       "      <td>CLIC5</td>\n",
       "      <td>CENPW</td>\n",
       "      <td>MFSD2A</td>\n",
       "      <td>COL1A2</td>\n",
       "      <td>LUM</td>\n",
       "      <td>MFAP5</td>\n",
       "      <td>...</td>\n",
       "      <td>XCR1</td>\n",
       "      <td>CYP27A1</td>\n",
       "      <td>S100A12</td>\n",
       "      <td>GNLY</td>\n",
       "      <td>BSND</td>\n",
       "      <td>CYP2F1</td>\n",
       "      <td>MYH11</td>\n",
       "      <td>STATH</td>\n",
       "      <td>CD40LG</td>\n",
       "      <td>TPD52L1</td>\n",
       "    </tr>\n",
       "    <tr>\n",
       "      <th>1</th>\n",
       "      <td>EPCAM</td>\n",
       "      <td>SERPINF1</td>\n",
       "      <td>SCGB3A2</td>\n",
       "      <td>SFTA2</td>\n",
       "      <td>SPOCK2</td>\n",
       "      <td>CDKN3</td>\n",
       "      <td>C8orf4</td>\n",
       "      <td>DCN</td>\n",
       "      <td>COL6A3</td>\n",
       "      <td>SCARA5</td>\n",
       "      <td>...</td>\n",
       "      <td>CLEC9A</td>\n",
       "      <td>MARCO</td>\n",
       "      <td>FCN1</td>\n",
       "      <td>SPON2</td>\n",
       "      <td>IGF1</td>\n",
       "      <td>SCGB3A1</td>\n",
       "      <td>TINAGL1</td>\n",
       "      <td>ODAM</td>\n",
       "      <td>TNFRSF25</td>\n",
       "      <td>ZNF385D</td>\n",
       "    </tr>\n",
       "    <tr>\n",
       "      <th>2</th>\n",
       "      <td>ELF3</td>\n",
       "      <td>TSPAN1</td>\n",
       "      <td>SFTA2</td>\n",
       "      <td>SLC39A8</td>\n",
       "      <td>TIMP3</td>\n",
       "      <td>BIRC5</td>\n",
       "      <td>C11orf96</td>\n",
       "      <td>MFAP4</td>\n",
       "      <td>CFD</td>\n",
       "      <td>PI16</td>\n",
       "      <td>...</td>\n",
       "      <td>CLNK</td>\n",
       "      <td>FABP4</td>\n",
       "      <td>RNASE2</td>\n",
       "      <td>FCGR3A</td>\n",
       "      <td>CLCNKB</td>\n",
       "      <td>BPIFB1</td>\n",
       "      <td>PLN</td>\n",
       "      <td>MUC7</td>\n",
       "      <td>CD28</td>\n",
       "      <td>OLFM1</td>\n",
       "    </tr>\n",
       "    <tr>\n",
       "      <th>3</th>\n",
       "      <td>FXYD3</td>\n",
       "      <td>IGFBP2</td>\n",
       "      <td>None</td>\n",
       "      <td>HOPX</td>\n",
       "      <td>None</td>\n",
       "      <td>None</td>\n",
       "      <td>None</td>\n",
       "      <td>COL1A2</td>\n",
       "      <td>LUM</td>\n",
       "      <td>None</td>\n",
       "      <td>...</td>\n",
       "      <td>PKIB</td>\n",
       "      <td>CCL20</td>\n",
       "      <td>MTSS1</td>\n",
       "      <td>None</td>\n",
       "      <td>DAB1</td>\n",
       "      <td>SERPINB3</td>\n",
       "      <td>MYH11</td>\n",
       "      <td>RP11-1143G9.4</td>\n",
       "      <td>CD4</td>\n",
       "      <td>CPE</td>\n",
       "    </tr>\n",
       "    <tr>\n",
       "      <th>4</th>\n",
       "      <td>EPCAM</td>\n",
       "      <td>SERPINF1</td>\n",
       "      <td>None</td>\n",
       "      <td>SFTA2</td>\n",
       "      <td>None</td>\n",
       "      <td>None</td>\n",
       "      <td>None</td>\n",
       "      <td>DCN</td>\n",
       "      <td>COL6A3</td>\n",
       "      <td>None</td>\n",
       "      <td>...</td>\n",
       "      <td>CLEC10A</td>\n",
       "      <td>FAM89A</td>\n",
       "      <td>LILRA5</td>\n",
       "      <td>None</td>\n",
       "      <td>CELF3</td>\n",
       "      <td>TCN1</td>\n",
       "      <td>TINAGL1</td>\n",
       "      <td>S100A1</td>\n",
       "      <td>TRAT1</td>\n",
       "      <td>C7</td>\n",
       "    </tr>\n",
       "    <tr>\n",
       "      <th>...</th>\n",
       "      <td>...</td>\n",
       "      <td>...</td>\n",
       "      <td>...</td>\n",
       "      <td>...</td>\n",
       "      <td>...</td>\n",
       "      <td>...</td>\n",
       "      <td>...</td>\n",
       "      <td>...</td>\n",
       "      <td>...</td>\n",
       "      <td>...</td>\n",
       "      <td>...</td>\n",
       "      <td>...</td>\n",
       "      <td>...</td>\n",
       "      <td>...</td>\n",
       "      <td>...</td>\n",
       "      <td>...</td>\n",
       "      <td>...</td>\n",
       "      <td>...</td>\n",
       "      <td>...</td>\n",
       "      <td>...</td>\n",
       "      <td>...</td>\n",
       "    </tr>\n",
       "    <tr>\n",
       "      <th>61</th>\n",
       "      <td>EPCAM</td>\n",
       "      <td>None</td>\n",
       "      <td>None</td>\n",
       "      <td>None</td>\n",
       "      <td>None</td>\n",
       "      <td>None</td>\n",
       "      <td>None</td>\n",
       "      <td>None</td>\n",
       "      <td>None</td>\n",
       "      <td>None</td>\n",
       "      <td>...</td>\n",
       "      <td>None</td>\n",
       "      <td>None</td>\n",
       "      <td>None</td>\n",
       "      <td>None</td>\n",
       "      <td>None</td>\n",
       "      <td>None</td>\n",
       "      <td>None</td>\n",
       "      <td>None</td>\n",
       "      <td>None</td>\n",
       "      <td>None</td>\n",
       "    </tr>\n",
       "    <tr>\n",
       "      <th>62</th>\n",
       "      <td>ELF3</td>\n",
       "      <td>None</td>\n",
       "      <td>None</td>\n",
       "      <td>None</td>\n",
       "      <td>None</td>\n",
       "      <td>None</td>\n",
       "      <td>None</td>\n",
       "      <td>None</td>\n",
       "      <td>None</td>\n",
       "      <td>None</td>\n",
       "      <td>...</td>\n",
       "      <td>None</td>\n",
       "      <td>None</td>\n",
       "      <td>None</td>\n",
       "      <td>None</td>\n",
       "      <td>None</td>\n",
       "      <td>None</td>\n",
       "      <td>None</td>\n",
       "      <td>None</td>\n",
       "      <td>None</td>\n",
       "      <td>None</td>\n",
       "    </tr>\n",
       "    <tr>\n",
       "      <th>63</th>\n",
       "      <td>FXYD3</td>\n",
       "      <td>None</td>\n",
       "      <td>None</td>\n",
       "      <td>None</td>\n",
       "      <td>None</td>\n",
       "      <td>None</td>\n",
       "      <td>None</td>\n",
       "      <td>None</td>\n",
       "      <td>None</td>\n",
       "      <td>None</td>\n",
       "      <td>...</td>\n",
       "      <td>None</td>\n",
       "      <td>None</td>\n",
       "      <td>None</td>\n",
       "      <td>None</td>\n",
       "      <td>None</td>\n",
       "      <td>None</td>\n",
       "      <td>None</td>\n",
       "      <td>None</td>\n",
       "      <td>None</td>\n",
       "      <td>None</td>\n",
       "    </tr>\n",
       "    <tr>\n",
       "      <th>64</th>\n",
       "      <td>EPCAM</td>\n",
       "      <td>None</td>\n",
       "      <td>None</td>\n",
       "      <td>None</td>\n",
       "      <td>None</td>\n",
       "      <td>None</td>\n",
       "      <td>None</td>\n",
       "      <td>None</td>\n",
       "      <td>None</td>\n",
       "      <td>None</td>\n",
       "      <td>...</td>\n",
       "      <td>None</td>\n",
       "      <td>None</td>\n",
       "      <td>None</td>\n",
       "      <td>None</td>\n",
       "      <td>None</td>\n",
       "      <td>None</td>\n",
       "      <td>None</td>\n",
       "      <td>None</td>\n",
       "      <td>None</td>\n",
       "      <td>None</td>\n",
       "    </tr>\n",
       "    <tr>\n",
       "      <th>65</th>\n",
       "      <td>ELF3</td>\n",
       "      <td>None</td>\n",
       "      <td>None</td>\n",
       "      <td>None</td>\n",
       "      <td>None</td>\n",
       "      <td>None</td>\n",
       "      <td>None</td>\n",
       "      <td>None</td>\n",
       "      <td>None</td>\n",
       "      <td>None</td>\n",
       "      <td>...</td>\n",
       "      <td>None</td>\n",
       "      <td>None</td>\n",
       "      <td>None</td>\n",
       "      <td>None</td>\n",
       "      <td>None</td>\n",
       "      <td>None</td>\n",
       "      <td>None</td>\n",
       "      <td>None</td>\n",
       "      <td>None</td>\n",
       "      <td>None</td>\n",
       "    </tr>\n",
       "  </tbody>\n",
       "</table>\n",
       "<p>66 rows × 88 columns</p>\n",
       "</div>"
      ],
      "text/plain": [
       "   Epithelial Airway epithelium      AT0 Alveolar epithelium     AT1  \\\n",
       "0       FXYD3            IGFBP2    SFTPB                HOPX   CLIC5   \n",
       "1       EPCAM          SERPINF1  SCGB3A2               SFTA2  SPOCK2   \n",
       "2        ELF3            TSPAN1    SFTA2             SLC39A8   TIMP3   \n",
       "3       FXYD3            IGFBP2     None                HOPX    None   \n",
       "4       EPCAM          SERPINF1     None               SFTA2    None   \n",
       "..        ...               ...      ...                 ...     ...   \n",
       "61      EPCAM              None     None                None    None   \n",
       "62       ELF3              None     None                None    None   \n",
       "63      FXYD3              None     None                None    None   \n",
       "64      EPCAM              None     None                None    None   \n",
       "65       ELF3              None     None                None    None   \n",
       "\n",
       "   AT2 proliferating       AT2  Stroma Fibroblast lineage  \\\n",
       "0              CENPW    MFSD2A  COL1A2                LUM   \n",
       "1              CDKN3    C8orf4     DCN             COL6A3   \n",
       "2              BIRC5  C11orf96   MFAP4                CFD   \n",
       "3               None      None  COL1A2                LUM   \n",
       "4               None      None     DCN             COL6A3   \n",
       "..               ...       ...     ...                ...   \n",
       "61              None      None    None               None   \n",
       "62              None      None    None               None   \n",
       "63              None      None    None               None   \n",
       "64              None      None    None               None   \n",
       "65              None      None    None               None   \n",
       "\n",
       "   Adventitial fibroblasts  ... Dendritic cells Macrophages Monocytes  \\\n",
       "0                    MFAP5  ...            XCR1     CYP27A1   S100A12   \n",
       "1                   SCARA5  ...          CLEC9A       MARCO      FCN1   \n",
       "2                     PI16  ...            CLNK       FABP4    RNASE2   \n",
       "3                     None  ...            PKIB       CCL20     MTSS1   \n",
       "4                     None  ...         CLEC10A      FAM89A    LILRA5   \n",
       "..                     ...  ...             ...         ...       ...   \n",
       "61                    None  ...            None        None      None   \n",
       "62                    None  ...            None        None      None   \n",
       "63                    None  ...            None        None      None   \n",
       "64                    None  ...            None        None      None   \n",
       "65                    None  ...            None        None      None   \n",
       "\n",
       "   Non-T/B cells    Rare Secretory Smooth Muscle Submucosal Secretory  \\\n",
       "0           GNLY    BSND    CYP2F1         MYH11                STATH   \n",
       "1          SPON2    IGF1   SCGB3A1       TINAGL1                 ODAM   \n",
       "2         FCGR3A  CLCNKB    BPIFB1           PLN                 MUC7   \n",
       "3           None    DAB1  SERPINB3         MYH11        RP11-1143G9.4   \n",
       "4           None   CELF3      TCN1       TINAGL1               S100A1   \n",
       "..           ...     ...       ...           ...                  ...   \n",
       "61          None    None      None          None                 None   \n",
       "62          None    None      None          None                 None   \n",
       "63          None    None      None          None                 None   \n",
       "64          None    None      None          None                 None   \n",
       "65          None    None      None          None                 None   \n",
       "\n",
       "   T cell lineage   Venous  \n",
       "0          CD40LG  TPD52L1  \n",
       "1        TNFRSF25  ZNF385D  \n",
       "2            CD28    OLFM1  \n",
       "3             CD4      CPE  \n",
       "4           TRAT1       C7  \n",
       "..            ...      ...  \n",
       "61           None     None  \n",
       "62           None     None  \n",
       "63           None     None  \n",
       "64           None     None  \n",
       "65           None     None  \n",
       "\n",
       "[66 rows x 88 columns]"
      ]
     },
     "execution_count": 12,
     "metadata": {},
     "output_type": "execute_result"
    }
   ],
   "source": [
    "df = pd.DataFrame.from_dict(marker_dict, orient='index').T\n",
    "df.to_csv('datasets/hlca_marker_dict.csv')\n",
    "df"
   ]
  },
  {
   "cell_type": "markdown",
   "id": "eb9468c4",
   "metadata": {},
   "source": [
    "Reload to filter:"
   ]
  },
  {
   "cell_type": "code",
   "execution_count": 13,
   "id": "12608da9",
   "metadata": {},
   "outputs": [],
   "source": [
    "from scripts import hlca_markers\n",
    "marker_dict = hlca_markers()"
   ]
  },
  {
   "cell_type": "code",
   "execution_count": 14,
   "id": "55982583",
   "metadata": {},
   "outputs": [
    {
     "name": "stdout",
     "output_type": "stream",
     "text": [
      "8\n"
     ]
    },
    {
     "data": {
      "text/plain": [
       "{'Bronchial Vessel 1',\n",
       " 'Bronchial Vessel 2',\n",
       " 'KRT5- KRT17+ epithelial',\n",
       " 'Megakaryocytes',\n",
       " 'Neutrophilic',\n",
       " 'Proliferating cells',\n",
       " 'Squamous',\n",
       " 'unlabeled'}"
      ]
     },
     "execution_count": 14,
     "metadata": {},
     "output_type": "execute_result"
    }
   ],
   "source": [
    "print(len(set(adata.obs.scanvi_label.unique()) - set(marker_dict.keys())))\n",
    "set(adata.obs.scanvi_label.unique()) - set(marker_dict.keys())"
   ]
  },
  {
   "cell_type": "code",
   "execution_count": 15,
   "id": "da378e69",
   "metadata": {
    "scrolled": true
   },
   "outputs": [
    {
     "data": {
      "text/plain": [
       "81"
      ]
     },
     "execution_count": 15,
     "metadata": {},
     "output_type": "execute_result"
    }
   ],
   "source": [
    "len(marker_dict.keys())"
   ]
  },
  {
   "cell_type": "code",
   "execution_count": 16,
   "id": "ac67b458",
   "metadata": {},
   "outputs": [
    {
     "data": {
      "text/plain": [
       "21"
      ]
     },
     "execution_count": 16,
     "metadata": {},
     "output_type": "execute_result"
    }
   ],
   "source": [
    "min_cells = 100\n",
    "indices = []\n",
    "cts_included = set()\n",
    "for dataset in adata.obs.dataset.unique():\n",
    "    subset = adata[adata.obs.dataset == dataset]\n",
    "    for ct in subset.obs.scanvi_label.unique():\n",
    "        if ct in marker_dict.keys() and subset.obs.scanvi_label.value_counts()[ct] > min_cells:\n",
    "            cts_included.add(ct)\n",
    "            indices.append(np.random.choice(subset[subset.obs.scanvi_label == ct].obs.index, min_cells, replace=False))\n",
    "(len(indices))\n",
    "len(cts_included)"
   ]
  },
  {
   "cell_type": "code",
   "execution_count": 142,
   "id": "232243a4",
   "metadata": {},
   "outputs": [
    {
     "data": {
      "text/plain": [
       "(14500, 2000)"
      ]
     },
     "execution_count": 142,
     "metadata": {},
     "output_type": "execute_result"
    }
   ],
   "source": [
    "new_adata = adata[np.array(indices).flatten()]\n",
    "new_adata.shape"
   ]
  },
  {
   "cell_type": "code",
   "execution_count": 143,
   "id": "5ecdce97",
   "metadata": {},
   "outputs": [],
   "source": [
    "new_adata.write('datasets/hlca_subset.h5ad')"
   ]
  },
  {
   "cell_type": "code",
   "execution_count": 144,
   "id": "18a2e65b",
   "metadata": {},
   "outputs": [
    {
     "data": {
      "text/plain": [
       "Ciliated                1300\n",
       "Secretory               1100\n",
       "Monocytes               1000\n",
       "T cell lineage          1000\n",
       "Basal                   1000\n",
       "Dendritic cells         1000\n",
       "Macrophages              900\n",
       "Mast cells               900\n",
       "AT2                      800\n",
       "B cell lineage           700\n",
       "Fibroblast lineage       700\n",
       "Lymphatic EC             700\n",
       "Submucosal Secretory     600\n",
       "AT1                      600\n",
       "Smooth Muscle            500\n",
       "Venous                   400\n",
       "Non-T/B cells            300\n",
       "Rare                     300\n",
       "Arterial EC              300\n",
       "Mesothelium              200\n",
       "Capillary                200\n",
       "Name: scanvi_label, dtype: int64"
      ]
     },
     "execution_count": 144,
     "metadata": {},
     "output_type": "execute_result"
    }
   ],
   "source": [
    "new_adata.obs.scanvi_label.value_counts()"
   ]
  },
  {
   "cell_type": "code",
   "execution_count": 145,
   "id": "d0cdfae0",
   "metadata": {},
   "outputs": [
    {
     "data": {
      "text/plain": [
       "Macrophages                106551\n",
       "Basal                       93000\n",
       "Secretory                   67443\n",
       "AT2                         58398\n",
       "T cell lineage              43117\n",
       "Ciliated                    42295\n",
       "Monocytes                   30395\n",
       "unlabeled                   24176\n",
       "Capillary                   20597\n",
       "Fibroblast lineage          20549\n",
       "Non-T/B cells               13927\n",
       "AT1                          9138\n",
       "Venous                       8449\n",
       "Dendritic cells              7813\n",
       "Submucosal Secretory         6988\n",
       "Mast cells                   6811\n",
       "B cell lineage               6361\n",
       "Arterial EC                  6031\n",
       "Lymphatic EC                 4622\n",
       "Smooth Muscle                3270\n",
       "Proliferating cells          1812\n",
       "Squamous                     1266\n",
       "Rare                          874\n",
       "Bronchial Vessel 1            455\n",
       "Mesothelium                   347\n",
       "Bronchial Vessel 2            235\n",
       "KRT5- KRT17+ epithelial        11\n",
       "Megakaryocytes                 11\n",
       "Neutrophilic                    2\n",
       "Name: scanvi_label, dtype: int64"
      ]
     },
     "execution_count": 145,
     "metadata": {},
     "output_type": "execute_result"
    }
   ],
   "source": [
    "adata.obs.scanvi_label.value_counts()"
   ]
  }
 ],
 "metadata": {
  "kernelspec": {
   "display_name": "Python [conda env:test_env3]",
   "language": "python",
   "name": "conda-env-test_env3-py"
  },
  "language_info": {
   "codemirror_mode": {
    "name": "ipython",
    "version": 3
   },
   "file_extension": ".py",
   "mimetype": "text/x-python",
   "name": "python",
   "nbconvert_exporter": "python",
   "pygments_lexer": "ipython3",
   "version": "3.10.6"
  }
 },
 "nbformat": 4,
 "nbformat_minor": 5
}
