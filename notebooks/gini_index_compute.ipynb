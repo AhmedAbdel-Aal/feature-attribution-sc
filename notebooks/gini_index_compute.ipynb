{
 "cells": [
  {
   "cell_type": "code",
   "execution_count": 1,
   "id": "37c05486",
   "metadata": {},
   "outputs": [],
   "source": [
    "import pandas as pd\n",
    "import numpy as np\n",
    "from pygini import gini\n",
    "from pathlib import Path"
   ]
  },
  {
   "cell_type": "code",
   "execution_count": 3,
   "id": "7009f2a0",
   "metadata": {},
   "outputs": [],
   "source": [
    "for csv_file in Path(\"../outputs/\").glob(\"./**/*.*\"):\n",
    "    if \".ipynb_checkpoints\" in str(csv_file):\n",
    "        continue\n",
    "    df = pd.read_csv(csv_file, index_col=0)\n",
    "    ginis = gini(np.abs(df.to_numpy()), axis=0)\n",
    "    \n",
    "    cols = df.columns.tolist()\n",
    "    res_df = pd.DataFrame(ginis.reshape(1,len(cols)), columns=cols)\n",
    "    res_df[\"mean_gini\"] = res_df.mean(axis=1)\n",
    "    \n",
    "    \n",
    "    new_path = csv_file.parent / (\"ginis_\" + csv_file.name)\n",
    "    res_df.to_csv(new_path, index=False)"
   ]
  },
  {
   "cell_type": "code",
   "execution_count": null,
   "id": "20557cfd",
   "metadata": {},
   "outputs": [],
   "source": []
  }
 ],
 "metadata": {
  "kernelspec": {
   "display_name": "Python 3 (ipykernel)",
   "language": "python",
   "name": "python3"
  },
  "language_info": {
   "codemirror_mode": {
    "name": "ipython",
    "version": 3
   },
   "file_extension": ".py",
   "mimetype": "text/x-python",
   "name": "python",
   "nbconvert_exporter": "python",
   "pygments_lexer": "ipython3",
   "version": "3.8.13"
  }
 },
 "nbformat": 4,
 "nbformat_minor": 5
}
