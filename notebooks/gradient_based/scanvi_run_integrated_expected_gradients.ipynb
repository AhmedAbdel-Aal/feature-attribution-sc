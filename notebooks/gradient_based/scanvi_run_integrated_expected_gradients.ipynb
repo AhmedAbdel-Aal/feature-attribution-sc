{
 "cells": [
  {
   "cell_type": "code",
   "execution_count": 2,
   "id": "2a15e7d5",
   "metadata": {},
   "outputs": [
    {
     "name": "stderr",
     "output_type": "stream",
     "text": [
      "Global seed set to 0\n",
      "2022-09-21 16:30:54.226666: E tensorflow/stream_executor/cuda/cuda_blas.cc:2981] Unable to register cuBLAS factory: Attempting to register factory for plugin cuBLAS when one has already been registered\n"
     ]
    },
    {
     "name": "stdout",
     "output_type": "stream",
     "text": [
      "scanpy==1.9.1 anndata==0.8.0 umap==0.5.3 numpy==1.21.5 scipy==1.9.1 pandas==1.4.4 scikit-learn==1.1.2 statsmodels==0.13.2 python-igraph==0.10.1 pynndescent==0.5.7\n"
     ]
    }
   ],
   "source": [
    "import torch\n",
    "import scvi\n",
    "import pandas as pd\n",
    "import scanpy as sc\n",
    "import matplotlib.pyplot as plt\n",
    "import numpy as np\n",
    "\n",
    "sc.set_figure_params(dpi=100, frameon=False, color_map='Reds', facecolor=None)\n",
    "sc.logging.print_header()\n",
    "assert(scvi.__version__=='0.16.3')\n",
    "\n",
    "from gradients import run_expected_jacobian_scanvi, run_integrated_jacobian_scanvi"
   ]
  },
  {
   "cell_type": "code",
   "execution_count": 3,
   "id": "89aed8ec",
   "metadata": {},
   "outputs": [],
   "source": [
    "base_path = '/home/icb/yuge.ji/projects/feature-attribution-sc'  # should be changed to shared dir when I can find one"
   ]
  },
  {
   "cell_type": "code",
   "execution_count": 6,
   "id": "8c395d71",
   "metadata": {},
   "outputs": [
    {
     "data": {
      "text/plain": [
       "AnnData object with n_obs × n_vars = 587218 × 2000\n",
       "    obs: 'sample', 'original_celltype_ann', 'study_long', 'study', 'last_author_PI', 'subject_ID', 'subject_ID_as_published', 'pre_or_postnatal', 'age_in_years', 'age_range', 'sex', 'ethnicity', 'mixed_ethnicity', 'smoking_status', 'smoking_history', 'BMI', 'known_lung_disease', 'condition', 'subject_type', 'cause_of_death', 'sample_type', 'anatomical_region_coarse', 'anatomical_region_detailed', 'tissue_dissociation_protocol', 'cells_or_nuclei', 'single_cell_platform', \"3'_or_5'\", 'enrichment', 'sequencing_platform', 'reference_genome_coarse', 'ensembl_release_reference_genome', 'cell_ranger_version', 'disease_status', 'fresh_or_frozen', 'cultured', 'cell_viability_%', 'comments', 'Processing_site', 'dataset', 'anatomical_region_level_1', 'anatomical_region_level_2', 'anatomical_region_level_3', 'anatomical_region_highest_res', 'age', 'ann_level_1', 'ann_level_2', 'ann_level_3', 'ann_level_4', 'ann_level_5', 'ann_highest_res', 'ann_new', 'n_genes', 'total_counts', 'log10_total_counts', 'n_genes_detected', 'mito_frac', 'ribo_frac', 'compl', 'size_factors', 'ann_level_1_clean', 'ann_level_2_clean', 'ann_level_3_clean', 'ann_level_4_clean', 'ann_level_5_clean', 'scanvi_label', 'anatomical_region_ccf_score', 'manual_ann'\n",
       "    var: 'gene_symbols', 'n_cells', 'highly_variable', 'means', 'dispersions', 'dispersions_norm', 'highly_variable_nbatches', 'highly_variable_intersection'\n",
       "    uns: 'anatomical_region_level_1_colors', 'ann_level_1_colors', 'ann_level_2_clean_colors', 'ann_level_3_clean_colors', 'hvg', 'manual_ann_colors', 'neighbors', 'pca', 'scanvi_label_colors', 'study_colors', 'umap'\n",
       "    obsm: 'X_pca', 'X_umap'\n",
       "    varm: 'PCs'\n",
       "    layers: 'counts'\n",
       "    obsp: 'connectivities', 'distances'"
      ]
     },
     "execution_count": 6,
     "metadata": {},
     "output_type": "execute_result"
    }
   ],
   "source": [
    "hlca_path = '/lustre/groups/ml01/workspace/hlca_lisa.sikkema_malte.luecken/HLCA_reproducibility/data/HLCA_core_h5ads/HLCA_v1_integration/HLCA_v1_scANVI_input.h5ad'\n",
    "adata = sc.read(hlca_path)\n",
    "adata"
   ]
  },
  {
   "cell_type": "code",
   "execution_count": 7,
   "id": "5be9a67a",
   "metadata": {},
   "outputs": [
    {
     "name": "stdout",
     "output_type": "stream",
     "text": [
      "\u001b[34mINFO    \u001b[0m File \u001b[35m/home/icb/yuge.ji/projects/HLCA_reproducibility/notebooks/3_atlas_extension/sca\u001b[0m\n",
      "         \u001b[35mnvi_model/\u001b[0m\u001b[95mmodel.pt\u001b[0m already downloaded                                               \n"
     ]
    },
    {
     "name": "stderr",
     "output_type": "stream",
     "text": [
      "/home/icb/sergei.rybakov/miniconda3/envs/feature/lib/python3.8/site-packages/scvi/data/_utils.py:156: UserWarning: Category 18 in adata.obs['_scvi_labels'] has fewer than 3 cells. Models may not train properly.\n",
      "  warnings.warn(\n",
      "/home/icb/sergei.rybakov/miniconda3/envs/feature/lib/python3.8/site-packages/scvi/data/_utils.py:156: UserWarning: Category 18 in adata.obs['_scvi_labels'] has fewer than 3 cells. Models may not train properly.\n",
      "  warnings.warn(\n"
     ]
    },
    {
     "data": {
      "text/html": [
       "<pre style=\"white-space:pre;overflow-x:auto;line-height:normal;font-family:Menlo,'DejaVu Sans Mono',consolas,'Courier New',monospace\">ScanVI Model with the following params: \n",
       "unlabeled_category: unlabeled, n_hidden: <span style=\"color: #008080; text-decoration-color: #008080; font-weight: bold\">128</span>, n_latent: <span style=\"color: #008080; text-decoration-color: #008080; font-weight: bold\">30</span>, n_layers: <span style=\"color: #008080; text-decoration-color: #008080; font-weight: bold\">2</span>, dropout_rate: <span style=\"color: #008080; text-decoration-color: #008080; font-weight: bold\">0.1</span>, \n",
       "dispersion: gene, gene_likelihood: nb\n",
       "Training status: Trained\n",
       "</pre>\n"
      ],
      "text/plain": [
       "ScanVI Model with the following params: \n",
       "unlabeled_category: unlabeled, n_hidden: \u001b[1;36m128\u001b[0m, n_latent: \u001b[1;36m30\u001b[0m, n_layers: \u001b[1;36m2\u001b[0m, dropout_rate: \u001b[1;36m0.1\u001b[0m, \n",
       "dispersion: gene, gene_likelihood: nb\n",
       "Training status: Trained\n"
      ]
     },
     "metadata": {},
     "output_type": "display_data"
    },
    {
     "data": {
      "text/plain": []
     },
     "execution_count": 7,
     "metadata": {},
     "output_type": "execute_result"
    }
   ],
   "source": [
    "model = scvi.model.SCANVI.load('/home/icb/yuge.ji/projects/HLCA_reproducibility/notebooks/3_atlas_extension/scanvi_model/', adata)\n",
    "model"
   ]
  },
  {
   "cell_type": "code",
   "execution_count": 9,
   "id": "a21c7987",
   "metadata": {},
   "outputs": [],
   "source": [
    "#scdl = model._make_data_loader(adata=adata, shuffle=True, batch_size=100)"
   ]
  },
  {
   "cell_type": "code",
   "execution_count": 10,
   "id": "9621e255",
   "metadata": {},
   "outputs": [],
   "source": [
    "#inpt_dict = batch_to_dict_scanvi(next(scdl.__iter__()))\n",
    "#inpt_dict[\"x\"].requires_grad = True"
   ]
  },
  {
   "cell_type": "code",
   "execution_count": 11,
   "id": "c2dabc4a",
   "metadata": {},
   "outputs": [],
   "source": [
    "#expected_jacobian(model.module.classify, inpt_dict, \"x\", prime_inpt)"
   ]
  },
  {
   "cell_type": "code",
   "execution_count": 12,
   "id": "899998af",
   "metadata": {},
   "outputs": [
    {
     "data": {
      "text/plain": [
       "Banovich_Kropski_2020        122319\n",
       "Barbry_Leroy_2020             74728\n",
       "Nawijn_2021                   70591\n",
       "Misharin_2021                 65326\n",
       "Krasnow_2020                  60990\n",
       "Misharin_Budinger_2018        41265\n",
       "Meyer_2019                    35674\n",
       "Jain_Misharin_2021_10Xv2      33144\n",
       "Seibold_2020_10Xv3            21466\n",
       "Lafyatis_Rojas_2019_10Xv2     21271\n",
       "Teichmann_Meyer_2019          12971\n",
       "Jain_Misharin_2021_10Xv1      12422\n",
       "Seibold_2020_10Xv2            12127\n",
       "Lafyatis_Rojas_2019_10Xv1      2924\n",
       "Name: dataset, dtype: int64"
      ]
     },
     "execution_count": 12,
     "metadata": {},
     "output_type": "execute_result"
    }
   ],
   "source": [
    "adata.obs[\"dataset\"].value_counts()"
   ]
  },
  {
   "cell_type": "code",
   "execution_count": 13,
   "id": "13386ead",
   "metadata": {},
   "outputs": [],
   "source": [
    "indices = np.where(adata.obs[\"dataset\"] == \"Meyer_2019\")[0]"
   ]
  },
  {
   "cell_type": "code",
   "execution_count": 14,
   "id": "6cedcd10",
   "metadata": {},
   "outputs": [],
   "source": [
    "dl_base = model._make_data_loader(adata=adata, shuffle=False, indices=indices, batch_size=1000)\n",
    "dl_prime = model._make_data_loader(adata=adata, shuffle=True, indices=indices, batch_size=1000)"
   ]
  },
  {
   "cell_type": "code",
   "execution_count": 24,
   "id": "fa740611",
   "metadata": {},
   "outputs": [],
   "source": [
    "avg_abs_exp_jac = None\n",
    "avg_exp_jac = None"
   ]
  },
  {
   "cell_type": "code",
   "execution_count": 25,
   "id": "7fe5a70b",
   "metadata": {},
   "outputs": [
    {
     "name": "stdout",
     "output_type": "stream",
     "text": [
      "Teichmann_Meyer_2019\n",
      "1179\n",
      "Misharin_Budinger_2018\n",
      "2000\n",
      "Krasnow_2020\n",
      "2000\n",
      "Seibold_2020_10Xv3\n",
      "1951\n",
      "Banovich_Kropski_2020\n",
      "2000\n",
      "Nawijn_2021\n",
      "2000\n",
      "Misharin_2021\n",
      "2000\n",
      "Seibold_2020_10Xv2\n",
      "1102\n",
      "Barbry_Leroy_2020\n",
      "2000\n",
      "Lafyatis_Rojas_2019_10Xv1\n",
      "265\n",
      "Lafyatis_Rojas_2019_10Xv2\n",
      "1933\n",
      "Meyer_2019\n",
      "2000\n",
      "Jain_Misharin_2021_10Xv2\n",
      "2000\n",
      "Jain_Misharin_2021_10Xv1\n",
      "1129\n",
      "Teichmann_Meyer_2019\n",
      "1179\n",
      "Misharin_Budinger_2018\n",
      "2000\n",
      "Krasnow_2020\n",
      "2000\n",
      "Seibold_2020_10Xv3\n",
      "1951\n",
      "Banovich_Kropski_2020\n",
      "2000\n",
      "Nawijn_2021\n",
      "2000\n",
      "Misharin_2021\n",
      "2000\n",
      "Seibold_2020_10Xv2\n",
      "1102\n",
      "Barbry_Leroy_2020\n",
      "2000\n",
      "Lafyatis_Rojas_2019_10Xv1\n",
      "265\n",
      "Lafyatis_Rojas_2019_10Xv2\n",
      "1933\n",
      "Meyer_2019\n",
      "2000\n",
      "Jain_Misharin_2021_10Xv2\n",
      "2000\n",
      "Jain_Misharin_2021_10Xv1\n",
      "1129\n"
     ]
    }
   ],
   "source": [
    "# sum abs values\n",
    "for ds in adata.obs[\"dataset\"].unique():\n",
    "    print(ds)\n",
    "    \n",
    "    indices = np.where(adata.obs[\"dataset\"] == ds)[0]\n",
    "    batch_size = min(2000, int(len(indices) / 11))\n",
    "    print(batch_size)\n",
    "    \n",
    "    dl_base = model._make_data_loader(adata=adata, shuffle=False, indices=indices, batch_size=batch_size)\n",
    "    dl_prime = model._make_data_loader(adata=adata, shuffle=True, indices=indices, batch_size=batch_size)\n",
    "    \n",
    "    exp_jac_ds = run_expected_jacobian_scanvi(model.module.classify, dl_base, dl_prime, apply_abs=True, sum_obs=True)\n",
    "    if avg_abs_exp_jac is None:\n",
    "        avg_abs_exp_jac = exp_jac_ds\n",
    "    else:\n",
    "        avg_abs_exp_jac += exp_jac_ds\n",
    "        \n",
    "# just sum\n",
    "for ds in adata.obs[\"dataset\"].unique():\n",
    "    print(ds)\n",
    "    \n",
    "    indices = np.where(adata.obs[\"dataset\"] == ds)[0]\n",
    "    batch_size = min(2000, int(len(indices) / 11))\n",
    "    print(batch_size)\n",
    "    \n",
    "    dl_base = model._make_data_loader(adata=adata, shuffle=False, indices=indices, batch_size=batch_size)\n",
    "    dl_prime = model._make_data_loader(adata=adata, shuffle=True, indices=indices, batch_size=batch_size)\n",
    "    \n",
    "    exp_jac_ds = run_expected_jacobian_scanvi(model.module.classify, dl_base, dl_prime, apply_abs=False, sum_obs=True)\n",
    "    if avg_exp_jac is None:\n",
    "        avg_exp_jac = exp_jac_ds\n",
    "    else:\n",
    "        avg_exp_jac += exp_jac_ds"
   ]
  },
  {
   "cell_type": "code",
   "execution_count": 34,
   "id": "35d3afa1",
   "metadata": {},
   "outputs": [],
   "source": [
    "avg_abs_integr_jac = None\n",
    "avg_integr_jac = None"
   ]
  },
  {
   "cell_type": "code",
   "execution_count": 35,
   "id": "5da38b40",
   "metadata": {},
   "outputs": [
    {
     "name": "stdout",
     "output_type": "stream",
     "text": [
      "Teichmann_Meyer_2019\n",
      "Misharin_Budinger_2018\n",
      "Krasnow_2020\n",
      "Seibold_2020_10Xv3\n",
      "Banovich_Kropski_2020\n",
      "Nawijn_2021\n",
      "Misharin_2021\n",
      "Seibold_2020_10Xv2\n",
      "Barbry_Leroy_2020\n",
      "Lafyatis_Rojas_2019_10Xv1\n",
      "Lafyatis_Rojas_2019_10Xv2\n",
      "Meyer_2019\n",
      "Jain_Misharin_2021_10Xv2\n",
      "Jain_Misharin_2021_10Xv1\n",
      "Teichmann_Meyer_2019\n",
      "Misharin_Budinger_2018\n",
      "Krasnow_2020\n",
      "Seibold_2020_10Xv3\n",
      "Banovich_Kropski_2020\n",
      "Nawijn_2021\n",
      "Misharin_2021\n",
      "Seibold_2020_10Xv2\n",
      "Barbry_Leroy_2020\n",
      "Lafyatis_Rojas_2019_10Xv1\n",
      "Lafyatis_Rojas_2019_10Xv2\n",
      "Meyer_2019\n",
      "Jain_Misharin_2021_10Xv2\n",
      "Jain_Misharin_2021_10Xv1\n"
     ]
    }
   ],
   "source": [
    "# sum abs values\n",
    "for ds in adata.obs[\"dataset\"].unique():\n",
    "    print(ds)\n",
    "    \n",
    "    indices = np.where(adata.obs[\"dataset\"] == ds)[0]\n",
    "    dl_base = model._make_data_loader(adata=adata, shuffle=False, indices=indices, batch_size=2000)\n",
    "    \n",
    "    integr_jac_ds = run_integrated_jacobian_scanvi(model.module.classify, dl_base, apply_abs=True, sum_obs=True)\n",
    "    if avg_abs_integr_jac is None:\n",
    "        avg_abs_integr_jac = integr_jac_ds\n",
    "    else:\n",
    "        avg_abs_integr_jac += integr_jac_ds\n",
    "        \n",
    "# just sum\n",
    "for ds in adata.obs[\"dataset\"].unique():\n",
    "    print(ds)\n",
    "    \n",
    "    indices = np.where(adata.obs[\"dataset\"] == ds)[0]\n",
    "    dl_base = model._make_data_loader(adata=adata, shuffle=False, indices=indices, batch_size=2000)\n",
    "    \n",
    "    integr_jac_ds = run_integrated_jacobian_scanvi(model.module.classify, dl_base, apply_abs=False, sum_obs=True)\n",
    "    if avg_integr_jac is None:\n",
    "        avg_integr_jac = integr_jac_ds\n",
    "    else:\n",
    "        avg_integr_jac += integr_jac_ds"
   ]
  },
  {
   "cell_type": "code",
   "execution_count": 47,
   "id": "4686f09c",
   "metadata": {},
   "outputs": [],
   "source": [
    "from scvi import REGISTRY_KEYS\n",
    "labels = model.adata_manager.get_state_registry(REGISTRY_KEYS.LABELS_KEY)['categorical_mapping']"
   ]
  },
  {
   "cell_type": "code",
   "execution_count": 49,
   "id": "46227d46",
   "metadata": {},
   "outputs": [],
   "source": [
    "pd.DataFrame(avg_abs_exp_jac.numpy(), columns=labels[:-1], index=adata.var_names.tolist()).to_csv(\"absolute_sum_expected_grads.csv\", index_label=\"Gene\")"
   ]
  },
  {
   "cell_type": "code",
   "execution_count": 50,
   "id": "8e37e940",
   "metadata": {},
   "outputs": [],
   "source": [
    "pd.DataFrame(avg_exp_jac.numpy(), columns=labels[:-1], index=adata.var_names.tolist()).to_csv(\"sum_expected_grads.csv\", index_label=\"Gene\")"
   ]
  },
  {
   "cell_type": "code",
   "execution_count": 51,
   "id": "438eb028",
   "metadata": {},
   "outputs": [],
   "source": [
    "pd.DataFrame(avg_abs_integr_jac.numpy(), columns=labels[:-1], index=adata.var_names.tolist()).to_csv(\"absolute_sum_integrated_grads.csv\", index_label=\"Gene\")"
   ]
  },
  {
   "cell_type": "code",
   "execution_count": 52,
   "id": "66e895ad",
   "metadata": {},
   "outputs": [],
   "source": [
    "pd.DataFrame(avg_integr_jac.numpy(), columns=labels[:-1], index=adata.var_names.tolist()).to_csv(\"sum_integrated_grads.csv\", index_label=\"Gene\")"
   ]
  },
  {
   "cell_type": "code",
   "execution_count": null,
   "id": "c0225ebe",
   "metadata": {},
   "outputs": [],
   "source": []
  }
 ],
 "metadata": {
  "kernelspec": {
   "display_name": "Python 3 (ipykernel)",
   "language": "python",
   "name": "python3"
  },
  "language_info": {
   "codemirror_mode": {
    "name": "ipython",
    "version": 3
   },
   "file_extension": ".py",
   "mimetype": "text/x-python",
   "name": "python",
   "nbconvert_exporter": "python",
   "pygments_lexer": "ipython3",
   "version": "3.7.0"
  }
 },
 "nbformat": 4,
 "nbformat_minor": 5
}
