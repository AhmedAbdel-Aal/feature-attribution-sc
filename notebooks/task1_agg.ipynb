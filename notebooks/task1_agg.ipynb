{
 "cells": [
  {
   "cell_type": "code",
   "execution_count": 1,
   "id": "39198481",
   "metadata": {},
   "outputs": [],
   "source": [
    "import pandas as pd\n",
    "from sklearn.metrics import roc_auc_score\n",
    "import sys\n",
    "sys.path.append(\"../scripts/\")\n",
    "import benchmarking"
   ]
  },
  {
   "cell_type": "code",
   "execution_count": 20,
   "id": "70513c7f",
   "metadata": {},
   "outputs": [],
   "source": [
    "path = '../outputs/'\n",
    "ranking_files = {\n",
    "    'ablation': 'ablation/task1_latent.csv',\n",
    "    'de': 'differential_expression/norman_DE_control.csv',\n",
    "    'eg_abssum': 'expected_gradients/task_1_absolute_expected_grads.csv',\n",
    "#     'ig_abssum': 'integrated_gradients/task_1_absolute_sum_integrated_grads.csv',\n",
    "    'mean': 'baselines/task1_mean.csv',\n",
    "    'random': 'baselines/task1_random.csv',\n",
    "}\n",
    "ranking_dfs = {explainer: pd.read_csv(path + file_name, index_col=0) for explainer, file_name in ranking_files.items()}"
   ]
  },
  {
   "cell_type": "markdown",
   "id": "e76fd716",
   "metadata": {},
   "source": [
    "Invert DE because p-values go in the wrong direction."
   ]
  },
  {
   "cell_type": "code",
   "execution_count": 21,
   "id": "65f00b83",
   "metadata": {},
   "outputs": [],
   "source": [
    "ranking_dfs['de'] = -ranking_dfs['de']"
   ]
  },
  {
   "cell_type": "code",
   "execution_count": 22,
   "id": "7fe42a53",
   "metadata": {},
   "outputs": [
    {
     "name": "stdout",
     "output_type": "stream",
     "text": [
      "ablation\n",
      "de\n",
      "eg_abssum\n",
      "mean\n",
      "random\n"
     ]
    }
   ],
   "source": [
    "auc_scores = dict()\n",
    "for explainer, df in ranking_dfs.items():\n",
    "    print(explainer)\n",
    "    auc_scores[explainer] = benchmarking.roc_auc_crispr(df)"
   ]
  },
  {
   "cell_type": "code",
   "execution_count": 23,
   "id": "161558f7",
   "metadata": {},
   "outputs": [
    {
     "data": {
      "text/plain": [
       "{'ablation': 0.6588555441106874,\n",
       " 'de': 0.9705116784053897,\n",
       " 'eg_abssum': 0.8141745208363622,\n",
       " 'mean': 0.8689830667503895,\n",
       " 'random': 0.4559094185078985}"
      ]
     },
     "execution_count": 23,
     "metadata": {},
     "output_type": "execute_result"
    }
   ],
   "source": [
    "auc_scores"
   ]
  },
  {
   "cell_type": "markdown",
   "id": "f5517a98",
   "metadata": {},
   "source": [
    "Note that `mean` only works here because we've trained on Norman19, a CRISPRa dataset. It would definitely not be the case for a CRISPRi/ko screen."
   ]
  }
 ],
 "metadata": {
  "kernelspec": {
   "display_name": "Python [conda env:test_env3]",
   "language": "python",
   "name": "conda-env-test_env3-py"
  },
  "language_info": {
   "codemirror_mode": {
    "name": "ipython",
    "version": 3
   },
   "file_extension": ".py",
   "mimetype": "text/x-python",
   "name": "python",
   "nbconvert_exporter": "python",
   "pygments_lexer": "ipython3",
   "version": "3.10.6"
  }
 },
 "nbformat": 4,
 "nbformat_minor": 5
}
