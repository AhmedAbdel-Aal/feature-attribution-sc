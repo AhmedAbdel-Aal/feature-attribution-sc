{
 "cells": [
  {
   "cell_type": "code",
   "execution_count": 1,
   "id": "3b460115",
   "metadata": {},
   "outputs": [
    {
     "name": "stderr",
     "output_type": "stream",
     "text": [
      "/home/icb/yuge.ji/miniconda3/envs/test_env3/lib/python3.10/site-packages/torch/utils/tensorboard/__init__.py:2: DeprecationWarning: The distutils package is deprecated and slated for removal in Python 3.12. Use setuptools or check PEP 632 for potential alternatives\n",
      "  from distutils.version import LooseVersion\n",
      "Global seed set to 0\n",
      "/home/icb/yuge.ji/miniconda3/envs/test_env3/lib/python3.10/site-packages/captum/attr/_utils/visualization.py:15: DeprecationWarning: Importing display from IPython.core.display is deprecated since IPython 7.14, please import from IPython display\n",
      "  from IPython.core.display import HTML, display\n",
      "/home/icb/yuge.ji/miniconda3/envs/test_env3/lib/python3.10/site-packages/scanpy/_settings.py:447: DeprecationWarning: `set_matplotlib_formats` is deprecated since IPython 7.23, directly use `matplotlib_inline.backend_inline.set_matplotlib_formats()`\n",
      "  IPython.display.set_matplotlib_formats(*ipython_format)\n"
     ]
    },
    {
     "name": "stdout",
     "output_type": "stream",
     "text": [
      "scanpy==1.9.1 anndata==0.8.0 umap==0.5.3 numpy==1.22.4 scipy==1.9.1 pandas==1.4.4 scikit-learn==1.1.2 statsmodels==0.13.2 pynndescent==0.5.7\n"
     ]
    },
    {
     "name": "stderr",
     "output_type": "stream",
     "text": [
      "/home/icb/yuge.ji/miniconda3/envs/test_env3/lib/python3.10/site-packages/umap/__init__.py:9: ImportWarning: Tensorflow not installed; ParametricUMAP will be unavailable\n",
      "  warn(\n"
     ]
    }
   ],
   "source": [
    "import torch\n",
    "import scvi\n",
    "import pandas as pd\n",
    "import scanpy as sc\n",
    "import scgen\n",
    "import matplotlib.pyplot as plt\n",
    "import seaborn as sns\n",
    "from captum.attr import FeatureAblation\n",
    "\n",
    "sc.set_figure_params(dpi=100, frameon=False, color_map='Reds', facecolor=None)\n",
    "sc.logging.print_header()"
   ]
  },
  {
   "cell_type": "markdown",
   "id": "06cdd5ae",
   "metadata": {},
   "source": [
    "### load model and data"
   ]
  },
  {
   "cell_type": "code",
   "execution_count": 2,
   "id": "e45e03bb",
   "metadata": {},
   "outputs": [
    {
     "name": "stderr",
     "output_type": "stream",
     "text": [
      "/home/icb/yuge.ji/miniconda3/envs/test_env3/lib/python3.10/site-packages/anndata/_io/h5ad.py:238: OldFormatWarning: Element '/layers' was written without encoding metadata.\n",
      "  d[k] = read_elem(f[k])\n",
      "/home/icb/yuge.ji/miniconda3/envs/test_env3/lib/python3.10/site-packages/anndata/_io/specs/methods.py:584: OldFormatWarning: Element '/obs/__categories/guide_identity' was written without encoding metadata.\n",
      "  categories = read_elem(categories_dset)\n",
      "/home/icb/yuge.ji/miniconda3/envs/test_env3/lib/python3.10/site-packages/anndata/_io/specs/methods.py:587: OldFormatWarning: Element '/obs/guide_identity' was written without encoding metadata.\n",
      "  read_elem(dataset), categories, ordered=ordered\n",
      "/home/icb/yuge.ji/miniconda3/envs/test_env3/lib/python3.10/site-packages/anndata/_io/specs/methods.py:590: OldFormatWarning: Element '/obs/read_count' was written without encoding metadata.\n",
      "  return read_elem(dataset)\n",
      "/home/icb/yuge.ji/miniconda3/envs/test_env3/lib/python3.10/site-packages/anndata/_io/specs/methods.py:590: OldFormatWarning: Element '/obs/UMI_count' was written without encoding metadata.\n",
      "  return read_elem(dataset)\n",
      "/home/icb/yuge.ji/miniconda3/envs/test_env3/lib/python3.10/site-packages/anndata/_io/specs/methods.py:590: OldFormatWarning: Element '/obs/coverage' was written without encoding metadata.\n",
      "  return read_elem(dataset)\n",
      "/home/icb/yuge.ji/miniconda3/envs/test_env3/lib/python3.10/site-packages/anndata/_io/specs/methods.py:590: OldFormatWarning: Element '/obs/gemgroup' was written without encoding metadata.\n",
      "  return read_elem(dataset)\n",
      "/home/icb/yuge.ji/miniconda3/envs/test_env3/lib/python3.10/site-packages/anndata/_io/specs/methods.py:590: OldFormatWarning: Element '/obs/good_coverage' was written without encoding metadata.\n",
      "  return read_elem(dataset)\n",
      "/home/icb/yuge.ji/miniconda3/envs/test_env3/lib/python3.10/site-packages/anndata/_io/specs/methods.py:590: OldFormatWarning: Element '/obs/number_of_cells' was written without encoding metadata.\n",
      "  return read_elem(dataset)\n",
      "/home/icb/yuge.ji/miniconda3/envs/test_env3/lib/python3.10/site-packages/anndata/_io/specs/methods.py:590: OldFormatWarning: Element '/obs/guide_AHR' was written without encoding metadata.\n",
      "  return read_elem(dataset)\n",
      "/home/icb/yuge.ji/miniconda3/envs/test_env3/lib/python3.10/site-packages/anndata/_io/specs/methods.py:590: OldFormatWarning: Element '/obs/guide_ARID1A' was written without encoding metadata.\n",
      "  return read_elem(dataset)\n",
      "/home/icb/yuge.ji/miniconda3/envs/test_env3/lib/python3.10/site-packages/anndata/_io/specs/methods.py:590: OldFormatWarning: Element '/obs/guide_ARRDC3' was written without encoding metadata.\n",
      "  return read_elem(dataset)\n",
      "/home/icb/yuge.ji/miniconda3/envs/test_env3/lib/python3.10/site-packages/anndata/_io/specs/methods.py:590: OldFormatWarning: Element '/obs/guide_ATL1' was written without encoding metadata.\n",
      "  return read_elem(dataset)\n",
      "/home/icb/yuge.ji/miniconda3/envs/test_env3/lib/python3.10/site-packages/anndata/_io/specs/methods.py:590: OldFormatWarning: Element '/obs/guide_BAK1' was written without encoding metadata.\n",
      "  return read_elem(dataset)\n",
      "/home/icb/yuge.ji/miniconda3/envs/test_env3/lib/python3.10/site-packages/anndata/_io/specs/methods.py:590: OldFormatWarning: Element '/obs/guide_BCL2L11' was written without encoding metadata.\n",
      "  return read_elem(dataset)\n",
      "/home/icb/yuge.ji/miniconda3/envs/test_env3/lib/python3.10/site-packages/anndata/_io/specs/methods.py:590: OldFormatWarning: Element '/obs/guide_BCORL1' was written without encoding metadata.\n",
      "  return read_elem(dataset)\n",
      "/home/icb/yuge.ji/miniconda3/envs/test_env3/lib/python3.10/site-packages/anndata/_io/specs/methods.py:590: OldFormatWarning: Element '/obs/guide_BPGM' was written without encoding metadata.\n",
      "  return read_elem(dataset)\n",
      "/home/icb/yuge.ji/miniconda3/envs/test_env3/lib/python3.10/site-packages/anndata/_io/specs/methods.py:590: OldFormatWarning: Element '/obs/guide_C19orf26' was written without encoding metadata.\n",
      "  return read_elem(dataset)\n",
      "/home/icb/yuge.ji/miniconda3/envs/test_env3/lib/python3.10/site-packages/anndata/_io/specs/methods.py:590: OldFormatWarning: Element '/obs/guide_C3orf72' was written without encoding metadata.\n",
      "  return read_elem(dataset)\n",
      "/home/icb/yuge.ji/miniconda3/envs/test_env3/lib/python3.10/site-packages/anndata/_io/specs/methods.py:590: OldFormatWarning: Element '/obs/guide_CBFA2T3' was written without encoding metadata.\n",
      "  return read_elem(dataset)\n",
      "/home/icb/yuge.ji/miniconda3/envs/test_env3/lib/python3.10/site-packages/anndata/_io/specs/methods.py:590: OldFormatWarning: Element '/obs/guide_CBL' was written without encoding metadata.\n",
      "  return read_elem(dataset)\n",
      "/home/icb/yuge.ji/miniconda3/envs/test_env3/lib/python3.10/site-packages/anndata/_io/specs/methods.py:590: OldFormatWarning: Element '/obs/guide_CDKN1A' was written without encoding metadata.\n",
      "  return read_elem(dataset)\n",
      "/home/icb/yuge.ji/miniconda3/envs/test_env3/lib/python3.10/site-packages/anndata/_io/specs/methods.py:590: OldFormatWarning: Element '/obs/guide_CDKN1B' was written without encoding metadata.\n",
      "  return read_elem(dataset)\n",
      "/home/icb/yuge.ji/miniconda3/envs/test_env3/lib/python3.10/site-packages/anndata/_io/specs/methods.py:590: OldFormatWarning: Element '/obs/guide_CDKN1C' was written without encoding metadata.\n",
      "  return read_elem(dataset)\n",
      "/home/icb/yuge.ji/miniconda3/envs/test_env3/lib/python3.10/site-packages/anndata/_io/specs/methods.py:590: OldFormatWarning: Element '/obs/guide_CEBPA' was written without encoding metadata.\n",
      "  return read_elem(dataset)\n",
      "/home/icb/yuge.ji/miniconda3/envs/test_env3/lib/python3.10/site-packages/anndata/_io/specs/methods.py:590: OldFormatWarning: Element '/obs/guide_CEBPB' was written without encoding metadata.\n",
      "  return read_elem(dataset)\n",
      "/home/icb/yuge.ji/miniconda3/envs/test_env3/lib/python3.10/site-packages/anndata/_io/specs/methods.py:590: OldFormatWarning: Element '/obs/guide_CEBPE' was written without encoding metadata.\n",
      "  return read_elem(dataset)\n",
      "/home/icb/yuge.ji/miniconda3/envs/test_env3/lib/python3.10/site-packages/anndata/_io/specs/methods.py:590: OldFormatWarning: Element '/obs/guide_CELF2' was written without encoding metadata.\n",
      "  return read_elem(dataset)\n",
      "/home/icb/yuge.ji/miniconda3/envs/test_env3/lib/python3.10/site-packages/anndata/_io/specs/methods.py:590: OldFormatWarning: Element '/obs/guide_CITED1' was written without encoding metadata.\n",
      "  return read_elem(dataset)\n",
      "/home/icb/yuge.ji/miniconda3/envs/test_env3/lib/python3.10/site-packages/anndata/_io/specs/methods.py:590: OldFormatWarning: Element '/obs/guide_CKS1B' was written without encoding metadata.\n",
      "  return read_elem(dataset)\n",
      "/home/icb/yuge.ji/miniconda3/envs/test_env3/lib/python3.10/site-packages/anndata/_io/specs/methods.py:590: OldFormatWarning: Element '/obs/guide_CLDN6' was written without encoding metadata.\n",
      "  return read_elem(dataset)\n",
      "/home/icb/yuge.ji/miniconda3/envs/test_env3/lib/python3.10/site-packages/anndata/_io/specs/methods.py:590: OldFormatWarning: Element '/obs/guide_CNN1' was written without encoding metadata.\n",
      "  return read_elem(dataset)\n",
      "/home/icb/yuge.ji/miniconda3/envs/test_env3/lib/python3.10/site-packages/anndata/_io/specs/methods.py:590: OldFormatWarning: Element '/obs/guide_CNNM4' was written without encoding metadata.\n",
      "  return read_elem(dataset)\n",
      "/home/icb/yuge.ji/miniconda3/envs/test_env3/lib/python3.10/site-packages/anndata/_io/specs/methods.py:590: OldFormatWarning: Element '/obs/guide_COL1A1' was written without encoding metadata.\n",
      "  return read_elem(dataset)\n",
      "/home/icb/yuge.ji/miniconda3/envs/test_env3/lib/python3.10/site-packages/anndata/_io/specs/methods.py:590: OldFormatWarning: Element '/obs/guide_COL2A1' was written without encoding metadata.\n",
      "  return read_elem(dataset)\n",
      "/home/icb/yuge.ji/miniconda3/envs/test_env3/lib/python3.10/site-packages/anndata/_io/specs/methods.py:590: OldFormatWarning: Element '/obs/guide_CSRNP1' was written without encoding metadata.\n",
      "  return read_elem(dataset)\n",
      "/home/icb/yuge.ji/miniconda3/envs/test_env3/lib/python3.10/site-packages/anndata/_io/specs/methods.py:590: OldFormatWarning: Element '/obs/guide_DLX2' was written without encoding metadata.\n",
      "  return read_elem(dataset)\n",
      "/home/icb/yuge.ji/miniconda3/envs/test_env3/lib/python3.10/site-packages/anndata/_io/specs/methods.py:590: OldFormatWarning: Element '/obs/guide_DUSP9' was written without encoding metadata.\n",
      "  return read_elem(dataset)\n",
      "/home/icb/yuge.ji/miniconda3/envs/test_env3/lib/python3.10/site-packages/anndata/_io/specs/methods.py:590: OldFormatWarning: Element '/obs/guide_EGR1' was written without encoding metadata.\n",
      "  return read_elem(dataset)\n",
      "/home/icb/yuge.ji/miniconda3/envs/test_env3/lib/python3.10/site-packages/anndata/_io/specs/methods.py:590: OldFormatWarning: Element '/obs/guide_ELMSAN1' was written without encoding metadata.\n",
      "  return read_elem(dataset)\n",
      "/home/icb/yuge.ji/miniconda3/envs/test_env3/lib/python3.10/site-packages/anndata/_io/specs/methods.py:590: OldFormatWarning: Element '/obs/guide_ETS2' was written without encoding metadata.\n",
      "  return read_elem(dataset)\n",
      "/home/icb/yuge.ji/miniconda3/envs/test_env3/lib/python3.10/site-packages/anndata/_io/specs/methods.py:590: OldFormatWarning: Element '/obs/guide_FEV' was written without encoding metadata.\n",
      "  return read_elem(dataset)\n",
      "/home/icb/yuge.ji/miniconda3/envs/test_env3/lib/python3.10/site-packages/anndata/_io/specs/methods.py:590: OldFormatWarning: Element '/obs/guide_FOSB' was written without encoding metadata.\n",
      "  return read_elem(dataset)\n",
      "/home/icb/yuge.ji/miniconda3/envs/test_env3/lib/python3.10/site-packages/anndata/_io/specs/methods.py:590: OldFormatWarning: Element '/obs/guide_FOXA1' was written without encoding metadata.\n",
      "  return read_elem(dataset)\n",
      "/home/icb/yuge.ji/miniconda3/envs/test_env3/lib/python3.10/site-packages/anndata/_io/specs/methods.py:590: OldFormatWarning: Element '/obs/guide_FOXA3' was written without encoding metadata.\n",
      "  return read_elem(dataset)\n",
      "/home/icb/yuge.ji/miniconda3/envs/test_env3/lib/python3.10/site-packages/anndata/_io/specs/methods.py:590: OldFormatWarning: Element '/obs/guide_FOXF1' was written without encoding metadata.\n",
      "  return read_elem(dataset)\n",
      "/home/icb/yuge.ji/miniconda3/envs/test_env3/lib/python3.10/site-packages/anndata/_io/specs/methods.py:590: OldFormatWarning: Element '/obs/guide_FOXL2' was written without encoding metadata.\n",
      "  return read_elem(dataset)\n",
      "/home/icb/yuge.ji/miniconda3/envs/test_env3/lib/python3.10/site-packages/anndata/_io/specs/methods.py:590: OldFormatWarning: Element '/obs/guide_FOXO4' was written without encoding metadata.\n",
      "  return read_elem(dataset)\n",
      "/home/icb/yuge.ji/miniconda3/envs/test_env3/lib/python3.10/site-packages/anndata/_io/specs/methods.py:590: OldFormatWarning: Element '/obs/guide_GLB1L2' was written without encoding metadata.\n",
      "  return read_elem(dataset)\n",
      "/home/icb/yuge.ji/miniconda3/envs/test_env3/lib/python3.10/site-packages/anndata/_io/specs/methods.py:590: OldFormatWarning: Element '/obs/guide_HES7' was written without encoding metadata.\n",
      "  return read_elem(dataset)\n",
      "/home/icb/yuge.ji/miniconda3/envs/test_env3/lib/python3.10/site-packages/anndata/_io/specs/methods.py:590: OldFormatWarning: Element '/obs/guide_HK2' was written without encoding metadata.\n",
      "  return read_elem(dataset)\n",
      "/home/icb/yuge.ji/miniconda3/envs/test_env3/lib/python3.10/site-packages/anndata/_io/specs/methods.py:590: OldFormatWarning: Element '/obs/guide_HNF4A' was written without encoding metadata.\n",
      "  return read_elem(dataset)\n",
      "/home/icb/yuge.ji/miniconda3/envs/test_env3/lib/python3.10/site-packages/anndata/_io/specs/methods.py:590: OldFormatWarning: Element '/obs/guide_HOXA13' was written without encoding metadata.\n",
      "  return read_elem(dataset)\n",
      "/home/icb/yuge.ji/miniconda3/envs/test_env3/lib/python3.10/site-packages/anndata/_io/specs/methods.py:590: OldFormatWarning: Element '/obs/guide_HOXB9' was written without encoding metadata.\n",
      "  return read_elem(dataset)\n",
      "/home/icb/yuge.ji/miniconda3/envs/test_env3/lib/python3.10/site-packages/anndata/_io/specs/methods.py:590: OldFormatWarning: Element '/obs/guide_HOXC13' was written without encoding metadata.\n",
      "  return read_elem(dataset)\n",
      "/home/icb/yuge.ji/miniconda3/envs/test_env3/lib/python3.10/site-packages/anndata/_io/specs/methods.py:590: OldFormatWarning: Element '/obs/guide_IER5L' was written without encoding metadata.\n",
      "  return read_elem(dataset)\n",
      "/home/icb/yuge.ji/miniconda3/envs/test_env3/lib/python3.10/site-packages/anndata/_io/specs/methods.py:590: OldFormatWarning: Element '/obs/guide_IGDCC3' was written without encoding metadata.\n",
      "  return read_elem(dataset)\n",
      "/home/icb/yuge.ji/miniconda3/envs/test_env3/lib/python3.10/site-packages/anndata/_io/specs/methods.py:590: OldFormatWarning: Element '/obs/guide_IKZF3' was written without encoding metadata.\n",
      "  return read_elem(dataset)\n",
      "/home/icb/yuge.ji/miniconda3/envs/test_env3/lib/python3.10/site-packages/anndata/_io/specs/methods.py:590: OldFormatWarning: Element '/obs/guide_IRF1' was written without encoding metadata.\n",
      "  return read_elem(dataset)\n",
      "/home/icb/yuge.ji/miniconda3/envs/test_env3/lib/python3.10/site-packages/anndata/_io/specs/methods.py:590: OldFormatWarning: Element '/obs/guide_ISL2' was written without encoding metadata.\n",
      "  return read_elem(dataset)\n",
      "/home/icb/yuge.ji/miniconda3/envs/test_env3/lib/python3.10/site-packages/anndata/_io/specs/methods.py:590: OldFormatWarning: Element '/obs/guide_JUN' was written without encoding metadata.\n",
      "  return read_elem(dataset)\n",
      "/home/icb/yuge.ji/miniconda3/envs/test_env3/lib/python3.10/site-packages/anndata/_io/specs/methods.py:590: OldFormatWarning: Element '/obs/guide_KIAA1804' was written without encoding metadata.\n",
      "  return read_elem(dataset)\n",
      "/home/icb/yuge.ji/miniconda3/envs/test_env3/lib/python3.10/site-packages/anndata/_io/specs/methods.py:590: OldFormatWarning: Element '/obs/guide_KIF18B' was written without encoding metadata.\n",
      "  return read_elem(dataset)\n",
      "/home/icb/yuge.ji/miniconda3/envs/test_env3/lib/python3.10/site-packages/anndata/_io/specs/methods.py:590: OldFormatWarning: Element '/obs/guide_KIF2C' was written without encoding metadata.\n",
      "  return read_elem(dataset)\n",
      "/home/icb/yuge.ji/miniconda3/envs/test_env3/lib/python3.10/site-packages/anndata/_io/specs/methods.py:590: OldFormatWarning: Element '/obs/guide_KLF1' was written without encoding metadata.\n",
      "  return read_elem(dataset)\n",
      "/home/icb/yuge.ji/miniconda3/envs/test_env3/lib/python3.10/site-packages/anndata/_io/specs/methods.py:590: OldFormatWarning: Element '/obs/guide_KMT2A' was written without encoding metadata.\n",
      "  return read_elem(dataset)\n",
      "/home/icb/yuge.ji/miniconda3/envs/test_env3/lib/python3.10/site-packages/anndata/_io/specs/methods.py:590: OldFormatWarning: Element '/obs/guide_LHX1' was written without encoding metadata.\n",
      "  return read_elem(dataset)\n",
      "/home/icb/yuge.ji/miniconda3/envs/test_env3/lib/python3.10/site-packages/anndata/_io/specs/methods.py:590: OldFormatWarning: Element '/obs/guide_LYL1' was written without encoding metadata.\n",
      "  return read_elem(dataset)\n",
      "/home/icb/yuge.ji/miniconda3/envs/test_env3/lib/python3.10/site-packages/anndata/_io/specs/methods.py:590: OldFormatWarning: Element '/obs/guide_MAML2' was written without encoding metadata.\n",
      "  return read_elem(dataset)\n",
      "/home/icb/yuge.ji/miniconda3/envs/test_env3/lib/python3.10/site-packages/anndata/_io/specs/methods.py:590: OldFormatWarning: Element '/obs/guide_MAP2K3' was written without encoding metadata.\n",
      "  return read_elem(dataset)\n",
      "/home/icb/yuge.ji/miniconda3/envs/test_env3/lib/python3.10/site-packages/anndata/_io/specs/methods.py:590: OldFormatWarning: Element '/obs/guide_MAP2K6' was written without encoding metadata.\n",
      "  return read_elem(dataset)\n",
      "/home/icb/yuge.ji/miniconda3/envs/test_env3/lib/python3.10/site-packages/anndata/_io/specs/methods.py:590: OldFormatWarning: Element '/obs/guide_MAP4K3' was written without encoding metadata.\n",
      "  return read_elem(dataset)\n",
      "/home/icb/yuge.ji/miniconda3/envs/test_env3/lib/python3.10/site-packages/anndata/_io/specs/methods.py:590: OldFormatWarning: Element '/obs/guide_MAP4K5' was written without encoding metadata.\n",
      "  return read_elem(dataset)\n",
      "/home/icb/yuge.ji/miniconda3/envs/test_env3/lib/python3.10/site-packages/anndata/_io/specs/methods.py:590: OldFormatWarning: Element '/obs/guide_MAP7D1' was written without encoding metadata.\n",
      "  return read_elem(dataset)\n",
      "/home/icb/yuge.ji/miniconda3/envs/test_env3/lib/python3.10/site-packages/anndata/_io/specs/methods.py:590: OldFormatWarning: Element '/obs/guide_MAPK1' was written without encoding metadata.\n",
      "  return read_elem(dataset)\n",
      "/home/icb/yuge.ji/miniconda3/envs/test_env3/lib/python3.10/site-packages/anndata/_io/specs/methods.py:590: OldFormatWarning: Element '/obs/guide_MEIS1' was written without encoding metadata.\n",
      "  return read_elem(dataset)\n",
      "/home/icb/yuge.ji/miniconda3/envs/test_env3/lib/python3.10/site-packages/anndata/_io/specs/methods.py:590: OldFormatWarning: Element '/obs/guide_MIDN' was written without encoding metadata.\n",
      "  return read_elem(dataset)\n",
      "/home/icb/yuge.ji/miniconda3/envs/test_env3/lib/python3.10/site-packages/anndata/_io/specs/methods.py:590: OldFormatWarning: Element '/obs/guide_NCL' was written without encoding metadata.\n",
      "  return read_elem(dataset)\n",
      "/home/icb/yuge.ji/miniconda3/envs/test_env3/lib/python3.10/site-packages/anndata/_io/specs/methods.py:590: OldFormatWarning: Element '/obs/guide_NIT1' was written without encoding metadata.\n",
      "  return read_elem(dataset)\n",
      "/home/icb/yuge.ji/miniconda3/envs/test_env3/lib/python3.10/site-packages/anndata/_io/specs/methods.py:590: OldFormatWarning: Element '/obs/guide_OSR2' was written without encoding metadata.\n",
      "  return read_elem(dataset)\n",
      "/home/icb/yuge.ji/miniconda3/envs/test_env3/lib/python3.10/site-packages/anndata/_io/specs/methods.py:590: OldFormatWarning: Element '/obs/guide_PLK4' was written without encoding metadata.\n",
      "  return read_elem(dataset)\n",
      "/home/icb/yuge.ji/miniconda3/envs/test_env3/lib/python3.10/site-packages/anndata/_io/specs/methods.py:590: OldFormatWarning: Element '/obs/guide_POU3F2' was written without encoding metadata.\n",
      "  return read_elem(dataset)\n",
      "/home/icb/yuge.ji/miniconda3/envs/test_env3/lib/python3.10/site-packages/anndata/_io/specs/methods.py:590: OldFormatWarning: Element '/obs/guide_PRDM1' was written without encoding metadata.\n",
      "  return read_elem(dataset)\n",
      "/home/icb/yuge.ji/miniconda3/envs/test_env3/lib/python3.10/site-packages/anndata/_io/specs/methods.py:590: OldFormatWarning: Element '/obs/guide_PRTG' was written without encoding metadata.\n",
      "  return read_elem(dataset)\n",
      "/home/icb/yuge.ji/miniconda3/envs/test_env3/lib/python3.10/site-packages/anndata/_io/specs/methods.py:590: OldFormatWarning: Element '/obs/guide_PTPN1' was written without encoding metadata.\n",
      "  return read_elem(dataset)\n",
      "/home/icb/yuge.ji/miniconda3/envs/test_env3/lib/python3.10/site-packages/anndata/_io/specs/methods.py:590: OldFormatWarning: Element '/obs/guide_PTPN12' was written without encoding metadata.\n",
      "  return read_elem(dataset)\n",
      "/home/icb/yuge.ji/miniconda3/envs/test_env3/lib/python3.10/site-packages/anndata/_io/specs/methods.py:590: OldFormatWarning: Element '/obs/guide_PTPN13' was written without encoding metadata.\n",
      "  return read_elem(dataset)\n",
      "/home/icb/yuge.ji/miniconda3/envs/test_env3/lib/python3.10/site-packages/anndata/_io/specs/methods.py:590: OldFormatWarning: Element '/obs/guide_PTPN9' was written without encoding metadata.\n",
      "  return read_elem(dataset)\n",
      "/home/icb/yuge.ji/miniconda3/envs/test_env3/lib/python3.10/site-packages/anndata/_io/specs/methods.py:590: OldFormatWarning: Element '/obs/guide_RHOXF2' was written without encoding metadata.\n",
      "  return read_elem(dataset)\n",
      "/home/icb/yuge.ji/miniconda3/envs/test_env3/lib/python3.10/site-packages/anndata/_io/specs/methods.py:590: OldFormatWarning: Element '/obs/guide_RREB1' was written without encoding metadata.\n",
      "  return read_elem(dataset)\n",
      "/home/icb/yuge.ji/miniconda3/envs/test_env3/lib/python3.10/site-packages/anndata/_io/specs/methods.py:590: OldFormatWarning: Element '/obs/guide_RUNX1T1' was written without encoding metadata.\n",
      "  return read_elem(dataset)\n",
      "/home/icb/yuge.ji/miniconda3/envs/test_env3/lib/python3.10/site-packages/anndata/_io/specs/methods.py:590: OldFormatWarning: Element '/obs/guide_S1PR2' was written without encoding metadata.\n",
      "  return read_elem(dataset)\n",
      "/home/icb/yuge.ji/miniconda3/envs/test_env3/lib/python3.10/site-packages/anndata/_io/specs/methods.py:590: OldFormatWarning: Element '/obs/guide_SAMD1' was written without encoding metadata.\n",
      "  return read_elem(dataset)\n",
      "/home/icb/yuge.ji/miniconda3/envs/test_env3/lib/python3.10/site-packages/anndata/_io/specs/methods.py:590: OldFormatWarning: Element '/obs/guide_SET' was written without encoding metadata.\n",
      "  return read_elem(dataset)\n",
      "/home/icb/yuge.ji/miniconda3/envs/test_env3/lib/python3.10/site-packages/anndata/_io/specs/methods.py:590: OldFormatWarning: Element '/obs/guide_SGK1' was written without encoding metadata.\n",
      "  return read_elem(dataset)\n",
      "/home/icb/yuge.ji/miniconda3/envs/test_env3/lib/python3.10/site-packages/anndata/_io/specs/methods.py:590: OldFormatWarning: Element '/obs/guide_SLC38A2' was written without encoding metadata.\n",
      "  return read_elem(dataset)\n",
      "/home/icb/yuge.ji/miniconda3/envs/test_env3/lib/python3.10/site-packages/anndata/_io/specs/methods.py:590: OldFormatWarning: Element '/obs/guide_SLC4A1' was written without encoding metadata.\n",
      "  return read_elem(dataset)\n",
      "/home/icb/yuge.ji/miniconda3/envs/test_env3/lib/python3.10/site-packages/anndata/_io/specs/methods.py:590: OldFormatWarning: Element '/obs/guide_SLC6A9' was written without encoding metadata.\n",
      "  return read_elem(dataset)\n",
      "/home/icb/yuge.ji/miniconda3/envs/test_env3/lib/python3.10/site-packages/anndata/_io/specs/methods.py:590: OldFormatWarning: Element '/obs/guide_SNAI1' was written without encoding metadata.\n",
      "  return read_elem(dataset)\n",
      "/home/icb/yuge.ji/miniconda3/envs/test_env3/lib/python3.10/site-packages/anndata/_io/specs/methods.py:590: OldFormatWarning: Element '/obs/guide_SPI1' was written without encoding metadata.\n",
      "  return read_elem(dataset)\n",
      "/home/icb/yuge.ji/miniconda3/envs/test_env3/lib/python3.10/site-packages/anndata/_io/specs/methods.py:590: OldFormatWarning: Element '/obs/guide_STIL' was written without encoding metadata.\n",
      "  return read_elem(dataset)\n",
      "/home/icb/yuge.ji/miniconda3/envs/test_env3/lib/python3.10/site-packages/anndata/_io/specs/methods.py:590: OldFormatWarning: Element '/obs/guide_TBX2' was written without encoding metadata.\n",
      "  return read_elem(dataset)\n",
      "/home/icb/yuge.ji/miniconda3/envs/test_env3/lib/python3.10/site-packages/anndata/_io/specs/methods.py:590: OldFormatWarning: Element '/obs/guide_TBX3' was written without encoding metadata.\n",
      "  return read_elem(dataset)\n",
      "/home/icb/yuge.ji/miniconda3/envs/test_env3/lib/python3.10/site-packages/anndata/_io/specs/methods.py:590: OldFormatWarning: Element '/obs/guide_TGFBR2' was written without encoding metadata.\n",
      "  return read_elem(dataset)\n",
      "/home/icb/yuge.ji/miniconda3/envs/test_env3/lib/python3.10/site-packages/anndata/_io/specs/methods.py:590: OldFormatWarning: Element '/obs/guide_TMSB4X' was written without encoding metadata.\n",
      "  return read_elem(dataset)\n",
      "/home/icb/yuge.ji/miniconda3/envs/test_env3/lib/python3.10/site-packages/anndata/_io/specs/methods.py:590: OldFormatWarning: Element '/obs/guide_TP73' was written without encoding metadata.\n",
      "  return read_elem(dataset)\n",
      "/home/icb/yuge.ji/miniconda3/envs/test_env3/lib/python3.10/site-packages/anndata/_io/specs/methods.py:590: OldFormatWarning: Element '/obs/guide_TSC22D1' was written without encoding metadata.\n",
      "  return read_elem(dataset)\n",
      "/home/icb/yuge.ji/miniconda3/envs/test_env3/lib/python3.10/site-packages/anndata/_io/specs/methods.py:590: OldFormatWarning: Element '/obs/guide_UBASH3A' was written without encoding metadata.\n",
      "  return read_elem(dataset)\n",
      "/home/icb/yuge.ji/miniconda3/envs/test_env3/lib/python3.10/site-packages/anndata/_io/specs/methods.py:590: OldFormatWarning: Element '/obs/guide_UBASH3B' was written without encoding metadata.\n",
      "  return read_elem(dataset)\n",
      "/home/icb/yuge.ji/miniconda3/envs/test_env3/lib/python3.10/site-packages/anndata/_io/specs/methods.py:590: OldFormatWarning: Element '/obs/guide_ZBTB1' was written without encoding metadata.\n",
      "  return read_elem(dataset)\n",
      "/home/icb/yuge.ji/miniconda3/envs/test_env3/lib/python3.10/site-packages/anndata/_io/specs/methods.py:590: OldFormatWarning: Element '/obs/guide_ZBTB10' was written without encoding metadata.\n",
      "  return read_elem(dataset)\n",
      "/home/icb/yuge.ji/miniconda3/envs/test_env3/lib/python3.10/site-packages/anndata/_io/specs/methods.py:590: OldFormatWarning: Element '/obs/guide_ZBTB25' was written without encoding metadata.\n",
      "  return read_elem(dataset)\n",
      "/home/icb/yuge.ji/miniconda3/envs/test_env3/lib/python3.10/site-packages/anndata/_io/specs/methods.py:590: OldFormatWarning: Element '/obs/guide_ZC3HAV1' was written without encoding metadata.\n",
      "  return read_elem(dataset)\n",
      "/home/icb/yuge.ji/miniconda3/envs/test_env3/lib/python3.10/site-packages/anndata/_io/specs/methods.py:590: OldFormatWarning: Element '/obs/guide_ZNF318' was written without encoding metadata.\n",
      "  return read_elem(dataset)\n",
      "/home/icb/yuge.ji/miniconda3/envs/test_env3/lib/python3.10/site-packages/anndata/_io/specs/methods.py:584: OldFormatWarning: Element '/obs/__categories/guide_ids' was written without encoding metadata.\n",
      "  categories = read_elem(categories_dset)\n",
      "/home/icb/yuge.ji/miniconda3/envs/test_env3/lib/python3.10/site-packages/anndata/_io/specs/methods.py:587: OldFormatWarning: Element '/obs/guide_ids' was written without encoding metadata.\n",
      "  read_elem(dataset), categories, ordered=ordered\n",
      "/home/icb/yuge.ji/miniconda3/envs/test_env3/lib/python3.10/site-packages/anndata/_io/specs/methods.py:590: OldFormatWarning: Element '/obs/n_genes' was written without encoding metadata.\n",
      "  return read_elem(dataset)\n",
      "/home/icb/yuge.ji/miniconda3/envs/test_env3/lib/python3.10/site-packages/anndata/_io/specs/methods.py:590: OldFormatWarning: Element '/obs/n_genes_by_counts' was written without encoding metadata.\n",
      "  return read_elem(dataset)\n",
      "/home/icb/yuge.ji/miniconda3/envs/test_env3/lib/python3.10/site-packages/anndata/_io/specs/methods.py:590: OldFormatWarning: Element '/obs/total_counts' was written without encoding metadata.\n",
      "  return read_elem(dataset)\n",
      "/home/icb/yuge.ji/miniconda3/envs/test_env3/lib/python3.10/site-packages/anndata/_io/specs/methods.py:590: OldFormatWarning: Element '/obs/total_counts_mt' was written without encoding metadata.\n",
      "  return read_elem(dataset)\n",
      "/home/icb/yuge.ji/miniconda3/envs/test_env3/lib/python3.10/site-packages/anndata/_io/specs/methods.py:590: OldFormatWarning: Element '/obs/pct_counts_mt' was written without encoding metadata.\n",
      "  return read_elem(dataset)\n",
      "/home/icb/yuge.ji/miniconda3/envs/test_env3/lib/python3.10/site-packages/anndata/_io/specs/methods.py:584: OldFormatWarning: Element '/obs/__categories/leiden' was written without encoding metadata.\n",
      "  categories = read_elem(categories_dset)\n",
      "/home/icb/yuge.ji/miniconda3/envs/test_env3/lib/python3.10/site-packages/anndata/_io/specs/methods.py:587: OldFormatWarning: Element '/obs/leiden' was written without encoding metadata.\n",
      "  read_elem(dataset), categories, ordered=ordered\n",
      "/home/icb/yuge.ji/miniconda3/envs/test_env3/lib/python3.10/site-packages/anndata/_io/specs/methods.py:584: OldFormatWarning: Element '/obs/__categories/perturbation_name' was written without encoding metadata.\n",
      "  categories = read_elem(categories_dset)\n",
      "/home/icb/yuge.ji/miniconda3/envs/test_env3/lib/python3.10/site-packages/anndata/_io/specs/methods.py:587: OldFormatWarning: Element '/obs/perturbation_name' was written without encoding metadata.\n",
      "  read_elem(dataset), categories, ordered=ordered\n",
      "/home/icb/yuge.ji/miniconda3/envs/test_env3/lib/python3.10/site-packages/anndata/_io/specs/methods.py:584: OldFormatWarning: Element '/obs/__categories/perturbation_type' was written without encoding metadata.\n",
      "  categories = read_elem(categories_dset)\n",
      "/home/icb/yuge.ji/miniconda3/envs/test_env3/lib/python3.10/site-packages/anndata/_io/specs/methods.py:587: OldFormatWarning: Element '/obs/perturbation_type' was written without encoding metadata.\n",
      "  read_elem(dataset), categories, ordered=ordered\n",
      "/home/icb/yuge.ji/miniconda3/envs/test_env3/lib/python3.10/site-packages/anndata/_io/specs/methods.py:590: OldFormatWarning: Element '/obs/perturbation_value' was written without encoding metadata.\n",
      "  return read_elem(dataset)\n",
      "/home/icb/yuge.ji/miniconda3/envs/test_env3/lib/python3.10/site-packages/anndata/_io/specs/methods.py:590: OldFormatWarning: Element '/obs/perturbation_unit' was written without encoding metadata.\n",
      "  return read_elem(dataset)\n",
      "/home/icb/yuge.ji/miniconda3/envs/test_env3/lib/python3.10/site-packages/anndata/_io/specs/methods.py:584: OldFormatWarning: Element '/obs/__categories/split' was written without encoding metadata.\n",
      "  categories = read_elem(categories_dset)\n",
      "/home/icb/yuge.ji/miniconda3/envs/test_env3/lib/python3.10/site-packages/anndata/_io/specs/methods.py:587: OldFormatWarning: Element '/obs/split' was written without encoding metadata.\n",
      "  read_elem(dataset), categories, ordered=ordered\n",
      "/home/icb/yuge.ji/miniconda3/envs/test_env3/lib/python3.10/site-packages/anndata/_io/specs/methods.py:590: OldFormatWarning: Element '/obs/_scvi_batch' was written without encoding metadata.\n",
      "  return read_elem(dataset)\n",
      "/home/icb/yuge.ji/miniconda3/envs/test_env3/lib/python3.10/site-packages/anndata/_io/specs/methods.py:590: OldFormatWarning: Element '/obs/_scvi_labels' was written without encoding metadata.\n",
      "  return read_elem(dataset)\n",
      "/home/icb/yuge.ji/miniconda3/envs/test_env3/lib/python3.10/site-packages/anndata/_io/specs/methods.py:590: OldFormatWarning: Element '/obs/index' was written without encoding metadata.\n",
      "  return read_elem(dataset)\n"
     ]
    },
    {
     "name": "stderr",
     "output_type": "stream",
     "text": [
      "/home/icb/yuge.ji/miniconda3/envs/test_env3/lib/python3.10/site-packages/anndata/_io/h5ad.py:238: OldFormatWarning: Element '/obsm' was written without encoding metadata.\n",
      "  d[k] = read_elem(f[k])\n",
      "/home/icb/yuge.ji/miniconda3/envs/test_env3/lib/python3.10/site-packages/anndata/_io/specs/methods.py:92: OldFormatWarning: Element '/obsm/X_pca' was written without encoding metadata.\n",
      "  return {k: read_elem(v) for k, v in elem.items()}\n",
      "/home/icb/yuge.ji/miniconda3/envs/test_env3/lib/python3.10/site-packages/anndata/_io/specs/methods.py:92: OldFormatWarning: Element '/obsm/X_umap' was written without encoding metadata.\n",
      "  return {k: read_elem(v) for k, v in elem.items()}\n",
      "/home/icb/yuge.ji/miniconda3/envs/test_env3/lib/python3.10/site-packages/anndata/_io/h5ad.py:238: OldFormatWarning: Element '/obsp' was written without encoding metadata.\n",
      "  d[k] = read_elem(f[k])\n",
      "/home/icb/yuge.ji/miniconda3/envs/test_env3/lib/python3.10/site-packages/anndata/_io/h5ad.py:238: OldFormatWarning: Element '/uns' was written without encoding metadata.\n",
      "  d[k] = read_elem(f[k])\n",
      "/home/icb/yuge.ji/miniconda3/envs/test_env3/lib/python3.10/site-packages/anndata/_io/specs/methods.py:92: OldFormatWarning: Element '/uns/_scvi_manager_uuid' was written without encoding metadata.\n",
      "  return {k: read_elem(v) for k, v in elem.items()}\n",
      "/home/icb/yuge.ji/miniconda3/envs/test_env3/lib/python3.10/site-packages/anndata/_io/specs/methods.py:92: OldFormatWarning: Element '/uns/_scvi_uuid' was written without encoding metadata.\n",
      "  return {k: read_elem(v) for k, v in elem.items()}\n",
      "/home/icb/yuge.ji/miniconda3/envs/test_env3/lib/python3.10/site-packages/anndata/_io/specs/methods.py:92: OldFormatWarning: Element '/uns/doi' was written without encoding metadata.\n",
      "  return {k: read_elem(v) for k, v in elem.items()}\n",
      "/home/icb/yuge.ji/miniconda3/envs/test_env3/lib/python3.10/site-packages/anndata/_io/specs/methods.py:92: OldFormatWarning: Element '/uns/hvg' was written without encoding metadata.\n",
      "  return {k: read_elem(v) for k, v in elem.items()}\n",
      "/home/icb/yuge.ji/miniconda3/envs/test_env3/lib/python3.10/site-packages/anndata/_io/specs/methods.py:92: OldFormatWarning: Element '/uns/hvg/flavor' was written without encoding metadata.\n",
      "  return {k: read_elem(v) for k, v in elem.items()}\n",
      "/home/icb/yuge.ji/miniconda3/envs/test_env3/lib/python3.10/site-packages/anndata/_io/specs/methods.py:92: OldFormatWarning: Element '/uns/leiden' was written without encoding metadata.\n",
      "  return {k: read_elem(v) for k, v in elem.items()}\n",
      "/home/icb/yuge.ji/miniconda3/envs/test_env3/lib/python3.10/site-packages/anndata/_io/specs/methods.py:92: OldFormatWarning: Element '/uns/leiden/params' was written without encoding metadata.\n",
      "  return {k: read_elem(v) for k, v in elem.items()}\n",
      "/home/icb/yuge.ji/miniconda3/envs/test_env3/lib/python3.10/site-packages/anndata/_io/specs/methods.py:92: OldFormatWarning: Element '/uns/leiden/params/n_iterations' was written without encoding metadata.\n",
      "  return {k: read_elem(v) for k, v in elem.items()}\n",
      "/home/icb/yuge.ji/miniconda3/envs/test_env3/lib/python3.10/site-packages/anndata/_io/specs/methods.py:92: OldFormatWarning: Element '/uns/leiden/params/random_state' was written without encoding metadata.\n",
      "  return {k: read_elem(v) for k, v in elem.items()}\n",
      "/home/icb/yuge.ji/miniconda3/envs/test_env3/lib/python3.10/site-packages/anndata/_io/specs/methods.py:92: OldFormatWarning: Element '/uns/leiden/params/resolution' was written without encoding metadata.\n",
      "  return {k: read_elem(v) for k, v in elem.items()}\n",
      "/home/icb/yuge.ji/miniconda3/envs/test_env3/lib/python3.10/site-packages/anndata/_io/specs/methods.py:92: OldFormatWarning: Element '/uns/neighbors' was written without encoding metadata.\n",
      "  return {k: read_elem(v) for k, v in elem.items()}\n",
      "/home/icb/yuge.ji/miniconda3/envs/test_env3/lib/python3.10/site-packages/anndata/_io/specs/methods.py:92: OldFormatWarning: Element '/uns/neighbors/connectivities_key' was written without encoding metadata.\n",
      "  return {k: read_elem(v) for k, v in elem.items()}\n",
      "/home/icb/yuge.ji/miniconda3/envs/test_env3/lib/python3.10/site-packages/anndata/_io/specs/methods.py:92: OldFormatWarning: Element '/uns/neighbors/distances_key' was written without encoding metadata.\n",
      "  return {k: read_elem(v) for k, v in elem.items()}\n",
      "/home/icb/yuge.ji/miniconda3/envs/test_env3/lib/python3.10/site-packages/anndata/_io/specs/methods.py:92: OldFormatWarning: Element '/uns/neighbors/params' was written without encoding metadata.\n",
      "  return {k: read_elem(v) for k, v in elem.items()}\n",
      "/home/icb/yuge.ji/miniconda3/envs/test_env3/lib/python3.10/site-packages/anndata/_io/specs/methods.py:92: OldFormatWarning: Element '/uns/neighbors/params/method' was written without encoding metadata.\n",
      "  return {k: read_elem(v) for k, v in elem.items()}\n",
      "/home/icb/yuge.ji/miniconda3/envs/test_env3/lib/python3.10/site-packages/anndata/_io/specs/methods.py:92: OldFormatWarning: Element '/uns/neighbors/params/metric' was written without encoding metadata.\n",
      "  return {k: read_elem(v) for k, v in elem.items()}\n",
      "/home/icb/yuge.ji/miniconda3/envs/test_env3/lib/python3.10/site-packages/anndata/_io/specs/methods.py:92: OldFormatWarning: Element '/uns/neighbors/params/n_neighbors' was written without encoding metadata.\n",
      "  return {k: read_elem(v) for k, v in elem.items()}\n",
      "/home/icb/yuge.ji/miniconda3/envs/test_env3/lib/python3.10/site-packages/anndata/_io/specs/methods.py:92: OldFormatWarning: Element '/uns/neighbors/params/random_state' was written without encoding metadata.\n",
      "  return {k: read_elem(v) for k, v in elem.items()}\n",
      "/home/icb/yuge.ji/miniconda3/envs/test_env3/lib/python3.10/site-packages/anndata/_io/specs/methods.py:92: OldFormatWarning: Element '/uns/pca' was written without encoding metadata.\n",
      "  return {k: read_elem(v) for k, v in elem.items()}\n",
      "/home/icb/yuge.ji/miniconda3/envs/test_env3/lib/python3.10/site-packages/anndata/_io/specs/methods.py:92: OldFormatWarning: Element '/uns/pca/params' was written without encoding metadata.\n",
      "  return {k: read_elem(v) for k, v in elem.items()}\n",
      "/home/icb/yuge.ji/miniconda3/envs/test_env3/lib/python3.10/site-packages/anndata/_io/specs/methods.py:92: OldFormatWarning: Element '/uns/pca/params/use_highly_variable' was written without encoding metadata.\n",
      "  return {k: read_elem(v) for k, v in elem.items()}\n",
      "/home/icb/yuge.ji/miniconda3/envs/test_env3/lib/python3.10/site-packages/anndata/_io/specs/methods.py:92: OldFormatWarning: Element '/uns/pca/params/zero_center' was written without encoding metadata.\n",
      "  return {k: read_elem(v) for k, v in elem.items()}\n",
      "/home/icb/yuge.ji/miniconda3/envs/test_env3/lib/python3.10/site-packages/anndata/_io/specs/methods.py:92: OldFormatWarning: Element '/uns/pca/variance' was written without encoding metadata.\n",
      "  return {k: read_elem(v) for k, v in elem.items()}\n",
      "/home/icb/yuge.ji/miniconda3/envs/test_env3/lib/python3.10/site-packages/anndata/_io/specs/methods.py:92: OldFormatWarning: Element '/uns/pca/variance_ratio' was written without encoding metadata.\n",
      "  return {k: read_elem(v) for k, v in elem.items()}\n",
      "/home/icb/yuge.ji/miniconda3/envs/test_env3/lib/python3.10/site-packages/anndata/_io/specs/methods.py:92: OldFormatWarning: Element '/uns/preprocessing_nb_link' was written without encoding metadata.\n",
      "  return {k: read_elem(v) for k, v in elem.items()}\n",
      "/home/icb/yuge.ji/miniconda3/envs/test_env3/lib/python3.10/site-packages/anndata/_io/specs/methods.py:92: OldFormatWarning: Element '/uns/umap' was written without encoding metadata.\n",
      "  return {k: read_elem(v) for k, v in elem.items()}\n",
      "/home/icb/yuge.ji/miniconda3/envs/test_env3/lib/python3.10/site-packages/anndata/_io/specs/methods.py:92: OldFormatWarning: Element '/uns/umap/params' was written without encoding metadata.\n",
      "  return {k: read_elem(v) for k, v in elem.items()}\n",
      "/home/icb/yuge.ji/miniconda3/envs/test_env3/lib/python3.10/site-packages/anndata/_io/specs/methods.py:92: OldFormatWarning: Element '/uns/umap/params/a' was written without encoding metadata.\n",
      "  return {k: read_elem(v) for k, v in elem.items()}\n",
      "/home/icb/yuge.ji/miniconda3/envs/test_env3/lib/python3.10/site-packages/anndata/_io/specs/methods.py:92: OldFormatWarning: Element '/uns/umap/params/b' was written without encoding metadata.\n",
      "  return {k: read_elem(v) for k, v in elem.items()}\n",
      "/home/icb/yuge.ji/miniconda3/envs/test_env3/lib/python3.10/site-packages/anndata/_io/specs/methods.py:590: OldFormatWarning: Element '/var/index' was written without encoding metadata.\n",
      "  return read_elem(dataset)\n",
      "/home/icb/yuge.ji/miniconda3/envs/test_env3/lib/python3.10/site-packages/anndata/_io/specs/methods.py:590: OldFormatWarning: Element '/var/n_cells' was written without encoding metadata.\n",
      "  return read_elem(dataset)\n",
      "/home/icb/yuge.ji/miniconda3/envs/test_env3/lib/python3.10/site-packages/anndata/_io/specs/methods.py:590: OldFormatWarning: Element '/var/mt' was written without encoding metadata.\n",
      "  return read_elem(dataset)\n",
      "/home/icb/yuge.ji/miniconda3/envs/test_env3/lib/python3.10/site-packages/anndata/_io/specs/methods.py:590: OldFormatWarning: Element '/var/n_cells_by_counts' was written without encoding metadata.\n",
      "  return read_elem(dataset)\n",
      "/home/icb/yuge.ji/miniconda3/envs/test_env3/lib/python3.10/site-packages/anndata/_io/specs/methods.py:590: OldFormatWarning: Element '/var/mean_counts' was written without encoding metadata.\n",
      "  return read_elem(dataset)\n",
      "/home/icb/yuge.ji/miniconda3/envs/test_env3/lib/python3.10/site-packages/anndata/_io/specs/methods.py:590: OldFormatWarning: Element '/var/pct_dropout_by_counts' was written without encoding metadata.\n",
      "  return read_elem(dataset)\n",
      "/home/icb/yuge.ji/miniconda3/envs/test_env3/lib/python3.10/site-packages/anndata/_io/specs/methods.py:590: OldFormatWarning: Element '/var/total_counts' was written without encoding metadata.\n",
      "  return read_elem(dataset)\n",
      "/home/icb/yuge.ji/miniconda3/envs/test_env3/lib/python3.10/site-packages/anndata/_io/specs/methods.py:590: OldFormatWarning: Element '/var/highly_variable' was written without encoding metadata.\n",
      "  return read_elem(dataset)\n",
      "/home/icb/yuge.ji/miniconda3/envs/test_env3/lib/python3.10/site-packages/anndata/_io/specs/methods.py:590: OldFormatWarning: Element '/var/means' was written without encoding metadata.\n",
      "  return read_elem(dataset)\n",
      "/home/icb/yuge.ji/miniconda3/envs/test_env3/lib/python3.10/site-packages/anndata/_io/specs/methods.py:590: OldFormatWarning: Element '/var/dispersions' was written without encoding metadata.\n",
      "  return read_elem(dataset)\n",
      "/home/icb/yuge.ji/miniconda3/envs/test_env3/lib/python3.10/site-packages/anndata/_io/specs/methods.py:590: OldFormatWarning: Element '/var/dispersions_norm' was written without encoding metadata.\n",
      "  return read_elem(dataset)\n",
      "/home/icb/yuge.ji/miniconda3/envs/test_env3/lib/python3.10/site-packages/anndata/_io/specs/methods.py:590: OldFormatWarning: Element '/var/gene_symbols' was written without encoding metadata.\n",
      "  return read_elem(dataset)\n",
      "/home/icb/yuge.ji/miniconda3/envs/test_env3/lib/python3.10/site-packages/anndata/_io/h5ad.py:238: OldFormatWarning: Element '/varm' was written without encoding metadata.\n",
      "  d[k] = read_elem(f[k])\n",
      "/home/icb/yuge.ji/miniconda3/envs/test_env3/lib/python3.10/site-packages/anndata/_io/specs/methods.py:92: OldFormatWarning: Element '/varm/PCs' was written without encoding metadata.\n",
      "  return {k: read_elem(v) for k, v in elem.items()}\n"
     ]
    },
    {
     "data": {
      "text/plain": [
       "AnnData object with n_obs × n_vars = 69570 × 19018\n",
       "    obs: 'guide_identity', 'read_count', 'UMI_count', 'coverage', 'gemgroup', 'good_coverage', 'number_of_cells', 'guide_AHR', 'guide_ARID1A', 'guide_ARRDC3', 'guide_ATL1', 'guide_BAK1', 'guide_BCL2L11', 'guide_BCORL1', 'guide_BPGM', 'guide_C19orf26', 'guide_C3orf72', 'guide_CBFA2T3', 'guide_CBL', 'guide_CDKN1A', 'guide_CDKN1B', 'guide_CDKN1C', 'guide_CEBPA', 'guide_CEBPB', 'guide_CEBPE', 'guide_CELF2', 'guide_CITED1', 'guide_CKS1B', 'guide_CLDN6', 'guide_CNN1', 'guide_CNNM4', 'guide_COL1A1', 'guide_COL2A1', 'guide_CSRNP1', 'guide_DLX2', 'guide_DUSP9', 'guide_EGR1', 'guide_ELMSAN1', 'guide_ETS2', 'guide_FEV', 'guide_FOSB', 'guide_FOXA1', 'guide_FOXA3', 'guide_FOXF1', 'guide_FOXL2', 'guide_FOXO4', 'guide_GLB1L2', 'guide_HES7', 'guide_HK2', 'guide_HNF4A', 'guide_HOXA13', 'guide_HOXB9', 'guide_HOXC13', 'guide_IER5L', 'guide_IGDCC3', 'guide_IKZF3', 'guide_IRF1', 'guide_ISL2', 'guide_JUN', 'guide_KIAA1804', 'guide_KIF18B', 'guide_KIF2C', 'guide_KLF1', 'guide_KMT2A', 'guide_LHX1', 'guide_LYL1', 'guide_MAML2', 'guide_MAP2K3', 'guide_MAP2K6', 'guide_MAP4K3', 'guide_MAP4K5', 'guide_MAP7D1', 'guide_MAPK1', 'guide_MEIS1', 'guide_MIDN', 'guide_NCL', 'guide_NIT1', 'guide_OSR2', 'guide_PLK4', 'guide_POU3F2', 'guide_PRDM1', 'guide_PRTG', 'guide_PTPN1', 'guide_PTPN12', 'guide_PTPN13', 'guide_PTPN9', 'guide_RHOXF2', 'guide_RREB1', 'guide_RUNX1T1', 'guide_S1PR2', 'guide_SAMD1', 'guide_SET', 'guide_SGK1', 'guide_SLC38A2', 'guide_SLC4A1', 'guide_SLC6A9', 'guide_SNAI1', 'guide_SPI1', 'guide_STIL', 'guide_TBX2', 'guide_TBX3', 'guide_TGFBR2', 'guide_TMSB4X', 'guide_TP73', 'guide_TSC22D1', 'guide_UBASH3A', 'guide_UBASH3B', 'guide_ZBTB1', 'guide_ZBTB10', 'guide_ZBTB25', 'guide_ZC3HAV1', 'guide_ZNF318', 'guide_ids', 'n_genes', 'n_genes_by_counts', 'total_counts', 'total_counts_mt', 'pct_counts_mt', 'leiden', 'perturbation_name', 'perturbation_type', 'perturbation_value', 'perturbation_unit', 'split', '_scvi_batch', '_scvi_labels'\n",
       "    var: 'index', 'n_cells', 'mt', 'n_cells_by_counts', 'mean_counts', 'pct_dropout_by_counts', 'total_counts', 'highly_variable', 'means', 'dispersions', 'dispersions_norm'\n",
       "    uns: '_scvi_manager_uuid', '_scvi_uuid', 'doi', 'hvg', 'leiden', 'neighbors', 'pca', 'preprocessing_nb_link', 'umap'\n",
       "    obsm: 'X_pca', 'X_umap'\n",
       "    varm: 'PCs'\n",
       "    layers: 'counts'\n",
       "    obsp: 'connectivities', 'distances'"
      ]
     },
     "execution_count": 2,
     "metadata": {},
     "output_type": "execute_result"
    }
   ],
   "source": [
    "base_path = '/home/icb/yuge.ji/projects/feature-attribution-sc'\n",
    "adata = sc.read(f'{base_path}/datasets/scgen_norman19.h5ad')\n",
    "adata"
   ]
  },
  {
   "cell_type": "code",
   "execution_count": 3,
   "id": "a03064fc",
   "metadata": {
    "scrolled": false
   },
   "outputs": [
    {
     "name": "stdout",
     "output_type": "stream",
     "text": [
      "\u001b[34mINFO    \u001b[0m File \u001b[35m/home/icb/yuge.ji/projects/feature-attribution-sc/models/scgen_norman19_model1_\u001b[0m\n",
      "         \u001b[35mshuffled/\u001b[0m\u001b[95mmodel.pt\u001b[0m already downloaded                                                \n"
     ]
    },
    {
     "data": {
      "text/html": [
       "<pre style=\"white-space:pre;overflow-x:auto;line-height:normal;font-family:Menlo,'DejaVu Sans Mono',consolas,'Courier New',monospace\">SCGEN Model with the following params: \n",
       "n_hidden: <span style=\"color: #008080; text-decoration-color: #008080; font-weight: bold\">800</span>, n_latent: <span style=\"color: #008080; text-decoration-color: #008080; font-weight: bold\">100</span>, n_layers: <span style=\"color: #008080; text-decoration-color: #008080; font-weight: bold\">2</span>, dropout_rate: <span style=\"color: #008080; text-decoration-color: #008080; font-weight: bold\">0.2</span>\n",
       "Training status: Trained\n",
       "</pre>\n"
      ],
      "text/plain": [
       "SCGEN Model with the following params: \n",
       "n_hidden: \u001b[1;36m800\u001b[0m, n_latent: \u001b[1;36m100\u001b[0m, n_layers: \u001b[1;36m2\u001b[0m, dropout_rate: \u001b[1;36m0.2\u001b[0m\n",
       "Training status: Trained\n"
      ]
     },
     "metadata": {},
     "output_type": "display_data"
    },
    {
     "data": {
      "text/plain": []
     },
     "execution_count": 3,
     "metadata": {},
     "output_type": "execute_result"
    }
   ],
   "source": [
    "file = 'scgen_norman19_model1_shuffled'\n",
    "model = scgen.SCGEN.load(f'{base_path}/models/{file}', adata=adata)\n",
    "model"
   ]
  },
  {
   "cell_type": "markdown",
   "id": "64423735",
   "metadata": {},
   "source": [
    "get perturbation names that match the labels (integers in the model): TODO"
   ]
  },
  {
   "cell_type": "code",
   "execution_count": 27,
   "id": "bb3e5bf0",
   "metadata": {},
   "outputs": [
    {
     "data": {
      "text/plain": [
       "array(['AHR', 'ARID1A', 'ARRDC3', 'ATL1', 'BAK1', 'BCL2L11', 'BCORL1',\n",
       "       'BPGM', 'C3orf72', 'C19orf26', 'CBFA2T3', 'CBL', 'CDKN1A',\n",
       "       'CDKN1B', 'CDKN1C', 'CEBPA', 'CEBPB', 'CEBPE', 'CELF2', 'CITED1',\n",
       "       'CKS1B', 'CLDN6', 'CNN1', 'CNNM4', 'COL1A1', 'COL2A1', 'CSRNP1',\n",
       "       'DLX2', 'DUSP9', 'EGR1', 'ELMSAN1', 'ETS2', 'FEV', 'FOSB', 'FOXA1',\n",
       "       'FOXA3', 'FOXF1', 'FOXL2', 'FOXO4', 'GLB1L2', 'HES7', 'HK2',\n",
       "       'HNF4A', 'HOXA13', 'HOXB9', 'HOXC13', 'IER5L', 'IGDCC3', 'IKZF3',\n",
       "       'IRF1', 'ISL2', 'JUN', 'KIAA1804', 'KIF2C', 'KIF18B', 'KLF1',\n",
       "       'KMT2A', 'LHX1', 'LYL1', 'MAML2', 'MAP2K3', 'MAP2K6', 'MAP4K3',\n",
       "       'MAP4K5', 'MAP7D1', 'MAPK1', 'MEIS1', 'MIDN', 'NCL', 'NIT1',\n",
       "       'OSR2', 'PLK4', 'POU3F2', 'PRDM1', 'PRTG', 'PTPN1', 'PTPN9',\n",
       "       'PTPN12', 'PTPN13', 'RHOXF2', 'RREB1', 'RUNX1T1', 'S1PR2', 'SAMD1',\n",
       "       'SET', 'SGK1', 'SLC4A1', 'SLC6A9', 'SLC38A2', 'SNAI1', 'SPI1',\n",
       "       'STIL', 'TBX2', 'TBX3', 'TGFBR2', 'TMSB4X', 'TP73', 'TSC22D1',\n",
       "       'UBASH3A', 'UBASH3B', 'ZBTB1', 'ZBTB10', 'ZBTB25', 'ZC3HAV1',\n",
       "       'ZNF318', 'control'], dtype=object)"
      ]
     },
     "execution_count": 27,
     "metadata": {},
     "output_type": "execute_result"
    }
   ],
   "source": [
    "from scvi import REGISTRY_KEYS\n",
    "pert_names = model.adata_manager.get_state_registry(REGISTRY_KEYS.BATCH_KEY)['categorical_mapping']\n",
    "pert_names"
   ]
  },
  {
   "cell_type": "code",
   "execution_count": 24,
   "id": "d8011d69",
   "metadata": {},
   "outputs": [],
   "source": [
    "pert_names = model.adata_manager.get_state_registry(REGISTRY_KEYS.BATCH_KEY)['original_key']"
   ]
  },
  {
   "cell_type": "markdown",
   "id": "57682384",
   "metadata": {},
   "source": [
    "retrieve the data as a tensor from the dataloader. We'll define batch size to be the size of the whole dataset to do so.\n",
    "\n",
    "TODO - decide on subset: We also need to subset Norman to achieve a reasonable runtime given a model trained on the full gene set, as this feature ablation implementation scales with the number of features. There are at least 100 cells per perturbation condition, so we will sample 100 cells from each condition for feature attribution inputs on models trained on Norman16."
   ]
  },
  {
   "cell_type": "code",
   "execution_count": 9,
   "id": "75fb431d",
   "metadata": {},
   "outputs": [
    {
     "data": {
      "text/plain": [
       "View of AnnData object with n_obs × n_vars = 10600 × 19018\n",
       "    obs: 'guide_identity', 'read_count', 'UMI_count', 'coverage', 'gemgroup', 'good_coverage', 'number_of_cells', 'guide_AHR', 'guide_ARID1A', 'guide_ARRDC3', 'guide_ATL1', 'guide_BAK1', 'guide_BCL2L11', 'guide_BCORL1', 'guide_BPGM', 'guide_C19orf26', 'guide_C3orf72', 'guide_CBFA2T3', 'guide_CBL', 'guide_CDKN1A', 'guide_CDKN1B', 'guide_CDKN1C', 'guide_CEBPA', 'guide_CEBPB', 'guide_CEBPE', 'guide_CELF2', 'guide_CITED1', 'guide_CKS1B', 'guide_CLDN6', 'guide_CNN1', 'guide_CNNM4', 'guide_COL1A1', 'guide_COL2A1', 'guide_CSRNP1', 'guide_DLX2', 'guide_DUSP9', 'guide_EGR1', 'guide_ELMSAN1', 'guide_ETS2', 'guide_FEV', 'guide_FOSB', 'guide_FOXA1', 'guide_FOXA3', 'guide_FOXF1', 'guide_FOXL2', 'guide_FOXO4', 'guide_GLB1L2', 'guide_HES7', 'guide_HK2', 'guide_HNF4A', 'guide_HOXA13', 'guide_HOXB9', 'guide_HOXC13', 'guide_IER5L', 'guide_IGDCC3', 'guide_IKZF3', 'guide_IRF1', 'guide_ISL2', 'guide_JUN', 'guide_KIAA1804', 'guide_KIF18B', 'guide_KIF2C', 'guide_KLF1', 'guide_KMT2A', 'guide_LHX1', 'guide_LYL1', 'guide_MAML2', 'guide_MAP2K3', 'guide_MAP2K6', 'guide_MAP4K3', 'guide_MAP4K5', 'guide_MAP7D1', 'guide_MAPK1', 'guide_MEIS1', 'guide_MIDN', 'guide_NCL', 'guide_NIT1', 'guide_OSR2', 'guide_PLK4', 'guide_POU3F2', 'guide_PRDM1', 'guide_PRTG', 'guide_PTPN1', 'guide_PTPN12', 'guide_PTPN13', 'guide_PTPN9', 'guide_RHOXF2', 'guide_RREB1', 'guide_RUNX1T1', 'guide_S1PR2', 'guide_SAMD1', 'guide_SET', 'guide_SGK1', 'guide_SLC38A2', 'guide_SLC4A1', 'guide_SLC6A9', 'guide_SNAI1', 'guide_SPI1', 'guide_STIL', 'guide_TBX2', 'guide_TBX3', 'guide_TGFBR2', 'guide_TMSB4X', 'guide_TP73', 'guide_TSC22D1', 'guide_UBASH3A', 'guide_UBASH3B', 'guide_ZBTB1', 'guide_ZBTB10', 'guide_ZBTB25', 'guide_ZC3HAV1', 'guide_ZNF318', 'guide_ids', 'n_genes', 'n_genes_by_counts', 'total_counts', 'total_counts_mt', 'pct_counts_mt', 'leiden', 'perturbation_name', 'perturbation_type', 'perturbation_value', 'perturbation_unit', 'split', '_scvi_batch', '_scvi_labels'\n",
       "    var: 'index', 'n_cells', 'mt', 'n_cells_by_counts', 'mean_counts', 'pct_dropout_by_counts', 'total_counts', 'highly_variable', 'means', 'dispersions', 'dispersions_norm'\n",
       "    uns: '_scvi_manager_uuid', '_scvi_uuid', 'doi', 'hvg', 'leiden', 'neighbors', 'pca', 'preprocessing_nb_link', 'umap'\n",
       "    obsm: 'X_pca', 'X_umap'\n",
       "    varm: 'PCs'\n",
       "    layers: 'counts'\n",
       "    obsp: 'connectivities', 'distances'"
      ]
     },
     "execution_count": 9,
     "metadata": {},
     "output_type": "execute_result"
    }
   ],
   "source": [
    "import numpy as np\n",
    "indices = [np.array(sc.pp.subsample(adata[adata.obs.perturbation_name == c], n_obs=100, copy=True).obs.index) for c in adata.obs.perturbation_name.unique()]\n",
    "adata = adata[list(np.array(indices).flatten())]\n",
    "adata"
   ]
  },
  {
   "cell_type": "code",
   "execution_count": 108,
   "id": "851e8f0e",
   "metadata": {},
   "outputs": [],
   "source": [
    "batch_size = adata.shape[0]"
   ]
  },
  {
   "cell_type": "markdown",
   "id": "46802460",
   "metadata": {},
   "source": [
    "create a dataloader and load your first batch (in this case all the cells):"
   ]
  },
  {
   "cell_type": "code",
   "execution_count": 109,
   "id": "0d3e4928",
   "metadata": {},
   "outputs": [],
   "source": [
    "scdl = model._make_data_loader(adata=adata, indices=list(range(adata.shape[0])), batch_size=batch_size)\n",
    "batch = next(scdl.__iter__())"
   ]
  },
  {
   "cell_type": "markdown",
   "id": "e557935e",
   "metadata": {
    "heading_collapsed": true
   },
   "source": [
    "### Measure feature attribution with respect to posterior"
   ]
  },
  {
   "cell_type": "markdown",
   "id": "08be65e4",
   "metadata": {
    "hidden": true
   },
   "source": [
    "Wrap `model.module.forward` because captum has an internal check that the inputs pass are tensors. scGen does not use a nb loss by default so we only have a single reconstruction output, `px`."
   ]
  },
  {
   "cell_type": "code",
   "execution_count": 7,
   "id": "f11cb120",
   "metadata": {
    "hidden": true
   },
   "outputs": [],
   "source": [
    "# inference output is in [0], generative output is in [1]\n",
    "forw = lambda x, y, z: model.module.forward({'X': x, 'batch':y, 'labels':z}, compute_loss=False)[1]['px']"
   ]
  },
  {
   "cell_type": "code",
   "execution_count": 8,
   "id": "b340cf99",
   "metadata": {
    "hidden": true
   },
   "outputs": [
    {
     "data": {
      "text/plain": [
       "torch.Size([2, 19018])"
      ]
     },
     "execution_count": 8,
     "metadata": {},
     "output_type": "execute_result"
    }
   ],
   "source": [
    "# example output\n",
    "model.module.forward(batch, compute_loss=False)[1]['px'].shape"
   ]
  },
  {
   "cell_type": "markdown",
   "id": "7ff15e16",
   "metadata": {
    "hidden": true
   },
   "source": [
    "create the ablator, containing the forward function inside of it:"
   ]
  },
  {
   "cell_type": "code",
   "execution_count": 9,
   "id": "c2ff9228",
   "metadata": {
    "hidden": true
   },
   "outputs": [],
   "source": [
    "ablator = FeatureAblation(forw)"
   ]
  },
  {
   "cell_type": "markdown",
   "id": "8ebed64a",
   "metadata": {
    "hidden": true
   },
   "source": [
    "Run the feature attribution function. The attribution below outputs a tensor per input tensor. Using the first tensor, captum ablates the gene features one by one, for every cell, and has shape (n_cells * output_dim) * n_genes, where output_dim = n_genes because the output is the reconstructed cell. The other ablates the (biological) `batch` variable, which it takes as a single, continuous variable (even though it is a one-hot encoded (n_datasets)-dimensional variable), and therefore ablates it once per cell, and outputs a (n_cells * output_dim) * 1 shape tensor. The same thing happens for `labels`. We'll ignore both of these last two."
   ]
  },
  {
   "cell_type": "code",
   "execution_count": 10,
   "id": "157695eb",
   "metadata": {
    "hidden": true
   },
   "outputs": [
    {
     "name": "stderr",
     "output_type": "stream",
     "text": [
      "Feature Ablation attribution: 100%|█████████████████████████████████████████████████████████████████████████████████████████████████████████████████████████████████████████████████████████████████████████████████| 19021/19021 [2:39:50<00:00,  1.98it/s]\n"
     ]
    },
    {
     "name": "stdout",
     "output_type": "stream",
     "text": [
      "CPU times: user 1d 2h 36min 48s, sys: 9h 57min 46s, total: 1d 12h 34min 35s\n",
      "Wall time: 2h 39min 51s\n"
     ]
    }
   ],
   "source": [
    "%%time\n",
    "# per feature per output\n",
    "attribution_map = ablator.attribute(\n",
    "    (batch['X'], batch['batch'], batch['labels']),\n",
    "    perturbations_per_eval=1,\n",
    "    show_progress=True\n",
    ")"
   ]
  },
  {
   "cell_type": "code",
   "execution_count": 17,
   "id": "a25130fe",
   "metadata": {
    "hidden": true
   },
   "outputs": [],
   "source": [
    "attribution_map_genes = attribution_map[0] # take only the first tensor (explained above)"
   ]
  },
  {
   "cell_type": "markdown",
   "id": "9e3f5f07",
   "metadata": {
    "hidden": true
   },
   "source": [
    "reshape"
   ]
  },
  {
   "cell_type": "code",
   "execution_count": 22,
   "id": "845f589d",
   "metadata": {
    "hidden": true
   },
   "outputs": [],
   "source": [
    "output_dim = adata.shape[1]\n",
    "attribution_map_genes_3d = attribution_map_genes.reshape((batch_size, output_dim, adata.shape[1]))  # need to check where things actually end up after the reshape"
   ]
  },
  {
   "cell_type": "markdown",
   "id": "1c5a1c46",
   "metadata": {
    "hidden": true
   },
   "source": [
    "TODO: save attribution map"
   ]
  },
  {
   "cell_type": "markdown",
   "id": "bd1ca18a",
   "metadata": {
    "hidden": true
   },
   "source": [
    "For each perturbation, calculate the mean absolute feature importance score per gene across all reconstructed features, ignoring other cells. Reasoning: the expression level of the gRNA target should have the greatest impact on the expression levels of all other genes, in those cells which were exposed to the gRNA. We take the absolute because the impact of the feature could have been positive or negative on gene expression."
   ]
  },
  {
   "cell_type": "code",
   "execution_count": 26,
   "id": "2136c256",
   "metadata": {
    "hidden": true
   },
   "outputs": [
    {
     "data": {
      "text/plain": [
       "tensor(2.0820e-05)"
      ]
     },
     "execution_count": 26,
     "metadata": {},
     "output_type": "execute_result"
    }
   ],
   "source": [
    "attribution_map_genes_3d.mean()"
   ]
  },
  {
   "cell_type": "code",
   "execution_count": 27,
   "id": "4419b519",
   "metadata": {
    "hidden": true
   },
   "outputs": [
    {
     "data": {
      "text/plain": [
       "tensor(0.8836)"
      ]
     },
     "execution_count": 27,
     "metadata": {},
     "output_type": "execute_result"
    }
   ],
   "source": [
    "attribution_map_genes_3d.max()"
   ]
  },
  {
   "cell_type": "code",
   "execution_count": 28,
   "id": "7a84b973",
   "metadata": {
    "hidden": true
   },
   "outputs": [
    {
     "data": {
      "text/plain": [
       "tensor(-0.1480)"
      ]
     },
     "execution_count": 28,
     "metadata": {},
     "output_type": "execute_result"
    }
   ],
   "source": [
    "attribution_map_genes_3d.min()"
   ]
  },
  {
   "cell_type": "code",
   "execution_count": 29,
   "id": "e159f82d",
   "metadata": {
    "hidden": true
   },
   "outputs": [
    {
     "data": {
      "text/plain": [
       "torch.Size([38036, 19018])"
      ]
     },
     "execution_count": 29,
     "metadata": {},
     "output_type": "execute_result"
    }
   ],
   "source": [
    "attribution_map_genes.shape"
   ]
  },
  {
   "cell_type": "markdown",
   "id": "9576ddaf",
   "metadata": {
    "hidden": true
   },
   "source": [
    "TODO: switch this to be a loss-based reconstruction because the feature importance score matrix is infeasibly large"
   ]
  },
  {
   "cell_type": "code",
   "execution_count": 11,
   "id": "7c007b13",
   "metadata": {
    "hidden": true
   },
   "outputs": [],
   "source": [
    "# means = pd.DataFrame(index=adata.var_names,columns=ct_names)"
   ]
  },
  {
   "cell_type": "code",
   "execution_count": 12,
   "id": "22e02f03",
   "metadata": {
    "hidden": true
   },
   "outputs": [],
   "source": [
    "# for ct in batch['labels'].unique():\n",
    "#     ct_float = ct.item()\n",
    "#     ct_int = int(ct_float)\n",
    "#     ct_indexing = (batch['labels'] == ct_float).reshape(-1)\n",
    "#     means.iloc[:,ct_int] = torch.mean(attribution_map_genes_3d[ct_indexing,ct_int,:],dim=0)"
   ]
  },
  {
   "cell_type": "markdown",
   "id": "6c7c1111",
   "metadata": {},
   "source": [
    "### measure against latent"
   ]
  },
  {
   "cell_type": "markdown",
   "id": "fd94c96a",
   "metadata": {},
   "source": [
    "Wrap `model.module.inference` because captum expects a single tensor output, and scGen's inference returns a `z`, `qz_m`, and `qz_v`."
   ]
  },
  {
   "cell_type": "code",
   "execution_count": 110,
   "id": "b3122a81",
   "metadata": {},
   "outputs": [],
   "source": [
    "forw = lambda x: model.module.inference(x)['z']"
   ]
  },
  {
   "cell_type": "code",
   "execution_count": 111,
   "id": "9e648fac",
   "metadata": {},
   "outputs": [],
   "source": [
    "ablator = FeatureAblation(forw)"
   ]
  },
  {
   "cell_type": "markdown",
   "id": "a3495b8b",
   "metadata": {},
   "source": [
    "Run the feature attribution function. Captum ablates the gene features one by one, for every cell, and has shape (n_cells * output_dim) * n_genes, where output_dim = latent_dim because the output is the latent representation."
   ]
  },
  {
   "cell_type": "code",
   "execution_count": 16,
   "id": "06e1d2a2",
   "metadata": {},
   "outputs": [
    {
     "name": "stderr",
     "output_type": "stream",
     "text": [
      "Feature Ablation attribution: 100%|███████████████████████████████████████████████████████████████████████████████████████████████████████████████████████████████████████████████████████████████████████████████████| 19019/19019 [40:08<00:00,  7.90it/s]"
     ]
    },
    {
     "name": "stdout",
     "output_type": "stream",
     "text": [
      "CPU times: user 8h 5min 13s, sys: 2h 32min 45s, total: 10h 37min 58s\n",
      "Wall time: 40min 9s\n"
     ]
    },
    {
     "name": "stderr",
     "output_type": "stream",
     "text": [
      "\n"
     ]
    }
   ],
   "source": [
    "%%time\n",
    "attribution_map = ablator.attribute(\n",
    "    batch['X'],\n",
    "    perturbations_per_eval=1,\n",
    "    show_progress=True\n",
    ")"
   ]
  },
  {
   "cell_type": "code",
   "execution_count": 17,
   "id": "32fc3e29",
   "metadata": {},
   "outputs": [
    {
     "data": {
      "text/plain": [
       "torch.Size([10000, 19018])"
      ]
     },
     "execution_count": 17,
     "metadata": {},
     "output_type": "execute_result"
    }
   ],
   "source": [
    "attribution_map.shape"
   ]
  },
  {
   "cell_type": "markdown",
   "id": "9af33918",
   "metadata": {},
   "source": [
    "reshape"
   ]
  },
  {
   "cell_type": "code",
   "execution_count": 18,
   "id": "f43b74f7",
   "metadata": {},
   "outputs": [],
   "source": [
    "output_dim = 100\n",
    "attribution_map_genes_3d = attribution_map.reshape((batch_size, output_dim, adata.shape[1]))  # need to check where things actually end up after the reshape"
   ]
  },
  {
   "cell_type": "markdown",
   "id": "5fac2269",
   "metadata": {},
   "source": [
    "TODO: saving. We want to examine what happens per latent element later, but for now we'll just take the absolute average."
   ]
  },
  {
   "cell_type": "code",
   "execution_count": 19,
   "id": "7131f930",
   "metadata": {},
   "outputs": [
    {
     "data": {
      "text/plain": [
       "tensor(0.0016)"
      ]
     },
     "execution_count": 19,
     "metadata": {},
     "output_type": "execute_result"
    }
   ],
   "source": [
    "attribution_map_genes_3d.mean()"
   ]
  },
  {
   "cell_type": "code",
   "execution_count": 20,
   "id": "230e48fc",
   "metadata": {},
   "outputs": [
    {
     "data": {
      "text/plain": [
       "tensor(-10.4650)"
      ]
     },
     "execution_count": 20,
     "metadata": {},
     "output_type": "execute_result"
    }
   ],
   "source": [
    "attribution_map_genes_3d.min()"
   ]
  },
  {
   "cell_type": "code",
   "execution_count": 21,
   "id": "6a72345a",
   "metadata": {},
   "outputs": [
    {
     "data": {
      "text/plain": [
       "tensor(8.2512)"
      ]
     },
     "execution_count": 21,
     "metadata": {},
     "output_type": "execute_result"
    }
   ],
   "source": [
    "attribution_map_genes_3d.max()"
   ]
  },
  {
   "cell_type": "markdown",
   "id": "94b142d9",
   "metadata": {},
   "source": [
    "Collapse the outputs to get 1 score per gene per **cell**, using the mean of absolute scores."
   ]
  },
  {
   "cell_type": "code",
   "execution_count": 22,
   "id": "18e590eb",
   "metadata": {},
   "outputs": [],
   "source": [
    "attribution_map_collapsed = attribution_map_genes_3d.abs().mean(1)"
   ]
  },
  {
   "cell_type": "markdown",
   "id": "d6182a04",
   "metadata": {},
   "source": [
    "Examine the changes to min and max. A large decrease indicates that genes(features) were largely specific to a single latent dimension."
   ]
  },
  {
   "cell_type": "code",
   "execution_count": 72,
   "id": "9b8f1c63",
   "metadata": {},
   "outputs": [
    {
     "data": {
      "text/plain": [
       "tensor(0.0089)"
      ]
     },
     "execution_count": 72,
     "metadata": {},
     "output_type": "execute_result"
    }
   ],
   "source": [
    "attribution_map_collapsed.min()"
   ]
  },
  {
   "cell_type": "code",
   "execution_count": 73,
   "id": "87d40b88",
   "metadata": {},
   "outputs": [
    {
     "data": {
      "text/plain": [
       "tensor(2.9674)"
      ]
     },
     "execution_count": 73,
     "metadata": {},
     "output_type": "execute_result"
    }
   ],
   "source": [
    "attribution_map_collapsed.max()"
   ]
  },
  {
   "cell_type": "markdown",
   "id": "a5d1a533",
   "metadata": {},
   "source": [
    "Take the average contribution per gene per **perturbation** to get a ranking of all genes per perturbation."
   ]
  },
  {
   "cell_type": "code",
   "execution_count": 34,
   "id": "e62b0af0",
   "metadata": {},
   "outputs": [],
   "source": [
    "means = pd.DataFrame(index=adata.var_names, columns=pert_names)"
   ]
  },
  {
   "cell_type": "code",
   "execution_count": 69,
   "id": "b7f0064e",
   "metadata": {},
   "outputs": [],
   "source": [
    "for pert in batch['batch'].unique():\n",
    "    pert_float = pert.item()\n",
    "    pert_int = int(pert_float)\n",
    "    pert_indexing = (batch['batch'] == pert_float).reshape(-1)\n",
    "    means.iloc[:, pert_int] = attribution_map_collapsed[pert_indexing].mean(0).numpy()"
   ]
  },
  {
   "cell_type": "code",
   "execution_count": 70,
   "id": "2cf37494",
   "metadata": {},
   "outputs": [
    {
     "data": {
      "text/html": [
       "<div>\n",
       "<style scoped>\n",
       "    .dataframe tbody tr th:only-of-type {\n",
       "        vertical-align: middle;\n",
       "    }\n",
       "\n",
       "    .dataframe tbody tr th {\n",
       "        vertical-align: top;\n",
       "    }\n",
       "\n",
       "    .dataframe thead th {\n",
       "        text-align: right;\n",
       "    }\n",
       "</style>\n",
       "<table border=\"1\" class=\"dataframe\">\n",
       "  <thead>\n",
       "    <tr style=\"text-align: right;\">\n",
       "      <th></th>\n",
       "      <th>AHR</th>\n",
       "      <th>ARID1A</th>\n",
       "      <th>ARRDC3</th>\n",
       "      <th>ATL1</th>\n",
       "      <th>BAK1</th>\n",
       "      <th>BCL2L11</th>\n",
       "      <th>BCORL1</th>\n",
       "      <th>BPGM</th>\n",
       "      <th>C3orf72</th>\n",
       "      <th>C19orf26</th>\n",
       "      <th>...</th>\n",
       "      <th>TP73</th>\n",
       "      <th>TSC22D1</th>\n",
       "      <th>UBASH3A</th>\n",
       "      <th>UBASH3B</th>\n",
       "      <th>ZBTB1</th>\n",
       "      <th>ZBTB10</th>\n",
       "      <th>ZBTB25</th>\n",
       "      <th>ZC3HAV1</th>\n",
       "      <th>ZNF318</th>\n",
       "      <th>control</th>\n",
       "    </tr>\n",
       "    <tr>\n",
       "      <th>gene_symbols</th>\n",
       "      <th></th>\n",
       "      <th></th>\n",
       "      <th></th>\n",
       "      <th></th>\n",
       "      <th></th>\n",
       "      <th></th>\n",
       "      <th></th>\n",
       "      <th></th>\n",
       "      <th></th>\n",
       "      <th></th>\n",
       "      <th></th>\n",
       "      <th></th>\n",
       "      <th></th>\n",
       "      <th></th>\n",
       "      <th></th>\n",
       "      <th></th>\n",
       "      <th></th>\n",
       "      <th></th>\n",
       "      <th></th>\n",
       "      <th></th>\n",
       "      <th></th>\n",
       "    </tr>\n",
       "  </thead>\n",
       "  <tbody>\n",
       "    <tr>\n",
       "      <th>RP11-34P13.3</th>\n",
       "      <td>NaN</td>\n",
       "      <td>NaN</td>\n",
       "      <td>NaN</td>\n",
       "      <td>NaN</td>\n",
       "      <td>NaN</td>\n",
       "      <td>NaN</td>\n",
       "      <td>NaN</td>\n",
       "      <td>NaN</td>\n",
       "      <td>NaN</td>\n",
       "      <td>NaN</td>\n",
       "      <td>...</td>\n",
       "      <td>NaN</td>\n",
       "      <td>NaN</td>\n",
       "      <td>NaN</td>\n",
       "      <td>NaN</td>\n",
       "      <td>NaN</td>\n",
       "      <td>NaN</td>\n",
       "      <td>NaN</td>\n",
       "      <td>NaN</td>\n",
       "      <td>NaN</td>\n",
       "      <td>0.122678</td>\n",
       "    </tr>\n",
       "    <tr>\n",
       "      <th>RP11-34P13.7</th>\n",
       "      <td>NaN</td>\n",
       "      <td>NaN</td>\n",
       "      <td>NaN</td>\n",
       "      <td>NaN</td>\n",
       "      <td>NaN</td>\n",
       "      <td>NaN</td>\n",
       "      <td>NaN</td>\n",
       "      <td>NaN</td>\n",
       "      <td>NaN</td>\n",
       "      <td>NaN</td>\n",
       "      <td>...</td>\n",
       "      <td>NaN</td>\n",
       "      <td>NaN</td>\n",
       "      <td>NaN</td>\n",
       "      <td>NaN</td>\n",
       "      <td>NaN</td>\n",
       "      <td>NaN</td>\n",
       "      <td>NaN</td>\n",
       "      <td>NaN</td>\n",
       "      <td>NaN</td>\n",
       "      <td>0.124823</td>\n",
       "    </tr>\n",
       "    <tr>\n",
       "      <th>FO538757.2</th>\n",
       "      <td>NaN</td>\n",
       "      <td>NaN</td>\n",
       "      <td>NaN</td>\n",
       "      <td>NaN</td>\n",
       "      <td>NaN</td>\n",
       "      <td>NaN</td>\n",
       "      <td>NaN</td>\n",
       "      <td>NaN</td>\n",
       "      <td>NaN</td>\n",
       "      <td>NaN</td>\n",
       "      <td>...</td>\n",
       "      <td>NaN</td>\n",
       "      <td>NaN</td>\n",
       "      <td>NaN</td>\n",
       "      <td>NaN</td>\n",
       "      <td>NaN</td>\n",
       "      <td>NaN</td>\n",
       "      <td>NaN</td>\n",
       "      <td>NaN</td>\n",
       "      <td>NaN</td>\n",
       "      <td>0.124982</td>\n",
       "    </tr>\n",
       "    <tr>\n",
       "      <th>AP006222.2</th>\n",
       "      <td>NaN</td>\n",
       "      <td>NaN</td>\n",
       "      <td>NaN</td>\n",
       "      <td>NaN</td>\n",
       "      <td>NaN</td>\n",
       "      <td>NaN</td>\n",
       "      <td>NaN</td>\n",
       "      <td>NaN</td>\n",
       "      <td>NaN</td>\n",
       "      <td>NaN</td>\n",
       "      <td>...</td>\n",
       "      <td>NaN</td>\n",
       "      <td>NaN</td>\n",
       "      <td>NaN</td>\n",
       "      <td>NaN</td>\n",
       "      <td>NaN</td>\n",
       "      <td>NaN</td>\n",
       "      <td>NaN</td>\n",
       "      <td>NaN</td>\n",
       "      <td>NaN</td>\n",
       "      <td>0.124425</td>\n",
       "    </tr>\n",
       "    <tr>\n",
       "      <th>RP4-669L17.10</th>\n",
       "      <td>NaN</td>\n",
       "      <td>NaN</td>\n",
       "      <td>NaN</td>\n",
       "      <td>NaN</td>\n",
       "      <td>NaN</td>\n",
       "      <td>NaN</td>\n",
       "      <td>NaN</td>\n",
       "      <td>NaN</td>\n",
       "      <td>NaN</td>\n",
       "      <td>NaN</td>\n",
       "      <td>...</td>\n",
       "      <td>NaN</td>\n",
       "      <td>NaN</td>\n",
       "      <td>NaN</td>\n",
       "      <td>NaN</td>\n",
       "      <td>NaN</td>\n",
       "      <td>NaN</td>\n",
       "      <td>NaN</td>\n",
       "      <td>NaN</td>\n",
       "      <td>NaN</td>\n",
       "      <td>0.124300</td>\n",
       "    </tr>\n",
       "    <tr>\n",
       "      <th>...</th>\n",
       "      <td>...</td>\n",
       "      <td>...</td>\n",
       "      <td>...</td>\n",
       "      <td>...</td>\n",
       "      <td>...</td>\n",
       "      <td>...</td>\n",
       "      <td>...</td>\n",
       "      <td>...</td>\n",
       "      <td>...</td>\n",
       "      <td>...</td>\n",
       "      <td>...</td>\n",
       "      <td>...</td>\n",
       "      <td>...</td>\n",
       "      <td>...</td>\n",
       "      <td>...</td>\n",
       "      <td>...</td>\n",
       "      <td>...</td>\n",
       "      <td>...</td>\n",
       "      <td>...</td>\n",
       "      <td>...</td>\n",
       "      <td>...</td>\n",
       "    </tr>\n",
       "    <tr>\n",
       "      <th>AL592183.1</th>\n",
       "      <td>NaN</td>\n",
       "      <td>NaN</td>\n",
       "      <td>NaN</td>\n",
       "      <td>NaN</td>\n",
       "      <td>NaN</td>\n",
       "      <td>NaN</td>\n",
       "      <td>NaN</td>\n",
       "      <td>NaN</td>\n",
       "      <td>NaN</td>\n",
       "      <td>NaN</td>\n",
       "      <td>...</td>\n",
       "      <td>NaN</td>\n",
       "      <td>NaN</td>\n",
       "      <td>NaN</td>\n",
       "      <td>NaN</td>\n",
       "      <td>NaN</td>\n",
       "      <td>NaN</td>\n",
       "      <td>NaN</td>\n",
       "      <td>NaN</td>\n",
       "      <td>NaN</td>\n",
       "      <td>0.123298</td>\n",
       "    </tr>\n",
       "    <tr>\n",
       "      <th>AC007325.4</th>\n",
       "      <td>NaN</td>\n",
       "      <td>NaN</td>\n",
       "      <td>NaN</td>\n",
       "      <td>NaN</td>\n",
       "      <td>NaN</td>\n",
       "      <td>NaN</td>\n",
       "      <td>NaN</td>\n",
       "      <td>NaN</td>\n",
       "      <td>NaN</td>\n",
       "      <td>NaN</td>\n",
       "      <td>...</td>\n",
       "      <td>NaN</td>\n",
       "      <td>NaN</td>\n",
       "      <td>NaN</td>\n",
       "      <td>NaN</td>\n",
       "      <td>NaN</td>\n",
       "      <td>NaN</td>\n",
       "      <td>NaN</td>\n",
       "      <td>NaN</td>\n",
       "      <td>NaN</td>\n",
       "      <td>0.122476</td>\n",
       "    </tr>\n",
       "    <tr>\n",
       "      <th>AL354822.1</th>\n",
       "      <td>NaN</td>\n",
       "      <td>NaN</td>\n",
       "      <td>NaN</td>\n",
       "      <td>NaN</td>\n",
       "      <td>NaN</td>\n",
       "      <td>NaN</td>\n",
       "      <td>NaN</td>\n",
       "      <td>NaN</td>\n",
       "      <td>NaN</td>\n",
       "      <td>NaN</td>\n",
       "      <td>...</td>\n",
       "      <td>NaN</td>\n",
       "      <td>NaN</td>\n",
       "      <td>NaN</td>\n",
       "      <td>NaN</td>\n",
       "      <td>NaN</td>\n",
       "      <td>NaN</td>\n",
       "      <td>NaN</td>\n",
       "      <td>NaN</td>\n",
       "      <td>NaN</td>\n",
       "      <td>0.123811</td>\n",
       "    </tr>\n",
       "    <tr>\n",
       "      <th>AC004556.1</th>\n",
       "      <td>NaN</td>\n",
       "      <td>NaN</td>\n",
       "      <td>NaN</td>\n",
       "      <td>NaN</td>\n",
       "      <td>NaN</td>\n",
       "      <td>NaN</td>\n",
       "      <td>NaN</td>\n",
       "      <td>NaN</td>\n",
       "      <td>NaN</td>\n",
       "      <td>NaN</td>\n",
       "      <td>...</td>\n",
       "      <td>NaN</td>\n",
       "      <td>NaN</td>\n",
       "      <td>NaN</td>\n",
       "      <td>NaN</td>\n",
       "      <td>NaN</td>\n",
       "      <td>NaN</td>\n",
       "      <td>NaN</td>\n",
       "      <td>NaN</td>\n",
       "      <td>NaN</td>\n",
       "      <td>0.122798</td>\n",
       "    </tr>\n",
       "    <tr>\n",
       "      <th>AC240274.1</th>\n",
       "      <td>NaN</td>\n",
       "      <td>NaN</td>\n",
       "      <td>NaN</td>\n",
       "      <td>NaN</td>\n",
       "      <td>NaN</td>\n",
       "      <td>NaN</td>\n",
       "      <td>NaN</td>\n",
       "      <td>NaN</td>\n",
       "      <td>NaN</td>\n",
       "      <td>NaN</td>\n",
       "      <td>...</td>\n",
       "      <td>NaN</td>\n",
       "      <td>NaN</td>\n",
       "      <td>NaN</td>\n",
       "      <td>NaN</td>\n",
       "      <td>NaN</td>\n",
       "      <td>NaN</td>\n",
       "      <td>NaN</td>\n",
       "      <td>NaN</td>\n",
       "      <td>NaN</td>\n",
       "      <td>0.123136</td>\n",
       "    </tr>\n",
       "  </tbody>\n",
       "</table>\n",
       "<p>19018 rows × 106 columns</p>\n",
       "</div>"
      ],
      "text/plain": [
       "               AHR ARID1A ARRDC3 ATL1 BAK1 BCL2L11 BCORL1 BPGM C3orf72  \\\n",
       "gene_symbols                                                             \n",
       "RP11-34P13.3   NaN    NaN    NaN  NaN  NaN     NaN    NaN  NaN     NaN   \n",
       "RP11-34P13.7   NaN    NaN    NaN  NaN  NaN     NaN    NaN  NaN     NaN   \n",
       "FO538757.2     NaN    NaN    NaN  NaN  NaN     NaN    NaN  NaN     NaN   \n",
       "AP006222.2     NaN    NaN    NaN  NaN  NaN     NaN    NaN  NaN     NaN   \n",
       "RP4-669L17.10  NaN    NaN    NaN  NaN  NaN     NaN    NaN  NaN     NaN   \n",
       "...            ...    ...    ...  ...  ...     ...    ...  ...     ...   \n",
       "AL592183.1     NaN    NaN    NaN  NaN  NaN     NaN    NaN  NaN     NaN   \n",
       "AC007325.4     NaN    NaN    NaN  NaN  NaN     NaN    NaN  NaN     NaN   \n",
       "AL354822.1     NaN    NaN    NaN  NaN  NaN     NaN    NaN  NaN     NaN   \n",
       "AC004556.1     NaN    NaN    NaN  NaN  NaN     NaN    NaN  NaN     NaN   \n",
       "AC240274.1     NaN    NaN    NaN  NaN  NaN     NaN    NaN  NaN     NaN   \n",
       "\n",
       "              C19orf26  ... TP73 TSC22D1 UBASH3A UBASH3B ZBTB1 ZBTB10 ZBTB25  \\\n",
       "gene_symbols            ...                                                    \n",
       "RP11-34P13.3       NaN  ...  NaN     NaN     NaN     NaN   NaN    NaN    NaN   \n",
       "RP11-34P13.7       NaN  ...  NaN     NaN     NaN     NaN   NaN    NaN    NaN   \n",
       "FO538757.2         NaN  ...  NaN     NaN     NaN     NaN   NaN    NaN    NaN   \n",
       "AP006222.2         NaN  ...  NaN     NaN     NaN     NaN   NaN    NaN    NaN   \n",
       "RP4-669L17.10      NaN  ...  NaN     NaN     NaN     NaN   NaN    NaN    NaN   \n",
       "...                ...  ...  ...     ...     ...     ...   ...    ...    ...   \n",
       "AL592183.1         NaN  ...  NaN     NaN     NaN     NaN   NaN    NaN    NaN   \n",
       "AC007325.4         NaN  ...  NaN     NaN     NaN     NaN   NaN    NaN    NaN   \n",
       "AL354822.1         NaN  ...  NaN     NaN     NaN     NaN   NaN    NaN    NaN   \n",
       "AC004556.1         NaN  ...  NaN     NaN     NaN     NaN   NaN    NaN    NaN   \n",
       "AC240274.1         NaN  ...  NaN     NaN     NaN     NaN   NaN    NaN    NaN   \n",
       "\n",
       "              ZC3HAV1 ZNF318   control  \n",
       "gene_symbols                            \n",
       "RP11-34P13.3      NaN    NaN  0.122678  \n",
       "RP11-34P13.7      NaN    NaN  0.124823  \n",
       "FO538757.2        NaN    NaN  0.124982  \n",
       "AP006222.2        NaN    NaN  0.124425  \n",
       "RP4-669L17.10     NaN    NaN  0.124300  \n",
       "...               ...    ...       ...  \n",
       "AL592183.1        NaN    NaN  0.123298  \n",
       "AC007325.4        NaN    NaN  0.122476  \n",
       "AL354822.1        NaN    NaN  0.123811  \n",
       "AC004556.1        NaN    NaN  0.122798  \n",
       "AC240274.1        NaN    NaN  0.123136  \n",
       "\n",
       "[19018 rows x 106 columns]"
      ]
     },
     "execution_count": 70,
     "metadata": {},
     "output_type": "execute_result"
    }
   ],
   "source": [
    "means"
   ]
  },
  {
   "cell_type": "code",
   "execution_count": 88,
   "id": "d0a14947",
   "metadata": {},
   "outputs": [
    {
     "data": {
      "image/png": "[encoded data removed]",
      "text/plain": [
       "<Figure size 400x400 with 1 Axes>"
      ]
     },
     "metadata": {
      "image/png": {
       "height": 351,
       "width": 371
      }
     },
     "output_type": "display_data"
    }
   ],
   "source": [
    "plt.hist(means['control'].values)\n",
    "plt.yscale('log')"
   ]
  },
  {
   "cell_type": "markdown",
   "id": "87515ed9",
   "metadata": {},
   "source": [
    "We can also repeat this for every latent space output to get latent feature specific importance distributions. This might be interesting to look at in the case in which one dimension of the latent space mostly captures a certain set of features."
   ]
  },
  {
   "cell_type": "code",
   "execution_count": 93,
   "id": "f1cbd0df",
   "metadata": {},
   "outputs": [],
   "source": [
    "slice_distr = pd.DataFrame(index=adata.var_names, columns=list(range(output_dim)))\n",
    "for i in range(output_dim):\n",
    "    attribution_map_slice = attribution_map_genes_3d[:, i, :]\n",
    "    slice_distr.iloc[:, i] = attribution_map_slice.abs().mean(0).numpy()"
   ]
  },
  {
   "cell_type": "code",
   "execution_count": 97,
   "id": "2702965c",
   "metadata": {},
   "outputs": [
    {
     "data": {
      "image/png": "[encoded data removed]",
      "text/plain": [
       "<Figure size 400x400 with 1 Axes>"
      ]
     },
     "metadata": {
      "image/png": {
       "height": 351,
       "width": 371
      }
     },
     "output_type": "display_data"
    }
   ],
   "source": [
    "plt.hist(attribution_map_slice.abs().mean(0).numpy())\n",
    "plt.yscale('log')"
   ]
  },
  {
   "cell_type": "code",
   "execution_count": 96,
   "id": "c57cd9ad",
   "metadata": {},
   "outputs": [
    {
     "data": {
      "text/html": [
       "<div>\n",
       "<style scoped>\n",
       "    .dataframe tbody tr th:only-of-type {\n",
       "        vertical-align: middle;\n",
       "    }\n",
       "\n",
       "    .dataframe tbody tr th {\n",
       "        vertical-align: top;\n",
       "    }\n",
       "\n",
       "    .dataframe thead th {\n",
       "        text-align: right;\n",
       "    }\n",
       "</style>\n",
       "<table border=\"1\" class=\"dataframe\">\n",
       "  <thead>\n",
       "    <tr style=\"text-align: right;\">\n",
       "      <th></th>\n",
       "      <th>0</th>\n",
       "      <th>1</th>\n",
       "      <th>2</th>\n",
       "      <th>3</th>\n",
       "      <th>4</th>\n",
       "      <th>5</th>\n",
       "      <th>6</th>\n",
       "      <th>7</th>\n",
       "      <th>8</th>\n",
       "      <th>9</th>\n",
       "      <th>...</th>\n",
       "      <th>90</th>\n",
       "      <th>91</th>\n",
       "      <th>92</th>\n",
       "      <th>93</th>\n",
       "      <th>94</th>\n",
       "      <th>95</th>\n",
       "      <th>96</th>\n",
       "      <th>97</th>\n",
       "      <th>98</th>\n",
       "      <th>99</th>\n",
       "    </tr>\n",
       "    <tr>\n",
       "      <th>gene_symbols</th>\n",
       "      <th></th>\n",
       "      <th></th>\n",
       "      <th></th>\n",
       "      <th></th>\n",
       "      <th></th>\n",
       "      <th></th>\n",
       "      <th></th>\n",
       "      <th></th>\n",
       "      <th></th>\n",
       "      <th></th>\n",
       "      <th></th>\n",
       "      <th></th>\n",
       "      <th></th>\n",
       "      <th></th>\n",
       "      <th></th>\n",
       "      <th></th>\n",
       "      <th></th>\n",
       "      <th></th>\n",
       "      <th></th>\n",
       "      <th></th>\n",
       "      <th></th>\n",
       "    </tr>\n",
       "  </thead>\n",
       "  <tbody>\n",
       "    <tr>\n",
       "      <th>HBG2</th>\n",
       "      <td>0.740030</td>\n",
       "      <td>0.459080</td>\n",
       "      <td>0.230775</td>\n",
       "      <td>0.158995</td>\n",
       "      <td>0.283701</td>\n",
       "      <td>0.246451</td>\n",
       "      <td>0.544382</td>\n",
       "      <td>0.770927</td>\n",
       "      <td>0.453324</td>\n",
       "      <td>0.182565</td>\n",
       "      <td>...</td>\n",
       "      <td>0.266370</td>\n",
       "      <td>0.200625</td>\n",
       "      <td>0.847555</td>\n",
       "      <td>0.401495</td>\n",
       "      <td>0.832233</td>\n",
       "      <td>0.607670</td>\n",
       "      <td>0.171307</td>\n",
       "      <td>0.191102</td>\n",
       "      <td>0.259697</td>\n",
       "      <td>0.264651</td>\n",
       "    </tr>\n",
       "    <tr>\n",
       "      <th>TMSB4X</th>\n",
       "      <td>0.736228</td>\n",
       "      <td>0.332013</td>\n",
       "      <td>0.236403</td>\n",
       "      <td>0.130770</td>\n",
       "      <td>0.236082</td>\n",
       "      <td>0.221544</td>\n",
       "      <td>0.122239</td>\n",
       "      <td>0.382096</td>\n",
       "      <td>0.153705</td>\n",
       "      <td>0.182380</td>\n",
       "      <td>...</td>\n",
       "      <td>0.291760</td>\n",
       "      <td>0.285628</td>\n",
       "      <td>0.111880</td>\n",
       "      <td>0.210780</td>\n",
       "      <td>0.232772</td>\n",
       "      <td>0.301103</td>\n",
       "      <td>0.301667</td>\n",
       "      <td>0.319480</td>\n",
       "      <td>0.161783</td>\n",
       "      <td>0.348343</td>\n",
       "    </tr>\n",
       "    <tr>\n",
       "      <th>MALAT1</th>\n",
       "      <td>0.636165</td>\n",
       "      <td>0.398989</td>\n",
       "      <td>1.241278</td>\n",
       "      <td>2.049418</td>\n",
       "      <td>0.684960</td>\n",
       "      <td>0.522307</td>\n",
       "      <td>0.350814</td>\n",
       "      <td>0.762207</td>\n",
       "      <td>2.749656</td>\n",
       "      <td>0.773054</td>\n",
       "      <td>...</td>\n",
       "      <td>0.604424</td>\n",
       "      <td>1.320766</td>\n",
       "      <td>0.523088</td>\n",
       "      <td>1.196758</td>\n",
       "      <td>0.324893</td>\n",
       "      <td>1.497832</td>\n",
       "      <td>1.876721</td>\n",
       "      <td>0.493844</td>\n",
       "      <td>0.651570</td>\n",
       "      <td>0.307741</td>\n",
       "    </tr>\n",
       "    <tr>\n",
       "      <th>HBZ</th>\n",
       "      <td>0.586294</td>\n",
       "      <td>0.636979</td>\n",
       "      <td>0.305719</td>\n",
       "      <td>0.497456</td>\n",
       "      <td>0.677999</td>\n",
       "      <td>0.424693</td>\n",
       "      <td>0.887129</td>\n",
       "      <td>0.965333</td>\n",
       "      <td>0.499058</td>\n",
       "      <td>0.294380</td>\n",
       "      <td>...</td>\n",
       "      <td>0.300889</td>\n",
       "      <td>0.197030</td>\n",
       "      <td>1.345934</td>\n",
       "      <td>0.223367</td>\n",
       "      <td>0.600927</td>\n",
       "      <td>0.948743</td>\n",
       "      <td>0.166057</td>\n",
       "      <td>0.181631</td>\n",
       "      <td>0.302124</td>\n",
       "      <td>0.468891</td>\n",
       "    </tr>\n",
       "    <tr>\n",
       "      <th>RPS29</th>\n",
       "      <td>0.498702</td>\n",
       "      <td>0.288546</td>\n",
       "      <td>0.154511</td>\n",
       "      <td>0.280221</td>\n",
       "      <td>0.333327</td>\n",
       "      <td>0.171514</td>\n",
       "      <td>0.611554</td>\n",
       "      <td>0.599347</td>\n",
       "      <td>0.168893</td>\n",
       "      <td>0.282191</td>\n",
       "      <td>...</td>\n",
       "      <td>0.454070</td>\n",
       "      <td>0.583583</td>\n",
       "      <td>0.499825</td>\n",
       "      <td>0.195167</td>\n",
       "      <td>0.616918</td>\n",
       "      <td>0.233376</td>\n",
       "      <td>0.175680</td>\n",
       "      <td>0.171832</td>\n",
       "      <td>0.165230</td>\n",
       "      <td>0.500698</td>\n",
       "    </tr>\n",
       "    <tr>\n",
       "      <th>...</th>\n",
       "      <td>...</td>\n",
       "      <td>...</td>\n",
       "      <td>...</td>\n",
       "      <td>...</td>\n",
       "      <td>...</td>\n",
       "      <td>...</td>\n",
       "      <td>...</td>\n",
       "      <td>...</td>\n",
       "      <td>...</td>\n",
       "      <td>...</td>\n",
       "      <td>...</td>\n",
       "      <td>...</td>\n",
       "      <td>...</td>\n",
       "      <td>...</td>\n",
       "      <td>...</td>\n",
       "      <td>...</td>\n",
       "      <td>...</td>\n",
       "      <td>...</td>\n",
       "      <td>...</td>\n",
       "      <td>...</td>\n",
       "      <td>...</td>\n",
       "    </tr>\n",
       "    <tr>\n",
       "      <th>CLIC1</th>\n",
       "      <td>0.183696</td>\n",
       "      <td>0.152746</td>\n",
       "      <td>0.131453</td>\n",
       "      <td>0.121166</td>\n",
       "      <td>0.154819</td>\n",
       "      <td>0.164303</td>\n",
       "      <td>0.120697</td>\n",
       "      <td>0.184632</td>\n",
       "      <td>0.194969</td>\n",
       "      <td>0.141157</td>\n",
       "      <td>...</td>\n",
       "      <td>0.134684</td>\n",
       "      <td>0.162596</td>\n",
       "      <td>0.144329</td>\n",
       "      <td>0.126919</td>\n",
       "      <td>0.167127</td>\n",
       "      <td>0.102267</td>\n",
       "      <td>0.169711</td>\n",
       "      <td>0.223085</td>\n",
       "      <td>0.144268</td>\n",
       "      <td>0.174808</td>\n",
       "    </tr>\n",
       "    <tr>\n",
       "      <th>BID</th>\n",
       "      <td>0.182593</td>\n",
       "      <td>0.158146</td>\n",
       "      <td>0.135726</td>\n",
       "      <td>0.133263</td>\n",
       "      <td>0.122526</td>\n",
       "      <td>0.159668</td>\n",
       "      <td>0.118000</td>\n",
       "      <td>0.156906</td>\n",
       "      <td>0.119326</td>\n",
       "      <td>0.117217</td>\n",
       "      <td>...</td>\n",
       "      <td>0.130746</td>\n",
       "      <td>0.168987</td>\n",
       "      <td>0.131460</td>\n",
       "      <td>0.134548</td>\n",
       "      <td>0.116095</td>\n",
       "      <td>0.107414</td>\n",
       "      <td>0.106224</td>\n",
       "      <td>0.196450</td>\n",
       "      <td>0.160589</td>\n",
       "      <td>0.148335</td>\n",
       "    </tr>\n",
       "    <tr>\n",
       "      <th>USMG5</th>\n",
       "      <td>0.181945</td>\n",
       "      <td>0.209181</td>\n",
       "      <td>0.180189</td>\n",
       "      <td>0.117688</td>\n",
       "      <td>0.198574</td>\n",
       "      <td>0.206550</td>\n",
       "      <td>0.169001</td>\n",
       "      <td>0.213594</td>\n",
       "      <td>0.150381</td>\n",
       "      <td>0.125288</td>\n",
       "      <td>...</td>\n",
       "      <td>0.146069</td>\n",
       "      <td>0.233391</td>\n",
       "      <td>0.235964</td>\n",
       "      <td>0.203893</td>\n",
       "      <td>0.129025</td>\n",
       "      <td>0.239136</td>\n",
       "      <td>0.219620</td>\n",
       "      <td>0.187161</td>\n",
       "      <td>0.140431</td>\n",
       "      <td>0.189638</td>\n",
       "    </tr>\n",
       "    <tr>\n",
       "      <th>MT-CO3</th>\n",
       "      <td>0.181734</td>\n",
       "      <td>0.255587</td>\n",
       "      <td>0.309574</td>\n",
       "      <td>0.220092</td>\n",
       "      <td>0.672461</td>\n",
       "      <td>0.519459</td>\n",
       "      <td>0.201284</td>\n",
       "      <td>0.450340</td>\n",
       "      <td>0.203563</td>\n",
       "      <td>0.510375</td>\n",
       "      <td>...</td>\n",
       "      <td>0.241914</td>\n",
       "      <td>0.597642</td>\n",
       "      <td>0.190299</td>\n",
       "      <td>0.536554</td>\n",
       "      <td>0.236680</td>\n",
       "      <td>0.321597</td>\n",
       "      <td>0.647614</td>\n",
       "      <td>0.434804</td>\n",
       "      <td>0.451588</td>\n",
       "      <td>0.290228</td>\n",
       "    </tr>\n",
       "    <tr>\n",
       "      <th>RPL7A</th>\n",
       "      <td>0.181681</td>\n",
       "      <td>0.410989</td>\n",
       "      <td>0.198403</td>\n",
       "      <td>0.299431</td>\n",
       "      <td>0.195549</td>\n",
       "      <td>0.326818</td>\n",
       "      <td>0.167315</td>\n",
       "      <td>0.283504</td>\n",
       "      <td>0.290186</td>\n",
       "      <td>0.353547</td>\n",
       "      <td>...</td>\n",
       "      <td>0.323190</td>\n",
       "      <td>0.487834</td>\n",
       "      <td>0.161362</td>\n",
       "      <td>0.199025</td>\n",
       "      <td>0.478922</td>\n",
       "      <td>0.869061</td>\n",
       "      <td>0.273598</td>\n",
       "      <td>0.223397</td>\n",
       "      <td>0.147217</td>\n",
       "      <td>0.204681</td>\n",
       "    </tr>\n",
       "  </tbody>\n",
       "</table>\n",
       "<p>100 rows × 100 columns</p>\n",
       "</div>"
      ],
      "text/plain": [
       "                    0         1         2         3         4         5   \\\n",
       "gene_symbols                                                               \n",
       "HBG2          0.740030  0.459080  0.230775  0.158995  0.283701  0.246451   \n",
       "TMSB4X        0.736228  0.332013  0.236403  0.130770  0.236082  0.221544   \n",
       "MALAT1        0.636165  0.398989  1.241278  2.049418  0.684960  0.522307   \n",
       "HBZ           0.586294  0.636979  0.305719  0.497456  0.677999  0.424693   \n",
       "RPS29         0.498702  0.288546  0.154511  0.280221  0.333327  0.171514   \n",
       "...                ...       ...       ...       ...       ...       ...   \n",
       "CLIC1         0.183696  0.152746  0.131453  0.121166  0.154819  0.164303   \n",
       "BID           0.182593  0.158146  0.135726  0.133263  0.122526  0.159668   \n",
       "USMG5         0.181945  0.209181  0.180189  0.117688  0.198574  0.206550   \n",
       "MT-CO3        0.181734  0.255587  0.309574  0.220092  0.672461  0.519459   \n",
       "RPL7A         0.181681  0.410989  0.198403  0.299431  0.195549  0.326818   \n",
       "\n",
       "                    6         7         8         9   ...        90        91  \\\n",
       "gene_symbols                                          ...                       \n",
       "HBG2          0.544382  0.770927  0.453324  0.182565  ...  0.266370  0.200625   \n",
       "TMSB4X        0.122239  0.382096  0.153705  0.182380  ...  0.291760  0.285628   \n",
       "MALAT1        0.350814  0.762207  2.749656  0.773054  ...  0.604424  1.320766   \n",
       "HBZ           0.887129  0.965333  0.499058  0.294380  ...  0.300889  0.197030   \n",
       "RPS29         0.611554  0.599347  0.168893  0.282191  ...  0.454070  0.583583   \n",
       "...                ...       ...       ...       ...  ...       ...       ...   \n",
       "CLIC1         0.120697  0.184632  0.194969  0.141157  ...  0.134684  0.162596   \n",
       "BID           0.118000  0.156906  0.119326  0.117217  ...  0.130746  0.168987   \n",
       "USMG5         0.169001  0.213594  0.150381  0.125288  ...  0.146069  0.233391   \n",
       "MT-CO3        0.201284  0.450340  0.203563  0.510375  ...  0.241914  0.597642   \n",
       "RPL7A         0.167315  0.283504  0.290186  0.353547  ...  0.323190  0.487834   \n",
       "\n",
       "                    92        93        94        95        96        97  \\\n",
       "gene_symbols                                                               \n",
       "HBG2          0.847555  0.401495  0.832233  0.607670  0.171307  0.191102   \n",
       "TMSB4X        0.111880  0.210780  0.232772  0.301103  0.301667  0.319480   \n",
       "MALAT1        0.523088  1.196758  0.324893  1.497832  1.876721  0.493844   \n",
       "HBZ           1.345934  0.223367  0.600927  0.948743  0.166057  0.181631   \n",
       "RPS29         0.499825  0.195167  0.616918  0.233376  0.175680  0.171832   \n",
       "...                ...       ...       ...       ...       ...       ...   \n",
       "CLIC1         0.144329  0.126919  0.167127  0.102267  0.169711  0.223085   \n",
       "BID           0.131460  0.134548  0.116095  0.107414  0.106224  0.196450   \n",
       "USMG5         0.235964  0.203893  0.129025  0.239136  0.219620  0.187161   \n",
       "MT-CO3        0.190299  0.536554  0.236680  0.321597  0.647614  0.434804   \n",
       "RPL7A         0.161362  0.199025  0.478922  0.869061  0.273598  0.223397   \n",
       "\n",
       "                    98        99  \n",
       "gene_symbols                      \n",
       "HBG2          0.259697  0.264651  \n",
       "TMSB4X        0.161783  0.348343  \n",
       "MALAT1        0.651570  0.307741  \n",
       "HBZ           0.302124  0.468891  \n",
       "RPS29         0.165230  0.500698  \n",
       "...                ...       ...  \n",
       "CLIC1         0.144268  0.174808  \n",
       "BID           0.160589  0.148335  \n",
       "USMG5         0.140431  0.189638  \n",
       "MT-CO3        0.451588  0.290228  \n",
       "RPL7A         0.147217  0.204681  \n",
       "\n",
       "[100 rows x 100 columns]"
      ]
     },
     "execution_count": 96,
     "metadata": {},
     "output_type": "execute_result"
    }
   ],
   "source": [
    "slice_distr.nlargest(100, 0)"
   ]
  },
  {
   "cell_type": "markdown",
   "id": "5f7933f5",
   "metadata": {},
   "source": [
    "Check that they are anticorrelated as we would expect. Why do we not see any negative correlations..? Maybe it's because I only have control samples in here..."
   ]
  },
  {
   "cell_type": "code",
   "execution_count": 107,
   "id": "f9c4cd71",
   "metadata": {},
   "outputs": [
    {
     "name": "stderr",
     "output_type": "stream",
     "text": [
      "/home/icb/yuge.ji/miniconda3/envs/test_env3/lib/python3.10/site-packages/seaborn/matrix.py:306: MatplotlibDeprecationWarning: Auto-removal of grids by pcolor() and pcolormesh() is deprecated since 3.5 and will be removed two minor releases later; please call grid(False) first.\n",
      "  mesh = ax.pcolormesh(self.plot_data, cmap=self.cmap, **kws)\n"
     ]
    },
    {
     "data": {
      "text/plain": [
       "<AxesSubplot: >"
      ]
     },
     "execution_count": 107,
     "metadata": {},
     "output_type": "execute_result"
    },
    {
     "data": {
      "image/png": "[encoded data removed]",
      "text/plain": [
       "<Figure size 400x400 with 2 Axes>"
      ]
     },
     "metadata": {
      "image/png": {
       "height": 359,
       "width": 368
      }
     },
     "output_type": "display_data"
    }
   ],
   "source": [
    "sns.heatmap(slice_distr.corr('spearman'))"
   ]
  },
  {
   "cell_type": "markdown",
   "id": "bb16a71a",
   "metadata": {},
   "source": [
    "Store results."
   ]
  },
  {
   "cell_type": "code",
   "execution_count": 13,
   "id": "09dcc2e0",
   "metadata": {},
   "outputs": [],
   "source": [
    "means.to_csv(\"../../outputs/ablation/task2_latent.csv\")"
   ]
  }
 ],
 "metadata": {
  "kernelspec": {
   "display_name": "Python [conda env:test_env3]",
   "language": "python",
   "name": "conda-env-test_env3-py"
  },
  "language_info": {
   "codemirror_mode": {
    "name": "ipython",
    "version": 3
   },
   "file_extension": ".py",
   "mimetype": "text/x-python",
   "name": "python",
   "nbconvert_exporter": "python",
   "pygments_lexer": "ipython3",
   "version": "3.10.6"
  }
 },
 "nbformat": 4,
 "nbformat_minor": 5
}
