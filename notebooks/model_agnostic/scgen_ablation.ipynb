{
 "cells": [
  {
   "cell_type": "code",
   "execution_count": 2,
   "id": "9cabfa37",
   "metadata": {},
   "outputs": [
    {
     "name": "stderr",
     "output_type": "stream",
     "text": [
      "/home/icb/yuge.ji/miniconda3/envs/test_env3/lib/python3.10/site-packages/torch/utils/tensorboard/__init__.py:2: DeprecationWarning: The distutils package is deprecated and slated for removal in Python 3.12. Use setuptools or check PEP 632 for potential alternatives\n",
      "  from distutils.version import LooseVersion\n",
      "Global seed set to 0\n",
      "/home/icb/yuge.ji/miniconda3/envs/test_env3/lib/python3.10/site-packages/captum/attr/_utils/visualization.py:15: DeprecationWarning: Importing display from IPython.core.display is deprecated since IPython 7.14, please import from IPython display\n",
      "  from IPython.core.display import HTML, display\n",
      "/home/icb/yuge.ji/miniconda3/envs/test_env3/lib/python3.10/site-packages/scanpy/_settings.py:447: DeprecationWarning: `set_matplotlib_formats` is deprecated since IPython 7.23, directly use `matplotlib_inline.backend_inline.set_matplotlib_formats()`\n",
      "  IPython.display.set_matplotlib_formats(*ipython_format)\n"
     ]
    },
    {
     "name": "stdout",
     "output_type": "stream",
     "text": [
      "scanpy==1.9.1 anndata==0.8.0 umap==0.5.3 numpy==1.22.4 scipy==1.9.1 pandas==1.4.4 scikit-learn==1.1.2 statsmodels==0.13.2 pynndescent==0.5.7\n"
     ]
    },
    {
     "name": "stderr",
     "output_type": "stream",
     "text": [
      "/home/icb/yuge.ji/miniconda3/envs/test_env3/lib/python3.10/site-packages/umap/__init__.py:9: ImportWarning: Tensorflow not installed; ParametricUMAP will be unavailable\n",
      "  warn(\n"
     ]
    }
   ],
   "source": [
    "import torch\n",
    "import scvi\n",
    "import pandas as pd\n",
    "import scanpy as sc\n",
    "from scvi import REGISTRY_KEYS\n",
    "import scgen\n",
    "from captum.attr import FeatureAblation\n",
    "\n",
    "sc.set_figure_params(dpi=100, frameon=False, color_map='Reds', facecolor=None)\n",
    "sc.logging.print_header()"
   ]
  },
  {
   "cell_type": "markdown",
   "id": "4cc40139",
   "metadata": {},
   "source": [
    "## load model and data"
   ]
  },
  {
   "cell_type": "code",
   "execution_count": 3,
   "id": "aace4f1a",
   "metadata": {},
   "outputs": [
    {
     "name": "stderr",
     "output_type": "stream",
     "text": [
      "/home/icb/yuge.ji/miniconda3/envs/test_env3/lib/python3.10/site-packages/anndata/_io/h5ad.py:238: OldFormatWarning: Element '/layers' was written without encoding metadata.\n",
      "  d[k] = read_elem(f[k])\n",
      "/home/icb/yuge.ji/miniconda3/envs/test_env3/lib/python3.10/site-packages/anndata/_io/specs/methods.py:584: OldFormatWarning: Element '/obs/__categories/guide_identity' was written without encoding metadata.\n",
      "  categories = read_elem(categories_dset)\n",
      "/home/icb/yuge.ji/miniconda3/envs/test_env3/lib/python3.10/site-packages/anndata/_io/specs/methods.py:587: OldFormatWarning: Element '/obs/guide_identity' was written without encoding metadata.\n",
      "  read_elem(dataset), categories, ordered=ordered\n",
      "/home/icb/yuge.ji/miniconda3/envs/test_env3/lib/python3.10/site-packages/anndata/_io/specs/methods.py:590: OldFormatWarning: Element '/obs/read_count' was written without encoding metadata.\n",
      "  return read_elem(dataset)\n",
      "/home/icb/yuge.ji/miniconda3/envs/test_env3/lib/python3.10/site-packages/anndata/_io/specs/methods.py:590: OldFormatWarning: Element '/obs/UMI_count' was written without encoding metadata.\n",
      "  return read_elem(dataset)\n",
      "/home/icb/yuge.ji/miniconda3/envs/test_env3/lib/python3.10/site-packages/anndata/_io/specs/methods.py:590: OldFormatWarning: Element '/obs/coverage' was written without encoding metadata.\n",
      "  return read_elem(dataset)\n",
      "/home/icb/yuge.ji/miniconda3/envs/test_env3/lib/python3.10/site-packages/anndata/_io/specs/methods.py:590: OldFormatWarning: Element '/obs/gemgroup' was written without encoding metadata.\n",
      "  return read_elem(dataset)\n",
      "/home/icb/yuge.ji/miniconda3/envs/test_env3/lib/python3.10/site-packages/anndata/_io/specs/methods.py:590: OldFormatWarning: Element '/obs/good_coverage' was written without encoding metadata.\n",
      "  return read_elem(dataset)\n",
      "/home/icb/yuge.ji/miniconda3/envs/test_env3/lib/python3.10/site-packages/anndata/_io/specs/methods.py:590: OldFormatWarning: Element '/obs/number_of_cells' was written without encoding metadata.\n",
      "  return read_elem(dataset)\n",
      "/home/icb/yuge.ji/miniconda3/envs/test_env3/lib/python3.10/site-packages/anndata/_io/specs/methods.py:590: OldFormatWarning: Element '/obs/guide_AHR' was written without encoding metadata.\n",
      "  return read_elem(dataset)\n",
      "/home/icb/yuge.ji/miniconda3/envs/test_env3/lib/python3.10/site-packages/anndata/_io/specs/methods.py:590: OldFormatWarning: Element '/obs/guide_ARID1A' was written without encoding metadata.\n",
      "  return read_elem(dataset)\n",
      "/home/icb/yuge.ji/miniconda3/envs/test_env3/lib/python3.10/site-packages/anndata/_io/specs/methods.py:590: OldFormatWarning: Element '/obs/guide_ARRDC3' was written without encoding metadata.\n",
      "  return read_elem(dataset)\n",
      "/home/icb/yuge.ji/miniconda3/envs/test_env3/lib/python3.10/site-packages/anndata/_io/specs/methods.py:590: OldFormatWarning: Element '/obs/guide_ATL1' was written without encoding metadata.\n",
      "  return read_elem(dataset)\n",
      "/home/icb/yuge.ji/miniconda3/envs/test_env3/lib/python3.10/site-packages/anndata/_io/specs/methods.py:590: OldFormatWarning: Element '/obs/guide_BAK1' was written without encoding metadata.\n",
      "  return read_elem(dataset)\n",
      "/home/icb/yuge.ji/miniconda3/envs/test_env3/lib/python3.10/site-packages/anndata/_io/specs/methods.py:590: OldFormatWarning: Element '/obs/guide_BCL2L11' was written without encoding metadata.\n",
      "  return read_elem(dataset)\n",
      "/home/icb/yuge.ji/miniconda3/envs/test_env3/lib/python3.10/site-packages/anndata/_io/specs/methods.py:590: OldFormatWarning: Element '/obs/guide_BCORL1' was written without encoding metadata.\n",
      "  return read_elem(dataset)\n",
      "/home/icb/yuge.ji/miniconda3/envs/test_env3/lib/python3.10/site-packages/anndata/_io/specs/methods.py:590: OldFormatWarning: Element '/obs/guide_BPGM' was written without encoding metadata.\n",
      "  return read_elem(dataset)\n",
      "/home/icb/yuge.ji/miniconda3/envs/test_env3/lib/python3.10/site-packages/anndata/_io/specs/methods.py:590: OldFormatWarning: Element '/obs/guide_C19orf26' was written without encoding metadata.\n",
      "  return read_elem(dataset)\n",
      "/home/icb/yuge.ji/miniconda3/envs/test_env3/lib/python3.10/site-packages/anndata/_io/specs/methods.py:590: OldFormatWarning: Element '/obs/guide_C3orf72' was written without encoding metadata.\n",
      "  return read_elem(dataset)\n",
      "/home/icb/yuge.ji/miniconda3/envs/test_env3/lib/python3.10/site-packages/anndata/_io/specs/methods.py:590: OldFormatWarning: Element '/obs/guide_CBFA2T3' was written without encoding metadata.\n",
      "  return read_elem(dataset)\n",
      "/home/icb/yuge.ji/miniconda3/envs/test_env3/lib/python3.10/site-packages/anndata/_io/specs/methods.py:590: OldFormatWarning: Element '/obs/guide_CBL' was written without encoding metadata.\n",
      "  return read_elem(dataset)\n",
      "/home/icb/yuge.ji/miniconda3/envs/test_env3/lib/python3.10/site-packages/anndata/_io/specs/methods.py:590: OldFormatWarning: Element '/obs/guide_CDKN1A' was written without encoding metadata.\n",
      "  return read_elem(dataset)\n",
      "/home/icb/yuge.ji/miniconda3/envs/test_env3/lib/python3.10/site-packages/anndata/_io/specs/methods.py:590: OldFormatWarning: Element '/obs/guide_CDKN1B' was written without encoding metadata.\n",
      "  return read_elem(dataset)\n",
      "/home/icb/yuge.ji/miniconda3/envs/test_env3/lib/python3.10/site-packages/anndata/_io/specs/methods.py:590: OldFormatWarning: Element '/obs/guide_CDKN1C' was written without encoding metadata.\n",
      "  return read_elem(dataset)\n",
      "/home/icb/yuge.ji/miniconda3/envs/test_env3/lib/python3.10/site-packages/anndata/_io/specs/methods.py:590: OldFormatWarning: Element '/obs/guide_CEBPA' was written without encoding metadata.\n",
      "  return read_elem(dataset)\n",
      "/home/icb/yuge.ji/miniconda3/envs/test_env3/lib/python3.10/site-packages/anndata/_io/specs/methods.py:590: OldFormatWarning: Element '/obs/guide_CEBPB' was written without encoding metadata.\n",
      "  return read_elem(dataset)\n",
      "/home/icb/yuge.ji/miniconda3/envs/test_env3/lib/python3.10/site-packages/anndata/_io/specs/methods.py:590: OldFormatWarning: Element '/obs/guide_CEBPE' was written without encoding metadata.\n",
      "  return read_elem(dataset)\n",
      "/home/icb/yuge.ji/miniconda3/envs/test_env3/lib/python3.10/site-packages/anndata/_io/specs/methods.py:590: OldFormatWarning: Element '/obs/guide_CELF2' was written without encoding metadata.\n",
      "  return read_elem(dataset)\n",
      "/home/icb/yuge.ji/miniconda3/envs/test_env3/lib/python3.10/site-packages/anndata/_io/specs/methods.py:590: OldFormatWarning: Element '/obs/guide_CITED1' was written without encoding metadata.\n",
      "  return read_elem(dataset)\n",
      "/home/icb/yuge.ji/miniconda3/envs/test_env3/lib/python3.10/site-packages/anndata/_io/specs/methods.py:590: OldFormatWarning: Element '/obs/guide_CKS1B' was written without encoding metadata.\n",
      "  return read_elem(dataset)\n",
      "/home/icb/yuge.ji/miniconda3/envs/test_env3/lib/python3.10/site-packages/anndata/_io/specs/methods.py:590: OldFormatWarning: Element '/obs/guide_CLDN6' was written without encoding metadata.\n",
      "  return read_elem(dataset)\n",
      "/home/icb/yuge.ji/miniconda3/envs/test_env3/lib/python3.10/site-packages/anndata/_io/specs/methods.py:590: OldFormatWarning: Element '/obs/guide_CNN1' was written without encoding metadata.\n",
      "  return read_elem(dataset)\n",
      "/home/icb/yuge.ji/miniconda3/envs/test_env3/lib/python3.10/site-packages/anndata/_io/specs/methods.py:590: OldFormatWarning: Element '/obs/guide_CNNM4' was written without encoding metadata.\n",
      "  return read_elem(dataset)\n",
      "/home/icb/yuge.ji/miniconda3/envs/test_env3/lib/python3.10/site-packages/anndata/_io/specs/methods.py:590: OldFormatWarning: Element '/obs/guide_COL1A1' was written without encoding metadata.\n",
      "  return read_elem(dataset)\n",
      "/home/icb/yuge.ji/miniconda3/envs/test_env3/lib/python3.10/site-packages/anndata/_io/specs/methods.py:590: OldFormatWarning: Element '/obs/guide_COL2A1' was written without encoding metadata.\n",
      "  return read_elem(dataset)\n",
      "/home/icb/yuge.ji/miniconda3/envs/test_env3/lib/python3.10/site-packages/anndata/_io/specs/methods.py:590: OldFormatWarning: Element '/obs/guide_CSRNP1' was written without encoding metadata.\n",
      "  return read_elem(dataset)\n",
      "/home/icb/yuge.ji/miniconda3/envs/test_env3/lib/python3.10/site-packages/anndata/_io/specs/methods.py:590: OldFormatWarning: Element '/obs/guide_DLX2' was written without encoding metadata.\n",
      "  return read_elem(dataset)\n",
      "/home/icb/yuge.ji/miniconda3/envs/test_env3/lib/python3.10/site-packages/anndata/_io/specs/methods.py:590: OldFormatWarning: Element '/obs/guide_DUSP9' was written without encoding metadata.\n",
      "  return read_elem(dataset)\n",
      "/home/icb/yuge.ji/miniconda3/envs/test_env3/lib/python3.10/site-packages/anndata/_io/specs/methods.py:590: OldFormatWarning: Element '/obs/guide_EGR1' was written without encoding metadata.\n",
      "  return read_elem(dataset)\n",
      "/home/icb/yuge.ji/miniconda3/envs/test_env3/lib/python3.10/site-packages/anndata/_io/specs/methods.py:590: OldFormatWarning: Element '/obs/guide_ELMSAN1' was written without encoding metadata.\n",
      "  return read_elem(dataset)\n",
      "/home/icb/yuge.ji/miniconda3/envs/test_env3/lib/python3.10/site-packages/anndata/_io/specs/methods.py:590: OldFormatWarning: Element '/obs/guide_ETS2' was written without encoding metadata.\n",
      "  return read_elem(dataset)\n",
      "/home/icb/yuge.ji/miniconda3/envs/test_env3/lib/python3.10/site-packages/anndata/_io/specs/methods.py:590: OldFormatWarning: Element '/obs/guide_FEV' was written without encoding metadata.\n",
      "  return read_elem(dataset)\n",
      "/home/icb/yuge.ji/miniconda3/envs/test_env3/lib/python3.10/site-packages/anndata/_io/specs/methods.py:590: OldFormatWarning: Element '/obs/guide_FOSB' was written without encoding metadata.\n",
      "  return read_elem(dataset)\n",
      "/home/icb/yuge.ji/miniconda3/envs/test_env3/lib/python3.10/site-packages/anndata/_io/specs/methods.py:590: OldFormatWarning: Element '/obs/guide_FOXA1' was written without encoding metadata.\n",
      "  return read_elem(dataset)\n",
      "/home/icb/yuge.ji/miniconda3/envs/test_env3/lib/python3.10/site-packages/anndata/_io/specs/methods.py:590: OldFormatWarning: Element '/obs/guide_FOXA3' was written without encoding metadata.\n",
      "  return read_elem(dataset)\n",
      "/home/icb/yuge.ji/miniconda3/envs/test_env3/lib/python3.10/site-packages/anndata/_io/specs/methods.py:590: OldFormatWarning: Element '/obs/guide_FOXF1' was written without encoding metadata.\n",
      "  return read_elem(dataset)\n",
      "/home/icb/yuge.ji/miniconda3/envs/test_env3/lib/python3.10/site-packages/anndata/_io/specs/methods.py:590: OldFormatWarning: Element '/obs/guide_FOXL2' was written without encoding metadata.\n",
      "  return read_elem(dataset)\n",
      "/home/icb/yuge.ji/miniconda3/envs/test_env3/lib/python3.10/site-packages/anndata/_io/specs/methods.py:590: OldFormatWarning: Element '/obs/guide_FOXO4' was written without encoding metadata.\n",
      "  return read_elem(dataset)\n",
      "/home/icb/yuge.ji/miniconda3/envs/test_env3/lib/python3.10/site-packages/anndata/_io/specs/methods.py:590: OldFormatWarning: Element '/obs/guide_GLB1L2' was written without encoding metadata.\n",
      "  return read_elem(dataset)\n",
      "/home/icb/yuge.ji/miniconda3/envs/test_env3/lib/python3.10/site-packages/anndata/_io/specs/methods.py:590: OldFormatWarning: Element '/obs/guide_HES7' was written without encoding metadata.\n",
      "  return read_elem(dataset)\n",
      "/home/icb/yuge.ji/miniconda3/envs/test_env3/lib/python3.10/site-packages/anndata/_io/specs/methods.py:590: OldFormatWarning: Element '/obs/guide_HK2' was written without encoding metadata.\n",
      "  return read_elem(dataset)\n",
      "/home/icb/yuge.ji/miniconda3/envs/test_env3/lib/python3.10/site-packages/anndata/_io/specs/methods.py:590: OldFormatWarning: Element '/obs/guide_HNF4A' was written without encoding metadata.\n",
      "  return read_elem(dataset)\n",
      "/home/icb/yuge.ji/miniconda3/envs/test_env3/lib/python3.10/site-packages/anndata/_io/specs/methods.py:590: OldFormatWarning: Element '/obs/guide_HOXA13' was written without encoding metadata.\n",
      "  return read_elem(dataset)\n",
      "/home/icb/yuge.ji/miniconda3/envs/test_env3/lib/python3.10/site-packages/anndata/_io/specs/methods.py:590: OldFormatWarning: Element '/obs/guide_HOXB9' was written without encoding metadata.\n",
      "  return read_elem(dataset)\n",
      "/home/icb/yuge.ji/miniconda3/envs/test_env3/lib/python3.10/site-packages/anndata/_io/specs/methods.py:590: OldFormatWarning: Element '/obs/guide_HOXC13' was written without encoding metadata.\n",
      "  return read_elem(dataset)\n",
      "/home/icb/yuge.ji/miniconda3/envs/test_env3/lib/python3.10/site-packages/anndata/_io/specs/methods.py:590: OldFormatWarning: Element '/obs/guide_IER5L' was written without encoding metadata.\n",
      "  return read_elem(dataset)\n",
      "/home/icb/yuge.ji/miniconda3/envs/test_env3/lib/python3.10/site-packages/anndata/_io/specs/methods.py:590: OldFormatWarning: Element '/obs/guide_IGDCC3' was written without encoding metadata.\n",
      "  return read_elem(dataset)\n",
      "/home/icb/yuge.ji/miniconda3/envs/test_env3/lib/python3.10/site-packages/anndata/_io/specs/methods.py:590: OldFormatWarning: Element '/obs/guide_IKZF3' was written without encoding metadata.\n",
      "  return read_elem(dataset)\n",
      "/home/icb/yuge.ji/miniconda3/envs/test_env3/lib/python3.10/site-packages/anndata/_io/specs/methods.py:590: OldFormatWarning: Element '/obs/guide_IRF1' was written without encoding metadata.\n",
      "  return read_elem(dataset)\n",
      "/home/icb/yuge.ji/miniconda3/envs/test_env3/lib/python3.10/site-packages/anndata/_io/specs/methods.py:590: OldFormatWarning: Element '/obs/guide_ISL2' was written without encoding metadata.\n",
      "  return read_elem(dataset)\n",
      "/home/icb/yuge.ji/miniconda3/envs/test_env3/lib/python3.10/site-packages/anndata/_io/specs/methods.py:590: OldFormatWarning: Element '/obs/guide_JUN' was written without encoding metadata.\n",
      "  return read_elem(dataset)\n",
      "/home/icb/yuge.ji/miniconda3/envs/test_env3/lib/python3.10/site-packages/anndata/_io/specs/methods.py:590: OldFormatWarning: Element '/obs/guide_KIAA1804' was written without encoding metadata.\n",
      "  return read_elem(dataset)\n",
      "/home/icb/yuge.ji/miniconda3/envs/test_env3/lib/python3.10/site-packages/anndata/_io/specs/methods.py:590: OldFormatWarning: Element '/obs/guide_KIF18B' was written without encoding metadata.\n",
      "  return read_elem(dataset)\n",
      "/home/icb/yuge.ji/miniconda3/envs/test_env3/lib/python3.10/site-packages/anndata/_io/specs/methods.py:590: OldFormatWarning: Element '/obs/guide_KIF2C' was written without encoding metadata.\n",
      "  return read_elem(dataset)\n",
      "/home/icb/yuge.ji/miniconda3/envs/test_env3/lib/python3.10/site-packages/anndata/_io/specs/methods.py:590: OldFormatWarning: Element '/obs/guide_KLF1' was written without encoding metadata.\n",
      "  return read_elem(dataset)\n",
      "/home/icb/yuge.ji/miniconda3/envs/test_env3/lib/python3.10/site-packages/anndata/_io/specs/methods.py:590: OldFormatWarning: Element '/obs/guide_KMT2A' was written without encoding metadata.\n",
      "  return read_elem(dataset)\n",
      "/home/icb/yuge.ji/miniconda3/envs/test_env3/lib/python3.10/site-packages/anndata/_io/specs/methods.py:590: OldFormatWarning: Element '/obs/guide_LHX1' was written without encoding metadata.\n",
      "  return read_elem(dataset)\n",
      "/home/icb/yuge.ji/miniconda3/envs/test_env3/lib/python3.10/site-packages/anndata/_io/specs/methods.py:590: OldFormatWarning: Element '/obs/guide_LYL1' was written without encoding metadata.\n",
      "  return read_elem(dataset)\n",
      "/home/icb/yuge.ji/miniconda3/envs/test_env3/lib/python3.10/site-packages/anndata/_io/specs/methods.py:590: OldFormatWarning: Element '/obs/guide_MAML2' was written without encoding metadata.\n",
      "  return read_elem(dataset)\n",
      "/home/icb/yuge.ji/miniconda3/envs/test_env3/lib/python3.10/site-packages/anndata/_io/specs/methods.py:590: OldFormatWarning: Element '/obs/guide_MAP2K3' was written without encoding metadata.\n",
      "  return read_elem(dataset)\n",
      "/home/icb/yuge.ji/miniconda3/envs/test_env3/lib/python3.10/site-packages/anndata/_io/specs/methods.py:590: OldFormatWarning: Element '/obs/guide_MAP2K6' was written without encoding metadata.\n",
      "  return read_elem(dataset)\n",
      "/home/icb/yuge.ji/miniconda3/envs/test_env3/lib/python3.10/site-packages/anndata/_io/specs/methods.py:590: OldFormatWarning: Element '/obs/guide_MAP4K3' was written without encoding metadata.\n",
      "  return read_elem(dataset)\n",
      "/home/icb/yuge.ji/miniconda3/envs/test_env3/lib/python3.10/site-packages/anndata/_io/specs/methods.py:590: OldFormatWarning: Element '/obs/guide_MAP4K5' was written without encoding metadata.\n",
      "  return read_elem(dataset)\n",
      "/home/icb/yuge.ji/miniconda3/envs/test_env3/lib/python3.10/site-packages/anndata/_io/specs/methods.py:590: OldFormatWarning: Element '/obs/guide_MAP7D1' was written without encoding metadata.\n",
      "  return read_elem(dataset)\n",
      "/home/icb/yuge.ji/miniconda3/envs/test_env3/lib/python3.10/site-packages/anndata/_io/specs/methods.py:590: OldFormatWarning: Element '/obs/guide_MAPK1' was written without encoding metadata.\n",
      "  return read_elem(dataset)\n",
      "/home/icb/yuge.ji/miniconda3/envs/test_env3/lib/python3.10/site-packages/anndata/_io/specs/methods.py:590: OldFormatWarning: Element '/obs/guide_MEIS1' was written without encoding metadata.\n",
      "  return read_elem(dataset)\n",
      "/home/icb/yuge.ji/miniconda3/envs/test_env3/lib/python3.10/site-packages/anndata/_io/specs/methods.py:590: OldFormatWarning: Element '/obs/guide_MIDN' was written without encoding metadata.\n",
      "  return read_elem(dataset)\n",
      "/home/icb/yuge.ji/miniconda3/envs/test_env3/lib/python3.10/site-packages/anndata/_io/specs/methods.py:590: OldFormatWarning: Element '/obs/guide_NCL' was written without encoding metadata.\n",
      "  return read_elem(dataset)\n",
      "/home/icb/yuge.ji/miniconda3/envs/test_env3/lib/python3.10/site-packages/anndata/_io/specs/methods.py:590: OldFormatWarning: Element '/obs/guide_NIT1' was written without encoding metadata.\n",
      "  return read_elem(dataset)\n",
      "/home/icb/yuge.ji/miniconda3/envs/test_env3/lib/python3.10/site-packages/anndata/_io/specs/methods.py:590: OldFormatWarning: Element '/obs/guide_OSR2' was written without encoding metadata.\n",
      "  return read_elem(dataset)\n",
      "/home/icb/yuge.ji/miniconda3/envs/test_env3/lib/python3.10/site-packages/anndata/_io/specs/methods.py:590: OldFormatWarning: Element '/obs/guide_PLK4' was written without encoding metadata.\n",
      "  return read_elem(dataset)\n",
      "/home/icb/yuge.ji/miniconda3/envs/test_env3/lib/python3.10/site-packages/anndata/_io/specs/methods.py:590: OldFormatWarning: Element '/obs/guide_POU3F2' was written without encoding metadata.\n",
      "  return read_elem(dataset)\n",
      "/home/icb/yuge.ji/miniconda3/envs/test_env3/lib/python3.10/site-packages/anndata/_io/specs/methods.py:590: OldFormatWarning: Element '/obs/guide_PRDM1' was written without encoding metadata.\n",
      "  return read_elem(dataset)\n",
      "/home/icb/yuge.ji/miniconda3/envs/test_env3/lib/python3.10/site-packages/anndata/_io/specs/methods.py:590: OldFormatWarning: Element '/obs/guide_PRTG' was written without encoding metadata.\n",
      "  return read_elem(dataset)\n",
      "/home/icb/yuge.ji/miniconda3/envs/test_env3/lib/python3.10/site-packages/anndata/_io/specs/methods.py:590: OldFormatWarning: Element '/obs/guide_PTPN1' was written without encoding metadata.\n",
      "  return read_elem(dataset)\n",
      "/home/icb/yuge.ji/miniconda3/envs/test_env3/lib/python3.10/site-packages/anndata/_io/specs/methods.py:590: OldFormatWarning: Element '/obs/guide_PTPN12' was written without encoding metadata.\n",
      "  return read_elem(dataset)\n",
      "/home/icb/yuge.ji/miniconda3/envs/test_env3/lib/python3.10/site-packages/anndata/_io/specs/methods.py:590: OldFormatWarning: Element '/obs/guide_PTPN13' was written without encoding metadata.\n",
      "  return read_elem(dataset)\n",
      "/home/icb/yuge.ji/miniconda3/envs/test_env3/lib/python3.10/site-packages/anndata/_io/specs/methods.py:590: OldFormatWarning: Element '/obs/guide_PTPN9' was written without encoding metadata.\n",
      "  return read_elem(dataset)\n",
      "/home/icb/yuge.ji/miniconda3/envs/test_env3/lib/python3.10/site-packages/anndata/_io/specs/methods.py:590: OldFormatWarning: Element '/obs/guide_RHOXF2' was written without encoding metadata.\n",
      "  return read_elem(dataset)\n",
      "/home/icb/yuge.ji/miniconda3/envs/test_env3/lib/python3.10/site-packages/anndata/_io/specs/methods.py:590: OldFormatWarning: Element '/obs/guide_RREB1' was written without encoding metadata.\n",
      "  return read_elem(dataset)\n",
      "/home/icb/yuge.ji/miniconda3/envs/test_env3/lib/python3.10/site-packages/anndata/_io/specs/methods.py:590: OldFormatWarning: Element '/obs/guide_RUNX1T1' was written without encoding metadata.\n",
      "  return read_elem(dataset)\n",
      "/home/icb/yuge.ji/miniconda3/envs/test_env3/lib/python3.10/site-packages/anndata/_io/specs/methods.py:590: OldFormatWarning: Element '/obs/guide_S1PR2' was written without encoding metadata.\n",
      "  return read_elem(dataset)\n",
      "/home/icb/yuge.ji/miniconda3/envs/test_env3/lib/python3.10/site-packages/anndata/_io/specs/methods.py:590: OldFormatWarning: Element '/obs/guide_SAMD1' was written without encoding metadata.\n",
      "  return read_elem(dataset)\n",
      "/home/icb/yuge.ji/miniconda3/envs/test_env3/lib/python3.10/site-packages/anndata/_io/specs/methods.py:590: OldFormatWarning: Element '/obs/guide_SET' was written without encoding metadata.\n",
      "  return read_elem(dataset)\n",
      "/home/icb/yuge.ji/miniconda3/envs/test_env3/lib/python3.10/site-packages/anndata/_io/specs/methods.py:590: OldFormatWarning: Element '/obs/guide_SGK1' was written without encoding metadata.\n",
      "  return read_elem(dataset)\n",
      "/home/icb/yuge.ji/miniconda3/envs/test_env3/lib/python3.10/site-packages/anndata/_io/specs/methods.py:590: OldFormatWarning: Element '/obs/guide_SLC38A2' was written without encoding metadata.\n",
      "  return read_elem(dataset)\n",
      "/home/icb/yuge.ji/miniconda3/envs/test_env3/lib/python3.10/site-packages/anndata/_io/specs/methods.py:590: OldFormatWarning: Element '/obs/guide_SLC4A1' was written without encoding metadata.\n",
      "  return read_elem(dataset)\n",
      "/home/icb/yuge.ji/miniconda3/envs/test_env3/lib/python3.10/site-packages/anndata/_io/specs/methods.py:590: OldFormatWarning: Element '/obs/guide_SLC6A9' was written without encoding metadata.\n",
      "  return read_elem(dataset)\n",
      "/home/icb/yuge.ji/miniconda3/envs/test_env3/lib/python3.10/site-packages/anndata/_io/specs/methods.py:590: OldFormatWarning: Element '/obs/guide_SNAI1' was written without encoding metadata.\n",
      "  return read_elem(dataset)\n",
      "/home/icb/yuge.ji/miniconda3/envs/test_env3/lib/python3.10/site-packages/anndata/_io/specs/methods.py:590: OldFormatWarning: Element '/obs/guide_SPI1' was written without encoding metadata.\n",
      "  return read_elem(dataset)\n",
      "/home/icb/yuge.ji/miniconda3/envs/test_env3/lib/python3.10/site-packages/anndata/_io/specs/methods.py:590: OldFormatWarning: Element '/obs/guide_STIL' was written without encoding metadata.\n",
      "  return read_elem(dataset)\n",
      "/home/icb/yuge.ji/miniconda3/envs/test_env3/lib/python3.10/site-packages/anndata/_io/specs/methods.py:590: OldFormatWarning: Element '/obs/guide_TBX2' was written without encoding metadata.\n",
      "  return read_elem(dataset)\n",
      "/home/icb/yuge.ji/miniconda3/envs/test_env3/lib/python3.10/site-packages/anndata/_io/specs/methods.py:590: OldFormatWarning: Element '/obs/guide_TBX3' was written without encoding metadata.\n",
      "  return read_elem(dataset)\n",
      "/home/icb/yuge.ji/miniconda3/envs/test_env3/lib/python3.10/site-packages/anndata/_io/specs/methods.py:590: OldFormatWarning: Element '/obs/guide_TGFBR2' was written without encoding metadata.\n",
      "  return read_elem(dataset)\n",
      "/home/icb/yuge.ji/miniconda3/envs/test_env3/lib/python3.10/site-packages/anndata/_io/specs/methods.py:590: OldFormatWarning: Element '/obs/guide_TMSB4X' was written without encoding metadata.\n",
      "  return read_elem(dataset)\n",
      "/home/icb/yuge.ji/miniconda3/envs/test_env3/lib/python3.10/site-packages/anndata/_io/specs/methods.py:590: OldFormatWarning: Element '/obs/guide_TP73' was written without encoding metadata.\n",
      "  return read_elem(dataset)\n",
      "/home/icb/yuge.ji/miniconda3/envs/test_env3/lib/python3.10/site-packages/anndata/_io/specs/methods.py:590: OldFormatWarning: Element '/obs/guide_TSC22D1' was written without encoding metadata.\n",
      "  return read_elem(dataset)\n",
      "/home/icb/yuge.ji/miniconda3/envs/test_env3/lib/python3.10/site-packages/anndata/_io/specs/methods.py:590: OldFormatWarning: Element '/obs/guide_UBASH3A' was written without encoding metadata.\n",
      "  return read_elem(dataset)\n",
      "/home/icb/yuge.ji/miniconda3/envs/test_env3/lib/python3.10/site-packages/anndata/_io/specs/methods.py:590: OldFormatWarning: Element '/obs/guide_UBASH3B' was written without encoding metadata.\n",
      "  return read_elem(dataset)\n",
      "/home/icb/yuge.ji/miniconda3/envs/test_env3/lib/python3.10/site-packages/anndata/_io/specs/methods.py:590: OldFormatWarning: Element '/obs/guide_ZBTB1' was written without encoding metadata.\n",
      "  return read_elem(dataset)\n",
      "/home/icb/yuge.ji/miniconda3/envs/test_env3/lib/python3.10/site-packages/anndata/_io/specs/methods.py:590: OldFormatWarning: Element '/obs/guide_ZBTB10' was written without encoding metadata.\n",
      "  return read_elem(dataset)\n",
      "/home/icb/yuge.ji/miniconda3/envs/test_env3/lib/python3.10/site-packages/anndata/_io/specs/methods.py:590: OldFormatWarning: Element '/obs/guide_ZBTB25' was written without encoding metadata.\n",
      "  return read_elem(dataset)\n",
      "/home/icb/yuge.ji/miniconda3/envs/test_env3/lib/python3.10/site-packages/anndata/_io/specs/methods.py:590: OldFormatWarning: Element '/obs/guide_ZC3HAV1' was written without encoding metadata.\n",
      "  return read_elem(dataset)\n",
      "/home/icb/yuge.ji/miniconda3/envs/test_env3/lib/python3.10/site-packages/anndata/_io/specs/methods.py:590: OldFormatWarning: Element '/obs/guide_ZNF318' was written without encoding metadata.\n",
      "  return read_elem(dataset)\n",
      "/home/icb/yuge.ji/miniconda3/envs/test_env3/lib/python3.10/site-packages/anndata/_io/specs/methods.py:584: OldFormatWarning: Element '/obs/__categories/guide_ids' was written without encoding metadata.\n",
      "  categories = read_elem(categories_dset)\n",
      "/home/icb/yuge.ji/miniconda3/envs/test_env3/lib/python3.10/site-packages/anndata/_io/specs/methods.py:587: OldFormatWarning: Element '/obs/guide_ids' was written without encoding metadata.\n",
      "  read_elem(dataset), categories, ordered=ordered\n",
      "/home/icb/yuge.ji/miniconda3/envs/test_env3/lib/python3.10/site-packages/anndata/_io/specs/methods.py:590: OldFormatWarning: Element '/obs/n_genes' was written without encoding metadata.\n",
      "  return read_elem(dataset)\n",
      "/home/icb/yuge.ji/miniconda3/envs/test_env3/lib/python3.10/site-packages/anndata/_io/specs/methods.py:590: OldFormatWarning: Element '/obs/n_genes_by_counts' was written without encoding metadata.\n",
      "  return read_elem(dataset)\n",
      "/home/icb/yuge.ji/miniconda3/envs/test_env3/lib/python3.10/site-packages/anndata/_io/specs/methods.py:590: OldFormatWarning: Element '/obs/total_counts' was written without encoding metadata.\n",
      "  return read_elem(dataset)\n",
      "/home/icb/yuge.ji/miniconda3/envs/test_env3/lib/python3.10/site-packages/anndata/_io/specs/methods.py:590: OldFormatWarning: Element '/obs/total_counts_mt' was written without encoding metadata.\n",
      "  return read_elem(dataset)\n",
      "/home/icb/yuge.ji/miniconda3/envs/test_env3/lib/python3.10/site-packages/anndata/_io/specs/methods.py:590: OldFormatWarning: Element '/obs/pct_counts_mt' was written without encoding metadata.\n",
      "  return read_elem(dataset)\n",
      "/home/icb/yuge.ji/miniconda3/envs/test_env3/lib/python3.10/site-packages/anndata/_io/specs/methods.py:584: OldFormatWarning: Element '/obs/__categories/leiden' was written without encoding metadata.\n",
      "  categories = read_elem(categories_dset)\n",
      "/home/icb/yuge.ji/miniconda3/envs/test_env3/lib/python3.10/site-packages/anndata/_io/specs/methods.py:587: OldFormatWarning: Element '/obs/leiden' was written without encoding metadata.\n",
      "  read_elem(dataset), categories, ordered=ordered\n",
      "/home/icb/yuge.ji/miniconda3/envs/test_env3/lib/python3.10/site-packages/anndata/_io/specs/methods.py:584: OldFormatWarning: Element '/obs/__categories/perturbation_name' was written without encoding metadata.\n",
      "  categories = read_elem(categories_dset)\n",
      "/home/icb/yuge.ji/miniconda3/envs/test_env3/lib/python3.10/site-packages/anndata/_io/specs/methods.py:587: OldFormatWarning: Element '/obs/perturbation_name' was written without encoding metadata.\n",
      "  read_elem(dataset), categories, ordered=ordered\n",
      "/home/icb/yuge.ji/miniconda3/envs/test_env3/lib/python3.10/site-packages/anndata/_io/specs/methods.py:584: OldFormatWarning: Element '/obs/__categories/perturbation_type' was written without encoding metadata.\n",
      "  categories = read_elem(categories_dset)\n",
      "/home/icb/yuge.ji/miniconda3/envs/test_env3/lib/python3.10/site-packages/anndata/_io/specs/methods.py:587: OldFormatWarning: Element '/obs/perturbation_type' was written without encoding metadata.\n",
      "  read_elem(dataset), categories, ordered=ordered\n",
      "/home/icb/yuge.ji/miniconda3/envs/test_env3/lib/python3.10/site-packages/anndata/_io/specs/methods.py:590: OldFormatWarning: Element '/obs/perturbation_value' was written without encoding metadata.\n",
      "  return read_elem(dataset)\n",
      "/home/icb/yuge.ji/miniconda3/envs/test_env3/lib/python3.10/site-packages/anndata/_io/specs/methods.py:590: OldFormatWarning: Element '/obs/perturbation_unit' was written without encoding metadata.\n",
      "  return read_elem(dataset)\n",
      "/home/icb/yuge.ji/miniconda3/envs/test_env3/lib/python3.10/site-packages/anndata/_io/specs/methods.py:584: OldFormatWarning: Element '/obs/__categories/split' was written without encoding metadata.\n",
      "  categories = read_elem(categories_dset)\n",
      "/home/icb/yuge.ji/miniconda3/envs/test_env3/lib/python3.10/site-packages/anndata/_io/specs/methods.py:587: OldFormatWarning: Element '/obs/split' was written without encoding metadata.\n",
      "  read_elem(dataset), categories, ordered=ordered\n",
      "/home/icb/yuge.ji/miniconda3/envs/test_env3/lib/python3.10/site-packages/anndata/_io/specs/methods.py:590: OldFormatWarning: Element '/obs/_scvi_batch' was written without encoding metadata.\n",
      "  return read_elem(dataset)\n",
      "/home/icb/yuge.ji/miniconda3/envs/test_env3/lib/python3.10/site-packages/anndata/_io/specs/methods.py:590: OldFormatWarning: Element '/obs/_scvi_labels' was written without encoding metadata.\n",
      "  return read_elem(dataset)\n",
      "/home/icb/yuge.ji/miniconda3/envs/test_env3/lib/python3.10/site-packages/anndata/_io/specs/methods.py:590: OldFormatWarning: Element '/obs/index' was written without encoding metadata.\n",
      "  return read_elem(dataset)\n"
     ]
    },
    {
     "name": "stderr",
     "output_type": "stream",
     "text": [
      "/home/icb/yuge.ji/miniconda3/envs/test_env3/lib/python3.10/site-packages/anndata/_io/h5ad.py:238: OldFormatWarning: Element '/obsm' was written without encoding metadata.\n",
      "  d[k] = read_elem(f[k])\n",
      "/home/icb/yuge.ji/miniconda3/envs/test_env3/lib/python3.10/site-packages/anndata/_io/specs/methods.py:92: OldFormatWarning: Element '/obsm/X_pca' was written without encoding metadata.\n",
      "  return {k: read_elem(v) for k, v in elem.items()}\n",
      "/home/icb/yuge.ji/miniconda3/envs/test_env3/lib/python3.10/site-packages/anndata/_io/specs/methods.py:92: OldFormatWarning: Element '/obsm/X_umap' was written without encoding metadata.\n",
      "  return {k: read_elem(v) for k, v in elem.items()}\n",
      "/home/icb/yuge.ji/miniconda3/envs/test_env3/lib/python3.10/site-packages/anndata/_io/h5ad.py:238: OldFormatWarning: Element '/obsp' was written without encoding metadata.\n",
      "  d[k] = read_elem(f[k])\n",
      "/home/icb/yuge.ji/miniconda3/envs/test_env3/lib/python3.10/site-packages/anndata/_io/h5ad.py:238: OldFormatWarning: Element '/uns' was written without encoding metadata.\n",
      "  d[k] = read_elem(f[k])\n",
      "/home/icb/yuge.ji/miniconda3/envs/test_env3/lib/python3.10/site-packages/anndata/_io/specs/methods.py:92: OldFormatWarning: Element '/uns/_scvi_manager_uuid' was written without encoding metadata.\n",
      "  return {k: read_elem(v) for k, v in elem.items()}\n",
      "/home/icb/yuge.ji/miniconda3/envs/test_env3/lib/python3.10/site-packages/anndata/_io/specs/methods.py:92: OldFormatWarning: Element '/uns/_scvi_uuid' was written without encoding metadata.\n",
      "  return {k: read_elem(v) for k, v in elem.items()}\n",
      "/home/icb/yuge.ji/miniconda3/envs/test_env3/lib/python3.10/site-packages/anndata/_io/specs/methods.py:92: OldFormatWarning: Element '/uns/doi' was written without encoding metadata.\n",
      "  return {k: read_elem(v) for k, v in elem.items()}\n",
      "/home/icb/yuge.ji/miniconda3/envs/test_env3/lib/python3.10/site-packages/anndata/_io/specs/methods.py:92: OldFormatWarning: Element '/uns/hvg' was written without encoding metadata.\n",
      "  return {k: read_elem(v) for k, v in elem.items()}\n",
      "/home/icb/yuge.ji/miniconda3/envs/test_env3/lib/python3.10/site-packages/anndata/_io/specs/methods.py:92: OldFormatWarning: Element '/uns/hvg/flavor' was written without encoding metadata.\n",
      "  return {k: read_elem(v) for k, v in elem.items()}\n",
      "/home/icb/yuge.ji/miniconda3/envs/test_env3/lib/python3.10/site-packages/anndata/_io/specs/methods.py:92: OldFormatWarning: Element '/uns/leiden' was written without encoding metadata.\n",
      "  return {k: read_elem(v) for k, v in elem.items()}\n",
      "/home/icb/yuge.ji/miniconda3/envs/test_env3/lib/python3.10/site-packages/anndata/_io/specs/methods.py:92: OldFormatWarning: Element '/uns/leiden/params' was written without encoding metadata.\n",
      "  return {k: read_elem(v) for k, v in elem.items()}\n",
      "/home/icb/yuge.ji/miniconda3/envs/test_env3/lib/python3.10/site-packages/anndata/_io/specs/methods.py:92: OldFormatWarning: Element '/uns/leiden/params/n_iterations' was written without encoding metadata.\n",
      "  return {k: read_elem(v) for k, v in elem.items()}\n",
      "/home/icb/yuge.ji/miniconda3/envs/test_env3/lib/python3.10/site-packages/anndata/_io/specs/methods.py:92: OldFormatWarning: Element '/uns/leiden/params/random_state' was written without encoding metadata.\n",
      "  return {k: read_elem(v) for k, v in elem.items()}\n",
      "/home/icb/yuge.ji/miniconda3/envs/test_env3/lib/python3.10/site-packages/anndata/_io/specs/methods.py:92: OldFormatWarning: Element '/uns/leiden/params/resolution' was written without encoding metadata.\n",
      "  return {k: read_elem(v) for k, v in elem.items()}\n",
      "/home/icb/yuge.ji/miniconda3/envs/test_env3/lib/python3.10/site-packages/anndata/_io/specs/methods.py:92: OldFormatWarning: Element '/uns/neighbors' was written without encoding metadata.\n",
      "  return {k: read_elem(v) for k, v in elem.items()}\n",
      "/home/icb/yuge.ji/miniconda3/envs/test_env3/lib/python3.10/site-packages/anndata/_io/specs/methods.py:92: OldFormatWarning: Element '/uns/neighbors/connectivities_key' was written without encoding metadata.\n",
      "  return {k: read_elem(v) for k, v in elem.items()}\n",
      "/home/icb/yuge.ji/miniconda3/envs/test_env3/lib/python3.10/site-packages/anndata/_io/specs/methods.py:92: OldFormatWarning: Element '/uns/neighbors/distances_key' was written without encoding metadata.\n",
      "  return {k: read_elem(v) for k, v in elem.items()}\n",
      "/home/icb/yuge.ji/miniconda3/envs/test_env3/lib/python3.10/site-packages/anndata/_io/specs/methods.py:92: OldFormatWarning: Element '/uns/neighbors/params' was written without encoding metadata.\n",
      "  return {k: read_elem(v) for k, v in elem.items()}\n",
      "/home/icb/yuge.ji/miniconda3/envs/test_env3/lib/python3.10/site-packages/anndata/_io/specs/methods.py:92: OldFormatWarning: Element '/uns/neighbors/params/method' was written without encoding metadata.\n",
      "  return {k: read_elem(v) for k, v in elem.items()}\n",
      "/home/icb/yuge.ji/miniconda3/envs/test_env3/lib/python3.10/site-packages/anndata/_io/specs/methods.py:92: OldFormatWarning: Element '/uns/neighbors/params/metric' was written without encoding metadata.\n",
      "  return {k: read_elem(v) for k, v in elem.items()}\n",
      "/home/icb/yuge.ji/miniconda3/envs/test_env3/lib/python3.10/site-packages/anndata/_io/specs/methods.py:92: OldFormatWarning: Element '/uns/neighbors/params/n_neighbors' was written without encoding metadata.\n",
      "  return {k: read_elem(v) for k, v in elem.items()}\n",
      "/home/icb/yuge.ji/miniconda3/envs/test_env3/lib/python3.10/site-packages/anndata/_io/specs/methods.py:92: OldFormatWarning: Element '/uns/neighbors/params/random_state' was written without encoding metadata.\n",
      "  return {k: read_elem(v) for k, v in elem.items()}\n",
      "/home/icb/yuge.ji/miniconda3/envs/test_env3/lib/python3.10/site-packages/anndata/_io/specs/methods.py:92: OldFormatWarning: Element '/uns/pca' was written without encoding metadata.\n",
      "  return {k: read_elem(v) for k, v in elem.items()}\n",
      "/home/icb/yuge.ji/miniconda3/envs/test_env3/lib/python3.10/site-packages/anndata/_io/specs/methods.py:92: OldFormatWarning: Element '/uns/pca/params' was written without encoding metadata.\n",
      "  return {k: read_elem(v) for k, v in elem.items()}\n",
      "/home/icb/yuge.ji/miniconda3/envs/test_env3/lib/python3.10/site-packages/anndata/_io/specs/methods.py:92: OldFormatWarning: Element '/uns/pca/params/use_highly_variable' was written without encoding metadata.\n",
      "  return {k: read_elem(v) for k, v in elem.items()}\n",
      "/home/icb/yuge.ji/miniconda3/envs/test_env3/lib/python3.10/site-packages/anndata/_io/specs/methods.py:92: OldFormatWarning: Element '/uns/pca/params/zero_center' was written without encoding metadata.\n",
      "  return {k: read_elem(v) for k, v in elem.items()}\n",
      "/home/icb/yuge.ji/miniconda3/envs/test_env3/lib/python3.10/site-packages/anndata/_io/specs/methods.py:92: OldFormatWarning: Element '/uns/pca/variance' was written without encoding metadata.\n",
      "  return {k: read_elem(v) for k, v in elem.items()}\n",
      "/home/icb/yuge.ji/miniconda3/envs/test_env3/lib/python3.10/site-packages/anndata/_io/specs/methods.py:92: OldFormatWarning: Element '/uns/pca/variance_ratio' was written without encoding metadata.\n",
      "  return {k: read_elem(v) for k, v in elem.items()}\n",
      "/home/icb/yuge.ji/miniconda3/envs/test_env3/lib/python3.10/site-packages/anndata/_io/specs/methods.py:92: OldFormatWarning: Element '/uns/preprocessing_nb_link' was written without encoding metadata.\n",
      "  return {k: read_elem(v) for k, v in elem.items()}\n",
      "/home/icb/yuge.ji/miniconda3/envs/test_env3/lib/python3.10/site-packages/anndata/_io/specs/methods.py:92: OldFormatWarning: Element '/uns/umap' was written without encoding metadata.\n",
      "  return {k: read_elem(v) for k, v in elem.items()}\n",
      "/home/icb/yuge.ji/miniconda3/envs/test_env3/lib/python3.10/site-packages/anndata/_io/specs/methods.py:92: OldFormatWarning: Element '/uns/umap/params' was written without encoding metadata.\n",
      "  return {k: read_elem(v) for k, v in elem.items()}\n",
      "/home/icb/yuge.ji/miniconda3/envs/test_env3/lib/python3.10/site-packages/anndata/_io/specs/methods.py:92: OldFormatWarning: Element '/uns/umap/params/a' was written without encoding metadata.\n",
      "  return {k: read_elem(v) for k, v in elem.items()}\n",
      "/home/icb/yuge.ji/miniconda3/envs/test_env3/lib/python3.10/site-packages/anndata/_io/specs/methods.py:92: OldFormatWarning: Element '/uns/umap/params/b' was written without encoding metadata.\n",
      "  return {k: read_elem(v) for k, v in elem.items()}\n",
      "/home/icb/yuge.ji/miniconda3/envs/test_env3/lib/python3.10/site-packages/anndata/_io/specs/methods.py:590: OldFormatWarning: Element '/var/index' was written without encoding metadata.\n",
      "  return read_elem(dataset)\n",
      "/home/icb/yuge.ji/miniconda3/envs/test_env3/lib/python3.10/site-packages/anndata/_io/specs/methods.py:590: OldFormatWarning: Element '/var/n_cells' was written without encoding metadata.\n",
      "  return read_elem(dataset)\n",
      "/home/icb/yuge.ji/miniconda3/envs/test_env3/lib/python3.10/site-packages/anndata/_io/specs/methods.py:590: OldFormatWarning: Element '/var/mt' was written without encoding metadata.\n",
      "  return read_elem(dataset)\n",
      "/home/icb/yuge.ji/miniconda3/envs/test_env3/lib/python3.10/site-packages/anndata/_io/specs/methods.py:590: OldFormatWarning: Element '/var/n_cells_by_counts' was written without encoding metadata.\n",
      "  return read_elem(dataset)\n",
      "/home/icb/yuge.ji/miniconda3/envs/test_env3/lib/python3.10/site-packages/anndata/_io/specs/methods.py:590: OldFormatWarning: Element '/var/mean_counts' was written without encoding metadata.\n",
      "  return read_elem(dataset)\n",
      "/home/icb/yuge.ji/miniconda3/envs/test_env3/lib/python3.10/site-packages/anndata/_io/specs/methods.py:590: OldFormatWarning: Element '/var/pct_dropout_by_counts' was written without encoding metadata.\n",
      "  return read_elem(dataset)\n",
      "/home/icb/yuge.ji/miniconda3/envs/test_env3/lib/python3.10/site-packages/anndata/_io/specs/methods.py:590: OldFormatWarning: Element '/var/total_counts' was written without encoding metadata.\n",
      "  return read_elem(dataset)\n",
      "/home/icb/yuge.ji/miniconda3/envs/test_env3/lib/python3.10/site-packages/anndata/_io/specs/methods.py:590: OldFormatWarning: Element '/var/highly_variable' was written without encoding metadata.\n",
      "  return read_elem(dataset)\n",
      "/home/icb/yuge.ji/miniconda3/envs/test_env3/lib/python3.10/site-packages/anndata/_io/specs/methods.py:590: OldFormatWarning: Element '/var/means' was written without encoding metadata.\n",
      "  return read_elem(dataset)\n",
      "/home/icb/yuge.ji/miniconda3/envs/test_env3/lib/python3.10/site-packages/anndata/_io/specs/methods.py:590: OldFormatWarning: Element '/var/dispersions' was written without encoding metadata.\n",
      "  return read_elem(dataset)\n",
      "/home/icb/yuge.ji/miniconda3/envs/test_env3/lib/python3.10/site-packages/anndata/_io/specs/methods.py:590: OldFormatWarning: Element '/var/dispersions_norm' was written without encoding metadata.\n",
      "  return read_elem(dataset)\n",
      "/home/icb/yuge.ji/miniconda3/envs/test_env3/lib/python3.10/site-packages/anndata/_io/specs/methods.py:590: OldFormatWarning: Element '/var/gene_symbols' was written without encoding metadata.\n",
      "  return read_elem(dataset)\n",
      "/home/icb/yuge.ji/miniconda3/envs/test_env3/lib/python3.10/site-packages/anndata/_io/h5ad.py:238: OldFormatWarning: Element '/varm' was written without encoding metadata.\n",
      "  d[k] = read_elem(f[k])\n",
      "/home/icb/yuge.ji/miniconda3/envs/test_env3/lib/python3.10/site-packages/anndata/_io/specs/methods.py:92: OldFormatWarning: Element '/varm/PCs' was written without encoding metadata.\n",
      "  return {k: read_elem(v) for k, v in elem.items()}\n"
     ]
    },
    {
     "data": {
      "text/plain": [
       "AnnData object with n_obs × n_vars = 69570 × 19018\n",
       "    obs: 'guide_identity', 'read_count', 'UMI_count', 'coverage', 'gemgroup', 'good_coverage', 'number_of_cells', 'guide_AHR', 'guide_ARID1A', 'guide_ARRDC3', 'guide_ATL1', 'guide_BAK1', 'guide_BCL2L11', 'guide_BCORL1', 'guide_BPGM', 'guide_C19orf26', 'guide_C3orf72', 'guide_CBFA2T3', 'guide_CBL', 'guide_CDKN1A', 'guide_CDKN1B', 'guide_CDKN1C', 'guide_CEBPA', 'guide_CEBPB', 'guide_CEBPE', 'guide_CELF2', 'guide_CITED1', 'guide_CKS1B', 'guide_CLDN6', 'guide_CNN1', 'guide_CNNM4', 'guide_COL1A1', 'guide_COL2A1', 'guide_CSRNP1', 'guide_DLX2', 'guide_DUSP9', 'guide_EGR1', 'guide_ELMSAN1', 'guide_ETS2', 'guide_FEV', 'guide_FOSB', 'guide_FOXA1', 'guide_FOXA3', 'guide_FOXF1', 'guide_FOXL2', 'guide_FOXO4', 'guide_GLB1L2', 'guide_HES7', 'guide_HK2', 'guide_HNF4A', 'guide_HOXA13', 'guide_HOXB9', 'guide_HOXC13', 'guide_IER5L', 'guide_IGDCC3', 'guide_IKZF3', 'guide_IRF1', 'guide_ISL2', 'guide_JUN', 'guide_KIAA1804', 'guide_KIF18B', 'guide_KIF2C', 'guide_KLF1', 'guide_KMT2A', 'guide_LHX1', 'guide_LYL1', 'guide_MAML2', 'guide_MAP2K3', 'guide_MAP2K6', 'guide_MAP4K3', 'guide_MAP4K5', 'guide_MAP7D1', 'guide_MAPK1', 'guide_MEIS1', 'guide_MIDN', 'guide_NCL', 'guide_NIT1', 'guide_OSR2', 'guide_PLK4', 'guide_POU3F2', 'guide_PRDM1', 'guide_PRTG', 'guide_PTPN1', 'guide_PTPN12', 'guide_PTPN13', 'guide_PTPN9', 'guide_RHOXF2', 'guide_RREB1', 'guide_RUNX1T1', 'guide_S1PR2', 'guide_SAMD1', 'guide_SET', 'guide_SGK1', 'guide_SLC38A2', 'guide_SLC4A1', 'guide_SLC6A9', 'guide_SNAI1', 'guide_SPI1', 'guide_STIL', 'guide_TBX2', 'guide_TBX3', 'guide_TGFBR2', 'guide_TMSB4X', 'guide_TP73', 'guide_TSC22D1', 'guide_UBASH3A', 'guide_UBASH3B', 'guide_ZBTB1', 'guide_ZBTB10', 'guide_ZBTB25', 'guide_ZC3HAV1', 'guide_ZNF318', 'guide_ids', 'n_genes', 'n_genes_by_counts', 'total_counts', 'total_counts_mt', 'pct_counts_mt', 'leiden', 'perturbation_name', 'perturbation_type', 'perturbation_value', 'perturbation_unit', 'split', '_scvi_batch', '_scvi_labels'\n",
       "    var: 'index', 'n_cells', 'mt', 'n_cells_by_counts', 'mean_counts', 'pct_dropout_by_counts', 'total_counts', 'highly_variable', 'means', 'dispersions', 'dispersions_norm'\n",
       "    uns: '_scvi_manager_uuid', '_scvi_uuid', 'doi', 'hvg', 'leiden', 'neighbors', 'pca', 'preprocessing_nb_link', 'umap'\n",
       "    obsm: 'X_pca', 'X_umap'\n",
       "    varm: 'PCs'\n",
       "    layers: 'counts'\n",
       "    obsp: 'connectivities', 'distances'"
      ]
     },
     "execution_count": 3,
     "metadata": {},
     "output_type": "execute_result"
    }
   ],
   "source": [
    "base_path = '/home/icb/yuge.ji/projects/feature-attribution-sc'\n",
    "adata = sc.read(f'{base_path}/datasets/scgen_norman19.h5ad')\n",
    "adata"
   ]
  },
  {
   "cell_type": "code",
   "execution_count": 4,
   "id": "81716532",
   "metadata": {
    "scrolled": false
   },
   "outputs": [
    {
     "name": "stdout",
     "output_type": "stream",
     "text": [
      "\u001b[34mINFO    \u001b[0m File \u001b[35m/home/icb/yuge.ji/projects/feature-attribution-sc/models/scgen_norman19_model1_\u001b[0m\n",
      "         \u001b[35mshuffled/\u001b[0m\u001b[95mmodel.pt\u001b[0m already downloaded                                                \n"
     ]
    },
    {
     "data": {
      "text/html": [
       "<pre style=\"white-space:pre;overflow-x:auto;line-height:normal;font-family:Menlo,'DejaVu Sans Mono',consolas,'Courier New',monospace\">SCGEN Model with the following params: \n",
       "n_hidden: <span style=\"color: #008080; text-decoration-color: #008080; font-weight: bold\">800</span>, n_latent: <span style=\"color: #008080; text-decoration-color: #008080; font-weight: bold\">100</span>, n_layers: <span style=\"color: #008080; text-decoration-color: #008080; font-weight: bold\">2</span>, dropout_rate: <span style=\"color: #008080; text-decoration-color: #008080; font-weight: bold\">0.2</span>\n",
       "Training status: Trained\n",
       "</pre>\n"
      ],
      "text/plain": [
       "SCGEN Model with the following params: \n",
       "n_hidden: \u001b[1;36m800\u001b[0m, n_latent: \u001b[1;36m100\u001b[0m, n_layers: \u001b[1;36m2\u001b[0m, dropout_rate: \u001b[1;36m0.2\u001b[0m\n",
       "Training status: Trained\n"
      ]
     },
     "metadata": {},
     "output_type": "display_data"
    },
    {
     "data": {
      "text/plain": []
     },
     "execution_count": 4,
     "metadata": {},
     "output_type": "execute_result"
    }
   ],
   "source": [
    "file = 'scgen_norman19_model1_shuffled'\n",
    "model = scgen.SCGEN.load(f'{base_path}/models/{file}', adata=adata)\n",
    "model"
   ]
  },
  {
   "cell_type": "markdown",
   "id": "1e608efe",
   "metadata": {},
   "source": [
    "get cell type names that match the labels (integers in the model):"
   ]
  },
  {
   "cell_type": "code",
   "execution_count": null,
   "id": "795acd36",
   "metadata": {},
   "outputs": [],
   "source": [
    "adata."
   ]
  },
  {
   "cell_type": "code",
   "execution_count": 5,
   "id": "8489a05b",
   "metadata": {},
   "outputs": [],
   "source": [
    "# ct_names = model.adata_manager.get_state_registry(REGISTRY_KEYS.LABELS_KEY)['original_key']\n",
    "# ct_names = [ct for ct in ct_names if ct != \"unlabeled\"]"
   ]
  },
  {
   "cell_type": "markdown",
   "id": "d257ffeb",
   "metadata": {},
   "source": [
    "retrieve the data as a tensor from the dataloader. We'll define batch size to be the size of the whole dataset to do so.\n",
    "\n",
    "We also need to subset Norman to achieve a reasonable runtime given a model trained on the full gene set, as this feature ablation implementation scales with the number of features."
   ]
  },
  {
   "cell_type": "code",
   "execution_count": 47,
   "id": "5a9c61c7",
   "metadata": {},
   "outputs": [
    {
     "data": {
      "text/plain": [
       "control    11835\n",
       "KLF1        1954\n",
       "BAK1        1451\n",
       "CEBPE       1230\n",
       "ETS2        1201\n",
       "           ...  \n",
       "FOXO4        215\n",
       "NIT1         191\n",
       "ZBTB10       160\n",
       "HES7         126\n",
       "PLK4         113\n",
       "Name: perturbation_name, Length: 106, dtype: int64"
      ]
     },
     "execution_count": 47,
     "metadata": {},
     "output_type": "execute_result"
    }
   ],
   "source": [
    "adata.obs.perturbation_name.value_counts()"
   ]
  },
  {
   "cell_type": "code",
   "execution_count": 58,
   "id": "1666fcf9",
   "metadata": {},
   "outputs": [
    {
     "ename": "NameError",
     "evalue": "name 'np' is not defined",
     "output_type": "error",
     "traceback": [
      "\u001b[0;31m---------------------------------------------------------------------------\u001b[0m",
      "\u001b[0;31mNameError\u001b[0m                                 Traceback (most recent call last)",
      "Cell \u001b[0;32mIn [58], line 1\u001b[0m\n\u001b[0;32m----> 1\u001b[0m indices \u001b[38;5;241m=\u001b[39m [np\u001b[38;5;241m.\u001b[39marray(sc\u001b[38;5;241m.\u001b[39mpp\u001b[38;5;241m.\u001b[39msubsample(adata[adata\u001b[38;5;241m.\u001b[39mobs\u001b[38;5;241m.\u001b[39mperturbation_name \u001b[38;5;241m==\u001b[39m c], n_obs\u001b[38;5;241m=\u001b[39m\u001b[38;5;241m100\u001b[39m, copy\u001b[38;5;241m=\u001b[39m\u001b[38;5;28;01mTrue\u001b[39;00m)\u001b[38;5;241m.\u001b[39mobs\u001b[38;5;241m.\u001b[39mindex) \u001b[38;5;28;01mfor\u001b[39;00m c \u001b[38;5;129;01min\u001b[39;00m adata\u001b[38;5;241m.\u001b[39mobs\u001b[38;5;241m.\u001b[39mperturbation_name\u001b[38;5;241m.\u001b[39munique()]\n",
      "Cell \u001b[0;32mIn [58], line 1\u001b[0m, in \u001b[0;36m<listcomp>\u001b[0;34m(.0)\u001b[0m\n\u001b[0;32m----> 1\u001b[0m indices \u001b[38;5;241m=\u001b[39m [\u001b[43mnp\u001b[49m\u001b[38;5;241m.\u001b[39marray(sc\u001b[38;5;241m.\u001b[39mpp\u001b[38;5;241m.\u001b[39msubsample(adata[adata\u001b[38;5;241m.\u001b[39mobs\u001b[38;5;241m.\u001b[39mperturbation_name \u001b[38;5;241m==\u001b[39m c], n_obs\u001b[38;5;241m=\u001b[39m\u001b[38;5;241m100\u001b[39m, copy\u001b[38;5;241m=\u001b[39m\u001b[38;5;28;01mTrue\u001b[39;00m)\u001b[38;5;241m.\u001b[39mobs\u001b[38;5;241m.\u001b[39mindex) \u001b[38;5;28;01mfor\u001b[39;00m c \u001b[38;5;129;01min\u001b[39;00m adata\u001b[38;5;241m.\u001b[39mobs\u001b[38;5;241m.\u001b[39mperturbation_name\u001b[38;5;241m.\u001b[39munique()]\n",
      "\u001b[0;31mNameError\u001b[0m: name 'np' is not defined"
     ]
    }
   ],
   "source": [
    "import numpy \n",
    "indices = [np.array(sc.pp.subsample(adata[adata.obs.perturbation_name == c], n_obs=100, copy=True).obs.index) for c in adata.obs.perturbation_name.unique()]"
   ]
  },
  {
   "cell_type": "code",
   "execution_count": null,
   "id": "3c6d6316",
   "metadata": {},
   "outputs": [],
   "source": [
    "indice"
   ]
  },
  {
   "cell_type": "code",
   "execution_count": 51,
   "id": "da20d1fd",
   "metadata": {},
   "outputs": [
    {
     "data": {
      "text/plain": [
       "AnnData object with n_obs × n_vars = 10600 × 19018\n",
       "    obs: 'guide_identity', 'read_count', 'UMI_count', 'coverage', 'gemgroup', 'good_coverage', 'number_of_cells', 'guide_AHR', 'guide_ARID1A', 'guide_ARRDC3', 'guide_ATL1', 'guide_BAK1', 'guide_BCL2L11', 'guide_BCORL1', 'guide_BPGM', 'guide_C19orf26', 'guide_C3orf72', 'guide_CBFA2T3', 'guide_CBL', 'guide_CDKN1A', 'guide_CDKN1B', 'guide_CDKN1C', 'guide_CEBPA', 'guide_CEBPB', 'guide_CEBPE', 'guide_CELF2', 'guide_CITED1', 'guide_CKS1B', 'guide_CLDN6', 'guide_CNN1', 'guide_CNNM4', 'guide_COL1A1', 'guide_COL2A1', 'guide_CSRNP1', 'guide_DLX2', 'guide_DUSP9', 'guide_EGR1', 'guide_ELMSAN1', 'guide_ETS2', 'guide_FEV', 'guide_FOSB', 'guide_FOXA1', 'guide_FOXA3', 'guide_FOXF1', 'guide_FOXL2', 'guide_FOXO4', 'guide_GLB1L2', 'guide_HES7', 'guide_HK2', 'guide_HNF4A', 'guide_HOXA13', 'guide_HOXB9', 'guide_HOXC13', 'guide_IER5L', 'guide_IGDCC3', 'guide_IKZF3', 'guide_IRF1', 'guide_ISL2', 'guide_JUN', 'guide_KIAA1804', 'guide_KIF18B', 'guide_KIF2C', 'guide_KLF1', 'guide_KMT2A', 'guide_LHX1', 'guide_LYL1', 'guide_MAML2', 'guide_MAP2K3', 'guide_MAP2K6', 'guide_MAP4K3', 'guide_MAP4K5', 'guide_MAP7D1', 'guide_MAPK1', 'guide_MEIS1', 'guide_MIDN', 'guide_NCL', 'guide_NIT1', 'guide_OSR2', 'guide_PLK4', 'guide_POU3F2', 'guide_PRDM1', 'guide_PRTG', 'guide_PTPN1', 'guide_PTPN12', 'guide_PTPN13', 'guide_PTPN9', 'guide_RHOXF2', 'guide_RREB1', 'guide_RUNX1T1', 'guide_S1PR2', 'guide_SAMD1', 'guide_SET', 'guide_SGK1', 'guide_SLC38A2', 'guide_SLC4A1', 'guide_SLC6A9', 'guide_SNAI1', 'guide_SPI1', 'guide_STIL', 'guide_TBX2', 'guide_TBX3', 'guide_TGFBR2', 'guide_TMSB4X', 'guide_TP73', 'guide_TSC22D1', 'guide_UBASH3A', 'guide_UBASH3B', 'guide_ZBTB1', 'guide_ZBTB10', 'guide_ZBTB25', 'guide_ZC3HAV1', 'guide_ZNF318', 'guide_ids', 'n_genes', 'n_genes_by_counts', 'total_counts', 'total_counts_mt', 'pct_counts_mt', 'leiden', 'perturbation_name', 'perturbation_type', 'perturbation_value', 'perturbation_unit', 'split', '_scvi_batch', '_scvi_labels'\n",
       "    obsm: 'X_pca', 'X_umap'\n",
       "    layers: 'counts'"
      ]
     },
     "execution_count": 51,
     "metadata": {},
     "output_type": "execute_result"
    }
   ],
   "source": [
    "import anndata as ad\n",
    "indices = [sc.pp.subsample(adata[adata.obs.perturbation_name == c], n_obs=100, copy=True).obs.index for c in adata.obs.perturbation_name.unique()]\n",
    "adata\n",
    "# batch_size=adata.shape[0]"
   ]
  },
  {
   "cell_type": "code",
   "execution_count": 5,
   "id": "17c11ce8",
   "metadata": {},
   "outputs": [],
   "source": [
    "batch_size=2"
   ]
  },
  {
   "cell_type": "markdown",
   "id": "2045f5ff",
   "metadata": {},
   "source": [
    "create a dataloader and load your first batch (in this case all the cells):"
   ]
  },
  {
   "cell_type": "code",
   "execution_count": 6,
   "id": "0d05ac81",
   "metadata": {},
   "outputs": [],
   "source": [
    "scdl = model._make_data_loader(adata=adata, indices=list(range(adata.shape[0])), batch_size=batch_size)\n",
    "batch = next(scdl.__iter__())"
   ]
  },
  {
   "cell_type": "markdown",
   "id": "6c281fe3",
   "metadata": {},
   "source": [
    "### Measure feature attribution with respect to posterior"
   ]
  },
  {
   "cell_type": "markdown",
   "id": "2c269cf8",
   "metadata": {},
   "source": [
    "Wrap `model.module.forward` because captum has an internal check that the inputs pass are tensors. scGen does not use a nb loss by default so we only have a single reconstruction output, `px`."
   ]
  },
  {
   "cell_type": "code",
   "execution_count": 7,
   "id": "736c9a88",
   "metadata": {},
   "outputs": [],
   "source": [
    "# inference output is in [0], generative output is in [1]\n",
    "forw = lambda x, y, z: model.module.forward({'X': x, 'batch':y, 'labels':z}, compute_loss=False)[1]['px']"
   ]
  },
  {
   "cell_type": "code",
   "execution_count": 8,
   "id": "c8281c53",
   "metadata": {},
   "outputs": [
    {
     "data": {
      "text/plain": [
       "torch.Size([2, 19018])"
      ]
     },
     "execution_count": 8,
     "metadata": {},
     "output_type": "execute_result"
    }
   ],
   "source": [
    "# example output\n",
    "model.module.forward(batch, compute_loss=False)[1]['px'].shape"
   ]
  },
  {
   "cell_type": "markdown",
   "id": "427b9ded",
   "metadata": {},
   "source": [
    "create the ablator, containing the forward function inside of it:"
   ]
  },
  {
   "cell_type": "code",
   "execution_count": 9,
   "id": "dc4065f8",
   "metadata": {},
   "outputs": [],
   "source": [
    "ablator = FeatureAblation(forw)"
   ]
  },
  {
   "cell_type": "markdown",
   "id": "cdf562a8",
   "metadata": {},
   "source": [
    "Run the feature attribution function. The attribution below outputs two tensors. One ablates the gene features one by one, for every cell, and has shape (n_cells * n_ct_classes) * n_genes. The other ablates the (biological) batch variable, which it takes as a single, continuous variable (even though it is a one-hot encoded (n_datasets)-dimensional variable), and therefore ablates it once per cell, and outputs a (n_cells * n_ct_classes) * 1 shape tensor. We'll ignore that one."
   ]
  },
  {
   "cell_type": "code",
   "execution_count": null,
   "id": "4fb04c06",
   "metadata": {},
   "outputs": [
    {
     "name": "stderr",
     "output_type": "stream",
     "text": [
      "Feature Ablation attribution:   1%|▉                                                                                                                                                                                  | 106/19021 [01:05<3:15:58,  1.61it/s]"
     ]
    }
   ],
   "source": [
    "%%time\n",
    "# per feature per output\n",
    "attribution_map = ablator.attribute(\n",
    "    (batch['X'], batch['batch'], batch['labels']),\n",
    "    perturbations_per_eval=1,\n",
    "    show_progress=True\n",
    ")"
   ]
  },
  {
   "cell_type": "code",
   "execution_count": 9,
   "id": "ee9c602a",
   "metadata": {},
   "outputs": [],
   "source": [
    "attribution_map_genes = attribution_map[0] # take only the first tensor (explained above)"
   ]
  },
  {
   "cell_type": "code",
   "execution_count": 197,
   "id": "6273d2c4",
   "metadata": {},
   "outputs": [
    {
     "name": "stdout",
     "output_type": "stream",
     "text": [
      "CPU times: user 1h 30min 49s, sys: 33min 49s, total: 2h 4min 38s\n",
      "Wall time: 7min 50s\n"
     ]
    }
   ],
   "source": [
    "%%time\n",
    "# # per feature per output\n",
    "# attribution_map = ablator.attribute(\n",
    "#     (batch['X'], batch['batch'], batch['labels']),\n",
    "# #     target=['Macrophages']*batch['X'].shape[1],\n",
    "#     feature_mask=(torch.tensor(feature_mask), torch.tensor(feature_mask), torch.tensor(feature_mask)))\n",
    "\n",
    "# per feature (aggregation) (takes longer)\n",
    "attribution_map = ablator.attribute(\n",
    "    (batch['X'], batch['batch'], batch['labels']),\n",
    "    perturbations_per_eval=1,\n",
    "#     show_progress=True\n",
    ")"
   ]
  },
  {
   "cell_type": "code",
   "execution_count": 175,
   "id": "f24a9a5a",
   "metadata": {},
   "outputs": [
    {
     "data": {
      "text/plain": [
       "[torch.Size([10000, 2000]), torch.Size([10000, 1]), torch.Size([10000, 1])]"
      ]
     },
     "execution_count": 175,
     "metadata": {},
     "output_type": "execute_result"
    }
   ],
   "source": [
    "[i.shape for i in attribution_map]"
   ]
  },
  {
   "cell_type": "code",
   "execution_count": 177,
   "id": "d9808540",
   "metadata": {},
   "outputs": [
    {
     "data": {
      "text/plain": [
       "[torch.Size([10000, 2000]), torch.Size([10000, 1]), torch.Size([10000, 1])]"
      ]
     },
     "execution_count": 177,
     "metadata": {},
     "output_type": "execute_result"
    }
   ],
   "source": [
    "[i.shape for i in attribution_map]"
   ]
  },
  {
   "cell_type": "markdown",
   "id": "46afd685",
   "metadata": {},
   "source": [
    "Captum returns an attribution map of either `tensor(n_features * output_size, n_features), n_inputs` or ?"
   ]
  },
  {
   "cell_type": "code",
   "execution_count": 166,
   "id": "7fcb9f6c",
   "metadata": {},
   "outputs": [
    {
     "data": {
      "text/plain": [
       "torch.Size([10000, 2000])"
      ]
     },
     "execution_count": 166,
     "metadata": {},
     "output_type": "execute_result"
    }
   ],
   "source": [
    "attribution_map[0].shape"
   ]
  },
  {
   "cell_type": "code",
   "execution_count": 115,
   "id": "83a050f4",
   "metadata": {
    "scrolled": true
   },
   "outputs": [
    {
     "data": {
      "text/plain": [
       "(tensor([[-1.7431e-08, -1.7431e-08, -1.7431e-08,  ..., -1.7431e-08,\n",
       "          -1.7431e-08, -1.7431e-08],\n",
       "         [-1.0250e-10, -1.0250e-10, -1.0250e-10,  ..., -1.0250e-10,\n",
       "          -1.0250e-10, -1.0250e-10],\n",
       "         [-1.9924e-08, -1.9924e-08, -1.9924e-08,  ..., -1.9924e-08,\n",
       "          -1.9924e-08, -1.9924e-08],\n",
       "         ...,\n",
       "         [-8.1410e-07, -8.1410e-07, -8.1410e-07,  ..., -8.1410e-07,\n",
       "          -8.1410e-07, -8.1410e-07],\n",
       "         [-9.7044e-01, -9.7044e-01, -9.7044e-01,  ..., -9.7044e-01,\n",
       "          -9.7044e-01, -9.7044e-01],\n",
       "         [-1.0539e-06, -1.0539e-06, -1.0539e-06,  ..., -1.0539e-06,\n",
       "          -1.0539e-06, -1.0539e-06]]),\n",
       " tensor([[ 1.2044e-12],\n",
       "         [-4.3241e-15],\n",
       "         [ 1.4188e-12],\n",
       "         [ 1.7650e-12],\n",
       "         [ 5.3920e-14],\n",
       "         [ 1.0132e-12],\n",
       "         [ 1.1324e-12],\n",
       "         [ 2.9206e-12],\n",
       "         [ 1.7511e-16],\n",
       "         [ 1.1511e-12],\n",
       "         [ 2.4874e-13],\n",
       "         [ 1.7375e-12],\n",
       "         [ 8.7122e-13],\n",
       "         [ 0.0000e+00],\n",
       "         [-2.1124e-11],\n",
       "         [ 1.1876e-12],\n",
       "         [ 1.5030e-12],\n",
       "         [ 4.4597e-12],\n",
       "         [ 1.0389e-12],\n",
       "         [ 9.2066e-13],\n",
       "         [ 1.1876e-12],\n",
       "         [ 1.2695e-12],\n",
       "         [ 7.9433e-11],\n",
       "         [ 1.3585e-12],\n",
       "         [ 1.8363e-12],\n",
       "         [ 1.7508e-12],\n",
       "         [ 2.3490e-12],\n",
       "         [ 1.5387e-12],\n",
       "         [ 6.8514e-14],\n",
       "         [ 3.2239e-16],\n",
       "         [ 1.0383e-13],\n",
       "         [ 2.0303e-13],\n",
       "         [ 1.6714e-16],\n",
       "         [ 6.2713e-14],\n",
       "         [ 1.0442e-13],\n",
       "         [ 4.0885e-14],\n",
       "         [ 1.7835e-16],\n",
       "         [ 9.2393e-14],\n",
       "         [ 3.7113e-14],\n",
       "         [ 7.2383e-14],\n",
       "         [ 6.5724e-14],\n",
       "         [ 6.5029e-13],\n",
       "         [ 4.9604e-12],\n",
       "         [ 9.8472e-14],\n",
       "         [ 1.1034e-13],\n",
       "         [ 1.8810e-13],\n",
       "         [ 1.2488e-13],\n",
       "         [ 1.2548e-13],\n",
       "         [ 8.7730e-14],\n",
       "         [ 8.1300e-14],\n",
       "         [ 1.0682e-15],\n",
       "         [ 7.5047e-14],\n",
       "         [ 1.5765e-13],\n",
       "         [ 7.2610e-14],\n",
       "         [ 0.0000e+00],\n",
       "         [ 1.0663e-13],\n",
       "         [ 2.5365e-11],\n",
       "         [-3.2187e-06],\n",
       "         [ 2.8593e-11],\n",
       "         [ 3.6764e-11],\n",
       "         [ 3.2314e-06],\n",
       "         [ 1.9129e-11],\n",
       "         [ 2.0893e-11],\n",
       "         [ 7.8223e-11],\n",
       "         [-9.5643e-13],\n",
       "         [ 3.2648e-11],\n",
       "         [ 9.7380e-11],\n",
       "         [ 4.6386e-11],\n",
       "         [ 2.9975e-11],\n",
       "         [ 1.4089e-13],\n",
       "         [ 3.0649e-14],\n",
       "         [ 2.9034e-11],\n",
       "         [ 2.6028e-11],\n",
       "         [ 1.2324e-11],\n",
       "         [ 2.6224e-11],\n",
       "         [ 2.6009e-11],\n",
       "         [ 2.2854e-11],\n",
       "         [ 2.4734e-11],\n",
       "         [ 1.1582e-12],\n",
       "         [ 1.5723e-11],\n",
       "         [ 2.7636e-11],\n",
       "         [ 2.7406e-11],\n",
       "         [ 1.0178e-11],\n",
       "         [ 2.7481e-11],\n",
       "         [ 1.5669e-11],\n",
       "         [ 2.9370e-15],\n",
       "         [ 1.8502e-11],\n",
       "         [ 1.8198e-11],\n",
       "         [ 2.2673e-14],\n",
       "         [ 1.2599e-11],\n",
       "         [ 1.6586e-11],\n",
       "         [-5.3265e-13],\n",
       "         [ 3.1663e-15],\n",
       "         [ 1.7221e-11],\n",
       "         [ 2.4268e-12],\n",
       "         [ 1.7897e-11],\n",
       "         [ 1.0451e-11],\n",
       "         [-1.1921e-07],\n",
       "         [ 2.7168e-09],\n",
       "         [ 1.3754e-11],\n",
       "         [ 1.7266e-11],\n",
       "         [ 4.6252e-11],\n",
       "         [ 1.5968e-11],\n",
       "         [ 1.1001e-11],\n",
       "         [ 1.7300e-11],\n",
       "         [ 1.9954e-11],\n",
       "         [ 1.3163e-07],\n",
       "         [ 1.5320e-11],\n",
       "         [ 2.3368e-11],\n",
       "         [ 1.8625e-11],\n",
       "         [-2.4222e-12],\n",
       "         [ 1.4693e-11],\n",
       "         [ 1.4278e-08],\n",
       "         [ 4.2362e-01],\n",
       "         [ 1.1291e-08],\n",
       "         [ 1.8026e-08],\n",
       "         [-4.2364e-01],\n",
       "         [ 9.2397e-09],\n",
       "         [ 1.1441e-08],\n",
       "         [ 8.4652e-11],\n",
       "         [ 2.3015e-11],\n",
       "         [ 1.7335e-08],\n",
       "         [ 5.2295e-11],\n",
       "         [ 1.8768e-08],\n",
       "         [ 1.3306e-08],\n",
       "         [ 1.8124e-10],\n",
       "         [ 4.3920e-13],\n",
       "         [ 1.2699e-08],\n",
       "         [ 1.3585e-08],\n",
       "         [ 6.1718e-09],\n",
       "         [ 1.0934e-08],\n",
       "         [ 1.1575e-08],\n",
       "         [ 1.3206e-08],\n",
       "         [ 1.7993e-08],\n",
       "         [ 1.3308e-05],\n",
       "         [ 9.4720e-09],\n",
       "         [ 1.8606e-08],\n",
       "         [ 1.3488e-08],\n",
       "         [ 5.0663e-11],\n",
       "         [ 1.1888e-08]]))"
      ]
     },
     "execution_count": 115,
     "metadata": {},
     "output_type": "execute_result"
    }
   ],
   "source": [
    "attribution_map"
   ]
  },
  {
   "cell_type": "code",
   "execution_count": 116,
   "id": "37a55b8e",
   "metadata": {},
   "outputs": [
    {
     "data": {
      "text/plain": [
       "torch.Size([140, 2000])"
      ]
     },
     "execution_count": 116,
     "metadata": {},
     "output_type": "execute_result"
    }
   ],
   "source": [
    "attribution_map[0].shape"
   ]
  },
  {
   "cell_type": "code",
   "execution_count": 117,
   "id": "0c6a4310",
   "metadata": {},
   "outputs": [
    {
     "data": {
      "text/plain": [
       "torch.Size([140, 1])"
      ]
     },
     "execution_count": 117,
     "metadata": {},
     "output_type": "execute_result"
    }
   ],
   "source": [
    "attribution_map[1].shape"
   ]
  },
  {
   "cell_type": "code",
   "execution_count": null,
   "id": "d4866e7c",
   "metadata": {},
   "outputs": [],
   "source": []
  },
  {
   "cell_type": "markdown",
   "id": "f73fcf00",
   "metadata": {},
   "source": []
  },
  {
   "cell_type": "code",
   "execution_count": 16,
   "id": "426a3fb1",
   "metadata": {},
   "outputs": [],
   "source": [
    "ablator = FeatureAblation(model.module.forward)"
   ]
  },
  {
   "cell_type": "markdown",
   "id": "0bfc8787",
   "metadata": {},
   "source": [
    "reshape, such that n_cells\\*n_classes is split into two dimensions ((n_cells x 28) becomes n_cells x 28)"
   ]
  },
  {
   "cell_type": "code",
   "execution_count": 10,
   "id": "b4fe8db0",
   "metadata": {},
   "outputs": [],
   "source": [
    "attribution_map_genes_3d = attribution_map_genes.reshape((batch_size,28,2000))"
   ]
  },
  {
   "cell_type": "markdown",
   "id": "ce3129c6",
   "metadata": {},
   "source": [
    "For each class, calculate mean only across cells of that class (= cell type), ignore other cells. Then take only the feature importances for that particular class. Reasoning: we want to learn which features were important for classifing a cell of cell type a *as* cell type a, and not the features that made the model *not* classify it as cell type a (the latter would give negative markers rather than positive ones). "
   ]
  },
  {
   "cell_type": "code",
   "execution_count": 11,
   "id": "b0186d72",
   "metadata": {},
   "outputs": [],
   "source": [
    "means = pd.DataFrame(index=adata.var_names,columns=ct_names)"
   ]
  },
  {
   "cell_type": "code",
   "execution_count": 12,
   "id": "123ef922",
   "metadata": {},
   "outputs": [],
   "source": [
    "for ct in batch['labels'].unique():\n",
    "    ct_float = ct.item()\n",
    "    ct_int = int(ct_float)\n",
    "    ct_indexing = (batch['labels'] == ct_float).reshape(-1)\n",
    "    means.iloc[:,ct_int] = torch.mean(attribution_map_genes_3d[ct_indexing,ct_int,:],dim=0)"
   ]
  },
  {
   "cell_type": "markdown",
   "id": "dae5d695",
   "metadata": {},
   "source": [
    "### measure against latent (to do)"
   ]
  },
  {
   "cell_type": "markdown",
   "id": "2e272bbe",
   "metadata": {},
   "source": [
    "## Store results:"
   ]
  },
  {
   "cell_type": "code",
   "execution_count": 13,
   "id": "52a12fbb",
   "metadata": {},
   "outputs": [],
   "source": [
    "means.to_csv(\"../outputs/ablation/task2.csv\")"
   ]
  },
  {
   "cell_type": "code",
   "execution_count": null,
   "id": "6d352b26",
   "metadata": {},
   "outputs": [],
   "source": []
  }
 ],
 "metadata": {
  "kernelspec": {
   "display_name": "Python [conda env:test_env3]",
   "language": "python",
   "name": "conda-env-test_env3-py"
  },
  "language_info": {
   "codemirror_mode": {
    "name": "ipython",
    "version": 3
   },
   "file_extension": ".py",
   "mimetype": "text/x-python",
   "name": "python",
   "nbconvert_exporter": "python",
   "pygments_lexer": "ipython3",
   "version": "3.10.6"
  }
 },
 "nbformat": 4,
 "nbformat_minor": 5
}
