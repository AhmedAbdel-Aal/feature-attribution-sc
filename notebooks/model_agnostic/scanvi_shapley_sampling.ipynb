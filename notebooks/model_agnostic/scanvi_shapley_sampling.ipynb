{
 "cells": [
  {
   "cell_type": "markdown",
   "id": "706ea6f7",
   "metadata": {},
   "source": [
    "# Shapley sampling\n",
    "\n",
    "- Theoretical background: https://www.sciencedirect.com/science/article/abs/pii/S0305054808000804\n",
    "- API docs: https://captum.ai/api/shapley_value_sampling.html"
   ]
  },
  {
   "cell_type": "code",
   "execution_count": 4,
   "id": "9cabfa37",
   "metadata": {},
   "outputs": [
    {
     "name": "stderr",
     "output_type": "stream",
     "text": [
      "Global seed set to 0\n"
     ]
    },
    {
     "name": "stdout",
     "output_type": "stream",
     "text": [
      "scanpy==1.9.1 anndata==0.8.0 umap==0.5.3 numpy==1.23.3 scipy==1.9.1 pandas==1.4.4 scikit-learn==1.1.2 statsmodels==0.13.2 pynndescent==0.5.7\n"
     ]
    }
   ],
   "source": [
    "import torch\n",
    "import scvi\n",
    "import pandas as pd\n",
    "import scanpy as sc\n",
    "import matplotlib.pyplot as plt\n",
    "\n",
    "sc.set_figure_params(dpi=100, frameon=False, color_map='Reds', facecolor=None)\n",
    "sc.logging.print_header()"
   ]
  },
  {
   "cell_type": "markdown",
   "id": "4cc40139",
   "metadata": {},
   "source": [
    "## load model"
   ]
  },
  {
   "cell_type": "code",
   "execution_count": 5,
   "id": "aace4f1a",
   "metadata": {},
   "outputs": [
    {
     "data": {
      "text/plain": [
       "AnnData object with n_obs × n_vars = 584944 × 2000\n",
       "    obs: 'sample', 'original_celltype_ann', 'study_long', 'study', 'last_author_PI', 'subject_ID', 'subject_ID_as_published', 'pre_or_postnatal', 'age_in_years', 'age_range', 'sex', 'ethnicity', 'mixed_ethnicity', 'smoking_status', 'smoking_history', 'BMI', 'known_lung_disease', 'condition', 'subject_type', 'cause_of_death', 'sample_type', 'anatomical_region_coarse', 'anatomical_region_detailed', 'tissue_dissociation_protocol', 'cells_or_nuclei', 'single_cell_platform', \"3'_or_5'\", 'enrichment', 'sequencing_platform', 'reference_genome_coarse', 'ensembl_release_reference_genome', 'cell_ranger_version', 'disease_status', 'fresh_or_frozen', 'cultured', 'cell_viability_%', 'comments', 'Processing_site', 'dataset', 'anatomical_region_level_1', 'anatomical_region_level_2', 'anatomical_region_level_3', 'anatomical_region_highest_res', 'age', 'ann_level_1', 'ann_level_2', 'ann_level_3', 'ann_level_4', 'ann_level_5', 'ann_highest_res', 'ann_new', 'n_genes', 'total_counts', 'log10_total_counts', 'n_genes_detected', 'mito_frac', 'ribo_frac', 'compl', 'size_factors', 'ann_level_1_clean', 'ann_level_2_clean', 'ann_level_3_clean', 'ann_level_4_clean', 'ann_level_5_clean', 'scanvi_label', 'leiden_1', 'leiden_2', 'leiden_3', 'anatomical_region_ccf_score', 'manual_ann', 'leiden_4', 'reannotation_type', 'leiden_5', 'original_ann_level_1', 'original_ann_level_2', 'original_ann_level_3', 'original_ann_level_4', 'original_ann_level_5', 'original_ann_highest_res', 'original_ann_new', 'original_ann_level_1_clean', 'original_ann_level_2_clean', 'original_ann_level_3_clean', 'original_ann_level_4_clean', 'original_ann_level_5_clean', 'cluster_annotated', 'manual_ann_grouped', 'entropy_subject_ID_leiden_3', 'entropy_dataset_leiden_3', 'entropy_original_ann_level_1_leiden_3', 'entropy_original_ann_level_2_clean_leiden_3', 'entropy_original_ann_level_3_clean_leiden_3', 'digestion'\n",
       "    var: 'gene_symbols', 'n_cells', 'highly_variable', 'means', 'dispersions', 'dispersions_norm', 'highly_variable_nbatches', 'highly_variable_intersection', 'gene_ids'\n",
       "    uns: 'anatomical_region_level_1_colors', 'ann_level_1_colors', 'ann_level_2_colors', 'ann_level_3_colors', 'ann_level_4_colors', 'ann_level_5_clean_colors', 'ann_level_5_colors', 'dataset_colors', 'fresh_or_frozen_colors', 'hvg', 'leiden', 'leiden_1_colors', 'leiden_2_colors', 'leiden_3_colors', 'leiden_4_colors', 'leiden_5_colors', 'manual_ann_colors', 'manual_ann_grouped_colors', 'neighbors', 'original_ann_level_1_colors', 'pca', 'rank_genes_groups', 'scanvi_label_colors', 'umap'\n",
       "    obsm: 'X_pca', 'X_scanvi_emb', 'X_umap', 'X_umap_scanvi', 'X_umap_unintegrated'\n",
       "    varm: 'PCs'\n",
       "    layers: 'counts'\n",
       "    obsp: 'connectivities', 'distances'"
      ]
     },
     "execution_count": 5,
     "metadata": {},
     "output_type": "execute_result"
    }
   ],
   "source": [
    "hlca_path = '../datasets/hlca.h5ad'\n",
    "adata = sc.read(hlca_path)\n",
    "adata"
   ]
  },
  {
   "cell_type": "code",
   "execution_count": 6,
   "id": "81716532",
   "metadata": {},
   "outputs": [
    {
     "name": "stdout",
     "output_type": "stream",
     "text": [
      "\u001b[34mINFO    \u001b[0m File ..\u001b[35m/models/scanvi_model/\u001b[0m\u001b[95mmodel.pt\u001b[0m already downloaded                                                   \n"
     ]
    },
    {
     "name": "stderr",
     "output_type": "stream",
     "text": [
      "/home/lukas/anaconda3/envs/yuge_env/lib/python3.8/site-packages/scvi/model/base/_utils.py:134: UserWarning: var_names for adata passed in does not match var_names of adata used to train the model. For valid results, the vars need to be the same and in the same order as the adata used to train the model.\n",
      "  warnings.warn(\n",
      "/home/lukas/anaconda3/envs/yuge_env/lib/python3.8/site-packages/scvi/data/fields/_layer_field.py:78: UserWarning: adata.X does not contain unnormalized count data. Are you sure this is what you want?\n",
      "  warnings.warn(\n",
      "/home/lukas/anaconda3/envs/yuge_env/lib/python3.8/site-packages/scvi/data/_utils.py:156: UserWarning: Category 18 in adata.obs['_scvi_labels'] has fewer than 3 cells. Models may not train properly.\n",
      "  warnings.warn(\n",
      "/home/lukas/anaconda3/envs/yuge_env/lib/python3.8/site-packages/scvi/data/_utils.py:156: UserWarning: Category 18 in adata.obs['_scvi_labels'] has fewer than 3 cells. Models may not train properly.\n",
      "  warnings.warn(\n"
     ]
    },
    {
     "data": {
      "text/html": [
       "<pre style=\"white-space:pre;overflow-x:auto;line-height:normal;font-family:Menlo,'DejaVu Sans Mono',consolas,'Courier New',monospace\">ScanVI Model with the following params: \n",
       "unlabeled_category: unlabeled, n_hidden: <span style=\"color: #008080; text-decoration-color: #008080; font-weight: bold\">128</span>, n_latent: <span style=\"color: #008080; text-decoration-color: #008080; font-weight: bold\">30</span>, n_layers: <span style=\"color: #008080; text-decoration-color: #008080; font-weight: bold\">2</span>, dropout_rate: <span style=\"color: #008080; text-decoration-color: #008080; font-weight: bold\">0.1</span>, dispersion: gene, \n",
       "gene_likelihood: nb\n",
       "Training status: Trained\n",
       "</pre>\n"
      ],
      "text/plain": [
       "ScanVI Model with the following params: \n",
       "unlabeled_category: unlabeled, n_hidden: \u001b[1;36m128\u001b[0m, n_latent: \u001b[1;36m30\u001b[0m, n_layers: \u001b[1;36m2\u001b[0m, dropout_rate: \u001b[1;36m0.1\u001b[0m, dispersion: gene, \n",
       "gene_likelihood: nb\n",
       "Training status: Trained\n"
      ]
     },
     "metadata": {},
     "output_type": "display_data"
    },
    {
     "data": {
      "text/plain": []
     },
     "execution_count": 6,
     "metadata": {},
     "output_type": "execute_result"
    }
   ],
   "source": [
    "model = scvi.model.SCANVI.load('../models/scanvi_model/', adata)\n",
    "model"
   ]
  },
  {
   "cell_type": "markdown",
   "id": "a8eb7fbb",
   "metadata": {},
   "source": [
    "## Applying shapley sampling"
   ]
  },
  {
   "cell_type": "markdown",
   "id": "25f531f5-578a-4593-848a-f19d965e46e7",
   "metadata": {},
   "source": [
    "### Measure against classification probabilities"
   ]
  },
  {
   "cell_type": "code",
   "execution_count": 7,
   "id": "6cac3e12",
   "metadata": {},
   "outputs": [],
   "source": [
    "from captum.attr import visualization as viz\n",
    "from captum.attr import ShapleyValueSampling"
   ]
  },
  {
   "cell_type": "code",
   "execution_count": 8,
   "id": "426a3fb1",
   "metadata": {},
   "outputs": [],
   "source": [
    "shapley_sampling = ShapleyValueSampling(model.module.classify)"
   ]
  },
  {
   "cell_type": "code",
   "execution_count": 20,
   "id": "12adfff0-50cc-4dcf-8975-07ac2806cbe0",
   "metadata": {},
   "outputs": [],
   "source": [
    "n_cells = 10\n",
    "n_cell_types = 28\n",
    "n_labels = n_cells * n_cell_types\n",
    "scdl = model._make_data_loader(adata=adata,\n",
    "                               indices=list(range(n_cells)),\n",
    "                               batch_size=100)\n",
    "batch = next(scdl.__iter__())\n",
    "\n",
    "labels = list(adata.obs._scvi_labels)[:n_labels]\n",
    "# TODO The target is not supposed to be fixed -> need to find a way to input all classes.\n",
    "# It kinda expects 28, but list(range(28)) didn't work either\n",
    "attr = shapley_sampling.attribute((batch['X'], batch['batch']),\n",
    "                                  target=1)"
   ]
  },
  {
   "cell_type": "markdown",
   "id": "550c3357-8708-43e7-b0db-69d90727424a",
   "metadata": {},
   "source": [
    "## Collapsing into required output structure"
   ]
  },
  {
   "cell_type": "markdown",
   "id": "36cb4bb4-2924-47c0-8c4d-ee7a4673d9c1",
   "metadata": {},
   "source": [
    "The output that we desire is genes x cell types. Currently we have number_batches * (28 cell types * batch size) * number_genes and this 14 times for the 14 datasets."
   ]
  },
  {
   "cell_type": "code",
   "execution_count": 32,
   "id": "b7e8ed06-8683-4f42-8721-404dc60b7c7f",
   "metadata": {},
   "outputs": [],
   "source": [
    "# 1. Collapse datasets attributions into a single tuple of attributions\n",
    "# 2. Collapse the batches and cell types into a single vector\n",
    "# 3. Reshape into genes * cell types"
   ]
  },
  {
   "cell_type": "code",
   "execution_count": null,
   "id": "2e0a9c0c-c9f8-41b6-be63-193eb067d61d",
   "metadata": {},
   "outputs": [],
   "source": []
  }
 ],
 "metadata": {
  "kernelspec": {
   "display_name": "Python [conda env:yuge_env] *",
   "language": "python",
   "name": "conda-env-yuge_env-py"
  },
  "language_info": {
   "codemirror_mode": {
    "name": "ipython",
    "version": 3
   },
   "file_extension": ".py",
   "mimetype": "text/x-python",
   "name": "python",
   "nbconvert_exporter": "python",
   "pygments_lexer": "ipython3",
   "version": "3.8.2"
  }
 },
 "nbformat": 4,
 "nbformat_minor": 5
}
