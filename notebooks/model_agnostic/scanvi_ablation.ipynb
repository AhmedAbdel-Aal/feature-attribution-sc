{
 "cells": [
  {
   "cell_type": "markdown",
   "id": "ecf6188d",
   "metadata": {},
   "source": [
    "import modules:"
   ]
  },
  {
   "cell_type": "code",
   "execution_count": 1,
   "id": "9cabfa37",
   "metadata": {},
   "outputs": [
    {
     "name": "stderr",
     "output_type": "stream",
     "text": [
      "Global seed set to 0\n"
     ]
    },
    {
     "name": "stdout",
     "output_type": "stream",
     "text": [
      "scanpy==1.9.1 anndata==0.8.0 umap==0.5.3 numpy==1.21.5 scipy==1.9.1 pandas==1.4.4 scikit-learn==1.1.2 statsmodels==0.13.2 pynndescent==0.5.7\n"
     ]
    }
   ],
   "source": [
    "import torch\n",
    "import scvi\n",
    "import pandas as pd\n",
    "import scanpy as sc\n",
    "from scvi import REGISTRY_KEYS\n",
    "from captum.attr import FeatureAblation\n",
    "\n",
    "sc.set_figure_params(dpi=100, frameon=False, color_map='Reds', facecolor=None)\n",
    "sc.logging.print_header()"
   ]
  },
  {
   "cell_type": "markdown",
   "id": "4cc40139",
   "metadata": {},
   "source": [
    "## load model and data"
   ]
  },
  {
   "cell_type": "code",
   "execution_count": 2,
   "id": "aace4f1a",
   "metadata": {},
   "outputs": [
    {
     "data": {
      "text/plain": [
       "AnnData object with n_obs × n_vars = 14500 × 2000\n",
       "    obs: 'sample', 'original_celltype_ann', 'study_long', 'study', 'last_author_PI', 'subject_ID', 'subject_ID_as_published', 'pre_or_postnatal', 'age_in_years', 'age_range', 'sex', 'ethnicity', 'mixed_ethnicity', 'smoking_status', 'smoking_history', 'BMI', 'known_lung_disease', 'condition', 'subject_type', 'cause_of_death', 'sample_type', 'anatomical_region_coarse', 'anatomical_region_detailed', 'tissue_dissociation_protocol', 'cells_or_nuclei', 'single_cell_platform', \"3'_or_5'\", 'enrichment', 'sequencing_platform', 'reference_genome_coarse', 'ensembl_release_reference_genome', 'cell_ranger_version', 'disease_status', 'fresh_or_frozen', 'cultured', 'cell_viability_%', 'comments', 'Processing_site', 'dataset', 'anatomical_region_level_1', 'anatomical_region_level_2', 'anatomical_region_level_3', 'anatomical_region_highest_res', 'age', 'ann_level_1', 'ann_level_2', 'ann_level_3', 'ann_level_4', 'ann_level_5', 'ann_highest_res', 'ann_new', 'n_genes', 'total_counts', 'log10_total_counts', 'n_genes_detected', 'mito_frac', 'ribo_frac', 'compl', 'size_factors', 'ann_level_1_clean', 'ann_level_2_clean', 'ann_level_3_clean', 'ann_level_4_clean', 'ann_level_5_clean', 'scanvi_label', 'leiden_1', 'leiden_2', 'leiden_3', 'anatomical_region_ccf_score', 'manual_ann', 'leiden_4', 'reannotation_type', 'leiden_5', 'original_ann_level_1', 'original_ann_level_2', 'original_ann_level_3', 'original_ann_level_4', 'original_ann_level_5', 'original_ann_highest_res', 'original_ann_new', 'original_ann_level_1_clean', 'original_ann_level_2_clean', 'original_ann_level_3_clean', 'original_ann_level_4_clean', 'original_ann_level_5_clean', 'cluster_annotated', 'manual_ann_grouped', 'entropy_subject_ID_leiden_3', 'entropy_dataset_leiden_3', 'entropy_original_ann_level_1_leiden_3', 'entropy_original_ann_level_2_clean_leiden_3', 'entropy_original_ann_level_3_clean_leiden_3', 'digestion'\n",
       "    var: 'gene_symbols', 'n_cells', 'highly_variable', 'means', 'dispersions', 'dispersions_norm', 'highly_variable_nbatches', 'highly_variable_intersection', 'gene_ids'\n",
       "    uns: 'anatomical_region_level_1_colors', 'ann_level_1_colors', 'ann_level_2_colors', 'ann_level_3_colors', 'ann_level_4_colors', 'ann_level_5_clean_colors', 'ann_level_5_colors', 'dataset_colors', 'fresh_or_frozen_colors', 'hvg', 'leiden', 'leiden_1_colors', 'leiden_2_colors', 'leiden_3_colors', 'leiden_4_colors', 'leiden_5_colors', 'manual_ann_colors', 'manual_ann_grouped_colors', 'neighbors', 'original_ann_level_1_colors', 'pca', 'rank_genes_groups', 'scanvi_label_colors', 'umap'\n",
       "    obsm: 'X_pca', 'X_scanvi_emb', 'X_umap', 'X_umap_scanvi', 'X_umap_unintegrated'\n",
       "    varm: 'PCs'\n",
       "    layers: 'counts'\n",
       "    obsp: 'connectivities', 'distances'"
      ]
     },
     "execution_count": 2,
     "metadata": {},
     "output_type": "execute_result"
    }
   ],
   "source": [
    "base_path = '/home/icb/yuge.ji/projects/feature-attribution-sc'\n",
    "hlca_path = f'{base_path}/datasets/hlca_subset.h5ad'\n",
    "adata = sc.read(hlca_path)\n",
    "adata"
   ]
  },
  {
   "cell_type": "code",
   "execution_count": 3,
   "id": "81716532",
   "metadata": {
    "scrolled": false
   },
   "outputs": [
    {
     "name": "stdout",
     "output_type": "stream",
     "text": [
      "\u001b[34mINFO    \u001b[0m File \u001b[35m/home/icb/yuge.ji/projects/HLCA_reproducibility/notebooks/3_atlas_extension/sca\u001b[0m\n",
      "         \u001b[35mnvi_model/\u001b[0m\u001b[95mmodel.pt\u001b[0m already downloaded                                               \n"
     ]
    },
    {
     "name": "stderr",
     "output_type": "stream",
     "text": [
      "/home/icb/lisa.sikkema/miniconda3/envs/feature_attribution_lisa/lib/python3.8/site-packages/scvi/model/base/_utils.py:134: UserWarning: var_names for adata passed in does not match var_names of adata used to train the model. For valid results, the vars need to be the same and in the same order as the adata used to train the model.\n",
      "  warnings.warn(\n",
      "/home/icb/lisa.sikkema/miniconda3/envs/feature_attribution_lisa/lib/python3.8/site-packages/scvi/data/fields/_layer_field.py:78: UserWarning: adata.X does not contain unnormalized count data. Are you sure this is what you want?\n",
      "  warnings.warn(\n"
     ]
    },
    {
     "data": {
      "text/html": [
       "<pre style=\"white-space:pre;overflow-x:auto;line-height:normal;font-family:Menlo,'DejaVu Sans Mono',consolas,'Courier New',monospace\">ScanVI Model with the following params: \n",
       "unlabeled_category: unlabeled, n_hidden: <span style=\"color: #008080; text-decoration-color: #008080; font-weight: bold\">128</span>, n_latent: <span style=\"color: #008080; text-decoration-color: #008080; font-weight: bold\">30</span>, n_layers: <span style=\"color: #008080; text-decoration-color: #008080; font-weight: bold\">2</span>, dropout_rate: <span style=\"color: #008080; text-decoration-color: #008080; font-weight: bold\">0.1</span>, \n",
       "dispersion: gene, gene_likelihood: nb\n",
       "Training status: Trained\n",
       "</pre>\n"
      ],
      "text/plain": [
       "ScanVI Model with the following params: \n",
       "unlabeled_category: unlabeled, n_hidden: \u001b[1;36m128\u001b[0m, n_latent: \u001b[1;36m30\u001b[0m, n_layers: \u001b[1;36m2\u001b[0m, dropout_rate: \u001b[1;36m0.1\u001b[0m, \n",
       "dispersion: gene, gene_likelihood: nb\n",
       "Training status: Trained\n"
      ]
     },
     "metadata": {},
     "output_type": "display_data"
    },
    {
     "data": {
      "text/plain": []
     },
     "execution_count": 3,
     "metadata": {},
     "output_type": "execute_result"
    }
   ],
   "source": [
    "model = scvi.model.SCANVI.load('/home/icb/yuge.ji/projects/HLCA_reproducibility/notebooks/3_atlas_extension/scanvi_model/', adata)\n",
    "model"
   ]
  },
  {
   "cell_type": "markdown",
   "id": "1e608efe",
   "metadata": {},
   "source": [
    "get cell type names that match the labels (integers in the model):"
   ]
  },
  {
   "cell_type": "code",
   "execution_count": 4,
   "id": "8489a05b",
   "metadata": {},
   "outputs": [],
   "source": [
    "ct_names = model.adata_manager.get_state_registry(REGISTRY_KEYS.LABELS_KEY)['categorical_mapping']\n",
    "ct_names = [ct for ct in ct_names if ct != \"unlabeled\"]"
   ]
  },
  {
   "cell_type": "markdown",
   "id": "d257ffeb",
   "metadata": {},
   "source": [
    "retrieve the data as a tensor from the dataloader. We'll define batch size to be the size of the whole dataset to do so. In this case we'll set it to the entire size of the subsetted HLCA:"
   ]
  },
  {
   "cell_type": "code",
   "execution_count": 5,
   "id": "da20d1fd",
   "metadata": {},
   "outputs": [],
   "source": [
    "batch_size=adata.shape[0]"
   ]
  },
  {
   "cell_type": "markdown",
   "id": "2045f5ff",
   "metadata": {},
   "source": [
    "create a dataloader and load your first batch (in this case all the cells):"
   ]
  },
  {
   "cell_type": "code",
   "execution_count": 6,
   "id": "0d05ac81",
   "metadata": {},
   "outputs": [],
   "source": [
    "scdl = model._make_data_loader(adata=adata, indices=list(range(adata.shape[0])), batch_size=batch_size)\n",
    "batch = next(scdl.__iter__())"
   ]
  },
  {
   "cell_type": "markdown",
   "id": "543fae50",
   "metadata": {},
   "source": [
    "### measure against posterior (not done yet)"
   ]
  },
  {
   "cell_type": "markdown",
   "id": "2c269cf8",
   "metadata": {},
   "source": [
    "Wrap `model.module.forward` because captum has an internal check that the inputs pass are tensors."
   ]
  },
  {
   "cell_type": "markdown",
   "id": "6c281fe3",
   "metadata": {},
   "source": [
    "### Measure feature attribution with respect to classification probabilities"
   ]
  },
  {
   "cell_type": "markdown",
   "id": "f73fcf00",
   "metadata": {},
   "source": [
    "create the ablator, containing the forward function inside of it:"
   ]
  },
  {
   "cell_type": "code",
   "execution_count": 7,
   "id": "426a3fb1",
   "metadata": {},
   "outputs": [],
   "source": [
    "ablator = FeatureAblation(model.module.classify)"
   ]
  },
  {
   "cell_type": "markdown",
   "id": "cdf562a8",
   "metadata": {},
   "source": [
    "Run the feature attribution function. The attribution below outputs two tensors. One ablates the gene features one by one, for every cell, and has shape (n_cells * n_ct_classes) * n_genes. The other ablates the (biological) batch variable, which it takes as a single, continuous variable (even though it is a one-hot encoded (n_datasets)-dimensional variable), and therefore ablates it once per cell, and outputs a (n_cells * n_ct_classes) * 1 shape tensor. We'll ignore that one."
   ]
  },
  {
   "cell_type": "code",
   "execution_count": 8,
   "id": "a78d07b7",
   "metadata": {},
   "outputs": [
    {
     "name": "stdout",
     "output_type": "stream",
     "text": [
      "CPU times: user 1h 40min 41s, sys: 1h 4min 23s, total: 2h 45min 4s\n",
      "Wall time: 1h 23min 40s\n"
     ]
    }
   ],
   "source": [
    "%%time\n",
    "# per feature per output\n",
    "attribution_map = ablator.attribute((batch['X'], batch['batch']))"
   ]
  },
  {
   "cell_type": "code",
   "execution_count": 9,
   "id": "ee9c602a",
   "metadata": {},
   "outputs": [],
   "source": [
    "attribution_map_genes = attribution_map[0] # take only the first tensor (explained above)"
   ]
  },
  {
   "cell_type": "markdown",
   "id": "0bfc8787",
   "metadata": {},
   "source": [
    "reshape, such that n_cells\\*n_classes is split into two dimensions ((n_cells*28) becomes n_cells*28)"
   ]
  },
  {
   "cell_type": "code",
   "execution_count": 10,
   "id": "b4fe8db0",
   "metadata": {},
   "outputs": [],
   "source": [
    "attribution_map_genes_3d = attribution_map_genes.reshape((batch_size,28,2000))"
   ]
  },
  {
   "cell_type": "markdown",
   "id": "2af59742",
   "metadata": {},
   "source": [
    "TODO: save this attribution map for further analyses"
   ]
  },
  {
   "cell_type": "markdown",
   "id": "ce3129c6",
   "metadata": {},
   "source": [
    "For each class, calculate mean only across cells of that class (= cell type), ignore other cells. Then take only the feature importances for that particular class. Reasoning: we want to learn which features were important for classifing a cell of cell type a *as* cell type a, and not the features that made the model *not* classify it as cell type a (the latter would give negative markers rather than positive ones). "
   ]
  },
  {
   "cell_type": "code",
   "execution_count": 11,
   "id": "b0186d72",
   "metadata": {},
   "outputs": [],
   "source": [
    "means = pd.DataFrame(index=adata.var_names,columns=ct_names)"
   ]
  },
  {
   "cell_type": "code",
   "execution_count": 12,
   "id": "123ef922",
   "metadata": {},
   "outputs": [],
   "source": [
    "for ct in batch['labels'].unique():\n",
    "    ct_float = ct.item()\n",
    "    ct_int = int(ct_float)\n",
    "    ct_indexing = (batch['labels'] == ct_float).reshape(-1)\n",
    "    means.iloc[:,ct_int] = torch.mean(attribution_map_genes_3d[ct_indexing,ct_int,:],dim=0)"
   ]
  },
  {
   "cell_type": "markdown",
   "id": "dae5d695",
   "metadata": {},
   "source": [
    "### measure against latent (to do)"
   ]
  },
  {
   "cell_type": "markdown",
   "id": "2e272bbe",
   "metadata": {},
   "source": [
    "## Store results:"
   ]
  },
  {
   "cell_type": "code",
   "execution_count": 13,
   "id": "52a12fbb",
   "metadata": {},
   "outputs": [],
   "source": [
    "means.to_csv(\"../outputs/ablation/task2.csv\")"
   ]
  },
  {
   "cell_type": "code",
   "execution_count": null,
   "id": "6d352b26",
   "metadata": {},
   "outputs": [],
   "source": []
  }
 ],
 "metadata": {
  "kernelspec": {
   "display_name": "Python [conda env:test_env3]",
   "language": "python",
   "name": "conda-env-test_env3-py"
  },
  "language_info": {
   "codemirror_mode": {
    "name": "ipython",
    "version": 3
   },
   "file_extension": ".py",
   "mimetype": "text/x-python",
   "name": "python",
   "nbconvert_exporter": "python",
   "pygments_lexer": "ipython3",
   "version": "3.10.6"
  }
 },
 "nbformat": 4,
 "nbformat_minor": 5
}
