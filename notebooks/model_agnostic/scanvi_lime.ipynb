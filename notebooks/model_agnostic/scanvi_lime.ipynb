{
 "cells": [
  {
   "cell_type": "markdown",
   "id": "ff4e5eca-44e1-44b2-b4fc-992683bea977",
   "metadata": {},
   "source": [
    "# LIME "
   ]
  },
  {
   "cell_type": "code",
   "execution_count": 1,
   "id": "cdcf36a6-cc78-4e44-b781-77995a1e10c9",
   "metadata": {},
   "outputs": [
    {
     "data": {
      "text/plain": [
       "1"
      ]
     },
     "execution_count": 1,
     "metadata": {},
     "output_type": "execute_result"
    }
   ],
   "source": [
    "1"
   ]
  },
  {
   "cell_type": "code",
   "execution_count": 2,
   "id": "2a15e7d5",
   "metadata": {},
   "outputs": [
    {
     "name": "stderr",
     "output_type": "stream",
     "text": [
      "Global seed set to 0\n"
     ]
    },
    {
     "name": "stdout",
     "output_type": "stream",
     "text": [
      "scanpy==1.9.1 anndata==0.8.0 umap==0.5.3 numpy==1.21.5 scipy==1.9.1 pandas==1.4.4 scikit-learn==1.1.2 statsmodels==0.13.2 pynndescent==0.5.7\n"
     ]
    }
   ],
   "source": [
    "import torch\n",
    "import warnings\n",
    "import scvi\n",
    "import numpy as np\n",
    "import pandas as pd\n",
    "import scanpy as sc\n",
    "import matplotlib.pyplot as plt\n",
    "sc.set_figure_params(dpi=100, frameon=False, color_map='Reds', facecolor=None)\n",
    "sc.logging.print_header()\n",
    "assert(scvi.__version__=='0.16.3')"
   ]
  },
  {
   "cell_type": "code",
   "execution_count": 3,
   "id": "122a6c07-6c7b-43c7-974a-eab6a215558e",
   "metadata": {},
   "outputs": [],
   "source": [
    "import matplotlib.pyplot as plt\n",
    "plt.rcParams['font.family'] = 'serif'\n",
    "plt.rcParams['font.serif'] = ['Times New Roman'] + plt.rcParams['font.serif']"
   ]
  },
  {
   "cell_type": "code",
   "execution_count": 4,
   "id": "deb402d0-6361-47fc-91df-0ed1b8f128c8",
   "metadata": {},
   "outputs": [],
   "source": [
    "import lime\n",
    "from lime import lime_tabular"
   ]
  },
  {
   "cell_type": "code",
   "execution_count": 5,
   "id": "89aed8ec",
   "metadata": {},
   "outputs": [],
   "source": [
    "base_path = '/home/icb/yuge.ji/projects/feature-attribution-sc'  # should be changed to shared dir when I can find one"
   ]
  },
  {
   "cell_type": "code",
   "execution_count": 6,
   "id": "223d4fa6-0caa-44b6-ae9b-c6c395cf7c4d",
   "metadata": {},
   "outputs": [
    {
     "data": {
      "text/plain": [
       "True"
      ]
     },
     "execution_count": 6,
     "metadata": {},
     "output_type": "execute_result"
    }
   ],
   "source": [
    "torch.cuda.is_available()"
   ]
  },
  {
   "cell_type": "markdown",
   "id": "571889f6",
   "metadata": {},
   "source": [
    "## scANVI (HLCA)"
   ]
  },
  {
   "cell_type": "code",
   "execution_count": 7,
   "id": "8c395d71",
   "metadata": {},
   "outputs": [
    {
     "data": {
      "text/plain": [
       "AnnData object with n_obs × n_vars = 14500 × 2000\n",
       "    obs: 'sample', 'original_celltype_ann', 'study_long', 'study', 'last_author_PI', 'subject_ID', 'subject_ID_as_published', 'pre_or_postnatal', 'age_in_years', 'age_range', 'sex', 'ethnicity', 'mixed_ethnicity', 'smoking_status', 'smoking_history', 'BMI', 'known_lung_disease', 'condition', 'subject_type', 'cause_of_death', 'sample_type', 'anatomical_region_coarse', 'anatomical_region_detailed', 'tissue_dissociation_protocol', 'cells_or_nuclei', 'single_cell_platform', \"3'_or_5'\", 'enrichment', 'sequencing_platform', 'reference_genome_coarse', 'ensembl_release_reference_genome', 'cell_ranger_version', 'disease_status', 'fresh_or_frozen', 'cultured', 'cell_viability_%', 'comments', 'Processing_site', 'dataset', 'anatomical_region_level_1', 'anatomical_region_level_2', 'anatomical_region_level_3', 'anatomical_region_highest_res', 'age', 'ann_level_1', 'ann_level_2', 'ann_level_3', 'ann_level_4', 'ann_level_5', 'ann_highest_res', 'ann_new', 'n_genes', 'total_counts', 'log10_total_counts', 'n_genes_detected', 'mito_frac', 'ribo_frac', 'compl', 'size_factors', 'ann_level_1_clean', 'ann_level_2_clean', 'ann_level_3_clean', 'ann_level_4_clean', 'ann_level_5_clean', 'scanvi_label', 'leiden_1', 'leiden_2', 'leiden_3', 'anatomical_region_ccf_score', 'manual_ann', 'leiden_4', 'reannotation_type', 'leiden_5', 'original_ann_level_1', 'original_ann_level_2', 'original_ann_level_3', 'original_ann_level_4', 'original_ann_level_5', 'original_ann_highest_res', 'original_ann_new', 'original_ann_level_1_clean', 'original_ann_level_2_clean', 'original_ann_level_3_clean', 'original_ann_level_4_clean', 'original_ann_level_5_clean', 'cluster_annotated', 'manual_ann_grouped', 'entropy_subject_ID_leiden_3', 'entropy_dataset_leiden_3', 'entropy_original_ann_level_1_leiden_3', 'entropy_original_ann_level_2_clean_leiden_3', 'entropy_original_ann_level_3_clean_leiden_3', 'digestion'\n",
       "    var: 'gene_symbols', 'n_cells', 'highly_variable', 'means', 'dispersions', 'dispersions_norm', 'highly_variable_nbatches', 'highly_variable_intersection', 'gene_ids'\n",
       "    uns: 'anatomical_region_level_1_colors', 'ann_level_1_colors', 'ann_level_2_colors', 'ann_level_3_colors', 'ann_level_4_colors', 'ann_level_5_clean_colors', 'ann_level_5_colors', 'dataset_colors', 'fresh_or_frozen_colors', 'hvg', 'leiden', 'leiden_1_colors', 'leiden_2_colors', 'leiden_3_colors', 'leiden_4_colors', 'leiden_5_colors', 'manual_ann_colors', 'manual_ann_grouped_colors', 'neighbors', 'original_ann_level_1_colors', 'pca', 'rank_genes_groups', 'scanvi_label_colors', 'umap'\n",
       "    obsm: 'X_pca', 'X_scanvi_emb', 'X_umap', 'X_umap_scanvi', 'X_umap_unintegrated'\n",
       "    varm: 'PCs'\n",
       "    layers: 'counts'\n",
       "    obsp: 'connectivities', 'distances'"
      ]
     },
     "execution_count": 7,
     "metadata": {},
     "output_type": "execute_result"
    }
   ],
   "source": [
    "hlca_path = '/home/icb/yuge.ji/projects/feature-attribution-sc/datasets/hlca_subset.h5ad'\n",
    "adata = sc.read(hlca_path)\n",
    "adata"
   ]
  },
  {
   "cell_type": "code",
   "execution_count": 8,
   "id": "5be9a67a",
   "metadata": {},
   "outputs": [
    {
     "name": "stdout",
     "output_type": "stream",
     "text": [
      "\u001b[34mINFO    \u001b[0m File \u001b[35m/home/icb/yuge.ji/projects/HLCA_reproducibility/notebooks/3_atlas_extension/sca\u001b[0m\n",
      "         \u001b[35mnvi_model/\u001b[0m\u001b[95mmodel.pt\u001b[0m already downloaded                                               \n"
     ]
    },
    {
     "name": "stderr",
     "output_type": "stream",
     "text": [
      "/home/icb/kemal.inecik/miniconda3/envs/feat/lib/python3.8/site-packages/scvi/model/base/_utils.py:134: UserWarning: var_names for adata passed in does not match var_names of adata used to train the model. For valid results, the vars need to be the same and in the same order as the adata used to train the model.\n",
      "  warnings.warn(\n",
      "/home/icb/kemal.inecik/miniconda3/envs/feat/lib/python3.8/site-packages/scvi/data/fields/_layer_field.py:78: UserWarning: adata.X does not contain unnormalized count data. Are you sure this is what you want?\n",
      "  warnings.warn(\n"
     ]
    }
   ],
   "source": [
    "model = scvi.model.SCANVI.load('/home/icb/yuge.ji/projects/HLCA_reproducibility/notebooks/3_atlas_extension/scanvi_model/', adata)"
   ]
  },
  {
   "cell_type": "markdown",
   "id": "74bc2269-ba76-4beb-a6f3-9a313e94bd3a",
   "metadata": {},
   "source": [
    "### Calculate"
   ]
  },
  {
   "cell_type": "code",
   "execution_count": 13,
   "id": "fcbff791-9fd6-48ee-9e0c-22f60b9ca3ce",
   "metadata": {},
   "outputs": [],
   "source": [
    "num_samples = 5000"
   ]
  },
  {
   "cell_type": "code",
   "execution_count": 14,
   "id": "1f64b4be-08a6-42af-924f-a50b5c5aa794",
   "metadata": {},
   "outputs": [],
   "source": [
    "cell_count = adata.n_obs\n",
    "indices = np.random.choice(adata.n_obs, size=cell_count, replace=False)\n",
    "scdl = model._make_data_loader(adata=adata, indices=indices, batch_size=cell_count)\n",
    "batch = next(scdl.__iter__())\n",
    "x = batch[\"X\"]\n",
    "x.requires_grad = True\n",
    "batch_labels = batch[\"batch\"]"
   ]
  },
  {
   "cell_type": "code",
   "execution_count": 15,
   "id": "91c3d9ea-8b0d-4b2a-aa91-ca7d9ec5e7d0",
   "metadata": {},
   "outputs": [],
   "source": [
    "pred = model.module.classify(x, batch_index=batch_labels)"
   ]
  },
  {
   "cell_type": "code",
   "execution_count": 16,
   "id": "4d137534-ad3a-4274-bb9e-04fc158a6a17",
   "metadata": {},
   "outputs": [
    {
     "data": {
      "text/plain": [
       "21"
      ]
     },
     "execution_count": 16,
     "metadata": {},
     "output_type": "execute_result"
    }
   ],
   "source": [
    "len(np.unique(batch[\"labels\"]))"
   ]
  },
  {
   "cell_type": "code",
   "execution_count": 17,
   "id": "86f93f47-bcbf-4955-a095-b19c9805fee9",
   "metadata": {},
   "outputs": [],
   "source": [
    "explainer = lime.lime_tabular.LimeTabularExplainer(x.to('cpu').detach().numpy(),  \n",
    "                                                   mode='classification',\n",
    "                                                   training_labels=np.array(batch[\"labels\"]),\n",
    "                                                   feature_names=np.array(adata.var[\"gene_symbols\"])\n",
    "                                                  )"
   ]
  },
  {
   "cell_type": "code",
   "execution_count": 18,
   "id": "fbad265d-276a-4550-b1d3-fe619a78b772",
   "metadata": {},
   "outputs": [],
   "source": [
    "# Let's try whether the function/method works for a random row"
   ]
  },
  {
   "cell_type": "code",
   "execution_count": 19,
   "id": "5c4ea18f-5a97-4773-af05-e17f72ff9f16",
   "metadata": {},
   "outputs": [],
   "source": [
    "cell_count = 1\n",
    "indices = np.random.choice(adata.n_obs, size=cell_count, replace=False)\n",
    "scdl = model._make_data_loader(adata=adata, indices=indices, batch_size=cell_count)\n",
    "batch = next(scdl.__iter__())\n",
    "x = batch[\"X\"]\n",
    "x.requires_grad = True\n",
    "batch_labels = batch[\"batch\"]"
   ]
  },
  {
   "cell_type": "code",
   "execution_count": 20,
   "id": "3ca82ae8-e102-482d-9113-0612f49d3ee8",
   "metadata": {},
   "outputs": [
    {
     "data": {
      "text/plain": [
       "array([[2.8258695e-12, 2.2361511e-15, 3.0364606e-12, 6.6558486e-12,\n",
       "        2.5058712e-11, 2.8526214e-12, 2.8853335e-12, 4.0598420e-11,\n",
       "        6.9003254e-14, 3.2812750e-12, 8.8143604e-11, 2.6258136e-12,\n",
       "        3.1926647e-12, 9.8330866e-12, 1.0000000e+00, 1.9950890e-12,\n",
       "        2.9831135e-12, 4.6801530e-12, 1.6631197e-12, 1.8464232e-12,\n",
       "        3.5412784e-12, 2.0005343e-12, 2.7851972e-15, 1.5461791e-12,\n",
       "        1.6799854e-12, 1.9554334e-12, 1.5547025e-11, 1.9099210e-12]],\n",
       "      dtype=float32)"
      ]
     },
     "execution_count": 20,
     "metadata": {},
     "output_type": "execute_result"
    }
   ],
   "source": [
    "def predictor(bo):\n",
    "    if isinstance(bo, np.ndarray):\n",
    "        bo = torch.Tensor(bo).to(\"cuda:0\")\n",
    "    else:\n",
    "        raise ValueError    \n",
    "    a = np.ones((bo.shape[0], 1)) * batch_labels.to('cpu').detach().numpy()[0][0]\n",
    "    batch_index = torch.Tensor(a).to(bo.device)\n",
    "    result = model.module.classify(bo, batch_index=batch_index)\n",
    "    return result.to('cpu').detach().numpy()\n",
    "\n",
    "predictor(x.to('cpu').detach().numpy())"
   ]
  },
  {
   "cell_type": "code",
   "execution_count": 21,
   "id": "576bf1e8-f6dc-49bf-92cb-a94b23aa9a7a",
   "metadata": {},
   "outputs": [],
   "source": [
    "exp = explainer.explain_instance(data_row=x.to('cpu').detach().numpy()[0], \n",
    "                           predict_fn=predictor,\n",
    "                           num_features = 2000,\n",
    "                           num_samples=num_samples)"
   ]
  },
  {
   "cell_type": "code",
   "execution_count": 22,
   "id": "71890841-93eb-4e3b-a2ea-1986350ef29f",
   "metadata": {},
   "outputs": [],
   "source": [
    "## Run experiments"
   ]
  },
  {
   "cell_type": "code",
   "execution_count": 23,
   "id": "82f020e1-af7a-4089-8baa-7c25ea810008",
   "metadata": {},
   "outputs": [],
   "source": [
    "number_of_cells_in_a_class = 50"
   ]
  },
  {
   "cell_type": "code",
   "execution_count": 31,
   "id": "3dab5b8e-0312-4807-949a-176ed84dd327",
   "metadata": {},
   "outputs": [
    {
     "data": {
      "text/plain": [
       "Counter({13: 900,\n",
       "         1: 800,\n",
       "         17: 1000,\n",
       "         0: 600,\n",
       "         8: 1300,\n",
       "         12: 700,\n",
       "         22: 1100,\n",
       "         9: 1000,\n",
       "         4: 1000,\n",
       "         19: 300,\n",
       "         27: 400,\n",
       "         26: 1000,\n",
       "         7: 200,\n",
       "         10: 700,\n",
       "         2: 300,\n",
       "         14: 900,\n",
       "         23: 500,\n",
       "         25: 600,\n",
       "         3: 700,\n",
       "         21: 300,\n",
       "         16: 200})"
      ]
     },
     "execution_count": 31,
     "metadata": {},
     "output_type": "execute_result"
    }
   ],
   "source": [
    "dff = adata.obs._scvi_labels\n",
    "from collections import Counter\n",
    "Counter(dff)"
   ]
  },
  {
   "cell_type": "code",
   "execution_count": 32,
   "id": "988d6e62-3f66-4f8d-9285-0d0565fc309b",
   "metadata": {},
   "outputs": [
    {
     "name": "stdout",
     "output_type": "stream",
     "text": [
      "0,\u001b[34mINFO    \u001b[0m AnnData object appears to be a copy. Attempting to transfer setup.                  \n",
      "1,2,3,4,5,6,7,8,9,10,11,12,13,14,15,16,17,18,19,20,21,22,23,24,25,26,27,28,29,30,31,32,33,34,35,36,37,38,39,40,41,42,43,44,45,46,47,48,49,0,\u001b[34mINFO    \u001b[0m AnnData object appears to be a copy. Attempting to transfer setup.                  \n",
      "1,2,3,4,5,6,7,8,9,10,11,12,13,14,15,16,17,18,19,20,21,22,23,24,25,26,27,28,29,30,31,32,33,34,35,36,37,38,39,40,41,42,43,44,45,46,47,48,49,0,\u001b[34mINFO    \u001b[0m AnnData object appears to be a copy. Attempting to transfer setup.                  \n",
      "1,2,3,4,5,6,7,8,9,10,11,12,13,14,15,16,17,18,19,20,21,22,23,24,25,26,27,28,29,30,31,32,33,34,35,36,37,38,39,40,41,42,43,44,45,46,47,48,49,0,\u001b[34mINFO    \u001b[0m AnnData object appears to be a copy. Attempting to transfer setup.                  \n",
      "1,2,3,4,5,6,7,8,9,10,11,12,13,14,15,16,17,18,19,20,21,22,23,24,25,26,27,28,29,30,31,32,33,34,35,36,37,38,39,40,41,42,43,44,45,46,47,48,49,0,\u001b[34mINFO    \u001b[0m AnnData object appears to be a copy. Attempting to transfer setup.                  \n",
      "1,2,3,4,5,6,7,8,9,10,11,12,13,14,15,16,17,18,19,20,21,22,23,24,25,26,27,28,29,30,31,32,33,34,35,36,37,38,39,40,41,42,43,44,45,46,47,48,49,0,\u001b[34mINFO    \u001b[0m AnnData object appears to be a copy. Attempting to transfer setup.                  \n",
      "1,2,3,4,5,6,7,8,9,10,11,12,13,14,15,16,17,18,19,20,21,22,23,24,25,26,27,28,29,30,31,32,33,34,35,36,37,38,39,40,41,42,43,44,45,46,47,48,49,0,\u001b[34mINFO    \u001b[0m AnnData object appears to be a copy. Attempting to transfer setup.                  \n",
      "1,2,3,4,5,6,7,8,9,10,11,12,13,14,15,16,17,18,19,20,21,22,23,24,25,26,27,28,29,30,31,32,33,34,35,36,37,38,39,40,41,42,43,44,45,46,47,48,49,0,\u001b[34mINFO    \u001b[0m AnnData object appears to be a copy. Attempting to transfer setup.                  \n",
      "1,2,3,4,5,6,7,8,9,10,11,12,13,14,15,16,17,18,19,20,21,22,23,24,25,26,27,28,29,30,31,32,33,34,35,36,37,38,39,40,41,42,43,44,45,46,47,48,49,0,\u001b[34mINFO    \u001b[0m AnnData object appears to be a copy. Attempting to transfer setup.                  \n",
      "1,2,3,4,5,6,7,8,9,10,11,12,13,14,15,16,17,18,19,20,21,22,23,24,25,26,27,28,29,30,31,32,33,34,35,36,37,38,39,40,41,42,43,44,45,46,47,48,49,0,\u001b[34mINFO    \u001b[0m AnnData object appears to be a copy. Attempting to transfer setup.                  \n",
      "1,2,3,4,5,6,7,8,9,10,11,12,13,14,15,16,17,18,19,20,21,22,23,24,25,26,27,28,29,30,31,32,33,34,35,36,37,38,39,40,41,42,43,44,45,46,47,48,49,0,\u001b[34mINFO    \u001b[0m AnnData object appears to be a copy. Attempting to transfer setup.                  \n",
      "1,2,3,4,5,6,7,8,9,10,11,12,13,14,15,16,17,18,19,20,21,22,23,24,25,26,27,28,29,30,31,32,33,34,35,36,37,38,39,40,41,42,43,44,45,46,47,48,49,0,\u001b[34mINFO    \u001b[0m AnnData object appears to be a copy. Attempting to transfer setup.                  \n",
      "1,2,3,4,5,6,7,8,9,10,11,12,13,14,15,16,17,18,19,20,21,22,23,24,25,26,27,28,29,30,31,32,33,34,35,36,37,38,39,40,41,42,43,44,45,46,47,48,49,0,\u001b[34mINFO    \u001b[0m AnnData object appears to be a copy. Attempting to transfer setup.                  \n",
      "1,2,3,4,5,6,7,8,9,10,11,12,13,14,15,16,17,18,19,20,21,22,23,24,25,26,27,28,29,30,31,32,33,34,35,36,37,38,39,40,41,42,43,44,45,46,47,48,49,0,\u001b[34mINFO    \u001b[0m AnnData object appears to be a copy. Attempting to transfer setup.                  \n",
      "1,2,3,4,5,6,7,8,9,10,11,12,13,14,15,16,17,18,19,20,21,22,23,24,25,26,27,28,29,30,31,32,33,34,35,36,37,38,39,40,41,42,43,44,45,46,47,48,49,0,\u001b[34mINFO    \u001b[0m AnnData object appears to be a copy. Attempting to transfer setup.                  \n",
      "1,2,3,4,5,6,7,8,9,10,11,12,13,14,15,16,17,18,19,20,21,22,23,24,25,26,27,28,29,30,31,32,33,34,35,36,37,38,39,40,41,42,43,44,45,46,47,48,49,0,\u001b[34mINFO    \u001b[0m AnnData object appears to be a copy. Attempting to transfer setup.                  \n",
      "1,2,3,4,5,6,7,8,9,10,11,12,13,14,15,16,17,18,19,20,21,22,23,24,25,26,27,28,29,30,31,32,33,34,35,36,37,38,39,40,41,42,43,44,45,46,47,48,49,0,\u001b[34mINFO    \u001b[0m AnnData object appears to be a copy. Attempting to transfer setup.                  \n",
      "1,2,3,4,5,6,7,8,9,10,11,12,13,14,15,16,17,18,19,20,21,22,23,24,25,26,27,28,29,30,31,32,33,34,35,36,37,38,39,40,41,42,43,44,45,46,47,48,49,0,\u001b[34mINFO    \u001b[0m AnnData object appears to be a copy. Attempting to transfer setup.                  \n",
      "1,2,3,4,5,6,7,8,9,10,11,12,13,14,15,16,17,18,19,20,21,22,23,24,25,26,27,28,29,30,31,32,33,34,35,36,37,38,39,40,41,42,43,44,45,46,47,48,49,0,\u001b[34mINFO    \u001b[0m AnnData object appears to be a copy. Attempting to transfer setup.                  \n",
      "1,2,3,4,5,6,7,8,9,10,11,12,13,14,15,16,17,18,19,20,21,22,23,24,25,26,27,28,29,30,31,32,33,34,35,36,37,38,39,40,41,42,43,44,45,46,47,48,49,0,\u001b[34mINFO    \u001b[0m AnnData object appears to be a copy. Attempting to transfer setup.                  \n",
      "1,2,3,4,5,6,7,8,9,10,11,12,13,14,15,16,17,18,19,20,21,22,23,24,25,26,27,28,29,30,31,32,33,34,35,36,37,38,39,40,41,42,43,44,45,46,47,48,49,0,\u001b[34mINFO    \u001b[0m AnnData object appears to be a copy. Attempting to transfer setup.                  \n",
      "1,2,3,4,5,6,7,8,9,10,11,12,13,14,15,16,17,18,19,20,21,22,23,24,25,26,27,28,29,30,31,32,33,34,35,36,37,38,39,40,41,42,43,44,45,46,47,48,49,"
     ]
    }
   ],
   "source": [
    "dff = adata.obs._scvi_labels\n",
    "indice_dict = dict()\n",
    "df = pd.DataFrame()\n",
    "\n",
    "with warnings.catch_warnings():\n",
    "    warnings.simplefilter(\"ignore\")\n",
    "    for i in np.unique(dff):\n",
    "        adatata = adata[dff==i]\n",
    "        cell_count = number_of_cells_in_a_class if len(adatata) >= number_of_cells_in_a_class else len(adatata)\n",
    "        indices = np.random.choice(adatata.n_obs, size=cell_count, replace=False)\n",
    "\n",
    "        for ind, indice in enumerate(indices):\n",
    "            print(ind, end=',')\n",
    "            scdl = model._make_data_loader(adata=adatata, indices=np.array([indice]), batch_size=cell_count)\n",
    "            batch = next(scdl.__iter__())\n",
    "            x = batch[\"X\"]\n",
    "            x.requires_grad = True\n",
    "            batch_labels = batch[\"batch\"]\n",
    "\n",
    "            def predictor(bo):\n",
    "                if isinstance(bo, np.ndarray):\n",
    "                    bo = torch.Tensor(bo).to(\"cuda:0\")\n",
    "                else:\n",
    "                    raise ValueError    \n",
    "                a = np.ones((bo.shape[0], 1)) * batch_labels.to('cpu').detach().numpy()[0][0]\n",
    "                batch_index = torch.Tensor(a).to(bo.device)\n",
    "                result = model.module.classify(bo, batch_index=batch_index)\n",
    "                return result.to('cpu').detach().numpy()\n",
    "\n",
    "            exp = explainer.explain_instance(data_row=x.to('cpu').detach().numpy()[0], \n",
    "                               predict_fn=predictor,\n",
    "                               num_features = 2000,\n",
    "                               num_samples=num_samples)\n",
    "\n",
    "            df_temp = pd.DataFrame(exp.as_list(), columns=['features', 'values'])\n",
    "            df_temp['cell_type_label'] = i\n",
    "            df_temp['indice'] = indice\n",
    "            df = pd.concat([df, df_temp])"
   ]
  },
  {
   "cell_type": "code",
   "execution_count": 33,
   "id": "a7811b81-0e69-49ab-b7df-de546281d3ad",
   "metadata": {},
   "outputs": [],
   "source": [
    "df.to_pickle(\"/lustre/groups/ml01/workspace/kemal.inecik/feature_attribution/df_subset.pk\")"
   ]
  },
  {
   "cell_type": "markdown",
   "id": "427fe9c5-f7e3-45ad-9ed1-9c1302960815",
   "metadata": {},
   "source": [
    "### Prepare"
   ]
  },
  {
   "cell_type": "code",
   "execution_count": 34,
   "id": "e6f63434-46fc-4e9f-aa5b-b456ff9c9cca",
   "metadata": {},
   "outputs": [],
   "source": [
    "df = pd.read_pickle(\"/lustre/groups/ml01/workspace/kemal.inecik/feature_attribution/df_subset.pk\")"
   ]
  },
  {
   "cell_type": "code",
   "execution_count": 35,
   "id": "28d1d6a8-8f24-4fb7-90ad-45811a492e98",
   "metadata": {},
   "outputs": [],
   "source": [
    "def isfloat(x):\n",
    "    try:\n",
    "        float(x)\n",
    "        return True\n",
    "    except ValueError:\n",
    "        return False\n",
    "def issign(x):\n",
    "    return \"<\" in x or \">\" in x or \"=\" in x"
   ]
  },
  {
   "cell_type": "code",
   "execution_count": 36,
   "id": "58bc1aec-ea8f-4cf7-9fd8-2fbee78ea950",
   "metadata": {},
   "outputs": [],
   "source": [
    "las = adata.obs[[\"scanvi_label\", \"_scvi_labels\"]].drop_duplicates()\n",
    "las.set_index('_scvi_labels', inplace=True, verify_integrity=True)\n",
    "conversion_dict = las.to_dict()['scanvi_label']"
   ]
  },
  {
   "cell_type": "code",
   "execution_count": 37,
   "id": "0254ed14-969e-4f25-af11-04df53f15bfb",
   "metadata": {},
   "outputs": [],
   "source": [
    "feat = []\n",
    "for i in df['features']:\n",
    "    isplit = i.split()\n",
    "    res = [j for j in isplit if not isfloat(j) and not issign(j)]\n",
    "    assert len(res) == 1\n",
    "    feat.append(res[0])"
   ]
  },
  {
   "cell_type": "code",
   "execution_count": 38,
   "id": "2b0cd951-a572-40d0-96e2-22f3ff8fd86b",
   "metadata": {},
   "outputs": [
    {
     "data": {
      "text/plain": [
       "True"
      ]
     },
     "execution_count": 38,
     "metadata": {},
     "output_type": "execute_result"
    }
   ],
   "source": [
    "df[\"features\"] = feat\n",
    "len(np.unique(df[\"features\"])) == adata.n_vars"
   ]
  },
  {
   "cell_type": "code",
   "execution_count": 40,
   "id": "3968b803-8ba0-4a87-9900-0c48f355f82c",
   "metadata": {
    "tags": []
   },
   "outputs": [],
   "source": [
    "df1 = df.groupby(['features', 'cell_type_label'], as_index=False).mean()\n",
    "del df1['indice']\n",
    "df1.sort_values(by=[\"features\", \"cell_type_label\"], inplace=True)\n",
    "pt1 = pd.pivot_table(df1, index=['features'], columns=['cell_type_label'])\n",
    "pt1 = pd.DataFrame(np.array(pt1), index=pt1.index, columns=[i[1] for i in pt1.columns])\n",
    "pt1.rename(columns=conversion_dict, inplace=True)"
   ]
  },
  {
   "cell_type": "code",
   "execution_count": 44,
   "id": "4f539d21-0693-4b80-96da-68a52934d421",
   "metadata": {},
   "outputs": [],
   "source": [
    "df_temp = df.copy()\n",
    "df_temp[\"values\"] = df_temp[\"values\"].abs()\n",
    "df2 = df_temp.groupby(['features', 'cell_type_label'], as_index=False).mean()\n",
    "del df2['indice']\n",
    "df2.sort_values(by=[\"features\", \"cell_type_label\"], inplace=True)\n",
    "pt2 = pd.pivot_table(df2, index=['features'], columns=['cell_type_label'])\n",
    "pt2 = pd.DataFrame(np.array(pt2), index=pt2.index, columns=[i[1] for i in pt2.columns])\n",
    "pt2.rename(columns=conversion_dict, inplace=True)"
   ]
  },
  {
   "cell_type": "code",
   "execution_count": 45,
   "id": "7adbc50b-88d3-4559-819f-d906387c82e7",
   "metadata": {},
   "outputs": [],
   "source": [
    "pt1.to_csv(\"/lustre/groups/ml01/workspace/kemal.inecik/feature_attribution/lime_subset.csv\")\n",
    "pt2.to_csv(\"/lustre/groups/ml01/workspace/kemal.inecik/feature_attribution/lime_subset_absolute.csv\")"
   ]
  },
  {
   "cell_type": "code",
   "execution_count": 46,
   "id": "9e176930-d95c-4f53-8270-ce1585ef9495",
   "metadata": {},
   "outputs": [
    {
     "data": {
      "text/html": [
       "<div>\n",
       "<style scoped>\n",
       "    .dataframe tbody tr th:only-of-type {\n",
       "        vertical-align: middle;\n",
       "    }\n",
       "\n",
       "    .dataframe tbody tr th {\n",
       "        vertical-align: top;\n",
       "    }\n",
       "\n",
       "    .dataframe thead th {\n",
       "        text-align: right;\n",
       "    }\n",
       "</style>\n",
       "<table border=\"1\" class=\"dataframe\">\n",
       "  <thead>\n",
       "    <tr style=\"text-align: right;\">\n",
       "      <th></th>\n",
       "      <th>AT1</th>\n",
       "      <th>AT2</th>\n",
       "      <th>Arterial EC</th>\n",
       "      <th>B cell lineage</th>\n",
       "      <th>Basal</th>\n",
       "      <th>Capillary</th>\n",
       "      <th>Ciliated</th>\n",
       "      <th>Dendritic cells</th>\n",
       "      <th>Fibroblast lineage</th>\n",
       "      <th>Lymphatic EC</th>\n",
       "      <th>...</th>\n",
       "      <th>Mast cells</th>\n",
       "      <th>Mesothelium</th>\n",
       "      <th>Monocytes</th>\n",
       "      <th>Non-T/B cells</th>\n",
       "      <th>Rare</th>\n",
       "      <th>Secretory</th>\n",
       "      <th>Smooth Muscle</th>\n",
       "      <th>Submucosal Secretory</th>\n",
       "      <th>T cell lineage</th>\n",
       "      <th>Venous</th>\n",
       "    </tr>\n",
       "    <tr>\n",
       "      <th>features</th>\n",
       "      <th></th>\n",
       "      <th></th>\n",
       "      <th></th>\n",
       "      <th></th>\n",
       "      <th></th>\n",
       "      <th></th>\n",
       "      <th></th>\n",
       "      <th></th>\n",
       "      <th></th>\n",
       "      <th></th>\n",
       "      <th></th>\n",
       "      <th></th>\n",
       "      <th></th>\n",
       "      <th></th>\n",
       "      <th></th>\n",
       "      <th></th>\n",
       "      <th></th>\n",
       "      <th></th>\n",
       "      <th></th>\n",
       "      <th></th>\n",
       "      <th></th>\n",
       "    </tr>\n",
       "  </thead>\n",
       "  <tbody>\n",
       "    <tr>\n",
       "      <th>A1BG</th>\n",
       "      <td>0.000465</td>\n",
       "      <td>0.001878</td>\n",
       "      <td>0.002195</td>\n",
       "      <td>0.004149</td>\n",
       "      <td>0.003718</td>\n",
       "      <td>0.000841</td>\n",
       "      <td>-0.000419</td>\n",
       "      <td>0.002261</td>\n",
       "      <td>0.001444</td>\n",
       "      <td>0.000841</td>\n",
       "      <td>...</td>\n",
       "      <td>0.000380</td>\n",
       "      <td>0.001113</td>\n",
       "      <td>0.002949</td>\n",
       "      <td>0.006281</td>\n",
       "      <td>0.003451</td>\n",
       "      <td>0.000578</td>\n",
       "      <td>0.000868</td>\n",
       "      <td>-0.000446</td>\n",
       "      <td>0.000491</td>\n",
       "      <td>0.001008</td>\n",
       "    </tr>\n",
       "    <tr>\n",
       "      <th>A2M</th>\n",
       "      <td>-0.002649</td>\n",
       "      <td>-0.003428</td>\n",
       "      <td>0.005539</td>\n",
       "      <td>-0.003815</td>\n",
       "      <td>-0.003316</td>\n",
       "      <td>0.003038</td>\n",
       "      <td>-0.004684</td>\n",
       "      <td>-0.002144</td>\n",
       "      <td>0.004247</td>\n",
       "      <td>-0.000364</td>\n",
       "      <td>...</td>\n",
       "      <td>-0.001480</td>\n",
       "      <td>-0.002933</td>\n",
       "      <td>-0.004903</td>\n",
       "      <td>-0.002916</td>\n",
       "      <td>-0.008904</td>\n",
       "      <td>-0.005260</td>\n",
       "      <td>0.003884</td>\n",
       "      <td>-0.007748</td>\n",
       "      <td>-0.003030</td>\n",
       "      <td>0.004353</td>\n",
       "    </tr>\n",
       "    <tr>\n",
       "      <th>ABCA1</th>\n",
       "      <td>-0.000778</td>\n",
       "      <td>-0.000722</td>\n",
       "      <td>0.000497</td>\n",
       "      <td>-0.001828</td>\n",
       "      <td>-0.002974</td>\n",
       "      <td>-0.000546</td>\n",
       "      <td>-0.000144</td>\n",
       "      <td>-0.002483</td>\n",
       "      <td>-0.000863</td>\n",
       "      <td>0.002454</td>\n",
       "      <td>...</td>\n",
       "      <td>0.000892</td>\n",
       "      <td>0.000751</td>\n",
       "      <td>0.000576</td>\n",
       "      <td>0.000822</td>\n",
       "      <td>0.000350</td>\n",
       "      <td>0.001118</td>\n",
       "      <td>0.000092</td>\n",
       "      <td>0.003117</td>\n",
       "      <td>0.001735</td>\n",
       "      <td>-0.000534</td>\n",
       "    </tr>\n",
       "    <tr>\n",
       "      <th>ABCA3</th>\n",
       "      <td>-0.003030</td>\n",
       "      <td>0.005691</td>\n",
       "      <td>-0.010913</td>\n",
       "      <td>-0.010593</td>\n",
       "      <td>-0.009784</td>\n",
       "      <td>-0.013438</td>\n",
       "      <td>-0.008535</td>\n",
       "      <td>-0.009712</td>\n",
       "      <td>-0.010821</td>\n",
       "      <td>-0.007713</td>\n",
       "      <td>...</td>\n",
       "      <td>-0.010786</td>\n",
       "      <td>-0.008272</td>\n",
       "      <td>-0.009087</td>\n",
       "      <td>-0.012909</td>\n",
       "      <td>-0.009249</td>\n",
       "      <td>-0.009655</td>\n",
       "      <td>-0.014716</td>\n",
       "      <td>-0.010202</td>\n",
       "      <td>-0.011257</td>\n",
       "      <td>-0.010963</td>\n",
       "    </tr>\n",
       "    <tr>\n",
       "      <th>ABCA6</th>\n",
       "      <td>-0.009665</td>\n",
       "      <td>-0.002160</td>\n",
       "      <td>-0.008893</td>\n",
       "      <td>-0.006036</td>\n",
       "      <td>-0.009798</td>\n",
       "      <td>-0.009976</td>\n",
       "      <td>-0.004981</td>\n",
       "      <td>-0.005364</td>\n",
       "      <td>-0.004225</td>\n",
       "      <td>-0.006742</td>\n",
       "      <td>...</td>\n",
       "      <td>0.002164</td>\n",
       "      <td>-0.007404</td>\n",
       "      <td>-0.004847</td>\n",
       "      <td>-0.004155</td>\n",
       "      <td>-0.005261</td>\n",
       "      <td>-0.003359</td>\n",
       "      <td>-0.010435</td>\n",
       "      <td>-0.000917</td>\n",
       "      <td>-0.006133</td>\n",
       "      <td>-0.009192</td>\n",
       "    </tr>\n",
       "    <tr>\n",
       "      <th>...</th>\n",
       "      <td>...</td>\n",
       "      <td>...</td>\n",
       "      <td>...</td>\n",
       "      <td>...</td>\n",
       "      <td>...</td>\n",
       "      <td>...</td>\n",
       "      <td>...</td>\n",
       "      <td>...</td>\n",
       "      <td>...</td>\n",
       "      <td>...</td>\n",
       "      <td>...</td>\n",
       "      <td>...</td>\n",
       "      <td>...</td>\n",
       "      <td>...</td>\n",
       "      <td>...</td>\n",
       "      <td>...</td>\n",
       "      <td>...</td>\n",
       "      <td>...</td>\n",
       "      <td>...</td>\n",
       "      <td>...</td>\n",
       "      <td>...</td>\n",
       "    </tr>\n",
       "    <tr>\n",
       "      <th>ZNF267</th>\n",
       "      <td>-0.000484</td>\n",
       "      <td>0.000319</td>\n",
       "      <td>-0.001212</td>\n",
       "      <td>-0.002217</td>\n",
       "      <td>-0.000954</td>\n",
       "      <td>-0.000322</td>\n",
       "      <td>-0.001685</td>\n",
       "      <td>-0.000507</td>\n",
       "      <td>-0.002019</td>\n",
       "      <td>0.000593</td>\n",
       "      <td>...</td>\n",
       "      <td>0.000667</td>\n",
       "      <td>0.000535</td>\n",
       "      <td>-0.001564</td>\n",
       "      <td>0.000208</td>\n",
       "      <td>-0.003255</td>\n",
       "      <td>-0.001141</td>\n",
       "      <td>0.001452</td>\n",
       "      <td>-0.000529</td>\n",
       "      <td>0.000762</td>\n",
       "      <td>-0.001381</td>\n",
       "    </tr>\n",
       "    <tr>\n",
       "      <th>ZNF331</th>\n",
       "      <td>-0.003963</td>\n",
       "      <td>-0.002011</td>\n",
       "      <td>-0.002982</td>\n",
       "      <td>-0.002946</td>\n",
       "      <td>-0.001259</td>\n",
       "      <td>-0.001527</td>\n",
       "      <td>-0.000767</td>\n",
       "      <td>-0.000505</td>\n",
       "      <td>-0.000909</td>\n",
       "      <td>-0.001320</td>\n",
       "      <td>...</td>\n",
       "      <td>0.001018</td>\n",
       "      <td>-0.001582</td>\n",
       "      <td>0.000057</td>\n",
       "      <td>-0.000127</td>\n",
       "      <td>-0.002446</td>\n",
       "      <td>-0.001649</td>\n",
       "      <td>-0.000348</td>\n",
       "      <td>-0.000485</td>\n",
       "      <td>0.000386</td>\n",
       "      <td>-0.000019</td>\n",
       "    </tr>\n",
       "    <tr>\n",
       "      <th>ZNF683</th>\n",
       "      <td>0.008866</td>\n",
       "      <td>0.003669</td>\n",
       "      <td>-0.003340</td>\n",
       "      <td>0.005169</td>\n",
       "      <td>0.003527</td>\n",
       "      <td>0.002568</td>\n",
       "      <td>0.004712</td>\n",
       "      <td>0.007654</td>\n",
       "      <td>0.001404</td>\n",
       "      <td>0.003213</td>\n",
       "      <td>...</td>\n",
       "      <td>-0.000071</td>\n",
       "      <td>-0.004793</td>\n",
       "      <td>0.003062</td>\n",
       "      <td>-0.011402</td>\n",
       "      <td>0.003351</td>\n",
       "      <td>-0.001437</td>\n",
       "      <td>0.003482</td>\n",
       "      <td>0.006446</td>\n",
       "      <td>-0.011413</td>\n",
       "      <td>-0.002033</td>\n",
       "    </tr>\n",
       "    <tr>\n",
       "      <th>ZNF80</th>\n",
       "      <td>0.011797</td>\n",
       "      <td>-0.004009</td>\n",
       "      <td>0.012153</td>\n",
       "      <td>-0.007835</td>\n",
       "      <td>-0.001553</td>\n",
       "      <td>0.008330</td>\n",
       "      <td>0.010288</td>\n",
       "      <td>0.013625</td>\n",
       "      <td>-0.033210</td>\n",
       "      <td>-0.006522</td>\n",
       "      <td>...</td>\n",
       "      <td>-0.006347</td>\n",
       "      <td>0.008264</td>\n",
       "      <td>-0.006039</td>\n",
       "      <td>-0.017812</td>\n",
       "      <td>0.004194</td>\n",
       "      <td>-0.014780</td>\n",
       "      <td>-0.024023</td>\n",
       "      <td>-0.002640</td>\n",
       "      <td>0.008387</td>\n",
       "      <td>0.002120</td>\n",
       "    </tr>\n",
       "    <tr>\n",
       "      <th>ZNF831</th>\n",
       "      <td>0.002416</td>\n",
       "      <td>0.000803</td>\n",
       "      <td>0.009901</td>\n",
       "      <td>-0.003508</td>\n",
       "      <td>-0.005905</td>\n",
       "      <td>-0.008208</td>\n",
       "      <td>0.000546</td>\n",
       "      <td>0.007522</td>\n",
       "      <td>0.000403</td>\n",
       "      <td>-0.003086</td>\n",
       "      <td>...</td>\n",
       "      <td>0.005246</td>\n",
       "      <td>-0.002599</td>\n",
       "      <td>0.008151</td>\n",
       "      <td>-0.003586</td>\n",
       "      <td>0.015658</td>\n",
       "      <td>-0.002183</td>\n",
       "      <td>0.011317</td>\n",
       "      <td>0.004004</td>\n",
       "      <td>0.010563</td>\n",
       "      <td>0.008489</td>\n",
       "    </tr>\n",
       "  </tbody>\n",
       "</table>\n",
       "<p>2000 rows × 21 columns</p>\n",
       "</div>"
      ],
      "text/plain": [
       "               AT1       AT2  Arterial EC  B cell lineage     Basal  \\\n",
       "features                                                              \n",
       "A1BG      0.000465  0.001878     0.002195        0.004149  0.003718   \n",
       "A2M      -0.002649 -0.003428     0.005539       -0.003815 -0.003316   \n",
       "ABCA1    -0.000778 -0.000722     0.000497       -0.001828 -0.002974   \n",
       "ABCA3    -0.003030  0.005691    -0.010913       -0.010593 -0.009784   \n",
       "ABCA6    -0.009665 -0.002160    -0.008893       -0.006036 -0.009798   \n",
       "...            ...       ...          ...             ...       ...   \n",
       "ZNF267   -0.000484  0.000319    -0.001212       -0.002217 -0.000954   \n",
       "ZNF331   -0.003963 -0.002011    -0.002982       -0.002946 -0.001259   \n",
       "ZNF683    0.008866  0.003669    -0.003340        0.005169  0.003527   \n",
       "ZNF80     0.011797 -0.004009     0.012153       -0.007835 -0.001553   \n",
       "ZNF831    0.002416  0.000803     0.009901       -0.003508 -0.005905   \n",
       "\n",
       "          Capillary  Ciliated  Dendritic cells  Fibroblast lineage  \\\n",
       "features                                                             \n",
       "A1BG       0.000841 -0.000419         0.002261            0.001444   \n",
       "A2M        0.003038 -0.004684        -0.002144            0.004247   \n",
       "ABCA1     -0.000546 -0.000144        -0.002483           -0.000863   \n",
       "ABCA3     -0.013438 -0.008535        -0.009712           -0.010821   \n",
       "ABCA6     -0.009976 -0.004981        -0.005364           -0.004225   \n",
       "...             ...       ...              ...                 ...   \n",
       "ZNF267    -0.000322 -0.001685        -0.000507           -0.002019   \n",
       "ZNF331    -0.001527 -0.000767        -0.000505           -0.000909   \n",
       "ZNF683     0.002568  0.004712         0.007654            0.001404   \n",
       "ZNF80      0.008330  0.010288         0.013625           -0.033210   \n",
       "ZNF831    -0.008208  0.000546         0.007522            0.000403   \n",
       "\n",
       "          Lymphatic EC  ...  Mast cells  Mesothelium  Monocytes  \\\n",
       "features                ...                                       \n",
       "A1BG          0.000841  ...    0.000380     0.001113   0.002949   \n",
       "A2M          -0.000364  ...   -0.001480    -0.002933  -0.004903   \n",
       "ABCA1         0.002454  ...    0.000892     0.000751   0.000576   \n",
       "ABCA3        -0.007713  ...   -0.010786    -0.008272  -0.009087   \n",
       "ABCA6        -0.006742  ...    0.002164    -0.007404  -0.004847   \n",
       "...                ...  ...         ...          ...        ...   \n",
       "ZNF267        0.000593  ...    0.000667     0.000535  -0.001564   \n",
       "ZNF331       -0.001320  ...    0.001018    -0.001582   0.000057   \n",
       "ZNF683        0.003213  ...   -0.000071    -0.004793   0.003062   \n",
       "ZNF80        -0.006522  ...   -0.006347     0.008264  -0.006039   \n",
       "ZNF831       -0.003086  ...    0.005246    -0.002599   0.008151   \n",
       "\n",
       "          Non-T/B cells      Rare  Secretory  Smooth Muscle  \\\n",
       "features                                                      \n",
       "A1BG           0.006281  0.003451   0.000578       0.000868   \n",
       "A2M           -0.002916 -0.008904  -0.005260       0.003884   \n",
       "ABCA1          0.000822  0.000350   0.001118       0.000092   \n",
       "ABCA3         -0.012909 -0.009249  -0.009655      -0.014716   \n",
       "ABCA6         -0.004155 -0.005261  -0.003359      -0.010435   \n",
       "...                 ...       ...        ...            ...   \n",
       "ZNF267         0.000208 -0.003255  -0.001141       0.001452   \n",
       "ZNF331        -0.000127 -0.002446  -0.001649      -0.000348   \n",
       "ZNF683        -0.011402  0.003351  -0.001437       0.003482   \n",
       "ZNF80         -0.017812  0.004194  -0.014780      -0.024023   \n",
       "ZNF831        -0.003586  0.015658  -0.002183       0.011317   \n",
       "\n",
       "          Submucosal Secretory  T cell lineage    Venous  \n",
       "features                                                  \n",
       "A1BG                 -0.000446        0.000491  0.001008  \n",
       "A2M                  -0.007748       -0.003030  0.004353  \n",
       "ABCA1                 0.003117        0.001735 -0.000534  \n",
       "ABCA3                -0.010202       -0.011257 -0.010963  \n",
       "ABCA6                -0.000917       -0.006133 -0.009192  \n",
       "...                        ...             ...       ...  \n",
       "ZNF267               -0.000529        0.000762 -0.001381  \n",
       "ZNF331               -0.000485        0.000386 -0.000019  \n",
       "ZNF683                0.006446       -0.011413 -0.002033  \n",
       "ZNF80                -0.002640        0.008387  0.002120  \n",
       "ZNF831                0.004004        0.010563  0.008489  \n",
       "\n",
       "[2000 rows x 21 columns]"
      ]
     },
     "execution_count": 46,
     "metadata": {},
     "output_type": "execute_result"
    }
   ],
   "source": [
    "pt1"
   ]
  },
  {
   "cell_type": "code",
   "execution_count": 47,
   "id": "00c82ce6-1cda-454f-a1b2-aa2a8d4bb8d2",
   "metadata": {},
   "outputs": [
    {
     "data": {
      "text/plain": [
       "Index(['AT1', 'AT2', 'Arterial EC', 'B cell lineage', 'Basal', 'Capillary',\n",
       "       'Ciliated', 'Dendritic cells', 'Fibroblast lineage', 'Lymphatic EC',\n",
       "       'Macrophages', 'Mast cells', 'Mesothelium', 'Monocytes',\n",
       "       'Non-T/B cells', 'Rare', 'Secretory', 'Smooth Muscle',\n",
       "       'Submucosal Secretory', 'T cell lineage', 'Venous'],\n",
       "      dtype='object')"
      ]
     },
     "execution_count": 47,
     "metadata": {},
     "output_type": "execute_result"
    }
   ],
   "source": [
    "pt1.columns"
   ]
  },
  {
   "cell_type": "code",
   "execution_count": null,
   "id": "e8061ccf-463e-4824-8168-f6496da12720",
   "metadata": {},
   "outputs": [],
   "source": []
  }
 ],
 "metadata": {
  "kernelspec": {
   "display_name": "Python 3 (ipykernel)",
   "language": "python",
   "name": "python3"
  },
  "language_info": {
   "codemirror_mode": {
    "name": "ipython",
    "version": 3
   },
   "file_extension": ".py",
   "mimetype": "text/x-python",
   "name": "python",
   "nbconvert_exporter": "python",
   "pygments_lexer": "ipython3",
   "version": "3.8.13"
  }
 },
 "nbformat": 4,
 "nbformat_minor": 5
}
