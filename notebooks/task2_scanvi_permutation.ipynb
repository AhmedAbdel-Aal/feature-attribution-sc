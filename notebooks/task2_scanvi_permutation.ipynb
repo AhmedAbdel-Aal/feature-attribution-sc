{
 "cells": [
  {
   "cell_type": "markdown",
   "id": "706ea6f7",
   "metadata": {},
   "source": [
    "Inspired by the implementation proposed in Fisher, Rudin, Dominici (2018) https://arxiv.org/abs/1801.01489"
   ]
  },
  {
   "cell_type": "code",
   "execution_count": 7,
   "id": "c347926f",
   "metadata": {},
   "outputs": [],
   "source": [
    "# !conda install -c conda-forge shap\n",
    "# !pip install captum"
   ]
  },
  {
   "cell_type": "code",
   "execution_count": 3,
   "id": "9cabfa37",
   "metadata": {},
   "outputs": [
    {
     "name": "stdout",
     "output_type": "stream",
     "text": [
      "scanpy==1.9.1 anndata==0.8.0 umap==0.5.3 numpy==1.22.4 scipy==1.9.1 pandas==1.4.4 scikit-learn==1.1.2 statsmodels==0.13.2 pynndescent==0.5.7\n"
     ]
    },
    {
     "name": "stderr",
     "output_type": "stream",
     "text": [
      "/home/icb/yuge.ji/miniconda3/envs/test_env3/lib/python3.10/site-packages/scanpy/_settings.py:447: DeprecationWarning: `set_matplotlib_formats` is deprecated since IPython 7.23, directly use `matplotlib_inline.backend_inline.set_matplotlib_formats()`\n",
      "  IPython.display.set_matplotlib_formats(*ipython_format)\n"
     ]
    }
   ],
   "source": [
    "import torch\n",
    "import scvi\n",
    "import pandas as pd\n",
    "import scanpy as sc\n",
    "import matplotlib.pyplot as plt\n",
    "\n",
    "sc.set_figure_params(dpi=100, frameon=False, color_map='Reds', facecolor=None)\n",
    "sc.logging.print_header()"
   ]
  },
  {
   "cell_type": "markdown",
   "id": "4cc40139",
   "metadata": {},
   "source": [
    "## load model"
   ]
  },
  {
   "cell_type": "code",
   "execution_count": 4,
   "id": "aace4f1a",
   "metadata": {},
   "outputs": [
    {
     "data": {
      "text/plain": [
       "AnnData object with n_obs × n_vars = 584944 × 2000\n",
       "    obs: 'sample', 'original_celltype_ann', 'study_long', 'study', 'last_author_PI', 'subject_ID', 'subject_ID_as_published', 'pre_or_postnatal', 'age_in_years', 'age_range', 'sex', 'ethnicity', 'mixed_ethnicity', 'smoking_status', 'smoking_history', 'BMI', 'known_lung_disease', 'condition', 'subject_type', 'cause_of_death', 'sample_type', 'anatomical_region_coarse', 'anatomical_region_detailed', 'tissue_dissociation_protocol', 'cells_or_nuclei', 'single_cell_platform', \"3'_or_5'\", 'enrichment', 'sequencing_platform', 'reference_genome_coarse', 'ensembl_release_reference_genome', 'cell_ranger_version', 'disease_status', 'fresh_or_frozen', 'cultured', 'cell_viability_%', 'comments', 'Processing_site', 'dataset', 'anatomical_region_level_1', 'anatomical_region_level_2', 'anatomical_region_level_3', 'anatomical_region_highest_res', 'age', 'ann_level_1', 'ann_level_2', 'ann_level_3', 'ann_level_4', 'ann_level_5', 'ann_highest_res', 'ann_new', 'n_genes', 'total_counts', 'log10_total_counts', 'n_genes_detected', 'mito_frac', 'ribo_frac', 'compl', 'size_factors', 'ann_level_1_clean', 'ann_level_2_clean', 'ann_level_3_clean', 'ann_level_4_clean', 'ann_level_5_clean', 'scanvi_label', 'leiden_1', 'leiden_2', 'leiden_3', 'anatomical_region_ccf_score', 'manual_ann', 'leiden_4', 'reannotation_type', 'leiden_5', 'original_ann_level_1', 'original_ann_level_2', 'original_ann_level_3', 'original_ann_level_4', 'original_ann_level_5', 'original_ann_highest_res', 'original_ann_new', 'original_ann_level_1_clean', 'original_ann_level_2_clean', 'original_ann_level_3_clean', 'original_ann_level_4_clean', 'original_ann_level_5_clean', 'cluster_annotated', 'manual_ann_grouped', 'entropy_subject_ID_leiden_3', 'entropy_dataset_leiden_3', 'entropy_original_ann_level_1_leiden_3', 'entropy_original_ann_level_2_clean_leiden_3', 'entropy_original_ann_level_3_clean_leiden_3', 'digestion'\n",
       "    var: 'gene_symbols', 'n_cells', 'highly_variable', 'means', 'dispersions', 'dispersions_norm', 'highly_variable_nbatches', 'highly_variable_intersection', 'gene_ids'\n",
       "    uns: 'anatomical_region_level_1_colors', 'ann_level_1_colors', 'ann_level_2_colors', 'ann_level_3_colors', 'ann_level_4_colors', 'ann_level_5_clean_colors', 'ann_level_5_colors', 'dataset_colors', 'fresh_or_frozen_colors', 'hvg', 'leiden', 'leiden_1_colors', 'leiden_2_colors', 'leiden_3_colors', 'leiden_4_colors', 'leiden_5_colors', 'manual_ann_colors', 'manual_ann_grouped_colors', 'neighbors', 'original_ann_level_1_colors', 'pca', 'rank_genes_groups', 'scanvi_label_colors', 'umap'\n",
       "    obsm: 'X_pca', 'X_scanvi_emb', 'X_umap', 'X_umap_scanvi', 'X_umap_unintegrated'\n",
       "    varm: 'PCs'\n",
       "    layers: 'counts'\n",
       "    obsp: 'connectivities', 'distances'"
      ]
     },
     "execution_count": 4,
     "metadata": {},
     "output_type": "execute_result"
    }
   ],
   "source": [
    "hlca_path = '../datasets/hlca.h5ad'\n",
    "adata = sc.read(hlca_path)\n",
    "adata"
   ]
  },
  {
   "cell_type": "code",
   "execution_count": 68,
   "id": "81716532",
   "metadata": {},
   "outputs": [
    {
     "name": "stdout",
     "output_type": "stream",
     "text": [
      "\u001b[34mINFO    \u001b[0m File \u001b[35m/home/icb/yuge.ji/projects/HLCA_reproducibility/notebooks/3_atlas_extension/sca\u001b[0m\n",
      "         \u001b[35mnvi_model/\u001b[0m\u001b[95mmodel.pt\u001b[0m already downloaded                                               \n"
     ]
    },
    {
     "name": "stderr",
     "output_type": "stream",
     "text": [
      "var_names for adata passed in does not match var_names of adata used to train the model. For valid results, the vars need to be the same and in the same order as the adata used to train the model.\n",
      "adata.X does not contain unnormalized count data. Are you sure this is what you want?\n",
      "Category 18 in adata.obs['_scvi_labels'] has fewer than 3 cells. Models may not train properly.\n",
      "Category 18 in adata.obs['_scvi_labels'] has fewer than 3 cells. Models may not train properly.\n"
     ]
    },
    {
     "data": {
      "text/html": [
       "<pre style=\"white-space:pre;overflow-x:auto;line-height:normal;font-family:Menlo,'DejaVu Sans Mono',consolas,'Courier New',monospace\">ScanVI Model with the following params: \n",
       "unlabeled_category: unlabeled, n_hidden: <span style=\"color: #008080; text-decoration-color: #008080; font-weight: bold\">128</span>, n_latent: <span style=\"color: #008080; text-decoration-color: #008080; font-weight: bold\">30</span>, n_layers: <span style=\"color: #008080; text-decoration-color: #008080; font-weight: bold\">2</span>, dropout_rate: <span style=\"color: #008080; text-decoration-color: #008080; font-weight: bold\">0.1</span>, \n",
       "dispersion: gene, gene_likelihood: nb\n",
       "Training status: Trained\n",
       "</pre>\n"
      ],
      "text/plain": [
       "ScanVI Model with the following params: \n",
       "unlabeled_category: unlabeled, n_hidden: \u001b[1;36m128\u001b[0m, n_latent: \u001b[1;36m30\u001b[0m, n_layers: \u001b[1;36m2\u001b[0m, dropout_rate: \u001b[1;36m0.1\u001b[0m, \n",
       "dispersion: gene, gene_likelihood: nb\n",
       "Training status: Trained\n"
      ]
     },
     "metadata": {},
     "output_type": "display_data"
    },
    {
     "data": {
      "text/plain": []
     },
     "execution_count": 68,
     "metadata": {},
     "output_type": "execute_result"
    }
   ],
   "source": [
    "model = scvi.model.SCANVI.load('/home/icb/yuge.ji/projects/HLCA_reproducibility/notebooks/3_atlas_extension/scanvi_model/', adata)\n",
    "model"
   ]
  },
  {
   "cell_type": "code",
   "execution_count": 192,
   "id": "0d05ac81",
   "metadata": {},
   "outputs": [],
   "source": [
    "scdl = model._make_data_loader(adata=adata, indices=list(range(1000)), batch_size=100)\n",
    "batch = next(scdl.__iter__())"
   ]
  },
  {
   "cell_type": "markdown",
   "id": "a8eb7fbb",
   "metadata": {},
   "source": [
    "## captum"
   ]
  },
  {
   "cell_type": "code",
   "execution_count": 193,
   "id": "6cac3e12",
   "metadata": {},
   "outputs": [],
   "source": [
    "import numpy as np\n",
    "# from captum.attr import visualization as viz\n",
    "from captum.attr import FeatureAblation"
   ]
  },
  {
   "cell_type": "markdown",
   "id": "ed7716bc",
   "metadata": {},
   "source": [
    "Generate feature mask."
   ]
  },
  {
   "cell_type": "code",
   "execution_count": 181,
   "id": "74f627e5",
   "metadata": {},
   "outputs": [],
   "source": [
    "# # faux mask for when we might want to ablate or permute in groups\n",
    "# feature_mask = np.array(adata.shape[1])\n",
    "# feature_mask[feature_mask.isin([5, 10])] = 1 \n",
    "# feature_mask[feature_mask == 20] = 2\n",
    "# feature_mask[feature_mask == 255] = 3"
   ]
  },
  {
   "cell_type": "markdown",
   "id": "543fae50",
   "metadata": {},
   "source": [
    "### measure against posterior"
   ]
  },
  {
   "cell_type": "markdown",
   "id": "2c269cf8",
   "metadata": {},
   "source": [
    "Wrap `model.module.forward` because captum has an internal check that the inputs pass are tensors."
   ]
  },
  {
   "cell_type": "code",
   "execution_count": 194,
   "id": "736c9a88",
   "metadata": {},
   "outputs": [],
   "source": [
    "forw = lambda x, y, z: model.module.forward({'X': x, 'batch':y, 'labels':z}, compute_loss=False)[1]['px_scale']"
   ]
  },
  {
   "cell_type": "code",
   "execution_count": 195,
   "id": "c8281c53",
   "metadata": {},
   "outputs": [
    {
     "data": {
      "text/plain": [
       "torch.Size([100, 2000])"
      ]
     },
     "execution_count": 195,
     "metadata": {},
     "output_type": "execute_result"
    }
   ],
   "source": [
    "model.module.forward(batch, compute_loss=False)[1]['px_scale'].shape"
   ]
  },
  {
   "cell_type": "markdown",
   "id": "427b9ded",
   "metadata": {},
   "source": [
    "Run captum."
   ]
  },
  {
   "cell_type": "code",
   "execution_count": 196,
   "id": "dc4065f8",
   "metadata": {},
   "outputs": [],
   "source": [
    "ablator = FeatureAblation(forw)"
   ]
  },
  {
   "cell_type": "code",
   "execution_count": 197,
   "id": "6273d2c4",
   "metadata": {},
   "outputs": [
    {
     "name": "stdout",
     "output_type": "stream",
     "text": [
      "CPU times: user 1h 30min 49s, sys: 33min 49s, total: 2h 4min 38s\n",
      "Wall time: 7min 50s\n"
     ]
    }
   ],
   "source": [
    "%%time\n",
    "# # per feature per output\n",
    "# attribution_map = ablator.attribute(\n",
    "#     (batch['X'], batch['batch'], batch['labels']),\n",
    "# #     target=['Macrophages']*batch['X'].shape[1],\n",
    "#     feature_mask=(torch.tensor(feature_mask), torch.tensor(feature_mask), torch.tensor(feature_mask)))\n",
    "\n",
    "# per feature (aggregation) (takes longer)\n",
    "attribution_map = ablator.attribute(\n",
    "    (batch['X'], batch['batch'], batch['labels']),\n",
    "    perturbations_per_eval=1,\n",
    "#     show_progress=True\n",
    ")"
   ]
  },
  {
   "cell_type": "code",
   "execution_count": 175,
   "id": "f24a9a5a",
   "metadata": {},
   "outputs": [
    {
     "data": {
      "text/plain": [
       "[torch.Size([10000, 2000]), torch.Size([10000, 1]), torch.Size([10000, 1])]"
      ]
     },
     "execution_count": 175,
     "metadata": {},
     "output_type": "execute_result"
    }
   ],
   "source": [
    "[i.shape for i in attribution_map]"
   ]
  },
  {
   "cell_type": "code",
   "execution_count": 177,
   "id": "d9808540",
   "metadata": {},
   "outputs": [
    {
     "data": {
      "text/plain": [
       "[torch.Size([10000, 2000]), torch.Size([10000, 1]), torch.Size([10000, 1])]"
      ]
     },
     "execution_count": 177,
     "metadata": {},
     "output_type": "execute_result"
    }
   ],
   "source": [
    "[i.shape for i in attribution_map]"
   ]
  },
  {
   "cell_type": "markdown",
   "id": "46afd685",
   "metadata": {},
   "source": [
    "Captum returns an attribution map of either `tensor(n_features * output_size, n_features), n_inputs` or ?"
   ]
  },
  {
   "cell_type": "code",
   "execution_count": 166,
   "id": "7fcb9f6c",
   "metadata": {},
   "outputs": [
    {
     "data": {
      "text/plain": [
       "torch.Size([10000, 2000])"
      ]
     },
     "execution_count": 166,
     "metadata": {},
     "output_type": "execute_result"
    }
   ],
   "source": [
    "attribution_map[0].shape"
   ]
  },
  {
   "cell_type": "code",
   "execution_count": 115,
   "id": "83a050f4",
   "metadata": {
    "scrolled": true
   },
   "outputs": [
    {
     "data": {
      "text/plain": [
       "(tensor([[-1.7431e-08, -1.7431e-08, -1.7431e-08,  ..., -1.7431e-08,\n",
       "          -1.7431e-08, -1.7431e-08],\n",
       "         [-1.0250e-10, -1.0250e-10, -1.0250e-10,  ..., -1.0250e-10,\n",
       "          -1.0250e-10, -1.0250e-10],\n",
       "         [-1.9924e-08, -1.9924e-08, -1.9924e-08,  ..., -1.9924e-08,\n",
       "          -1.9924e-08, -1.9924e-08],\n",
       "         ...,\n",
       "         [-8.1410e-07, -8.1410e-07, -8.1410e-07,  ..., -8.1410e-07,\n",
       "          -8.1410e-07, -8.1410e-07],\n",
       "         [-9.7044e-01, -9.7044e-01, -9.7044e-01,  ..., -9.7044e-01,\n",
       "          -9.7044e-01, -9.7044e-01],\n",
       "         [-1.0539e-06, -1.0539e-06, -1.0539e-06,  ..., -1.0539e-06,\n",
       "          -1.0539e-06, -1.0539e-06]]),\n",
       " tensor([[ 1.2044e-12],\n",
       "         [-4.3241e-15],\n",
       "         [ 1.4188e-12],\n",
       "         [ 1.7650e-12],\n",
       "         [ 5.3920e-14],\n",
       "         [ 1.0132e-12],\n",
       "         [ 1.1324e-12],\n",
       "         [ 2.9206e-12],\n",
       "         [ 1.7511e-16],\n",
       "         [ 1.1511e-12],\n",
       "         [ 2.4874e-13],\n",
       "         [ 1.7375e-12],\n",
       "         [ 8.7122e-13],\n",
       "         [ 0.0000e+00],\n",
       "         [-2.1124e-11],\n",
       "         [ 1.1876e-12],\n",
       "         [ 1.5030e-12],\n",
       "         [ 4.4597e-12],\n",
       "         [ 1.0389e-12],\n",
       "         [ 9.2066e-13],\n",
       "         [ 1.1876e-12],\n",
       "         [ 1.2695e-12],\n",
       "         [ 7.9433e-11],\n",
       "         [ 1.3585e-12],\n",
       "         [ 1.8363e-12],\n",
       "         [ 1.7508e-12],\n",
       "         [ 2.3490e-12],\n",
       "         [ 1.5387e-12],\n",
       "         [ 6.8514e-14],\n",
       "         [ 3.2239e-16],\n",
       "         [ 1.0383e-13],\n",
       "         [ 2.0303e-13],\n",
       "         [ 1.6714e-16],\n",
       "         [ 6.2713e-14],\n",
       "         [ 1.0442e-13],\n",
       "         [ 4.0885e-14],\n",
       "         [ 1.7835e-16],\n",
       "         [ 9.2393e-14],\n",
       "         [ 3.7113e-14],\n",
       "         [ 7.2383e-14],\n",
       "         [ 6.5724e-14],\n",
       "         [ 6.5029e-13],\n",
       "         [ 4.9604e-12],\n",
       "         [ 9.8472e-14],\n",
       "         [ 1.1034e-13],\n",
       "         [ 1.8810e-13],\n",
       "         [ 1.2488e-13],\n",
       "         [ 1.2548e-13],\n",
       "         [ 8.7730e-14],\n",
       "         [ 8.1300e-14],\n",
       "         [ 1.0682e-15],\n",
       "         [ 7.5047e-14],\n",
       "         [ 1.5765e-13],\n",
       "         [ 7.2610e-14],\n",
       "         [ 0.0000e+00],\n",
       "         [ 1.0663e-13],\n",
       "         [ 2.5365e-11],\n",
       "         [-3.2187e-06],\n",
       "         [ 2.8593e-11],\n",
       "         [ 3.6764e-11],\n",
       "         [ 3.2314e-06],\n",
       "         [ 1.9129e-11],\n",
       "         [ 2.0893e-11],\n",
       "         [ 7.8223e-11],\n",
       "         [-9.5643e-13],\n",
       "         [ 3.2648e-11],\n",
       "         [ 9.7380e-11],\n",
       "         [ 4.6386e-11],\n",
       "         [ 2.9975e-11],\n",
       "         [ 1.4089e-13],\n",
       "         [ 3.0649e-14],\n",
       "         [ 2.9034e-11],\n",
       "         [ 2.6028e-11],\n",
       "         [ 1.2324e-11],\n",
       "         [ 2.6224e-11],\n",
       "         [ 2.6009e-11],\n",
       "         [ 2.2854e-11],\n",
       "         [ 2.4734e-11],\n",
       "         [ 1.1582e-12],\n",
       "         [ 1.5723e-11],\n",
       "         [ 2.7636e-11],\n",
       "         [ 2.7406e-11],\n",
       "         [ 1.0178e-11],\n",
       "         [ 2.7481e-11],\n",
       "         [ 1.5669e-11],\n",
       "         [ 2.9370e-15],\n",
       "         [ 1.8502e-11],\n",
       "         [ 1.8198e-11],\n",
       "         [ 2.2673e-14],\n",
       "         [ 1.2599e-11],\n",
       "         [ 1.6586e-11],\n",
       "         [-5.3265e-13],\n",
       "         [ 3.1663e-15],\n",
       "         [ 1.7221e-11],\n",
       "         [ 2.4268e-12],\n",
       "         [ 1.7897e-11],\n",
       "         [ 1.0451e-11],\n",
       "         [-1.1921e-07],\n",
       "         [ 2.7168e-09],\n",
       "         [ 1.3754e-11],\n",
       "         [ 1.7266e-11],\n",
       "         [ 4.6252e-11],\n",
       "         [ 1.5968e-11],\n",
       "         [ 1.1001e-11],\n",
       "         [ 1.7300e-11],\n",
       "         [ 1.9954e-11],\n",
       "         [ 1.3163e-07],\n",
       "         [ 1.5320e-11],\n",
       "         [ 2.3368e-11],\n",
       "         [ 1.8625e-11],\n",
       "         [-2.4222e-12],\n",
       "         [ 1.4693e-11],\n",
       "         [ 1.4278e-08],\n",
       "         [ 4.2362e-01],\n",
       "         [ 1.1291e-08],\n",
       "         [ 1.8026e-08],\n",
       "         [-4.2364e-01],\n",
       "         [ 9.2397e-09],\n",
       "         [ 1.1441e-08],\n",
       "         [ 8.4652e-11],\n",
       "         [ 2.3015e-11],\n",
       "         [ 1.7335e-08],\n",
       "         [ 5.2295e-11],\n",
       "         [ 1.8768e-08],\n",
       "         [ 1.3306e-08],\n",
       "         [ 1.8124e-10],\n",
       "         [ 4.3920e-13],\n",
       "         [ 1.2699e-08],\n",
       "         [ 1.3585e-08],\n",
       "         [ 6.1718e-09],\n",
       "         [ 1.0934e-08],\n",
       "         [ 1.1575e-08],\n",
       "         [ 1.3206e-08],\n",
       "         [ 1.7993e-08],\n",
       "         [ 1.3308e-05],\n",
       "         [ 9.4720e-09],\n",
       "         [ 1.8606e-08],\n",
       "         [ 1.3488e-08],\n",
       "         [ 5.0663e-11],\n",
       "         [ 1.1888e-08]]))"
      ]
     },
     "execution_count": 115,
     "metadata": {},
     "output_type": "execute_result"
    }
   ],
   "source": [
    "attribution_map"
   ]
  },
  {
   "cell_type": "code",
   "execution_count": 116,
   "id": "37a55b8e",
   "metadata": {},
   "outputs": [
    {
     "data": {
      "text/plain": [
       "torch.Size([140, 2000])"
      ]
     },
     "execution_count": 116,
     "metadata": {},
     "output_type": "execute_result"
    }
   ],
   "source": [
    "attribution_map[0].shape"
   ]
  },
  {
   "cell_type": "code",
   "execution_count": 117,
   "id": "0c6a4310",
   "metadata": {},
   "outputs": [
    {
     "data": {
      "text/plain": [
       "torch.Size([140, 1])"
      ]
     },
     "execution_count": 117,
     "metadata": {},
     "output_type": "execute_result"
    }
   ],
   "source": [
    "attribution_map[1].shape"
   ]
  },
  {
   "cell_type": "markdown",
   "id": "6c281fe3",
   "metadata": {},
   "source": [
    "### measure against classification probabilities"
   ]
  },
  {
   "cell_type": "code",
   "execution_count": 179,
   "id": "426a3fb1",
   "metadata": {},
   "outputs": [],
   "source": [
    "ablator = FeatureAblation(model.module.classify)"
   ]
  },
  {
   "cell_type": "code",
   "execution_count": 159,
   "id": "6e8b4b33",
   "metadata": {
    "scrolled": true
   },
   "outputs": [
    {
     "data": {
      "text/plain": [
       "torch.Size([5, 28])"
      ]
     },
     "execution_count": 159,
     "metadata": {},
     "output_type": "execute_result"
    }
   ],
   "source": [
    "# model.module.classify(batch['X'], batch['batch']).shape"
   ]
  },
  {
   "cell_type": "code",
   "execution_count": 182,
   "id": "d002437a",
   "metadata": {},
   "outputs": [],
   "source": [
    "# per feature per output\n",
    "attribution_map = ablator.attribute(\n",
    "    (batch['X'], batch['batch']),\n",
    "#     target=['Macrophages']*batch['X'].shape[1],\n",
    "    feature_mask=(torch.tensor(feature_mask), torch.tensor(feature_mask)))"
   ]
  },
  {
   "cell_type": "code",
   "execution_count": 183,
   "id": "360287ec",
   "metadata": {},
   "outputs": [
    {
     "data": {
      "text/plain": [
       "[torch.Size([140, 2000]), torch.Size([140, 1])]"
      ]
     },
     "execution_count": 183,
     "metadata": {},
     "output_type": "execute_result"
    }
   ],
   "source": [
    "[i.shape for i in attribution_map]"
   ]
  },
  {
   "cell_type": "markdown",
   "id": "dae5d695",
   "metadata": {},
   "source": [
    "### measure against latent"
   ]
  }
 ],
 "metadata": {
  "kernelspec": {
   "display_name": "Python [conda env:test_env3]",
   "language": "python",
   "name": "conda-env-test_env3-py"
  },
  "language_info": {
   "codemirror_mode": {
    "name": "ipython",
    "version": 3
   },
   "file_extension": ".py",
   "mimetype": "text/x-python",
   "name": "python",
   "nbconvert_exporter": "python",
   "pygments_lexer": "ipython3",
   "version": "3.10.6"
  }
 },
 "nbformat": 4,
 "nbformat_minor": 5
}
