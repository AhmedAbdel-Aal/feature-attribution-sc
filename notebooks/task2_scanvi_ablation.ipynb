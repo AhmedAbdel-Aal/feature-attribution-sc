{
 "cells": [
  {
   "cell_type": "markdown",
   "id": "706ea6f7",
   "metadata": {},
   "source": [
    "Inspired by the implementation proposed in Fisher, Rudin, Dominici (2018) https://arxiv.org/abs/1801.01489"
   ]
  },
  {
   "cell_type": "code",
   "execution_count": 7,
   "id": "c347926f",
   "metadata": {},
   "outputs": [],
   "source": [
    "# !conda install -c conda-forge shap\n",
    "# !pip install captum"
   ]
  },
  {
   "cell_type": "code",
   "execution_count": null,
   "id": "5ce5e03c",
   "metadata": {},
   "outputs": [],
   "source": []
  },
  {
   "cell_type": "code",
   "execution_count": 1,
   "id": "9cabfa37",
   "metadata": {},
   "outputs": [
    {
     "name": "stderr",
     "output_type": "stream",
     "text": [
      "Global seed set to 0\n"
     ]
    },
    {
     "name": "stdout",
     "output_type": "stream",
     "text": [
      "scanpy==1.9.1 anndata==0.8.0 umap==0.5.3 numpy==1.21.5 scipy==1.9.1 pandas==1.4.4 scikit-learn==1.1.2 statsmodels==0.13.2 pynndescent==0.5.7\n"
     ]
    }
   ],
   "source": [
    "import torch\n",
    "import scvi\n",
    "import pandas as pd\n",
    "import scanpy as sc\n",
    "import matplotlib.pyplot as plt\n",
    "\n",
    "sc.set_figure_params(dpi=100, frameon=False, color_map='Reds', facecolor=None)\n",
    "sc.logging.print_header()"
   ]
  },
  {
   "cell_type": "markdown",
   "id": "4cc40139",
   "metadata": {},
   "source": [
    "## load model"
   ]
  },
  {
   "cell_type": "code",
   "execution_count": 2,
   "id": "aace4f1a",
   "metadata": {},
   "outputs": [
    {
     "data": {
      "text/plain": [
       "AnnData object with n_obs × n_vars = 584944 × 2000\n",
       "    obs: 'sample', 'original_celltype_ann', 'study_long', 'study', 'last_author_PI', 'subject_ID', 'subject_ID_as_published', 'pre_or_postnatal', 'age_in_years', 'age_range', 'sex', 'ethnicity', 'mixed_ethnicity', 'smoking_status', 'smoking_history', 'BMI', 'known_lung_disease', 'condition', 'subject_type', 'cause_of_death', 'sample_type', 'anatomical_region_coarse', 'anatomical_region_detailed', 'tissue_dissociation_protocol', 'cells_or_nuclei', 'single_cell_platform', \"3'_or_5'\", 'enrichment', 'sequencing_platform', 'reference_genome_coarse', 'ensembl_release_reference_genome', 'cell_ranger_version', 'disease_status', 'fresh_or_frozen', 'cultured', 'cell_viability_%', 'comments', 'Processing_site', 'dataset', 'anatomical_region_level_1', 'anatomical_region_level_2', 'anatomical_region_level_3', 'anatomical_region_highest_res', 'age', 'ann_level_1', 'ann_level_2', 'ann_level_3', 'ann_level_4', 'ann_level_5', 'ann_highest_res', 'ann_new', 'n_genes', 'total_counts', 'log10_total_counts', 'n_genes_detected', 'mito_frac', 'ribo_frac', 'compl', 'size_factors', 'ann_level_1_clean', 'ann_level_2_clean', 'ann_level_3_clean', 'ann_level_4_clean', 'ann_level_5_clean', 'scanvi_label', 'leiden_1', 'leiden_2', 'leiden_3', 'anatomical_region_ccf_score', 'manual_ann', 'leiden_4', 'reannotation_type', 'leiden_5', 'original_ann_level_1', 'original_ann_level_2', 'original_ann_level_3', 'original_ann_level_4', 'original_ann_level_5', 'original_ann_highest_res', 'original_ann_new', 'original_ann_level_1_clean', 'original_ann_level_2_clean', 'original_ann_level_3_clean', 'original_ann_level_4_clean', 'original_ann_level_5_clean', 'cluster_annotated', 'manual_ann_grouped', 'entropy_subject_ID_leiden_3', 'entropy_dataset_leiden_3', 'entropy_original_ann_level_1_leiden_3', 'entropy_original_ann_level_2_clean_leiden_3', 'entropy_original_ann_level_3_clean_leiden_3', 'digestion'\n",
       "    var: 'gene_symbols', 'n_cells', 'highly_variable', 'means', 'dispersions', 'dispersions_norm', 'highly_variable_nbatches', 'highly_variable_intersection', 'gene_ids'\n",
       "    uns: 'anatomical_region_level_1_colors', 'ann_level_1_colors', 'ann_level_2_colors', 'ann_level_3_colors', 'ann_level_4_colors', 'ann_level_5_clean_colors', 'ann_level_5_colors', 'dataset_colors', 'fresh_or_frozen_colors', 'hvg', 'leiden', 'leiden_1_colors', 'leiden_2_colors', 'leiden_3_colors', 'leiden_4_colors', 'leiden_5_colors', 'manual_ann_colors', 'manual_ann_grouped_colors', 'neighbors', 'original_ann_level_1_colors', 'pca', 'rank_genes_groups', 'scanvi_label_colors', 'umap'\n",
       "    obsm: 'X_pca', 'X_scanvi_emb', 'X_umap', 'X_umap_scanvi', 'X_umap_unintegrated'\n",
       "    varm: 'PCs'\n",
       "    layers: 'counts'\n",
       "    obsp: 'connectivities', 'distances'"
      ]
     },
     "execution_count": 2,
     "metadata": {},
     "output_type": "execute_result"
    }
   ],
   "source": [
    "base_path = '/home/icb/yuge.ji/projects/feature-attribution-sc'\n",
    "hlca_path = f'{base_path}/datasets/hlca_subset.h5ad'\n",
    "adata = sc.read(hlca_path)\n",
    "adata"
   ]
  },
  {
   "cell_type": "code",
   "execution_count": 3,
   "id": "81716532",
   "metadata": {
    "scrolled": false
   },
   "outputs": [
    {
     "name": "stdout",
     "output_type": "stream",
     "text": [
      "\u001b[34mINFO    \u001b[0m File \u001b[35m/home/icb/yuge.ji/projects/HLCA_reproducibility/notebooks/3_atlas_extension/sca\u001b[0m\n",
      "         \u001b[35mnvi_model/\u001b[0m\u001b[95mmodel.pt\u001b[0m already downloaded                                               \n"
     ]
    },
    {
     "name": "stderr",
     "output_type": "stream",
     "text": [
      "/home/icb/lisa.sikkema/miniconda3/envs/feature_attribution_lisa/lib/python3.8/site-packages/scvi/model/base/_utils.py:134: UserWarning: var_names for adata passed in does not match var_names of adata used to train the model. For valid results, the vars need to be the same and in the same order as the adata used to train the model.\n",
      "  warnings.warn(\n",
      "/home/icb/lisa.sikkema/miniconda3/envs/feature_attribution_lisa/lib/python3.8/site-packages/scvi/data/fields/_layer_field.py:78: UserWarning: adata.X does not contain unnormalized count data. Are you sure this is what you want?\n",
      "  warnings.warn(\n",
      "/home/icb/lisa.sikkema/miniconda3/envs/feature_attribution_lisa/lib/python3.8/site-packages/scvi/data/_utils.py:156: UserWarning: Category 18 in adata.obs['_scvi_labels'] has fewer than 3 cells. Models may not train properly.\n",
      "  warnings.warn(\n",
      "/home/icb/lisa.sikkema/miniconda3/envs/feature_attribution_lisa/lib/python3.8/site-packages/scvi/data/_utils.py:156: UserWarning: Category 18 in adata.obs['_scvi_labels'] has fewer than 3 cells. Models may not train properly.\n",
      "  warnings.warn(\n"
     ]
    },
    {
     "data": {
      "text/html": [
       "<pre style=\"white-space:pre;overflow-x:auto;line-height:normal;font-family:Menlo,'DejaVu Sans Mono',consolas,'Courier New',monospace\">ScanVI Model with the following params: \n",
       "unlabeled_category: unlabeled, n_hidden: <span style=\"color: #008080; text-decoration-color: #008080; font-weight: bold\">128</span>, n_latent: <span style=\"color: #008080; text-decoration-color: #008080; font-weight: bold\">30</span>, n_layers: <span style=\"color: #008080; text-decoration-color: #008080; font-weight: bold\">2</span>, dropout_rate: <span style=\"color: #008080; text-decoration-color: #008080; font-weight: bold\">0.1</span>, \n",
       "dispersion: gene, gene_likelihood: nb\n",
       "Training status: Trained\n",
       "</pre>\n"
      ],
      "text/plain": [
       "ScanVI Model with the following params: \n",
       "unlabeled_category: unlabeled, n_hidden: \u001b[1;36m128\u001b[0m, n_latent: \u001b[1;36m30\u001b[0m, n_layers: \u001b[1;36m2\u001b[0m, dropout_rate: \u001b[1;36m0.1\u001b[0m, \n",
       "dispersion: gene, gene_likelihood: nb\n",
       "Training status: Trained\n"
      ]
     },
     "metadata": {},
     "output_type": "display_data"
    },
    {
     "data": {
      "text/plain": []
     },
     "execution_count": 3,
     "metadata": {},
     "output_type": "execute_result"
    }
   ],
   "source": [
    "model = scvi.model.SCANVI.load('/home/icb/yuge.ji/projects/HLCA_reproducibility/notebooks/3_atlas_extension/scanvi_model/', adata)\n",
    "model"
   ]
  },
  {
   "cell_type": "code",
   "execution_count": 100,
   "id": "0de1c046",
   "metadata": {},
   "outputs": [
    {
     "data": {
      "text/plain": [
       "'scanvi_label'"
      ]
     },
     "execution_count": 100,
     "metadata": {},
     "output_type": "execute_result"
    }
   ],
   "source": [
    "model."
   ]
  },
  {
   "cell_type": "code",
   "execution_count": 142,
   "id": "ffa58c98",
   "metadata": {},
   "outputs": [],
   "source": [
    "batch_size=10"
   ]
  },
  {
   "cell_type": "code",
   "execution_count": 143,
   "id": "0d05ac81",
   "metadata": {},
   "outputs": [],
   "source": [
    "scdl = model._make_data_loader(adata=adata, indices=list(range(1000)), batch_size=batch_size)\n",
    "batch = next(scdl.__iter__())"
   ]
  },
  {
   "cell_type": "markdown",
   "id": "a8eb7fbb",
   "metadata": {},
   "source": [
    "## captum"
   ]
  },
  {
   "cell_type": "code",
   "execution_count": 144,
   "id": "6cac3e12",
   "metadata": {},
   "outputs": [],
   "source": [
    "import numpy as np\n",
    "# from captum.attr import visualization as viz\n",
    "from captum.attr import FeatureAblation"
   ]
  },
  {
   "cell_type": "markdown",
   "id": "ed7716bc",
   "metadata": {},
   "source": [
    "Generate feature mask."
   ]
  },
  {
   "cell_type": "code",
   "execution_count": 15,
   "id": "74f627e5",
   "metadata": {},
   "outputs": [],
   "source": [
    "# # faux mask for when we might want to ablate or permute in groups\n",
    "# feature_mask = np.array(adata.shape[1])\n",
    "# feature_mask[feature_mask.isin([5, 10])] = 1 \n",
    "# feature_mask[feature_mask == 20] = 2\n",
    "# feature_mask[feature_mask == 255] = 3"
   ]
  },
  {
   "cell_type": "markdown",
   "id": "543fae50",
   "metadata": {},
   "source": [
    "### measure against posterior"
   ]
  },
  {
   "cell_type": "markdown",
   "id": "2c269cf8",
   "metadata": {},
   "source": [
    "Wrap `model.module.forward` because captum has an internal check that the inputs pass are tensors."
   ]
  },
  {
   "cell_type": "markdown",
   "id": "46afd685",
   "metadata": {},
   "source": [
    "Captum returns an attribution map of either `tensor(n_features * output_size, n_features), n_inputs` or ?"
   ]
  },
  {
   "cell_type": "markdown",
   "id": "6c281fe3",
   "metadata": {},
   "source": [
    "### measure against classification probabilities"
   ]
  },
  {
   "cell_type": "code",
   "execution_count": 145,
   "id": "426a3fb1",
   "metadata": {},
   "outputs": [],
   "source": [
    "ablator = FeatureAblation(model.module.classify)"
   ]
  },
  {
   "cell_type": "code",
   "execution_count": 201,
   "id": "d74a8c0e",
   "metadata": {},
   "outputs": [
    {
     "data": {
      "text/plain": [
       "torch.Size([10, 28])"
      ]
     },
     "execution_count": 201,
     "metadata": {},
     "output_type": "execute_result"
    }
   ],
   "source": [
    "model.module.classify(batch['X'],batch_index=batch['batch']).shape"
   ]
  },
  {
   "cell_type": "markdown",
   "id": "0f60ac98",
   "metadata": {},
   "source": [
    "This attribution below outputs two tensors. One ablates the gene features one by one, for every cell, and has shape (n_cells * n_ct_classes) * n_genes. The other ablates the (biological) batch variable, which it takes as a single, continuous variable (even though it is a one-hot encoded (n_datasets)-dimensional variable), and therefore ablates it once per cell, and outputs a (n_cells * n_ct_classes) * 1 shape tensor. We'll ignore that one."
   ]
  },
  {
   "cell_type": "code",
   "execution_count": 147,
   "id": "d002437a",
   "metadata": {},
   "outputs": [],
   "source": [
    "# per feature per output\n",
    "attribution_map = ablator.attribute((batch['X'], batch['batch']))"
   ]
  },
  {
   "cell_type": "code",
   "execution_count": 148,
   "id": "cf8bfc5e",
   "metadata": {},
   "outputs": [],
   "source": [
    "attribution_map_genes = attribution_map[0] # take only the first tensor (explained above)"
   ]
  },
  {
   "cell_type": "markdown",
   "id": "4bdee3db",
   "metadata": {},
   "source": [
    "reshape, such that n_cells\\*n_classes is split into two dimensions (280 becomes 10*280)"
   ]
  },
  {
   "cell_type": "code",
   "execution_count": 125,
   "id": "0b6e38c5",
   "metadata": {},
   "outputs": [],
   "source": [
    "reshaped = attribution_map_genes.reshape((10,28,2000))"
   ]
  },
  {
   "cell_type": "markdown",
   "id": "f2ef887a",
   "metadata": {},
   "source": [
    "Calculate means across cells"
   ]
  },
  {
   "cell_type": "markdown",
   "id": "83e6d73e",
   "metadata": {},
   "source": [
    "TO DO INSTEAD: For each class, calculate mean only across cells of that class (= cell type), ignore other cells."
   ]
  },
  {
   "cell_type": "code",
   "execution_count": 154,
   "id": "987f26a8",
   "metadata": {},
   "outputs": [
    {
     "data": {
      "text/plain": [
       "tensor([[13.],\n",
       "        [19.],\n",
       "        [ 1.],\n",
       "        [13.],\n",
       "        [ 4.],\n",
       "        [ 4.],\n",
       "        [27.],\n",
       "        [26.],\n",
       "        [ 2.],\n",
       "        [26.]])"
      ]
     },
     "execution_count": 154,
     "metadata": {},
     "output_type": "execute_result"
    }
   ],
   "source": [
    "batch['labels']"
   ]
  },
  {
   "cell_type": "code",
   "execution_count": 167,
   "id": "cd338a29",
   "metadata": {},
   "outputs": [
    {
     "data": {
      "text/plain": [
       "tensor([ True, False, False,  True, False, False, False, False, False, False])"
      ]
     },
     "execution_count": 167,
     "metadata": {},
     "output_type": "execute_result"
    }
   ],
   "source": [
    "(batch['labels'] == 13).reshape(-1)"
   ]
  },
  {
   "cell_type": "code",
   "execution_count": 160,
   "id": "a95dd715",
   "metadata": {},
   "outputs": [
    {
     "data": {
      "text/plain": [
       "torch.Size([10, 28, 2000])"
      ]
     },
     "execution_count": 160,
     "metadata": {},
     "output_type": "execute_result"
    }
   ],
   "source": [
    "reshaped.shape"
   ]
  },
  {
   "cell_type": "code",
   "execution_count": 170,
   "id": "7937da1e",
   "metadata": {},
   "outputs": [
    {
     "data": {
      "text/plain": [
       "torch.Size([1, 28, 2000])"
      ]
     },
     "execution_count": 170,
     "metadata": {},
     "output_type": "execute_result"
    }
   ],
   "source": [
    "reshaped[(batch['labels'] == 1).reshape(-1),:,:].shape"
   ]
  },
  {
   "cell_type": "code",
   "execution_count": 183,
   "id": "3b7c56f2",
   "metadata": {},
   "outputs": [
    {
     "data": {
      "text/plain": [
       "tensor(1.)"
      ]
     },
     "execution_count": 183,
     "metadata": {},
     "output_type": "execute_result"
    }
   ],
   "source": [
    "batch['labels'].unique()"
   ]
  },
  {
   "cell_type": "code",
   "execution_count": 180,
   "id": "285dd223",
   "metadata": {},
   "outputs": [
    {
     "ename": "IndexError",
     "evalue": "invalid index of a 0-dim tensor. Use `tensor.item()` in Python or `tensor.item<T>()` in C++ to convert a 0-dim tensor to a number",
     "output_type": "error",
     "traceback": [
      "\u001b[0;31m---------------------------------------------------------------------------\u001b[0m",
      "\u001b[0;31mIndexError\u001b[0m                                Traceback (most recent call last)",
      "Cell \u001b[0;32mIn [180], line 2\u001b[0m\n\u001b[1;32m      1\u001b[0m \u001b[38;5;28;01mfor\u001b[39;00m ct \u001b[38;5;129;01min\u001b[39;00m batch[\u001b[38;5;124m'\u001b[39m\u001b[38;5;124mlabels\u001b[39m\u001b[38;5;124m'\u001b[39m]\u001b[38;5;241m.\u001b[39munique():\n\u001b[0;32m----> 2\u001b[0m     \u001b[38;5;28mprint\u001b[39m(\u001b[43mct\u001b[49m\u001b[43m[\u001b[49m\u001b[38;5;241;43m0\u001b[39;49m\u001b[43m]\u001b[49m)\n\u001b[1;32m      3\u001b[0m     \u001b[38;5;28mprint\u001b[39m(batch[\u001b[38;5;124m'\u001b[39m\u001b[38;5;124mlabels\u001b[39m\u001b[38;5;124m'\u001b[39m] \u001b[38;5;241m==\u001b[39m ct)\n",
      "\u001b[0;31mIndexError\u001b[0m: invalid index of a 0-dim tensor. Use `tensor.item()` in Python or `tensor.item<T>()` in C++ to convert a 0-dim tensor to a number"
     ]
    }
   ],
   "source": [
    "for ct in batch['labels'].unique():\n",
    "    print(ct)\n",
    "    print(batch['labels'] == ct)"
   ]
  },
  {
   "cell_type": "code",
   "execution_count": 149,
   "id": "8b14ab10",
   "metadata": {},
   "outputs": [],
   "source": [
    "means = torch.mean(reshaped.float(), dim=0)"
   ]
  },
  {
   "cell_type": "code",
   "execution_count": null,
   "id": "a1ed63a4",
   "metadata": {},
   "outputs": [],
   "source": []
  },
  {
   "cell_type": "code",
   "execution_count": 150,
   "id": "be66913e",
   "metadata": {},
   "outputs": [
    {
     "data": {
      "text/plain": [
       "torch.Size([28, 2000])"
      ]
     },
     "execution_count": 150,
     "metadata": {},
     "output_type": "execute_result"
    }
   ],
   "source": [
    "means.shape"
   ]
  },
  {
   "cell_type": "markdown",
   "id": "dae5d695",
   "metadata": {},
   "source": [
    "### measure against latent"
   ]
  },
  {
   "cell_type": "code",
   "execution_count": 152,
   "id": "b3bc78a4",
   "metadata": {},
   "outputs": [
    {
     "data": {
      "text/html": [
       "<pre style=\"white-space:pre;overflow-x:auto;line-height:normal;font-family:Menlo,'DejaVu Sans Mono',consolas,'Courier New',monospace\">ScanVI Model with the following params: \n",
       "unlabeled_category: unlabeled, n_hidden: <span style=\"color: #008080; text-decoration-color: #008080; font-weight: bold\">128</span>, n_latent: <span style=\"color: #008080; text-decoration-color: #008080; font-weight: bold\">30</span>, n_layers: <span style=\"color: #008080; text-decoration-color: #008080; font-weight: bold\">2</span>, dropout_rate: <span style=\"color: #008080; text-decoration-color: #008080; font-weight: bold\">0.1</span>, \n",
       "dispersion: gene, gene_likelihood: nb\n",
       "Training status: Trained\n",
       "</pre>\n"
      ],
      "text/plain": [
       "ScanVI Model with the following params: \n",
       "unlabeled_category: unlabeled, n_hidden: \u001b[1;36m128\u001b[0m, n_latent: \u001b[1;36m30\u001b[0m, n_layers: \u001b[1;36m2\u001b[0m, dropout_rate: \u001b[1;36m0.1\u001b[0m, \n",
       "dispersion: gene, gene_likelihood: nb\n",
       "Training status: Trained\n"
      ]
     },
     "metadata": {},
     "output_type": "display_data"
    },
    {
     "data": {
      "text/plain": [
       "<bound method BaseModelClass.get_anndata_manager of >"
      ]
     },
     "execution_count": 152,
     "metadata": {},
     "output_type": "execute_result"
    }
   ],
   "source": [
    "model.get_"
   ]
  },
  {
   "cell_type": "markdown",
   "id": "51f7f9c9",
   "metadata": {},
   "source": [
    "## Store results:"
   ]
  },
  {
   "cell_type": "code",
   "execution_count": 184,
   "id": "e6fcc9d5",
   "metadata": {},
   "outputs": [],
   "source": [
    "from scvi import REGISTRY_KEYS"
   ]
  },
  {
   "cell_type": "code",
   "execution_count": 203,
   "id": "4da4d83c",
   "metadata": {},
   "outputs": [],
   "source": [
    "ct_names = model.adata_manager.get_state_registry(REGISTRY_KEYS.LABELS_KEY)['categorical_mapping']\n",
    "# remove \"unlabeled\"\n",
    "ct_names = [ct for ct in ct_names if ct != \"unlabeled\"]"
   ]
  },
  {
   "cell_type": "code",
   "execution_count": 204,
   "id": "cd2c6764",
   "metadata": {},
   "outputs": [],
   "source": [
    "means_df = pd.DataFrame(data=means.T,index=adata.var_names, columns=ct_names)"
   ]
  },
  {
   "cell_type": "code",
   "execution_count": 205,
   "id": "b925a9b1",
   "metadata": {},
   "outputs": [],
   "source": [
    "means_df.to_csv(\"../outputs/ablation/task2.csv\")"
   ]
  },
  {
   "cell_type": "code",
   "execution_count": null,
   "id": "eb3979d3",
   "metadata": {},
   "outputs": [],
   "source": []
  }
 ],
 "metadata": {
  "kernelspec": {
   "display_name": "Python 3 (ipykernel)",
   "language": "python",
   "name": "python3"
  },
  "language_info": {
   "codemirror_mode": {
    "name": "ipython",
    "version": 3
   },
   "file_extension": ".py",
   "mimetype": "text/x-python",
   "name": "python",
   "nbconvert_exporter": "python",
   "pygments_lexer": "ipython3",
   "version": "3.8.0"
  }
 },
 "nbformat": 4,
 "nbformat_minor": 5
}
