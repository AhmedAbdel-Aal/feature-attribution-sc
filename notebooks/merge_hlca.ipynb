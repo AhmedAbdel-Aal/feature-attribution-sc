{
 "cells": [
  {
   "cell_type": "markdown",
   "id": "c73caab3",
   "metadata": {},
   "source": [
    "Make a version of HLCA which has up-to-date `.obs` but also the `var_names` order scANVI was originally trained with."
   ]
  },
  {
   "cell_type": "code",
   "execution_count": 1,
   "id": "b6044e36",
   "metadata": {},
   "outputs": [
    {
     "name": "stderr",
     "output_type": "stream",
     "text": [
      "/home/icb/yuge.ji/miniconda3/envs/test_env3/lib/python3.10/site-packages/scanpy/_settings.py:447: DeprecationWarning: `set_matplotlib_formats` is deprecated since IPython 7.23, directly use `matplotlib_inline.backend_inline.set_matplotlib_formats()`\n",
      "  IPython.display.set_matplotlib_formats(*ipython_format)\n"
     ]
    },
    {
     "name": "stdout",
     "output_type": "stream",
     "text": [
      "scanpy==1.9.1 anndata==0.8.0 umap==0.5.3 numpy==1.22.4 scipy==1.9.1 pandas==1.4.4 scikit-learn==1.1.2 statsmodels==0.13.2 pynndescent==0.5.7\n"
     ]
    },
    {
     "name": "stderr",
     "output_type": "stream",
     "text": [
      "/home/icb/yuge.ji/miniconda3/envs/test_env3/lib/python3.10/site-packages/umap/__init__.py:9: ImportWarning: Tensorflow not installed; ParametricUMAP will be unavailable\n",
      "  warn(\n"
     ]
    }
   ],
   "source": [
    "import scanpy as sc\n",
    "\n",
    "sc.set_figure_params(dpi=100, frameon=False, color_map='Reds', facecolor=None)\n",
    "sc.logging.print_header()"
   ]
  },
  {
   "cell_type": "code",
   "execution_count": 5,
   "id": "1a2073bb",
   "metadata": {},
   "outputs": [
    {
     "name": "stderr",
     "output_type": "stream",
     "text": [
      "/home/icb/yuge.ji/miniconda3/envs/test_env3/lib/python3.10/site-packages/anndata/_io/h5ad.py:238: OldFormatWarning: Element '/layers' was written without encoding metadata.\n",
      "  d[k] = read_elem(f[k])\n",
      "/home/icb/yuge.ji/miniconda3/envs/test_env3/lib/python3.10/site-packages/anndata/_io/specs/methods.py:584: OldFormatWarning: Element '/obs/__categories/sample' was written without encoding metadata.\n",
      "  categories = read_elem(categories_dset)\n",
      "/home/icb/yuge.ji/miniconda3/envs/test_env3/lib/python3.10/site-packages/anndata/_io/specs/methods.py:587: OldFormatWarning: Element '/obs/sample' was written without encoding metadata.\n",
      "  read_elem(dataset), categories, ordered=ordered\n",
      "/home/icb/yuge.ji/miniconda3/envs/test_env3/lib/python3.10/site-packages/anndata/_io/specs/methods.py:584: OldFormatWarning: Element '/obs/__categories/original_celltype_ann' was written without encoding metadata.\n",
      "  categories = read_elem(categories_dset)\n",
      "/home/icb/yuge.ji/miniconda3/envs/test_env3/lib/python3.10/site-packages/anndata/_io/specs/methods.py:587: OldFormatWarning: Element '/obs/original_celltype_ann' was written without encoding metadata.\n",
      "  read_elem(dataset), categories, ordered=ordered\n",
      "/home/icb/yuge.ji/miniconda3/envs/test_env3/lib/python3.10/site-packages/anndata/_io/specs/methods.py:584: OldFormatWarning: Element '/obs/__categories/study_long' was written without encoding metadata.\n",
      "  categories = read_elem(categories_dset)\n",
      "/home/icb/yuge.ji/miniconda3/envs/test_env3/lib/python3.10/site-packages/anndata/_io/specs/methods.py:587: OldFormatWarning: Element '/obs/study_long' was written without encoding metadata.\n",
      "  read_elem(dataset), categories, ordered=ordered\n",
      "/home/icb/yuge.ji/miniconda3/envs/test_env3/lib/python3.10/site-packages/anndata/_io/specs/methods.py:584: OldFormatWarning: Element '/obs/__categories/study' was written without encoding metadata.\n",
      "  categories = read_elem(categories_dset)\n",
      "/home/icb/yuge.ji/miniconda3/envs/test_env3/lib/python3.10/site-packages/anndata/_io/specs/methods.py:587: OldFormatWarning: Element '/obs/study' was written without encoding metadata.\n",
      "  read_elem(dataset), categories, ordered=ordered\n",
      "/home/icb/yuge.ji/miniconda3/envs/test_env3/lib/python3.10/site-packages/anndata/_io/specs/methods.py:584: OldFormatWarning: Element '/obs/__categories/last_author_PI' was written without encoding metadata.\n",
      "  categories = read_elem(categories_dset)\n",
      "/home/icb/yuge.ji/miniconda3/envs/test_env3/lib/python3.10/site-packages/anndata/_io/specs/methods.py:587: OldFormatWarning: Element '/obs/last_author_PI' was written without encoding metadata.\n",
      "  read_elem(dataset), categories, ordered=ordered\n",
      "/home/icb/yuge.ji/miniconda3/envs/test_env3/lib/python3.10/site-packages/anndata/_io/specs/methods.py:584: OldFormatWarning: Element '/obs/__categories/subject_ID' was written without encoding metadata.\n",
      "  categories = read_elem(categories_dset)\n",
      "/home/icb/yuge.ji/miniconda3/envs/test_env3/lib/python3.10/site-packages/anndata/_io/specs/methods.py:587: OldFormatWarning: Element '/obs/subject_ID' was written without encoding metadata.\n",
      "  read_elem(dataset), categories, ordered=ordered\n",
      "/home/icb/yuge.ji/miniconda3/envs/test_env3/lib/python3.10/site-packages/anndata/_io/specs/methods.py:584: OldFormatWarning: Element '/obs/__categories/subject_ID_as_published' was written without encoding metadata.\n",
      "  categories = read_elem(categories_dset)\n",
      "/home/icb/yuge.ji/miniconda3/envs/test_env3/lib/python3.10/site-packages/anndata/_io/specs/methods.py:587: OldFormatWarning: Element '/obs/subject_ID_as_published' was written without encoding metadata.\n",
      "  read_elem(dataset), categories, ordered=ordered\n",
      "/home/icb/yuge.ji/miniconda3/envs/test_env3/lib/python3.10/site-packages/anndata/_io/specs/methods.py:584: OldFormatWarning: Element '/obs/__categories/pre_or_postnatal' was written without encoding metadata.\n",
      "  categories = read_elem(categories_dset)\n",
      "/home/icb/yuge.ji/miniconda3/envs/test_env3/lib/python3.10/site-packages/anndata/_io/specs/methods.py:587: OldFormatWarning: Element '/obs/pre_or_postnatal' was written without encoding metadata.\n",
      "  read_elem(dataset), categories, ordered=ordered\n",
      "/home/icb/yuge.ji/miniconda3/envs/test_env3/lib/python3.10/site-packages/anndata/_io/specs/methods.py:590: OldFormatWarning: Element '/obs/age_in_years' was written without encoding metadata.\n",
      "  return read_elem(dataset)\n",
      "/home/icb/yuge.ji/miniconda3/envs/test_env3/lib/python3.10/site-packages/anndata/_io/specs/methods.py:584: OldFormatWarning: Element '/obs/__categories/age_range' was written without encoding metadata.\n",
      "  categories = read_elem(categories_dset)\n",
      "/home/icb/yuge.ji/miniconda3/envs/test_env3/lib/python3.10/site-packages/anndata/_io/specs/methods.py:587: OldFormatWarning: Element '/obs/age_range' was written without encoding metadata.\n",
      "  read_elem(dataset), categories, ordered=ordered\n",
      "/home/icb/yuge.ji/miniconda3/envs/test_env3/lib/python3.10/site-packages/anndata/_io/specs/methods.py:584: OldFormatWarning: Element '/obs/__categories/sex' was written without encoding metadata.\n",
      "  categories = read_elem(categories_dset)\n",
      "/home/icb/yuge.ji/miniconda3/envs/test_env3/lib/python3.10/site-packages/anndata/_io/specs/methods.py:587: OldFormatWarning: Element '/obs/sex' was written without encoding metadata.\n",
      "  read_elem(dataset), categories, ordered=ordered\n",
      "/home/icb/yuge.ji/miniconda3/envs/test_env3/lib/python3.10/site-packages/anndata/_io/specs/methods.py:584: OldFormatWarning: Element '/obs/__categories/ethnicity' was written without encoding metadata.\n",
      "  categories = read_elem(categories_dset)\n",
      "/home/icb/yuge.ji/miniconda3/envs/test_env3/lib/python3.10/site-packages/anndata/_io/specs/methods.py:587: OldFormatWarning: Element '/obs/ethnicity' was written without encoding metadata.\n",
      "  read_elem(dataset), categories, ordered=ordered\n",
      "/home/icb/yuge.ji/miniconda3/envs/test_env3/lib/python3.10/site-packages/anndata/_io/specs/methods.py:584: OldFormatWarning: Element '/obs/__categories/mixed_ethnicity' was written without encoding metadata.\n",
      "  categories = read_elem(categories_dset)\n",
      "/home/icb/yuge.ji/miniconda3/envs/test_env3/lib/python3.10/site-packages/anndata/_io/specs/methods.py:587: OldFormatWarning: Element '/obs/mixed_ethnicity' was written without encoding metadata.\n",
      "  read_elem(dataset), categories, ordered=ordered\n",
      "/home/icb/yuge.ji/miniconda3/envs/test_env3/lib/python3.10/site-packages/anndata/_io/specs/methods.py:584: OldFormatWarning: Element '/obs/__categories/smoking_status' was written without encoding metadata.\n",
      "  categories = read_elem(categories_dset)\n",
      "/home/icb/yuge.ji/miniconda3/envs/test_env3/lib/python3.10/site-packages/anndata/_io/specs/methods.py:587: OldFormatWarning: Element '/obs/smoking_status' was written without encoding metadata.\n",
      "  read_elem(dataset), categories, ordered=ordered\n",
      "/home/icb/yuge.ji/miniconda3/envs/test_env3/lib/python3.10/site-packages/anndata/_io/specs/methods.py:584: OldFormatWarning: Element '/obs/__categories/smoking_history' was written without encoding metadata.\n",
      "  categories = read_elem(categories_dset)\n",
      "/home/icb/yuge.ji/miniconda3/envs/test_env3/lib/python3.10/site-packages/anndata/_io/specs/methods.py:587: OldFormatWarning: Element '/obs/smoking_history' was written without encoding metadata.\n",
      "  read_elem(dataset), categories, ordered=ordered\n",
      "/home/icb/yuge.ji/miniconda3/envs/test_env3/lib/python3.10/site-packages/anndata/_io/specs/methods.py:590: OldFormatWarning: Element '/obs/BMI' was written without encoding metadata.\n",
      "  return read_elem(dataset)\n",
      "/home/icb/yuge.ji/miniconda3/envs/test_env3/lib/python3.10/site-packages/anndata/_io/specs/methods.py:584: OldFormatWarning: Element '/obs/__categories/known_lung_disease' was written without encoding metadata.\n",
      "  categories = read_elem(categories_dset)\n",
      "/home/icb/yuge.ji/miniconda3/envs/test_env3/lib/python3.10/site-packages/anndata/_io/specs/methods.py:587: OldFormatWarning: Element '/obs/known_lung_disease' was written without encoding metadata.\n",
      "  read_elem(dataset), categories, ordered=ordered\n",
      "/home/icb/yuge.ji/miniconda3/envs/test_env3/lib/python3.10/site-packages/anndata/_io/specs/methods.py:584: OldFormatWarning: Element '/obs/__categories/condition' was written without encoding metadata.\n",
      "  categories = read_elem(categories_dset)\n",
      "/home/icb/yuge.ji/miniconda3/envs/test_env3/lib/python3.10/site-packages/anndata/_io/specs/methods.py:587: OldFormatWarning: Element '/obs/condition' was written without encoding metadata.\n",
      "  read_elem(dataset), categories, ordered=ordered\n",
      "/home/icb/yuge.ji/miniconda3/envs/test_env3/lib/python3.10/site-packages/anndata/_io/specs/methods.py:584: OldFormatWarning: Element '/obs/__categories/subject_type' was written without encoding metadata.\n",
      "  categories = read_elem(categories_dset)\n",
      "/home/icb/yuge.ji/miniconda3/envs/test_env3/lib/python3.10/site-packages/anndata/_io/specs/methods.py:587: OldFormatWarning: Element '/obs/subject_type' was written without encoding metadata.\n",
      "  read_elem(dataset), categories, ordered=ordered\n",
      "/home/icb/yuge.ji/miniconda3/envs/test_env3/lib/python3.10/site-packages/anndata/_io/specs/methods.py:584: OldFormatWarning: Element '/obs/__categories/cause_of_death' was written without encoding metadata.\n",
      "  categories = read_elem(categories_dset)\n",
      "/home/icb/yuge.ji/miniconda3/envs/test_env3/lib/python3.10/site-packages/anndata/_io/specs/methods.py:587: OldFormatWarning: Element '/obs/cause_of_death' was written without encoding metadata.\n",
      "  read_elem(dataset), categories, ordered=ordered\n",
      "/home/icb/yuge.ji/miniconda3/envs/test_env3/lib/python3.10/site-packages/anndata/_io/specs/methods.py:584: OldFormatWarning: Element '/obs/__categories/sample_type' was written without encoding metadata.\n",
      "  categories = read_elem(categories_dset)\n",
      "/home/icb/yuge.ji/miniconda3/envs/test_env3/lib/python3.10/site-packages/anndata/_io/specs/methods.py:587: OldFormatWarning: Element '/obs/sample_type' was written without encoding metadata.\n",
      "  read_elem(dataset), categories, ordered=ordered\n",
      "/home/icb/yuge.ji/miniconda3/envs/test_env3/lib/python3.10/site-packages/anndata/_io/specs/methods.py:584: OldFormatWarning: Element '/obs/__categories/anatomical_region_coarse' was written without encoding metadata.\n",
      "  categories = read_elem(categories_dset)\n",
      "/home/icb/yuge.ji/miniconda3/envs/test_env3/lib/python3.10/site-packages/anndata/_io/specs/methods.py:587: OldFormatWarning: Element '/obs/anatomical_region_coarse' was written without encoding metadata.\n",
      "  read_elem(dataset), categories, ordered=ordered\n",
      "/home/icb/yuge.ji/miniconda3/envs/test_env3/lib/python3.10/site-packages/anndata/_io/specs/methods.py:584: OldFormatWarning: Element '/obs/__categories/anatomical_region_detailed' was written without encoding metadata.\n",
      "  categories = read_elem(categories_dset)\n",
      "/home/icb/yuge.ji/miniconda3/envs/test_env3/lib/python3.10/site-packages/anndata/_io/specs/methods.py:587: OldFormatWarning: Element '/obs/anatomical_region_detailed' was written without encoding metadata.\n",
      "  read_elem(dataset), categories, ordered=ordered\n",
      "/home/icb/yuge.ji/miniconda3/envs/test_env3/lib/python3.10/site-packages/anndata/_io/specs/methods.py:584: OldFormatWarning: Element '/obs/__categories/tissue_dissociation_protocol' was written without encoding metadata.\n",
      "  categories = read_elem(categories_dset)\n",
      "/home/icb/yuge.ji/miniconda3/envs/test_env3/lib/python3.10/site-packages/anndata/_io/specs/methods.py:587: OldFormatWarning: Element '/obs/tissue_dissociation_protocol' was written without encoding metadata.\n",
      "  read_elem(dataset), categories, ordered=ordered\n",
      "/home/icb/yuge.ji/miniconda3/envs/test_env3/lib/python3.10/site-packages/anndata/_io/specs/methods.py:584: OldFormatWarning: Element '/obs/__categories/cells_or_nuclei' was written without encoding metadata.\n",
      "  categories = read_elem(categories_dset)\n",
      "/home/icb/yuge.ji/miniconda3/envs/test_env3/lib/python3.10/site-packages/anndata/_io/specs/methods.py:587: OldFormatWarning: Element '/obs/cells_or_nuclei' was written without encoding metadata.\n",
      "  read_elem(dataset), categories, ordered=ordered\n",
      "/home/icb/yuge.ji/miniconda3/envs/test_env3/lib/python3.10/site-packages/anndata/_io/specs/methods.py:584: OldFormatWarning: Element '/obs/__categories/single_cell_platform' was written without encoding metadata.\n",
      "  categories = read_elem(categories_dset)\n",
      "/home/icb/yuge.ji/miniconda3/envs/test_env3/lib/python3.10/site-packages/anndata/_io/specs/methods.py:587: OldFormatWarning: Element '/obs/single_cell_platform' was written without encoding metadata.\n",
      "  read_elem(dataset), categories, ordered=ordered\n",
      "/home/icb/yuge.ji/miniconda3/envs/test_env3/lib/python3.10/site-packages/anndata/_io/specs/methods.py:584: OldFormatWarning: Element '/obs/__categories/3'_or_5'' was written without encoding metadata.\n",
      "  categories = read_elem(categories_dset)\n",
      "/home/icb/yuge.ji/miniconda3/envs/test_env3/lib/python3.10/site-packages/anndata/_io/specs/methods.py:587: OldFormatWarning: Element '/obs/3'_or_5'' was written without encoding metadata.\n",
      "  read_elem(dataset), categories, ordered=ordered\n",
      "/home/icb/yuge.ji/miniconda3/envs/test_env3/lib/python3.10/site-packages/anndata/_io/specs/methods.py:584: OldFormatWarning: Element '/obs/__categories/enrichment' was written without encoding metadata.\n",
      "  categories = read_elem(categories_dset)\n",
      "/home/icb/yuge.ji/miniconda3/envs/test_env3/lib/python3.10/site-packages/anndata/_io/specs/methods.py:587: OldFormatWarning: Element '/obs/enrichment' was written without encoding metadata.\n",
      "  read_elem(dataset), categories, ordered=ordered\n",
      "/home/icb/yuge.ji/miniconda3/envs/test_env3/lib/python3.10/site-packages/anndata/_io/specs/methods.py:584: OldFormatWarning: Element '/obs/__categories/sequencing_platform' was written without encoding metadata.\n",
      "  categories = read_elem(categories_dset)\n",
      "/home/icb/yuge.ji/miniconda3/envs/test_env3/lib/python3.10/site-packages/anndata/_io/specs/methods.py:587: OldFormatWarning: Element '/obs/sequencing_platform' was written without encoding metadata.\n",
      "  read_elem(dataset), categories, ordered=ordered\n",
      "/home/icb/yuge.ji/miniconda3/envs/test_env3/lib/python3.10/site-packages/anndata/_io/specs/methods.py:584: OldFormatWarning: Element '/obs/__categories/reference_genome_coarse' was written without encoding metadata.\n",
      "  categories = read_elem(categories_dset)\n",
      "/home/icb/yuge.ji/miniconda3/envs/test_env3/lib/python3.10/site-packages/anndata/_io/specs/methods.py:587: OldFormatWarning: Element '/obs/reference_genome_coarse' was written without encoding metadata.\n",
      "  read_elem(dataset), categories, ordered=ordered\n",
      "/home/icb/yuge.ji/miniconda3/envs/test_env3/lib/python3.10/site-packages/anndata/_io/specs/methods.py:590: OldFormatWarning: Element '/obs/ensembl_release_reference_genome' was written without encoding metadata.\n",
      "  return read_elem(dataset)\n",
      "/home/icb/yuge.ji/miniconda3/envs/test_env3/lib/python3.10/site-packages/anndata/_io/specs/methods.py:584: OldFormatWarning: Element '/obs/__categories/cell_ranger_version' was written without encoding metadata.\n",
      "  categories = read_elem(categories_dset)\n",
      "/home/icb/yuge.ji/miniconda3/envs/test_env3/lib/python3.10/site-packages/anndata/_io/specs/methods.py:587: OldFormatWarning: Element '/obs/cell_ranger_version' was written without encoding metadata.\n",
      "  read_elem(dataset), categories, ordered=ordered\n",
      "/home/icb/yuge.ji/miniconda3/envs/test_env3/lib/python3.10/site-packages/anndata/_io/specs/methods.py:584: OldFormatWarning: Element '/obs/__categories/disease_status' was written without encoding metadata.\n",
      "  categories = read_elem(categories_dset)\n",
      "/home/icb/yuge.ji/miniconda3/envs/test_env3/lib/python3.10/site-packages/anndata/_io/specs/methods.py:587: OldFormatWarning: Element '/obs/disease_status' was written without encoding metadata.\n",
      "  read_elem(dataset), categories, ordered=ordered\n",
      "/home/icb/yuge.ji/miniconda3/envs/test_env3/lib/python3.10/site-packages/anndata/_io/specs/methods.py:584: OldFormatWarning: Element '/obs/__categories/fresh_or_frozen' was written without encoding metadata.\n",
      "  categories = read_elem(categories_dset)\n",
      "/home/icb/yuge.ji/miniconda3/envs/test_env3/lib/python3.10/site-packages/anndata/_io/specs/methods.py:587: OldFormatWarning: Element '/obs/fresh_or_frozen' was written without encoding metadata.\n",
      "  read_elem(dataset), categories, ordered=ordered\n",
      "/home/icb/yuge.ji/miniconda3/envs/test_env3/lib/python3.10/site-packages/anndata/_io/specs/methods.py:584: OldFormatWarning: Element '/obs/__categories/cultured' was written without encoding metadata.\n",
      "  categories = read_elem(categories_dset)\n",
      "/home/icb/yuge.ji/miniconda3/envs/test_env3/lib/python3.10/site-packages/anndata/_io/specs/methods.py:587: OldFormatWarning: Element '/obs/cultured' was written without encoding metadata.\n",
      "  read_elem(dataset), categories, ordered=ordered\n",
      "/home/icb/yuge.ji/miniconda3/envs/test_env3/lib/python3.10/site-packages/anndata/_io/specs/methods.py:590: OldFormatWarning: Element '/obs/cell_viability_%' was written without encoding metadata.\n",
      "  return read_elem(dataset)\n",
      "/home/icb/yuge.ji/miniconda3/envs/test_env3/lib/python3.10/site-packages/anndata/_io/specs/methods.py:584: OldFormatWarning: Element '/obs/__categories/comments' was written without encoding metadata.\n",
      "  categories = read_elem(categories_dset)\n",
      "/home/icb/yuge.ji/miniconda3/envs/test_env3/lib/python3.10/site-packages/anndata/_io/specs/methods.py:587: OldFormatWarning: Element '/obs/comments' was written without encoding metadata.\n",
      "  read_elem(dataset), categories, ordered=ordered\n",
      "/home/icb/yuge.ji/miniconda3/envs/test_env3/lib/python3.10/site-packages/anndata/_io/specs/methods.py:584: OldFormatWarning: Element '/obs/__categories/Processing_site' was written without encoding metadata.\n",
      "  categories = read_elem(categories_dset)\n",
      "/home/icb/yuge.ji/miniconda3/envs/test_env3/lib/python3.10/site-packages/anndata/_io/specs/methods.py:587: OldFormatWarning: Element '/obs/Processing_site' was written without encoding metadata.\n",
      "  read_elem(dataset), categories, ordered=ordered\n",
      "/home/icb/yuge.ji/miniconda3/envs/test_env3/lib/python3.10/site-packages/anndata/_io/specs/methods.py:584: OldFormatWarning: Element '/obs/__categories/dataset' was written without encoding metadata.\n",
      "  categories = read_elem(categories_dset)\n",
      "/home/icb/yuge.ji/miniconda3/envs/test_env3/lib/python3.10/site-packages/anndata/_io/specs/methods.py:587: OldFormatWarning: Element '/obs/dataset' was written without encoding metadata.\n",
      "  read_elem(dataset), categories, ordered=ordered\n",
      "/home/icb/yuge.ji/miniconda3/envs/test_env3/lib/python3.10/site-packages/anndata/_io/specs/methods.py:584: OldFormatWarning: Element '/obs/__categories/anatomical_region_level_1' was written without encoding metadata.\n",
      "  categories = read_elem(categories_dset)\n",
      "/home/icb/yuge.ji/miniconda3/envs/test_env3/lib/python3.10/site-packages/anndata/_io/specs/methods.py:587: OldFormatWarning: Element '/obs/anatomical_region_level_1' was written without encoding metadata.\n",
      "  read_elem(dataset), categories, ordered=ordered\n",
      "/home/icb/yuge.ji/miniconda3/envs/test_env3/lib/python3.10/site-packages/anndata/_io/specs/methods.py:584: OldFormatWarning: Element '/obs/__categories/anatomical_region_level_2' was written without encoding metadata.\n",
      "  categories = read_elem(categories_dset)\n",
      "/home/icb/yuge.ji/miniconda3/envs/test_env3/lib/python3.10/site-packages/anndata/_io/specs/methods.py:587: OldFormatWarning: Element '/obs/anatomical_region_level_2' was written without encoding metadata.\n",
      "  read_elem(dataset), categories, ordered=ordered\n",
      "/home/icb/yuge.ji/miniconda3/envs/test_env3/lib/python3.10/site-packages/anndata/_io/specs/methods.py:584: OldFormatWarning: Element '/obs/__categories/anatomical_region_level_3' was written without encoding metadata.\n",
      "  categories = read_elem(categories_dset)\n",
      "/home/icb/yuge.ji/miniconda3/envs/test_env3/lib/python3.10/site-packages/anndata/_io/specs/methods.py:587: OldFormatWarning: Element '/obs/anatomical_region_level_3' was written without encoding metadata.\n",
      "  read_elem(dataset), categories, ordered=ordered\n",
      "/home/icb/yuge.ji/miniconda3/envs/test_env3/lib/python3.10/site-packages/anndata/_io/specs/methods.py:590: OldFormatWarning: Element '/obs/anatomical_region_highest_res' was written without encoding metadata.\n",
      "  return read_elem(dataset)\n",
      "/home/icb/yuge.ji/miniconda3/envs/test_env3/lib/python3.10/site-packages/anndata/_io/specs/methods.py:590: OldFormatWarning: Element '/obs/age' was written without encoding metadata.\n",
      "  return read_elem(dataset)\n",
      "/home/icb/yuge.ji/miniconda3/envs/test_env3/lib/python3.10/site-packages/anndata/_io/specs/methods.py:584: OldFormatWarning: Element '/obs/__categories/ann_level_1' was written without encoding metadata.\n",
      "  categories = read_elem(categories_dset)\n",
      "/home/icb/yuge.ji/miniconda3/envs/test_env3/lib/python3.10/site-packages/anndata/_io/specs/methods.py:587: OldFormatWarning: Element '/obs/ann_level_1' was written without encoding metadata.\n",
      "  read_elem(dataset), categories, ordered=ordered\n",
      "/home/icb/yuge.ji/miniconda3/envs/test_env3/lib/python3.10/site-packages/anndata/_io/specs/methods.py:584: OldFormatWarning: Element '/obs/__categories/ann_level_2' was written without encoding metadata.\n",
      "  categories = read_elem(categories_dset)\n",
      "/home/icb/yuge.ji/miniconda3/envs/test_env3/lib/python3.10/site-packages/anndata/_io/specs/methods.py:587: OldFormatWarning: Element '/obs/ann_level_2' was written without encoding metadata.\n",
      "  read_elem(dataset), categories, ordered=ordered\n",
      "/home/icb/yuge.ji/miniconda3/envs/test_env3/lib/python3.10/site-packages/anndata/_io/specs/methods.py:584: OldFormatWarning: Element '/obs/__categories/ann_level_3' was written without encoding metadata.\n",
      "  categories = read_elem(categories_dset)\n",
      "/home/icb/yuge.ji/miniconda3/envs/test_env3/lib/python3.10/site-packages/anndata/_io/specs/methods.py:587: OldFormatWarning: Element '/obs/ann_level_3' was written without encoding metadata.\n",
      "  read_elem(dataset), categories, ordered=ordered\n",
      "/home/icb/yuge.ji/miniconda3/envs/test_env3/lib/python3.10/site-packages/anndata/_io/specs/methods.py:584: OldFormatWarning: Element '/obs/__categories/ann_level_4' was written without encoding metadata.\n",
      "  categories = read_elem(categories_dset)\n",
      "/home/icb/yuge.ji/miniconda3/envs/test_env3/lib/python3.10/site-packages/anndata/_io/specs/methods.py:587: OldFormatWarning: Element '/obs/ann_level_4' was written without encoding metadata.\n",
      "  read_elem(dataset), categories, ordered=ordered\n",
      "/home/icb/yuge.ji/miniconda3/envs/test_env3/lib/python3.10/site-packages/anndata/_io/specs/methods.py:584: OldFormatWarning: Element '/obs/__categories/ann_level_5' was written without encoding metadata.\n",
      "  categories = read_elem(categories_dset)\n",
      "/home/icb/yuge.ji/miniconda3/envs/test_env3/lib/python3.10/site-packages/anndata/_io/specs/methods.py:587: OldFormatWarning: Element '/obs/ann_level_5' was written without encoding metadata.\n",
      "  read_elem(dataset), categories, ordered=ordered\n",
      "/home/icb/yuge.ji/miniconda3/envs/test_env3/lib/python3.10/site-packages/anndata/_io/specs/methods.py:590: OldFormatWarning: Element '/obs/ann_highest_res' was written without encoding metadata.\n",
      "  return read_elem(dataset)\n",
      "/home/icb/yuge.ji/miniconda3/envs/test_env3/lib/python3.10/site-packages/anndata/_io/specs/methods.py:590: OldFormatWarning: Element '/obs/ann_new' was written without encoding metadata.\n",
      "  return read_elem(dataset)\n",
      "/home/icb/yuge.ji/miniconda3/envs/test_env3/lib/python3.10/site-packages/anndata/_io/specs/methods.py:590: OldFormatWarning: Element '/obs/n_genes' was written without encoding metadata.\n",
      "  return read_elem(dataset)\n",
      "/home/icb/yuge.ji/miniconda3/envs/test_env3/lib/python3.10/site-packages/anndata/_io/specs/methods.py:590: OldFormatWarning: Element '/obs/total_counts' was written without encoding metadata.\n",
      "  return read_elem(dataset)\n",
      "/home/icb/yuge.ji/miniconda3/envs/test_env3/lib/python3.10/site-packages/anndata/_io/specs/methods.py:590: OldFormatWarning: Element '/obs/log10_total_counts' was written without encoding metadata.\n",
      "  return read_elem(dataset)\n",
      "/home/icb/yuge.ji/miniconda3/envs/test_env3/lib/python3.10/site-packages/anndata/_io/specs/methods.py:590: OldFormatWarning: Element '/obs/n_genes_detected' was written without encoding metadata.\n",
      "  return read_elem(dataset)\n",
      "/home/icb/yuge.ji/miniconda3/envs/test_env3/lib/python3.10/site-packages/anndata/_io/specs/methods.py:590: OldFormatWarning: Element '/obs/mito_frac' was written without encoding metadata.\n",
      "  return read_elem(dataset)\n",
      "/home/icb/yuge.ji/miniconda3/envs/test_env3/lib/python3.10/site-packages/anndata/_io/specs/methods.py:590: OldFormatWarning: Element '/obs/ribo_frac' was written without encoding metadata.\n",
      "  return read_elem(dataset)\n",
      "/home/icb/yuge.ji/miniconda3/envs/test_env3/lib/python3.10/site-packages/anndata/_io/specs/methods.py:590: OldFormatWarning: Element '/obs/compl' was written without encoding metadata.\n",
      "  return read_elem(dataset)\n",
      "/home/icb/yuge.ji/miniconda3/envs/test_env3/lib/python3.10/site-packages/anndata/_io/specs/methods.py:590: OldFormatWarning: Element '/obs/size_factors' was written without encoding metadata.\n",
      "  return read_elem(dataset)\n",
      "/home/icb/yuge.ji/miniconda3/envs/test_env3/lib/python3.10/site-packages/anndata/_io/specs/methods.py:584: OldFormatWarning: Element '/obs/__categories/ann_level_1_clean' was written without encoding metadata.\n",
      "  categories = read_elem(categories_dset)\n",
      "/home/icb/yuge.ji/miniconda3/envs/test_env3/lib/python3.10/site-packages/anndata/_io/specs/methods.py:587: OldFormatWarning: Element '/obs/ann_level_1_clean' was written without encoding metadata.\n",
      "  read_elem(dataset), categories, ordered=ordered\n",
      "/home/icb/yuge.ji/miniconda3/envs/test_env3/lib/python3.10/site-packages/anndata/_io/specs/methods.py:584: OldFormatWarning: Element '/obs/__categories/ann_level_2_clean' was written without encoding metadata.\n",
      "  categories = read_elem(categories_dset)\n",
      "/home/icb/yuge.ji/miniconda3/envs/test_env3/lib/python3.10/site-packages/anndata/_io/specs/methods.py:587: OldFormatWarning: Element '/obs/ann_level_2_clean' was written without encoding metadata.\n",
      "  read_elem(dataset), categories, ordered=ordered\n",
      "/home/icb/yuge.ji/miniconda3/envs/test_env3/lib/python3.10/site-packages/anndata/_io/specs/methods.py:584: OldFormatWarning: Element '/obs/__categories/ann_level_3_clean' was written without encoding metadata.\n",
      "  categories = read_elem(categories_dset)\n",
      "/home/icb/yuge.ji/miniconda3/envs/test_env3/lib/python3.10/site-packages/anndata/_io/specs/methods.py:587: OldFormatWarning: Element '/obs/ann_level_3_clean' was written without encoding metadata.\n",
      "  read_elem(dataset), categories, ordered=ordered\n",
      "/home/icb/yuge.ji/miniconda3/envs/test_env3/lib/python3.10/site-packages/anndata/_io/specs/methods.py:584: OldFormatWarning: Element '/obs/__categories/ann_level_4_clean' was written without encoding metadata.\n",
      "  categories = read_elem(categories_dset)\n",
      "/home/icb/yuge.ji/miniconda3/envs/test_env3/lib/python3.10/site-packages/anndata/_io/specs/methods.py:587: OldFormatWarning: Element '/obs/ann_level_4_clean' was written without encoding metadata.\n",
      "  read_elem(dataset), categories, ordered=ordered\n",
      "/home/icb/yuge.ji/miniconda3/envs/test_env3/lib/python3.10/site-packages/anndata/_io/specs/methods.py:584: OldFormatWarning: Element '/obs/__categories/ann_level_5_clean' was written without encoding metadata.\n",
      "  categories = read_elem(categories_dset)\n",
      "/home/icb/yuge.ji/miniconda3/envs/test_env3/lib/python3.10/site-packages/anndata/_io/specs/methods.py:587: OldFormatWarning: Element '/obs/ann_level_5_clean' was written without encoding metadata.\n",
      "  read_elem(dataset), categories, ordered=ordered\n",
      "/home/icb/yuge.ji/miniconda3/envs/test_env3/lib/python3.10/site-packages/anndata/_io/specs/methods.py:584: OldFormatWarning: Element '/obs/__categories/scanvi_label' was written without encoding metadata.\n",
      "  categories = read_elem(categories_dset)\n",
      "/home/icb/yuge.ji/miniconda3/envs/test_env3/lib/python3.10/site-packages/anndata/_io/specs/methods.py:587: OldFormatWarning: Element '/obs/scanvi_label' was written without encoding metadata.\n",
      "  read_elem(dataset), categories, ordered=ordered\n",
      "/home/icb/yuge.ji/miniconda3/envs/test_env3/lib/python3.10/site-packages/anndata/_io/specs/methods.py:590: OldFormatWarning: Element '/obs/anatomical_region_ccf_score' was written without encoding metadata.\n",
      "  return read_elem(dataset)\n",
      "/home/icb/yuge.ji/miniconda3/envs/test_env3/lib/python3.10/site-packages/anndata/_io/specs/methods.py:584: OldFormatWarning: Element '/obs/__categories/manual_ann' was written without encoding metadata.\n",
      "  categories = read_elem(categories_dset)\n",
      "/home/icb/yuge.ji/miniconda3/envs/test_env3/lib/python3.10/site-packages/anndata/_io/specs/methods.py:587: OldFormatWarning: Element '/obs/manual_ann' was written without encoding metadata.\n",
      "  read_elem(dataset), categories, ordered=ordered\n",
      "/home/icb/yuge.ji/miniconda3/envs/test_env3/lib/python3.10/site-packages/anndata/_io/specs/methods.py:590: OldFormatWarning: Element '/obs/_index' was written without encoding metadata.\n",
      "  return read_elem(dataset)\n"
     ]
    },
    {
     "name": "stderr",
     "output_type": "stream",
     "text": [
      "/home/icb/yuge.ji/miniconda3/envs/test_env3/lib/python3.10/site-packages/anndata/_io/h5ad.py:238: OldFormatWarning: Element '/obsm' was written without encoding metadata.\n",
      "  d[k] = read_elem(f[k])\n",
      "/home/icb/yuge.ji/miniconda3/envs/test_env3/lib/python3.10/site-packages/anndata/_io/specs/methods.py:92: OldFormatWarning: Element '/obsm/X_pca' was written without encoding metadata.\n",
      "  return {k: read_elem(v) for k, v in elem.items()}\n",
      "/home/icb/yuge.ji/miniconda3/envs/test_env3/lib/python3.10/site-packages/anndata/_io/specs/methods.py:92: OldFormatWarning: Element '/obsm/X_umap' was written without encoding metadata.\n",
      "  return {k: read_elem(v) for k, v in elem.items()}\n",
      "/home/icb/yuge.ji/miniconda3/envs/test_env3/lib/python3.10/site-packages/anndata/_io/h5ad.py:238: OldFormatWarning: Element '/obsp' was written without encoding metadata.\n",
      "  d[k] = read_elem(f[k])\n",
      "/home/icb/yuge.ji/miniconda3/envs/test_env3/lib/python3.10/site-packages/anndata/_io/h5ad.py:238: OldFormatWarning: Element '/uns' was written without encoding metadata.\n",
      "  d[k] = read_elem(f[k])\n",
      "/home/icb/yuge.ji/miniconda3/envs/test_env3/lib/python3.10/site-packages/anndata/_io/specs/methods.py:92: OldFormatWarning: Element '/uns/anatomical_region_level_1_colors' was written without encoding metadata.\n",
      "  return {k: read_elem(v) for k, v in elem.items()}\n",
      "/home/icb/yuge.ji/miniconda3/envs/test_env3/lib/python3.10/site-packages/anndata/_io/specs/methods.py:92: OldFormatWarning: Element '/uns/ann_level_1_colors' was written without encoding metadata.\n",
      "  return {k: read_elem(v) for k, v in elem.items()}\n",
      "/home/icb/yuge.ji/miniconda3/envs/test_env3/lib/python3.10/site-packages/anndata/_io/specs/methods.py:92: OldFormatWarning: Element '/uns/ann_level_2_clean_colors' was written without encoding metadata.\n",
      "  return {k: read_elem(v) for k, v in elem.items()}\n",
      "/home/icb/yuge.ji/miniconda3/envs/test_env3/lib/python3.10/site-packages/anndata/_io/specs/methods.py:92: OldFormatWarning: Element '/uns/ann_level_3_clean_colors' was written without encoding metadata.\n",
      "  return {k: read_elem(v) for k, v in elem.items()}\n",
      "/home/icb/yuge.ji/miniconda3/envs/test_env3/lib/python3.10/site-packages/anndata/_io/specs/methods.py:92: OldFormatWarning: Element '/uns/hvg' was written without encoding metadata.\n",
      "  return {k: read_elem(v) for k, v in elem.items()}\n",
      "/home/icb/yuge.ji/miniconda3/envs/test_env3/lib/python3.10/site-packages/anndata/_io/specs/methods.py:92: OldFormatWarning: Element '/uns/hvg/flavor' was written without encoding metadata.\n",
      "  return {k: read_elem(v) for k, v in elem.items()}\n",
      "/home/icb/yuge.ji/miniconda3/envs/test_env3/lib/python3.10/site-packages/anndata/_io/specs/methods.py:92: OldFormatWarning: Element '/uns/manual_ann_colors' was written without encoding metadata.\n",
      "  return {k: read_elem(v) for k, v in elem.items()}\n",
      "/home/icb/yuge.ji/miniconda3/envs/test_env3/lib/python3.10/site-packages/anndata/_io/specs/methods.py:92: OldFormatWarning: Element '/uns/neighbors' was written without encoding metadata.\n",
      "  return {k: read_elem(v) for k, v in elem.items()}\n",
      "/home/icb/yuge.ji/miniconda3/envs/test_env3/lib/python3.10/site-packages/anndata/_io/specs/methods.py:92: OldFormatWarning: Element '/uns/neighbors/connectivities_key' was written without encoding metadata.\n",
      "  return {k: read_elem(v) for k, v in elem.items()}\n",
      "/home/icb/yuge.ji/miniconda3/envs/test_env3/lib/python3.10/site-packages/anndata/_io/specs/methods.py:92: OldFormatWarning: Element '/uns/neighbors/distances_key' was written without encoding metadata.\n",
      "  return {k: read_elem(v) for k, v in elem.items()}\n",
      "/home/icb/yuge.ji/miniconda3/envs/test_env3/lib/python3.10/site-packages/anndata/_io/specs/methods.py:92: OldFormatWarning: Element '/uns/neighbors/params' was written without encoding metadata.\n",
      "  return {k: read_elem(v) for k, v in elem.items()}\n",
      "/home/icb/yuge.ji/miniconda3/envs/test_env3/lib/python3.10/site-packages/anndata/_io/specs/methods.py:92: OldFormatWarning: Element '/uns/neighbors/params/method' was written without encoding metadata.\n",
      "  return {k: read_elem(v) for k, v in elem.items()}\n",
      "/home/icb/yuge.ji/miniconda3/envs/test_env3/lib/python3.10/site-packages/anndata/_io/specs/methods.py:92: OldFormatWarning: Element '/uns/neighbors/params/metric' was written without encoding metadata.\n",
      "  return {k: read_elem(v) for k, v in elem.items()}\n",
      "/home/icb/yuge.ji/miniconda3/envs/test_env3/lib/python3.10/site-packages/anndata/_io/specs/methods.py:92: OldFormatWarning: Element '/uns/neighbors/params/n_neighbors' was written without encoding metadata.\n",
      "  return {k: read_elem(v) for k, v in elem.items()}\n",
      "/home/icb/yuge.ji/miniconda3/envs/test_env3/lib/python3.10/site-packages/anndata/_io/specs/methods.py:92: OldFormatWarning: Element '/uns/neighbors/params/random_state' was written without encoding metadata.\n",
      "  return {k: read_elem(v) for k, v in elem.items()}\n",
      "/home/icb/yuge.ji/miniconda3/envs/test_env3/lib/python3.10/site-packages/anndata/_io/specs/methods.py:92: OldFormatWarning: Element '/uns/pca' was written without encoding metadata.\n",
      "  return {k: read_elem(v) for k, v in elem.items()}\n",
      "/home/icb/yuge.ji/miniconda3/envs/test_env3/lib/python3.10/site-packages/anndata/_io/specs/methods.py:92: OldFormatWarning: Element '/uns/pca/params' was written without encoding metadata.\n",
      "  return {k: read_elem(v) for k, v in elem.items()}\n",
      "/home/icb/yuge.ji/miniconda3/envs/test_env3/lib/python3.10/site-packages/anndata/_io/specs/methods.py:92: OldFormatWarning: Element '/uns/pca/params/use_highly_variable' was written without encoding metadata.\n",
      "  return {k: read_elem(v) for k, v in elem.items()}\n",
      "/home/icb/yuge.ji/miniconda3/envs/test_env3/lib/python3.10/site-packages/anndata/_io/specs/methods.py:92: OldFormatWarning: Element '/uns/pca/params/zero_center' was written without encoding metadata.\n",
      "  return {k: read_elem(v) for k, v in elem.items()}\n",
      "/home/icb/yuge.ji/miniconda3/envs/test_env3/lib/python3.10/site-packages/anndata/_io/specs/methods.py:92: OldFormatWarning: Element '/uns/pca/variance' was written without encoding metadata.\n",
      "  return {k: read_elem(v) for k, v in elem.items()}\n",
      "/home/icb/yuge.ji/miniconda3/envs/test_env3/lib/python3.10/site-packages/anndata/_io/specs/methods.py:92: OldFormatWarning: Element '/uns/pca/variance_ratio' was written without encoding metadata.\n",
      "  return {k: read_elem(v) for k, v in elem.items()}\n",
      "/home/icb/yuge.ji/miniconda3/envs/test_env3/lib/python3.10/site-packages/anndata/_io/specs/methods.py:92: OldFormatWarning: Element '/uns/scanvi_label_colors' was written without encoding metadata.\n",
      "  return {k: read_elem(v) for k, v in elem.items()}\n",
      "/home/icb/yuge.ji/miniconda3/envs/test_env3/lib/python3.10/site-packages/anndata/_io/specs/methods.py:92: OldFormatWarning: Element '/uns/study_colors' was written without encoding metadata.\n",
      "  return {k: read_elem(v) for k, v in elem.items()}\n",
      "/home/icb/yuge.ji/miniconda3/envs/test_env3/lib/python3.10/site-packages/anndata/_io/specs/methods.py:92: OldFormatWarning: Element '/uns/umap' was written without encoding metadata.\n",
      "  return {k: read_elem(v) for k, v in elem.items()}\n",
      "/home/icb/yuge.ji/miniconda3/envs/test_env3/lib/python3.10/site-packages/anndata/_io/specs/methods.py:92: OldFormatWarning: Element '/uns/umap/params' was written without encoding metadata.\n",
      "  return {k: read_elem(v) for k, v in elem.items()}\n",
      "/home/icb/yuge.ji/miniconda3/envs/test_env3/lib/python3.10/site-packages/anndata/_io/specs/methods.py:92: OldFormatWarning: Element '/uns/umap/params/a' was written without encoding metadata.\n",
      "  return {k: read_elem(v) for k, v in elem.items()}\n",
      "/home/icb/yuge.ji/miniconda3/envs/test_env3/lib/python3.10/site-packages/anndata/_io/specs/methods.py:92: OldFormatWarning: Element '/uns/umap/params/b' was written without encoding metadata.\n",
      "  return {k: read_elem(v) for k, v in elem.items()}\n",
      "/home/icb/yuge.ji/miniconda3/envs/test_env3/lib/python3.10/site-packages/anndata/_io/specs/methods.py:584: OldFormatWarning: Element '/var/__categories/gene_symbols' was written without encoding metadata.\n",
      "  categories = read_elem(categories_dset)\n",
      "/home/icb/yuge.ji/miniconda3/envs/test_env3/lib/python3.10/site-packages/anndata/_io/specs/methods.py:587: OldFormatWarning: Element '/var/gene_symbols' was written without encoding metadata.\n",
      "  read_elem(dataset), categories, ordered=ordered\n",
      "/home/icb/yuge.ji/miniconda3/envs/test_env3/lib/python3.10/site-packages/anndata/_io/specs/methods.py:590: OldFormatWarning: Element '/var/n_cells' was written without encoding metadata.\n",
      "  return read_elem(dataset)\n",
      "/home/icb/yuge.ji/miniconda3/envs/test_env3/lib/python3.10/site-packages/anndata/_io/specs/methods.py:590: OldFormatWarning: Element '/var/highly_variable' was written without encoding metadata.\n",
      "  return read_elem(dataset)\n",
      "/home/icb/yuge.ji/miniconda3/envs/test_env3/lib/python3.10/site-packages/anndata/_io/specs/methods.py:590: OldFormatWarning: Element '/var/means' was written without encoding metadata.\n",
      "  return read_elem(dataset)\n",
      "/home/icb/yuge.ji/miniconda3/envs/test_env3/lib/python3.10/site-packages/anndata/_io/specs/methods.py:590: OldFormatWarning: Element '/var/dispersions' was written without encoding metadata.\n",
      "  return read_elem(dataset)\n",
      "/home/icb/yuge.ji/miniconda3/envs/test_env3/lib/python3.10/site-packages/anndata/_io/specs/methods.py:590: OldFormatWarning: Element '/var/dispersions_norm' was written without encoding metadata.\n",
      "  return read_elem(dataset)\n",
      "/home/icb/yuge.ji/miniconda3/envs/test_env3/lib/python3.10/site-packages/anndata/_io/specs/methods.py:590: OldFormatWarning: Element '/var/highly_variable_nbatches' was written without encoding metadata.\n",
      "  return read_elem(dataset)\n",
      "/home/icb/yuge.ji/miniconda3/envs/test_env3/lib/python3.10/site-packages/anndata/_io/specs/methods.py:590: OldFormatWarning: Element '/var/highly_variable_intersection' was written without encoding metadata.\n",
      "  return read_elem(dataset)\n",
      "/home/icb/yuge.ji/miniconda3/envs/test_env3/lib/python3.10/site-packages/anndata/_io/specs/methods.py:590: OldFormatWarning: Element '/var/_index' was written without encoding metadata.\n",
      "  return read_elem(dataset)\n",
      "/home/icb/yuge.ji/miniconda3/envs/test_env3/lib/python3.10/site-packages/anndata/_io/h5ad.py:238: OldFormatWarning: Element '/varm' was written without encoding metadata.\n",
      "  d[k] = read_elem(f[k])\n",
      "/home/icb/yuge.ji/miniconda3/envs/test_env3/lib/python3.10/site-packages/anndata/_io/specs/methods.py:92: OldFormatWarning: Element '/varm/PCs' was written without encoding metadata.\n",
      "  return {k: read_elem(v) for k, v in elem.items()}\n"
     ]
    },
    {
     "name": "stderr",
     "output_type": "stream",
     "text": [
      "/home/icb/yuge.ji/miniconda3/envs/test_env3/lib/python3.10/site-packages/anndata/_io/specs/methods.py:584: OldFormatWarning: Element '/raw/var/__categories/gene_symbols' was written without encoding metadata.\n",
      "  categories = read_elem(categories_dset)\n",
      "/home/icb/yuge.ji/miniconda3/envs/test_env3/lib/python3.10/site-packages/anndata/_io/specs/methods.py:587: OldFormatWarning: Element '/raw/var/gene_symbols' was written without encoding metadata.\n",
      "  read_elem(dataset), categories, ordered=ordered\n",
      "/home/icb/yuge.ji/miniconda3/envs/test_env3/lib/python3.10/site-packages/anndata/_io/specs/methods.py:590: OldFormatWarning: Element '/raw/var/n_cells' was written without encoding metadata.\n",
      "  return read_elem(dataset)\n",
      "/home/icb/yuge.ji/miniconda3/envs/test_env3/lib/python3.10/site-packages/anndata/_io/specs/methods.py:590: OldFormatWarning: Element '/raw/var/highly_variable' was written without encoding metadata.\n",
      "  return read_elem(dataset)\n",
      "/home/icb/yuge.ji/miniconda3/envs/test_env3/lib/python3.10/site-packages/anndata/_io/specs/methods.py:590: OldFormatWarning: Element '/raw/var/means' was written without encoding metadata.\n",
      "  return read_elem(dataset)\n",
      "/home/icb/yuge.ji/miniconda3/envs/test_env3/lib/python3.10/site-packages/anndata/_io/specs/methods.py:590: OldFormatWarning: Element '/raw/var/dispersions' was written without encoding metadata.\n",
      "  return read_elem(dataset)\n",
      "/home/icb/yuge.ji/miniconda3/envs/test_env3/lib/python3.10/site-packages/anndata/_io/specs/methods.py:590: OldFormatWarning: Element '/raw/var/dispersions_norm' was written without encoding metadata.\n",
      "  return read_elem(dataset)\n",
      "/home/icb/yuge.ji/miniconda3/envs/test_env3/lib/python3.10/site-packages/anndata/_io/specs/methods.py:590: OldFormatWarning: Element '/raw/var/highly_variable_nbatches' was written without encoding metadata.\n",
      "  return read_elem(dataset)\n",
      "/home/icb/yuge.ji/miniconda3/envs/test_env3/lib/python3.10/site-packages/anndata/_io/specs/methods.py:590: OldFormatWarning: Element '/raw/var/highly_variable_intersection' was written without encoding metadata.\n",
      "  return read_elem(dataset)\n",
      "/home/icb/yuge.ji/miniconda3/envs/test_env3/lib/python3.10/site-packages/anndata/_io/specs/methods.py:590: OldFormatWarning: Element '/raw/var/_index' was written without encoding metadata.\n",
      "  return read_elem(dataset)\n",
      "/home/icb/yuge.ji/miniconda3/envs/test_env3/lib/python3.10/site-packages/anndata/_io/h5ad.py:272: OldFormatWarning: Element '/raw/varm' was written without encoding metadata.\n",
      "  raw[v] = read_elem(f[f\"raw/{v}\"])\n",
      "/home/icb/yuge.ji/miniconda3/envs/test_env3/lib/python3.10/site-packages/anndata/_io/specs/methods.py:92: OldFormatWarning: Element '/raw/varm/PCs' was written without encoding metadata.\n",
      "  return {k: read_elem(v) for k, v in elem.items()}\n"
     ]
    }
   ],
   "source": [
    "new_adata = sc.read('/lustre/groups/ml01/workspace/hlca_lisa.sikkema_malte.luecken/HLCA_reproducibility/data/HLCA_core_h5ads/HLCA_v2.h5ad')\n",
    "old_adata = sc.read('/lustre/groups/ml01/workspace/hlca_lisa.sikkema_malte.luecken/HLCA_reproducibility/data/HLCA_core_h5ads/HLCA_v1_integration/HLCA_v1_scANVI_input.h5ad')"
   ]
  },
  {
   "cell_type": "markdown",
   "id": "3db1d80e",
   "metadata": {},
   "source": [
    "Align var_names to what it was during training."
   ]
  },
  {
   "cell_type": "code",
   "execution_count": 11,
   "id": "359cdb92",
   "metadata": {},
   "outputs": [
    {
     "name": "stderr",
     "output_type": "stream",
     "text": [
      "/home/icb/yuge.ji/miniconda3/envs/test_env3/lib/python3.10/site-packages/anndata/_core/anndata.py:798: UserWarning: \n",
      "AnnData expects .var.index to contain strings, but got values like:\n",
      "    ['FGR', 'CFH', 'HS3ST1', 'TMEM176A', 'TFPI']\n",
      "\n",
      "    Inferred to be: categorical\n",
      "\n",
      "  value_idx = self._prep_dim_index(value.index, attr)\n"
     ]
    }
   ],
   "source": [
    "old_adata.var = old_adata.var.set_index('gene_symbols')"
   ]
  },
  {
   "cell_type": "code",
   "execution_count": 12,
   "id": "a3f92ded",
   "metadata": {},
   "outputs": [],
   "source": [
    "new_adata = new_adata[:, old_adata.var_names].copy()"
   ]
  },
  {
   "cell_type": "code",
   "execution_count": 15,
   "id": "e54e4029",
   "metadata": {},
   "outputs": [
    {
     "data": {
      "text/plain": [
       "584944"
      ]
     },
     "execution_count": 15,
     "metadata": {},
     "output_type": "execute_result"
    }
   ],
   "source": [
    "new_adata.obs.manual_ann.value_counts().sum()"
   ]
  },
  {
   "cell_type": "code",
   "execution_count": 14,
   "id": "df3a7023",
   "metadata": {},
   "outputs": [
    {
     "data": {
      "text/plain": [
       "Index(['Basal resting', 'Suprabasal', 'Hillock-like', 'Deuterosomal',\n",
       "       'Multiciliated (nasal)', 'Multiciliated (non-nasal)',\n",
       "       'Club (non-nasal)', 'Club (nasal)', 'Goblet (nasal)',\n",
       "       'Goblet (bronchial)', 'Goblet (subsegmental)', 'AT0',\n",
       "       'pre-TB secretory', 'Ionocyte', 'Tuft', 'Neuroendocrine',\n",
       "       'SMG serous (nasal)', 'SMG serous (bronchial)', 'SMG mucous',\n",
       "       'SMG duct', 'AT1', 'AT2', 'AT2 proliferating', 'EC arterial',\n",
       "       'EC aerocyte capillary', 'EC general capillary', 'EC venous systemic',\n",
       "       'EC venous pulmonary', 'Lymphatic EC mature',\n",
       "       'Lymphatic EC proliferating', 'Lymphatic EC differentiating',\n",
       "       'Peribronchial fibroblasts', 'Adventitial fibroblasts',\n",
       "       'Alveolar fibroblasts', 'Pericytes', 'Subpleural fibroblasts',\n",
       "       'Myofibroblasts', 'Smooth muscle', 'Fibromyocytes',\n",
       "       'SM activated stress response', 'Mesothelium',\n",
       "       'Hematopoietic stem cells', 'B cells', 'Plasma cells', 'CD4 T cells',\n",
       "       'CD8 T cells', 'T cells proliferating', 'NK cells', 'DC1', 'DC2',\n",
       "       'Migratory DCs', 'Plasmacytoid DCs', 'Alveolar macrophages',\n",
       "       'Alveolar Mph CCL3+', 'Alveolar Mph MT-positive',\n",
       "       'Alveolar Mph proliferating', 'Monocyte-derived Mph',\n",
       "       'Interstitial Mph perivascular', 'Classical monocytes',\n",
       "       'Non-classical monocytes', 'Mast cells'],\n",
       "      dtype='object')"
      ]
     },
     "execution_count": 14,
     "metadata": {},
     "output_type": "execute_result"
    }
   ],
   "source": [
    "new_adata.obs.manual_ann.cat.categories"
   ]
  },
  {
   "cell_type": "code",
   "execution_count": 20,
   "id": "2fcda3b6",
   "metadata": {},
   "outputs": [
    {
     "data": {
      "text/plain": [
       "Index(['AT1', 'AT2', 'Arterial EC', 'B cell lineage', 'Basal',\n",
       "       'Bronchial Vessel 1', 'Bronchial Vessel 2', 'Capillary', 'Ciliated',\n",
       "       'Dendritic cells', 'Fibroblast lineage', 'KRT5- KRT17+ epithelial',\n",
       "       'Lymphatic EC', 'Macrophages', 'Mast cells', 'Megakaryocytes',\n",
       "       'Mesothelium', 'Monocytes', 'Neutrophilic', 'Non-T/B cells',\n",
       "       'Proliferating cells', 'Rare', 'Secretory', 'Smooth Muscle', 'Squamous',\n",
       "       'Submucosal Secretory', 'T cell lineage', 'Venous', 'unlabeled'],\n",
       "      dtype='object')"
      ]
     },
     "execution_count": 20,
     "metadata": {},
     "output_type": "execute_result"
    }
   ],
   "source": [
    "new_adata.obs.scanvi_label.cat.categories"
   ]
  },
  {
   "cell_type": "code",
   "execution_count": 21,
   "id": "6c2e07f0",
   "metadata": {},
   "outputs": [
    {
     "data": {
      "text/plain": [
       "29"
      ]
     },
     "execution_count": 21,
     "metadata": {},
     "output_type": "execute_result"
    }
   ],
   "source": [
    "len(new_adata.obs.scanvi_label.unique())"
   ]
  },
  {
   "cell_type": "code",
   "execution_count": 17,
   "id": "2a492685",
   "metadata": {},
   "outputs": [],
   "source": [
    "new_adata.write('../datasets/hlca.h5ad')"
   ]
  }
 ],
 "metadata": {
  "kernelspec": {
   "display_name": "Python [conda env:test_env3]",
   "language": "python",
   "name": "conda-env-test_env3-py"
  },
  "language_info": {
   "codemirror_mode": {
    "name": "ipython",
    "version": 3
   },
   "file_extension": ".py",
   "mimetype": "text/x-python",
   "name": "python",
   "nbconvert_exporter": "python",
   "pygments_lexer": "ipython3",
   "version": "3.10.6"
  }
 },
 "nbformat": 4,
 "nbformat_minor": 5
}
