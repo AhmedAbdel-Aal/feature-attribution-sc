{
 "cells": [
  {
   "cell_type": "markdown",
   "id": "17c5ff36-9364-4a23-9957-492830a44c17",
   "metadata": {},
   "source": [
    "# Differential gene expression baseline"
   ]
  },
  {
   "cell_type": "markdown",
   "id": "ac064d6d-30b5-4b7c-a216-154df21e01c3",
   "metadata": {},
   "source": [
    "## Motivation"
   ]
  },
  {
   "cell_type": "markdown",
   "id": "08bd83d4-e33b-4dff-885b-72fc1a58e3aa",
   "metadata": {},
   "source": [
    "We want to add an additional view and an additional baseline to our feature attribution selection by determining genes that define clusters. In other words, we want to find marker genes for clusters which ideally correspond to markers of cell types or other conditions.\n",
    "\n",
    "We follow the marker gene selection recommendations of the best practices book which is the Wilcoxon test."
   ]
  },
  {
   "cell_type": "code",
   "execution_count": 1,
   "id": "65969eb4-19c0-4670-97bf-7c0b8a059388",
   "metadata": {},
   "outputs": [],
   "source": [
    "import warnings\n",
    "warnings.filterwarnings('ignore')"
   ]
  },
  {
   "cell_type": "code",
   "execution_count": 2,
   "id": "53b0239e-14e9-4a6a-9fb8-f86f91621819",
   "metadata": {},
   "outputs": [],
   "source": [
    "import scanpy as sc\n",
    "import pandas as pd"
   ]
  },
  {
   "cell_type": "code",
   "execution_count": 3,
   "id": "b38445b0-4188-483b-b689-f89f3f459d72",
   "metadata": {},
   "outputs": [],
   "source": [
    "datasets_path = \"/home/lukas/phd/year_2/datasets\""
   ]
  },
  {
   "cell_type": "markdown",
   "id": "c58911dd-2a34-44e1-877e-f165d903a839",
   "metadata": {},
   "source": [
    "## Norman19"
   ]
  },
  {
   "cell_type": "markdown",
   "id": "ff37c5db-688c-4203-9862-4c27a66c7218",
   "metadata": {},
   "source": [
    "1. Load data\n",
    "2. Find cluster labels\n",
    "3. Calculate Wilcoxon tests with the references \"rest\" and \"control\"\n",
    "4. Try to save the output in the format genes x cell types where the actual value is the p-value"
   ]
  },
  {
   "cell_type": "code",
   "execution_count": 4,
   "id": "55fc56ad-456b-4f9e-9cc3-c107924731ab",
   "metadata": {},
   "outputs": [],
   "source": [
    "norman = sc.read(f\"{datasets_path}/scgen_norman19.h5ad\")"
   ]
  },
  {
   "cell_type": "markdown",
   "id": "be834712-91a7-46f5-b785-3ff6f77dc4c0",
   "metadata": {},
   "source": [
    "### Wilcoxon of perturbation vs all other perturbations"
   ]
  },
  {
   "cell_type": "code",
   "execution_count": null,
   "id": "e7e4a24a-b97c-47ef-aa06-6dbc6f307130",
   "metadata": {},
   "outputs": [],
   "source": [
    "reference = \"rest\""
   ]
  },
  {
   "cell_type": "code",
   "execution_count": 5,
   "id": "37643c5b-c1ba-4c6b-a905-b20dead979c3",
   "metadata": {},
   "outputs": [
    {
     "name": "stdout",
     "output_type": "stream",
     "text": [
      "WARNING: It seems you use rank_genes_groups on the raw count data. Please logarithmize your data before calling rank_genes_groups.\n"
     ]
    }
   ],
   "source": [
    "sc.tl.rank_genes_groups(norman,\n",
    "                        groupby=\"perturbation_name\",\n",
    "                        layer=\"counts\",\n",
    "                        reference=\"rest\",\n",
    "                        method=\"wilcoxon\",\n",
    "                        key_added=f\"wilcoxon_vs_{reference}\")"
   ]
  },
  {
   "cell_type": "code",
   "execution_count": 6,
   "id": "b4838d76-40b8-44d6-b9dd-9177852a480c",
   "metadata": {},
   "outputs": [],
   "source": [
    "norman_rest_df = pd.DataFrame(index=list(norman.var_names),\n",
    "                              columns=list(norman.obs.perturbation_name.cat.categories))\n",
    "\n",
    "for perturbation in norman.obs.perturbation_name.cat.categories:\n",
    "    perturbation_de_result = sc.get.rank_genes_groups_df(norman,\n",
    "                                                         group=perturbation,\n",
    "                                                         key=f\"wilcoxon_vs_{reference}\")\n",
    "    \n",
    "    norman_rest_df[perturbation] = perturbation_de_result.set_index(\"names\").pvals"
   ]
  },
  {
   "cell_type": "code",
   "execution_count": 7,
   "id": "0bc3cb91-881b-4395-82dd-b6ca8fd77826",
   "metadata": {},
   "outputs": [],
   "source": [
    "norman_rest_df.to_csv(f\"norman_DE_{reference}.csv\",\n",
    "                      sep=\",\")"
   ]
  },
  {
   "cell_type": "markdown",
   "id": "8003115f-0fbd-4a92-918b-efee4f0217fa",
   "metadata": {},
   "source": [
    "### Wilcoxon of perturbation vs control"
   ]
  },
  {
   "cell_type": "code",
   "execution_count": 11,
   "id": "91cdad74-746b-4bac-a1cd-ea04aa3d151e",
   "metadata": {},
   "outputs": [],
   "source": [
    "reference = \"control\""
   ]
  },
  {
   "cell_type": "code",
   "execution_count": 12,
   "id": "35795be5-8fd3-4709-8e72-5aca3ac62f7f",
   "metadata": {},
   "outputs": [
    {
     "name": "stdout",
     "output_type": "stream",
     "text": [
      "WARNING: It seems you use rank_genes_groups on the raw count data. Please logarithmize your data before calling rank_genes_groups.\n"
     ]
    }
   ],
   "source": [
    "sc.tl.rank_genes_groups(norman,\n",
    "                        groupby=\"perturbation_name\",\n",
    "                        layer=\"counts\",\n",
    "                        reference=\"rest\",\n",
    "                        method=\"wilcoxon\",\n",
    "                        key_added=f\"wilcoxon_vs_{reference}\")"
   ]
  },
  {
   "cell_type": "code",
   "execution_count": 13,
   "id": "1b177de7-2129-4735-8b20-b5bd8ae33b13",
   "metadata": {},
   "outputs": [],
   "source": [
    "norman_control_df = pd.DataFrame(index=list(norman.var_names),\n",
    "                                 columns=list(norman.obs.perturbation_name.cat.categories))\n",
    "\n",
    "for perturbation in norman.obs.perturbation_name.cat.categories:\n",
    "    perturbation_de_result = sc.get.rank_genes_groups_df(norman,\n",
    "                                                         group=perturbation,\n",
    "                                                         key=f\"wilcoxon_vs_{reference}\")\n",
    "    \n",
    "    norman_control_df[perturbation] = perturbation_de_result.set_index(\"names\").pvals"
   ]
  },
  {
   "cell_type": "code",
   "execution_count": 14,
   "id": "377fe8b6-b32f-42f6-922c-a6dbb282f0ea",
   "metadata": {},
   "outputs": [],
   "source": [
    "norman_control_df.to_csv(f\"norman_DE_{reference}.csv\",\n",
    "                      sep=\",\")"
   ]
  },
  {
   "cell_type": "markdown",
   "id": "5d341d61-0cdf-4517-b5db-9cbf7672d658",
   "metadata": {},
   "source": [
    "## HLCA"
   ]
  },
  {
   "cell_type": "code",
   "execution_count": 16,
   "id": "509ad970-5388-4db4-9a06-467e22ab51a2",
   "metadata": {},
   "outputs": [],
   "source": [
    "hlca = sc.read(f\"{datasets_path}/hlca.h5ad\")"
   ]
  },
  {
   "cell_type": "code",
   "execution_count": 25,
   "id": "6876dfd8-7bc9-4c6c-bf86-bcca13f8f047",
   "metadata": {},
   "outputs": [
    {
     "name": "stdout",
     "output_type": "stream",
     "text": [
      "WARNING: It seems you use rank_genes_groups on the raw count data. Please logarithmize your data before calling rank_genes_groups.\n"
     ]
    }
   ],
   "source": [
    "sc.tl.rank_genes_groups(hlca,\n",
    "                        groupby=\"manual_ann\",\n",
    "                        layer=\"counts\",\n",
    "                        reference=\"rest\",\n",
    "                        method=\"wilcoxon\",\n",
    "                        key_added=\"wilcoxon_cell_types\")"
   ]
  },
  {
   "cell_type": "code",
   "execution_count": 27,
   "id": "cecc06fb-9c2f-462b-9d4c-1c66b9bf4435",
   "metadata": {},
   "outputs": [],
   "source": [
    "hlca_df = pd.DataFrame(index=list(hlca.var_names),\n",
    "                                 columns=list(hlca.obs.manual_ann.cat.categories))\n",
    "\n",
    "for cell_type in hlca.obs.manual_ann.cat.categories:\n",
    "    cell_type_de_result = sc.get.rank_genes_groups_df(hlca,\n",
    "                                                      group=cell_type,\n",
    "                                                      key=\"wilcoxon_cell_types\")\n",
    "    \n",
    "    hlca_df[cell_type] = cell_type_de_result.set_index(\"names\").pvals"
   ]
  },
  {
   "cell_type": "code",
   "execution_count": 28,
   "id": "9ce5464d-18a6-411c-81c8-45bd26b3e6fc",
   "metadata": {},
   "outputs": [],
   "source": [
    "hlca_df.to_csv(f\"hlca_DE_cell_types.csv\",\n",
    "                      sep=\",\")"
   ]
  },
  {
   "cell_type": "code",
   "execution_count": null,
   "id": "9c262fb2-fdbd-4f15-a8cf-addac7ecced1",
   "metadata": {},
   "outputs": [],
   "source": []
  }
 ],
 "metadata": {
  "kernelspec": {
   "display_name": "Python [conda env:yuge_env] *",
   "language": "python",
   "name": "conda-env-yuge_env-py"
  },
  "language_info": {
   "codemirror_mode": {
    "name": "ipython",
    "version": 3
   },
   "file_extension": ".py",
   "mimetype": "text/x-python",
   "name": "python",
   "nbconvert_exporter": "python",
   "pygments_lexer": "ipython3",
   "version": "3.8.2"
  }
 },
 "nbformat": 4,
 "nbformat_minor": 5
}
